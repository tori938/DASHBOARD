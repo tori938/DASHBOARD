{
 "cells": [
  {
   "cell_type": "code",
   "execution_count": 1,
   "metadata": {},
   "outputs": [],
   "source": [
    "#standard libraries\n",
    "import pandas as pd, numpy as np\n",
    "\n",
    "#visualization libraries\n",
    "import seaborn as sns\n",
    "import matplotlib as plt\n",
    "from matplotlib import pyplot as plt\n",
    "\n",
    "import warnings \n",
    "warnings.filterwarnings('ignore')"
   ]
  },
  {
   "cell_type": "markdown",
   "metadata": {},
   "source": [
    "#### **Data**"
   ]
  },
  {
   "cell_type": "code",
   "execution_count": 2,
   "metadata": {},
   "outputs": [
    {
     "data": {
      "text/html": [
       "<div>\n",
       "<style scoped>\n",
       "    .dataframe tbody tr th:only-of-type {\n",
       "        vertical-align: middle;\n",
       "    }\n",
       "\n",
       "    .dataframe tbody tr th {\n",
       "        vertical-align: top;\n",
       "    }\n",
       "\n",
       "    .dataframe thead th {\n",
       "        text-align: right;\n",
       "    }\n",
       "</style>\n",
       "<table border=\"1\" class=\"dataframe\">\n",
       "  <thead>\n",
       "    <tr style=\"text-align: right;\">\n",
       "      <th></th>\n",
       "      <th>Пользователь</th>\n",
       "      <th>Регион Города</th>\n",
       "      <th>Город Пользователя</th>\n",
       "      <th>Количество Мусора</th>\n",
       "      <th>Тип Мусора</th>\n",
       "      <th>Искатель</th>\n",
       "      <th>Количество Баллов</th>\n",
       "      <th>Дата Завершения</th>\n",
       "    </tr>\n",
       "  </thead>\n",
       "  <tbody>\n",
       "    <tr>\n",
       "      <th>0</th>\n",
       "      <td>test@test.ru</td>\n",
       "      <td>Москва</td>\n",
       "      <td>Армавир</td>\n",
       "      <td>8-12 мешков</td>\n",
       "      <td>Банки</td>\n",
       "      <td>вапрвыапвапвап</td>\n",
       "      <td>10</td>\n",
       "      <td>2024-05-28 18:57:58.259380+00:00</td>\n",
       "    </tr>\n",
       "  </tbody>\n",
       "</table>\n",
       "</div>"
      ],
      "text/plain": [
       "   Пользователь Регион Города Город Пользователя Количество Мусора Тип Мусора  \\\n",
       "0  test@test.ru        Москва            Армавир       8-12 мешков      Банки   \n",
       "\n",
       "         Искатель  Количество Баллов                   Дата Завершения  \n",
       "0  вапрвыапвапвап                 10  2024-05-28 18:57:58.259380+00:00  "
      ]
     },
     "execution_count": 2,
     "metadata": {},
     "output_type": "execute_result"
    }
   ],
   "source": [
    "#import the data set\n",
    "green_statistics = pd.read_csv('original/green_user_stats.csv')\n",
    "\n",
    "#read the data set\n",
    "green_statistics.head(1)"
   ]
  },
  {
   "cell_type": "code",
   "execution_count": 3,
   "metadata": {},
   "outputs": [
    {
     "data": {
      "text/plain": [
       "(46, 8)"
      ]
     },
     "execution_count": 3,
     "metadata": {},
     "output_type": "execute_result"
    }
   ],
   "source": [
    "#find the dimensions\n",
    "green_statistics.shape"
   ]
  },
  {
   "cell_type": "code",
   "execution_count": 4,
   "metadata": {},
   "outputs": [
    {
     "name": "stdout",
     "output_type": "stream",
     "text": [
      "<class 'pandas.core.frame.DataFrame'>\n",
      "RangeIndex: 46 entries, 0 to 45\n",
      "Data columns (total 8 columns):\n",
      " #   Column              Non-Null Count  Dtype \n",
      "---  ------              --------------  ----- \n",
      " 0   Пользователь        46 non-null     object\n",
      " 1   Регион Города       46 non-null     object\n",
      " 2   Город Пользователя  46 non-null     object\n",
      " 3   Количество Мусора   46 non-null     object\n",
      " 4   Тип Мусора          46 non-null     object\n",
      " 5   Искатель            46 non-null     object\n",
      " 6   Количество Баллов   46 non-null     int64 \n",
      " 7   Дата Завершения     46 non-null     object\n",
      "dtypes: int64(1), object(7)\n",
      "memory usage: 3.0+ KB\n"
     ]
    }
   ],
   "source": [
    "#basic information\n",
    "green_statistics.info()"
   ]
  },
  {
   "cell_type": "markdown",
   "metadata": {},
   "source": [
    "##### rename the features"
   ]
  },
  {
   "cell_type": "code",
   "execution_count": 5,
   "metadata": {},
   "outputs": [],
   "source": [
    "#rename the columns\n",
    "green_statistics = green_statistics.rename(columns={'Пользователь': 'User',\n",
    "                                                    'Регион Города': 'City_Region',\n",
    "                                                    'Город Пользователя': 'User_City',\n",
    "                                                    'Количество Мусора': 'Trash_Amount',\n",
    "                                                    'Тип Мусора': 'Trash_Type',\n",
    "                                                    'Искатель': 'Seeker',\n",
    "                                                    'Количество Баллов': 'Score',\n",
    "                                                    'Дата Завершения': 'Programme_Completion',                           \n",
    "})"
   ]
  },
  {
   "cell_type": "markdown",
   "metadata": {},
   "source": [
    "##### check for duplicates"
   ]
  },
  {
   "cell_type": "code",
   "execution_count": 6,
   "metadata": {},
   "outputs": [
    {
     "name": "stdout",
     "output_type": "stream",
     "text": [
      "Number of Duplicates: 0\n"
     ]
    }
   ],
   "source": [
    "#check for duplicate values\n",
    "dupl_columns = list(green_statistics.columns)\n",
    "\n",
    "mask = green_statistics.duplicated(subset=dupl_columns)\n",
    "green_stats_duplicates = green_statistics[mask]\n",
    "print(f'Number of Duplicates: {green_stats_duplicates.shape[0]}')"
   ]
  },
  {
   "cell_type": "markdown",
   "metadata": {},
   "source": [
    "##### check for null values"
   ]
  },
  {
   "cell_type": "code",
   "execution_count": 7,
   "metadata": {},
   "outputs": [
    {
     "data": {
      "text/plain": [
       "Series([], dtype: int64)"
      ]
     },
     "execution_count": 7,
     "metadata": {},
     "output_type": "execute_result"
    }
   ],
   "source": [
    "#check for null values\n",
    "green_statistics.isnull().sum()[green_statistics.isnull().sum() > 0]"
   ]
  },
  {
   "cell_type": "markdown",
   "metadata": {},
   "source": [
    "##### unique values"
   ]
  },
  {
   "cell_type": "code",
   "execution_count": 8,
   "metadata": {},
   "outputs": [
    {
     "name": "stdout",
     "output_type": "stream",
     "text": [
      "Number of Unique Users: 46\n",
      "Number of Unique Region: 32\n",
      "Number of Unique City: 33\n",
      "Number of Unique Trash Amount: 5\n",
      "Number of Unique Trash Type: 5\n",
      "Number of Unique Seeker: 41\n",
      "Number of Unique Score: 3\n",
      "Number of Unique Programme_Completion: 46\n"
     ]
    }
   ],
   "source": [
    "#find how unique each feature is\n",
    "print(f\"Number of Unique Users: {green_statistics['User'].nunique()}\")\n",
    "print(f\"Number of Unique Region: {green_statistics['City_Region'].nunique()}\")\n",
    "print(f\"Number of Unique City: {green_statistics['User_City'].nunique()}\")\n",
    "print(f\"Number of Unique Trash Amount: {green_statistics['Trash_Amount'].nunique()}\")\n",
    "print(f\"Number of Unique Trash Type: {green_statistics['Trash_Type'].nunique()}\")\n",
    "print(f\"Number of Unique Seeker: {green_statistics['Seeker'].nunique()}\")\n",
    "print(f\"Number of Unique Score: {green_statistics['Score'].nunique()}\")\n",
    "print(f\"Number of Unique Programme_Completion: {green_statistics['Programme_Completion'].nunique()}\")"
   ]
  },
  {
   "cell_type": "markdown",
   "metadata": {},
   "source": [
    "##### trash amount"
   ]
  },
  {
   "cell_type": "code",
   "execution_count": 9,
   "metadata": {},
   "outputs": [
    {
     "name": "stdout",
     "output_type": "stream",
     "text": [
      "Unique Trash Amount: ['8-12 мешков' '1-3 мешка' 'более 17 мешков' '4-7 мешков' '13-17 мешков']\n"
     ]
    }
   ],
   "source": [
    "print(f\"Unique Trash Amount: {green_statistics['Trash_Amount'].unique()}\")"
   ]
  },
  {
   "cell_type": "markdown",
   "metadata": {},
   "source": [
    "need to convert to essentially numbers only"
   ]
  },
  {
   "cell_type": "code",
   "execution_count": 10,
   "metadata": {},
   "outputs": [],
   "source": [
    "#convert to numerical information only\n",
    "green_statistics['Trash_Amount'] = green_statistics['Trash_Amount'].apply(lambda x: x.replace(' мешков', '').replace(' мешка', '').replace('более ', '>'))"
   ]
  },
  {
   "cell_type": "markdown",
   "metadata": {},
   "source": [
    "##### trash type"
   ]
  },
  {
   "cell_type": "code",
   "execution_count": 11,
   "metadata": {},
   "outputs": [
    {
     "name": "stdout",
     "output_type": "stream",
     "text": [
      "Unique Trash Type: ['Банки' 'Окурки' 'Пакеты' 'Бутылки' 'Коробки']\n"
     ]
    }
   ],
   "source": [
    "print(f\"Unique Trash Type: {green_statistics['Trash_Type'].unique()}\")"
   ]
  },
  {
   "cell_type": "markdown",
   "metadata": {},
   "source": [
    "##### score"
   ]
  },
  {
   "cell_type": "code",
   "execution_count": 12,
   "metadata": {},
   "outputs": [
    {
     "name": "stdout",
     "output_type": "stream",
     "text": [
      "Unique Score: [10  7  8]\n"
     ]
    }
   ],
   "source": [
    "print(f\"Unique Score: {green_statistics['Score'].unique()}\")"
   ]
  },
  {
   "cell_type": "markdown",
   "metadata": {},
   "source": [
    "assume the score system: 0-10"
   ]
  },
  {
   "cell_type": "markdown",
   "metadata": {},
   "source": [
    "##### seeker"
   ]
  },
  {
   "cell_type": "code",
   "execution_count": 13,
   "metadata": {},
   "outputs": [
    {
     "data": {
      "text/plain": [
       "array(['вапрвыапвапвап', 'ТЕСТ', 'тест', 'Детский Памперс ', 'Велосипед',\n",
       "       'Двери, строительный мусор',\n",
       "       'В лесу нашли ковёр, под ним был еще один а уже под полосам были пакеты с бутылками',\n",
       "       'Часть покрытия со спортивной площадки',\n",
       "       'Окурки везде ((((\\nПластики ((((',\n",
       "       'Были простыни, носки, нижнее бельё ', 'Носки, тряпки',\n",
       "       'Ничего особенного ', 'Нет',\n",
       "       'Пластиковые игрушки для детей которые не берут в переработку ,а их все продают в больших количествах ',\n",
       "       'Каркас от холодильника', 'нет',\n",
       "       'Часть челюсти какого-то животного 😀',\n",
       "       'Часть от счётчика для электричества (с вращающимся механизмом цифр)',\n",
       "       'Не было',\n",
       "       'Большое количество битого стекла в парке.  Визуально не видно, но если кто-то решит посидеть на травке, то может легко пораниться',\n",
       "       'Ой,да же не вспомню,много чего выбрасывалив мусор.',\n",
       "       'Резиновая лодка дырявая', 'Шприцы',\n",
       "       'Разбитые стеклянные бутылки.', 'веши', 'Носок', 'Книги',\n",
       "       'Так, чтобы прям неожиданность, такого не было. В основном - это стекло, пластик, упаковки от продуктов. В общем стандартный набор отдыхающих',\n",
       "       'Пластиковая рюмочка и уже собранные, но не увезенный пакет с бутылками из-под пива.',\n",
       "       'Пакет с мусором, не донесенный до контейнера',\n",
       "       'Кровать деревянная с железными пружинами',\n",
       "       'Обратила внимание что в основном были трубочки для соков и из полиэтиленовые пакетики ',\n",
       "       'Саквояж, мужские трусы))', 'Готовый пакет мусора',\n",
       "       'Железный трос', 'Строительный мусор',\n",
       "       'не было таких находок , в основном обычный пластик',\n",
       "       'Влажные салфетки ', 'Связка ключей',\n",
       "       'Выброшенная обувь,старая бижутерия', 'Много пластика'],\n",
       "      dtype=object)"
      ]
     },
     "execution_count": 13,
     "metadata": {},
     "output_type": "execute_result"
    }
   ],
   "source": [
    "green_statistics['Seeker'].unique()"
   ]
  },
  {
   "cell_type": "markdown",
   "metadata": {},
   "source": [
    "##### datetime"
   ]
  },
  {
   "cell_type": "code",
   "execution_count": 14,
   "metadata": {},
   "outputs": [],
   "source": [
    "#convert to datetime\n",
    "green_statistics['Programme_Completion'] = pd.to_datetime(green_statistics['Programme_Completion'])"
   ]
  },
  {
   "cell_type": "code",
   "execution_count": 15,
   "metadata": {},
   "outputs": [],
   "source": [
    "#create new time features - for Programme_Completion\n",
    "green_statistics['Prog_Comp_Year'] = green_statistics['Programme_Completion'].dt.year\n",
    "green_statistics['Prog_Comp_Month'] = green_statistics['Programme_Completion'].dt.month\n",
    "green_statistics['Prog_Comp_Day'] = green_statistics['Programme_Completion'].dt.day"
   ]
  },
  {
   "cell_type": "markdown",
   "metadata": {},
   "source": [
    "##### data types"
   ]
  },
  {
   "cell_type": "code",
   "execution_count": 16,
   "metadata": {},
   "outputs": [],
   "source": [
    "#convert the data types\n",
    "green_statistics['User'] = green_statistics['User'].astype('string')\n",
    "green_statistics['City_Region'] = green_statistics['City_Region'].astype('string')\n",
    "green_statistics['User_City'] = green_statistics['User_City'].astype('string')\n",
    "green_statistics['Trash_Amount'] = green_statistics['Trash_Amount'].astype('string')\n",
    "green_statistics['Trash_Type'] = green_statistics['Trash_Type'].astype('string')\n",
    "green_statistics['Seeker'] = green_statistics['Seeker'].astype('string')\n",
    "\n",
    "green_statistics['Score'] = green_statistics['Score'].to_numpy('int8') \n",
    "green_statistics['Prog_Comp_Year'] = green_statistics['Prog_Comp_Year'].to_numpy('int16')\n",
    "green_statistics['Prog_Comp_Month'] = green_statistics['Prog_Comp_Month'].to_numpy('int8')\n",
    "green_statistics['Prog_Comp_Day'] = green_statistics['Prog_Comp_Day'].to_numpy('int8')"
   ]
  },
  {
   "cell_type": "markdown",
   "metadata": {},
   "source": [
    "#### **Visualization**"
   ]
  },
  {
   "cell_type": "code",
   "execution_count": 17,
   "metadata": {},
   "outputs": [
    {
     "data": {
      "image/png": "[encoded data removed]",
      "text/plain": [
       "<Figure size 1500x500 with 1 Axes>"
      ]
     },
     "metadata": {},
     "output_type": "display_data"
    }
   ],
   "source": [
    "#group by trash amount per user\n",
    "users_per_trash_amount = green_statistics.groupby('Trash_Amount')['User'].count().sort_values(ascending=False)\n",
    "users_per_trash_amount = pd.DataFrame(users_per_trash_amount)\n",
    "\n",
    "#set the canvas\n",
    "plt.figure(figsize=(15, 5))\n",
    "\n",
    "ax = sns.barplot(users_per_trash_amount,\n",
    "                 x='Trash_Amount',\n",
    "                 y='User',\n",
    "                 hue='Trash_Amount').set(title='Distribution of Trash Amount per User');"
   ]
  },
  {
   "cell_type": "code",
   "execution_count": 18,
   "metadata": {},
   "outputs": [
    {
     "data": {
      "text/html": [
       "<div>\n",
       "<style scoped>\n",
       "    .dataframe tbody tr th:only-of-type {\n",
       "        vertical-align: middle;\n",
       "    }\n",
       "\n",
       "    .dataframe tbody tr th {\n",
       "        vertical-align: top;\n",
       "    }\n",
       "\n",
       "    .dataframe thead th {\n",
       "        text-align: right;\n",
       "    }\n",
       "</style>\n",
       "<table border=\"1\" class=\"dataframe\">\n",
       "  <thead>\n",
       "    <tr style=\"text-align: right;\">\n",
       "      <th></th>\n",
       "      <th>Trash_Type</th>\n",
       "      <th>Trash_Amount</th>\n",
       "      <th>count</th>\n",
       "    </tr>\n",
       "  </thead>\n",
       "  <tbody>\n",
       "    <tr>\n",
       "      <th>0</th>\n",
       "      <td>Банки</td>\n",
       "      <td>8-12</td>\n",
       "      <td>1</td>\n",
       "    </tr>\n",
       "    <tr>\n",
       "      <th>1</th>\n",
       "      <td>Банки</td>\n",
       "      <td>&gt;17</td>\n",
       "      <td>1</td>\n",
       "    </tr>\n",
       "    <tr>\n",
       "      <th>2</th>\n",
       "      <td>Бутылки</td>\n",
       "      <td>1-3</td>\n",
       "      <td>12</td>\n",
       "    </tr>\n",
       "    <tr>\n",
       "      <th>3</th>\n",
       "      <td>Бутылки</td>\n",
       "      <td>4-7</td>\n",
       "      <td>3</td>\n",
       "    </tr>\n",
       "    <tr>\n",
       "      <th>4</th>\n",
       "      <td>Бутылки</td>\n",
       "      <td>8-12</td>\n",
       "      <td>4</td>\n",
       "    </tr>\n",
       "    <tr>\n",
       "      <th>5</th>\n",
       "      <td>Бутылки</td>\n",
       "      <td>&gt;17</td>\n",
       "      <td>5</td>\n",
       "    </tr>\n",
       "    <tr>\n",
       "      <th>6</th>\n",
       "      <td>Коробки</td>\n",
       "      <td>1-3</td>\n",
       "      <td>1</td>\n",
       "    </tr>\n",
       "    <tr>\n",
       "      <th>7</th>\n",
       "      <td>Окурки</td>\n",
       "      <td>1-3</td>\n",
       "      <td>6</td>\n",
       "    </tr>\n",
       "    <tr>\n",
       "      <th>8</th>\n",
       "      <td>Окурки</td>\n",
       "      <td>4-7</td>\n",
       "      <td>1</td>\n",
       "    </tr>\n",
       "    <tr>\n",
       "      <th>9</th>\n",
       "      <td>Окурки</td>\n",
       "      <td>8-12</td>\n",
       "      <td>1</td>\n",
       "    </tr>\n",
       "    <tr>\n",
       "      <th>10</th>\n",
       "      <td>Окурки</td>\n",
       "      <td>&gt;17</td>\n",
       "      <td>2</td>\n",
       "    </tr>\n",
       "    <tr>\n",
       "      <th>11</th>\n",
       "      <td>Пакеты</td>\n",
       "      <td>1-3</td>\n",
       "      <td>5</td>\n",
       "    </tr>\n",
       "    <tr>\n",
       "      <th>12</th>\n",
       "      <td>Пакеты</td>\n",
       "      <td>13-17</td>\n",
       "      <td>1</td>\n",
       "    </tr>\n",
       "    <tr>\n",
       "      <th>13</th>\n",
       "      <td>Пакеты</td>\n",
       "      <td>4-7</td>\n",
       "      <td>1</td>\n",
       "    </tr>\n",
       "    <tr>\n",
       "      <th>14</th>\n",
       "      <td>Пакеты</td>\n",
       "      <td>8-12</td>\n",
       "      <td>1</td>\n",
       "    </tr>\n",
       "    <tr>\n",
       "      <th>15</th>\n",
       "      <td>Пакеты</td>\n",
       "      <td>&gt;17</td>\n",
       "      <td>1</td>\n",
       "    </tr>\n",
       "  </tbody>\n",
       "</table>\n",
       "</div>"
      ],
      "text/plain": [
       "   Trash_Type Trash_Amount  count\n",
       "0       Банки         8-12      1\n",
       "1       Банки          >17      1\n",
       "2     Бутылки          1-3     12\n",
       "3     Бутылки          4-7      3\n",
       "4     Бутылки         8-12      4\n",
       "5     Бутылки          >17      5\n",
       "6     Коробки          1-3      1\n",
       "7      Окурки          1-3      6\n",
       "8      Окурки          4-7      1\n",
       "9      Окурки         8-12      1\n",
       "10     Окурки          >17      2\n",
       "11     Пакеты          1-3      5\n",
       "12     Пакеты        13-17      1\n",
       "13     Пакеты          4-7      1\n",
       "14     Пакеты         8-12      1\n",
       "15     Пакеты          >17      1"
      ]
     },
     "execution_count": 18,
     "metadata": {},
     "output_type": "execute_result"
    }
   ],
   "source": [
    "#group by trash type and trash amount\n",
    "trash_amount_type = green_statistics.groupby(['Trash_Type', 'Trash_Amount']).size().reset_index(name='count')\n",
    "trash_amount_type = pd.DataFrame(trash_amount_type)\n",
    "trash_amount_type"
   ]
  },
  {
   "cell_type": "code",
   "execution_count": 19,
   "metadata": {},
   "outputs": [
    {
     "data": {
      "image/png": "[encoded data removed]",
      "text/plain": [
       "<Figure size 640x480 with 1 Axes>"
      ]
     },
     "metadata": {},
     "output_type": "display_data"
    }
   ],
   "source": [
    "ax = sns.countplot(data=trash_amount_type,\n",
    "                   x=trash_amount_type['Trash_Type'],\n",
    "                   hue=trash_amount_type['Trash_Type'])\n",
    "ax.set(xlabel='Trash Type', ylabel='Count')\n",
    "\n",
    "plt.title('Distribution of Trash Type')\n",
    "plt.show()"
   ]
  },
  {
   "cell_type": "code",
   "execution_count": 20,
   "metadata": {},
   "outputs": [
    {
     "data": {
      "image/png": "[encoded data removed]",
      "text/plain": [
       "<Figure size 1500x500 with 1 Axes>"
      ]
     },
     "metadata": {},
     "output_type": "display_data"
    }
   ],
   "source": [
    "#group month per user\n",
    "month_by_user = green_statistics.groupby('Prog_Comp_Month')['User'].count()\n",
    "month_by_user = pd.DataFrame(month_by_user)\n",
    "\n",
    "#set the canvas\n",
    "plt.figure(figsize=(15, 5))\n",
    "\n",
    "ax = sns.barplot(month_by_user,\n",
    "                 x='Prog_Comp_Month',\n",
    "                 y='User',\n",
    "                 hue='Prog_Comp_Month',).set(title='Distribution of Programme Completion Month');"
   ]
  },
  {
   "cell_type": "markdown",
   "metadata": {},
   "source": [
    "#### **Export**"
   ]
  },
  {
   "cell_type": "code",
   "execution_count": 21,
   "metadata": {},
   "outputs": [],
   "source": [
    "#remove timezone from columns\n",
    "green_statistics['Programme_Completion'] = green_statistics['Programme_Completion'].dt.tz_localize(None)"
   ]
  },
  {
   "cell_type": "code",
   "execution_count": 22,
   "metadata": {},
   "outputs": [],
   "source": [
    "#create a file name\n",
    "xlx_name = 'user_green_details.xlsx'\n",
    "\n",
    "#save to excel\n",
    "green_statistics.to_excel('./adjusted/' + xlx_name,\n",
    "                          sheet_name='green_statistics')"
   ]
  }
 ],
 "metadata": {
  "kernelspec": {
   "display_name": "Python 3",
   "language": "python",
   "name": "python3"
  },
  "language_info": {
   "codemirror_mode": {
    "name": "ipython",
    "version": 3
   },
   "file_extension": ".py",
   "mimetype": "text/x-python",
   "name": "python",
   "nbconvert_exporter": "python",
   "pygments_lexer": "ipython3",
   "version": "3.10.5"
  }
 },
 "nbformat": 4,
 "nbformat_minor": 2
}
