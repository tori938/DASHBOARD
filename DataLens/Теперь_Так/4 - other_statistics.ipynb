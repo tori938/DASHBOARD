{
 "cells": [
  {
   "cell_type": "code",
   "execution_count": 1,
   "metadata": {},
   "outputs": [],
   "source": [
    "#standard libraries\n",
    "import pandas as pd, numpy as np\n",
    "\n",
    "#visualization libraries\n",
    "import seaborn as sns\n",
    "import matplotlib as plt\n",
    "from matplotlib import pyplot as plt"
   ]
  },
  {
   "cell_type": "code",
   "execution_count": 2,
   "metadata": {},
   "outputs": [
    {
     "data": {
      "text/html": [
       "<div>\n",
       "<style scoped>\n",
       "    .dataframe tbody tr th:only-of-type {\n",
       "        vertical-align: middle;\n",
       "    }\n",
       "\n",
       "    .dataframe tbody tr th {\n",
       "        vertical-align: top;\n",
       "    }\n",
       "\n",
       "    .dataframe thead th {\n",
       "        text-align: right;\n",
       "    }\n",
       "</style>\n",
       "<table border=\"1\" class=\"dataframe\">\n",
       "  <thead>\n",
       "    <tr style=\"text-align: right;\">\n",
       "      <th></th>\n",
       "      <th>������������</th>\n",
       "      <th>������ ����</th>\n",
       "      <th>��������</th>\n",
       "      <th>������������.1</th>\n",
       "      <th>���� ����������</th>\n",
       "    </tr>\n",
       "  </thead>\n",
       "  <tbody>\n",
       "    <tr>\n",
       "      <th>0</th>\n",
       "      <td>ivan.ptr@gmail.com</td>\n",
       "      <td>����� �������� �����������</td>\n",
       "      <td>Test</td>\n",
       "      <td>8</td>\n",
       "      <td>May 29, 2024, 6:53 a.m.</td>\n",
       "    </tr>\n",
       "  </tbody>\n",
       "</table>\n",
       "</div>"
      ],
      "text/plain": [
       "         ������������                 ������ ���� ��������  ������������.1  \\\n",
       "0  ivan.ptr@gmail.com  ����� �������� �����������     Test               8   \n",
       "\n",
       "           ���� ����������  \n",
       "0  May 29, 2024, 6:53 a.m.  "
      ]
     },
     "execution_count": 2,
     "metadata": {},
     "output_type": "execute_result"
    }
   ],
   "source": [
    "#import the data set - with encoding\n",
    "stats_other = pd.read_csv('original/statistics_of_other_users.csv',\n",
    "                          sep=';',\n",
    "                          encoding_errors='replace')\n",
    "\n",
    "stats_other.head(1)"
   ]
  },
  {
   "cell_type": "code",
   "execution_count": 3,
   "metadata": {},
   "outputs": [
    {
     "name": "stdout",
     "output_type": "stream",
     "text": [
      "{'encoding': 'windows-1251', 'confidence': 0.99, 'language': 'Russian'}\n"
     ]
    }
   ],
   "source": [
    "from chardet.universaldetector import UniversalDetector\n",
    "\n",
    "detector = UniversalDetector()\n",
    "\n",
    "#decode the encoding\n",
    "with open('original/statistics_of_other_users.csv', 'rb') as fh:\n",
    "    for line in fh:\n",
    "        detector.feed(line)\n",
    "        if detector.done:\n",
    "            break\n",
    "print(detector.close())"
   ]
  },
  {
   "cell_type": "code",
   "execution_count": 4,
   "metadata": {},
   "outputs": [
    {
     "data": {
      "text/html": [
       "<div>\n",
       "<style scoped>\n",
       "    .dataframe tbody tr th:only-of-type {\n",
       "        vertical-align: middle;\n",
       "    }\n",
       "\n",
       "    .dataframe tbody tr th {\n",
       "        vertical-align: top;\n",
       "    }\n",
       "\n",
       "    .dataframe thead th {\n",
       "        text-align: right;\n",
       "    }\n",
       "</style>\n",
       "<table border=\"1\" class=\"dataframe\">\n",
       "  <thead>\n",
       "    <tr style=\"text-align: right;\">\n",
       "      <th></th>\n",
       "      <th>Пользователь</th>\n",
       "      <th>Лучший Урок</th>\n",
       "      <th>Открытие</th>\n",
       "      <th>Рекомендации</th>\n",
       "      <th>Дата Завершения</th>\n",
       "    </tr>\n",
       "  </thead>\n",
       "  <tbody>\n",
       "    <tr>\n",
       "      <th>0</th>\n",
       "      <td>ivan.ptr@gmail.com</td>\n",
       "      <td>Тайны мусорных контейнеров</td>\n",
       "      <td>Test</td>\n",
       "      <td>8</td>\n",
       "      <td>May 29, 2024, 6:53 a.m.</td>\n",
       "    </tr>\n",
       "  </tbody>\n",
       "</table>\n",
       "</div>"
      ],
      "text/plain": [
       "         Пользователь                 Лучший Урок Открытие  Рекомендации  \\\n",
       "0  ivan.ptr@gmail.com  Тайны мусорных контейнеров     Test             8   \n",
       "\n",
       "           Дата Завершения  \n",
       "0  May 29, 2024, 6:53 a.m.  "
      ]
     },
     "execution_count": 4,
     "metadata": {},
     "output_type": "execute_result"
    }
   ],
   "source": [
    "#import and decode the data set - using the correct encoding\n",
    "stats_other = pd.read_csv('original/statistics_of_other_users.csv',\n",
    "                          sep=';',\n",
    "                          encoding='windows-1251')\n",
    "\n",
    "stats_other.head(1)"
   ]
  },
  {
   "cell_type": "code",
   "execution_count": 5,
   "metadata": {},
   "outputs": [
    {
     "data": {
      "text/plain": [
       "(56, 5)"
      ]
     },
     "execution_count": 5,
     "metadata": {},
     "output_type": "execute_result"
    }
   ],
   "source": [
    "#find the dimensions\n",
    "stats_other.shape"
   ]
  },
  {
   "cell_type": "code",
   "execution_count": 6,
   "metadata": {},
   "outputs": [
    {
     "name": "stdout",
     "output_type": "stream",
     "text": [
      "<class 'pandas.core.frame.DataFrame'>\n",
      "RangeIndex: 56 entries, 0 to 55\n",
      "Data columns (total 5 columns):\n",
      " #   Column           Non-Null Count  Dtype \n",
      "---  ------           --------------  ----- \n",
      " 0   Пользователь     56 non-null     object\n",
      " 1   Лучший Урок      56 non-null     object\n",
      " 2   Открытие         56 non-null     object\n",
      " 3   Рекомендации     56 non-null     int64 \n",
      " 4   Дата Завершения  56 non-null     object\n",
      "dtypes: int64(1), object(4)\n",
      "memory usage: 2.3+ KB\n"
     ]
    }
   ],
   "source": [
    "#basic information\n",
    "stats_other.info()"
   ]
  },
  {
   "cell_type": "code",
   "execution_count": 7,
   "metadata": {},
   "outputs": [
    {
     "data": {
      "text/html": [
       "<div>\n",
       "<style scoped>\n",
       "    .dataframe tbody tr th:only-of-type {\n",
       "        vertical-align: middle;\n",
       "    }\n",
       "\n",
       "    .dataframe tbody tr th {\n",
       "        vertical-align: top;\n",
       "    }\n",
       "\n",
       "    .dataframe thead th {\n",
       "        text-align: right;\n",
       "    }\n",
       "</style>\n",
       "<table border=\"1\" class=\"dataframe\">\n",
       "  <thead>\n",
       "    <tr style=\"text-align: right;\">\n",
       "      <th></th>\n",
       "      <th>Пользователь</th>\n",
       "      <th>Лучший Урок</th>\n",
       "      <th>Открытие</th>\n",
       "      <th>Дата Завершения</th>\n",
       "    </tr>\n",
       "  </thead>\n",
       "  <tbody>\n",
       "    <tr>\n",
       "      <th>count</th>\n",
       "      <td>56</td>\n",
       "      <td>56</td>\n",
       "      <td>56</td>\n",
       "      <td>56</td>\n",
       "    </tr>\n",
       "    <tr>\n",
       "      <th>unique</th>\n",
       "      <td>35</td>\n",
       "      <td>7</td>\n",
       "      <td>35</td>\n",
       "      <td>35</td>\n",
       "    </tr>\n",
       "    <tr>\n",
       "      <th>top</th>\n",
       "      <td>ivan.ptr@gmail.com</td>\n",
       "      <td>В среде обитания</td>\n",
       "      <td>Test</td>\n",
       "      <td>May 29, 2024, 6:53 a.m.</td>\n",
       "    </tr>\n",
       "    <tr>\n",
       "      <th>freq</th>\n",
       "      <td>2</td>\n",
       "      <td>12</td>\n",
       "      <td>2</td>\n",
       "      <td>2</td>\n",
       "    </tr>\n",
       "  </tbody>\n",
       "</table>\n",
       "</div>"
      ],
      "text/plain": [
       "              Пользователь       Лучший Урок Открытие          Дата Завершения\n",
       "count                   56                56       56                       56\n",
       "unique                  35                 7       35                       35\n",
       "top     ivan.ptr@gmail.com  В среде обитания     Test  May 29, 2024, 6:53 a.m.\n",
       "freq                     2                12        2                        2"
      ]
     },
     "execution_count": 7,
     "metadata": {},
     "output_type": "execute_result"
    }
   ],
   "source": [
    "#for categorical features\n",
    "stats_other.describe(include=object)"
   ]
  },
  {
   "cell_type": "code",
   "execution_count": 8,
   "metadata": {},
   "outputs": [
    {
     "data": {
      "text/html": [
       "<div>\n",
       "<style scoped>\n",
       "    .dataframe tbody tr th:only-of-type {\n",
       "        vertical-align: middle;\n",
       "    }\n",
       "\n",
       "    .dataframe tbody tr th {\n",
       "        vertical-align: top;\n",
       "    }\n",
       "\n",
       "    .dataframe thead th {\n",
       "        text-align: right;\n",
       "    }\n",
       "</style>\n",
       "<table border=\"1\" class=\"dataframe\">\n",
       "  <thead>\n",
       "    <tr style=\"text-align: right;\">\n",
       "      <th></th>\n",
       "      <th>Рекомендации</th>\n",
       "    </tr>\n",
       "  </thead>\n",
       "  <tbody>\n",
       "    <tr>\n",
       "      <th>count</th>\n",
       "      <td>56.0</td>\n",
       "    </tr>\n",
       "    <tr>\n",
       "      <th>mean</th>\n",
       "      <td>9.0</td>\n",
       "    </tr>\n",
       "    <tr>\n",
       "      <th>std</th>\n",
       "      <td>1.0</td>\n",
       "    </tr>\n",
       "    <tr>\n",
       "      <th>min</th>\n",
       "      <td>5.0</td>\n",
       "    </tr>\n",
       "    <tr>\n",
       "      <th>25%</th>\n",
       "      <td>10.0</td>\n",
       "    </tr>\n",
       "    <tr>\n",
       "      <th>50%</th>\n",
       "      <td>10.0</td>\n",
       "    </tr>\n",
       "    <tr>\n",
       "      <th>75%</th>\n",
       "      <td>10.0</td>\n",
       "    </tr>\n",
       "    <tr>\n",
       "      <th>max</th>\n",
       "      <td>10.0</td>\n",
       "    </tr>\n",
       "  </tbody>\n",
       "</table>\n",
       "</div>"
      ],
      "text/plain": [
       "       Рекомендации\n",
       "count          56.0\n",
       "mean            9.0\n",
       "std             1.0\n",
       "min             5.0\n",
       "25%            10.0\n",
       "50%            10.0\n",
       "75%            10.0\n",
       "max            10.0"
      ]
     },
     "execution_count": 8,
     "metadata": {},
     "output_type": "execute_result"
    }
   ],
   "source": [
    "#for numerical features\n",
    "stats_other.describe().round()"
   ]
  },
  {
   "cell_type": "markdown",
   "metadata": {},
   "source": [
    "##### rename the features"
   ]
  },
  {
   "cell_type": "code",
   "execution_count": 9,
   "metadata": {},
   "outputs": [],
   "source": [
    "#rename the columns\n",
    "stats_other = stats_other.rename(columns={'Пользователь': 'User',\n",
    "                                          'Лучший Урок': 'Best_Lesson',\n",
    "                                          'Открытие': 'Opening',\n",
    "                                          'Рекомендации': 'Recommendation',\n",
    "                                          'Дата Завершения': 'Completion_Day'                                             \n",
    "})"
   ]
  },
  {
   "cell_type": "markdown",
   "metadata": {},
   "source": [
    "##### check for duplicates"
   ]
  },
  {
   "cell_type": "code",
   "execution_count": 10,
   "metadata": {},
   "outputs": [
    {
     "name": "stdout",
     "output_type": "stream",
     "text": [
      "Number of Duplicates: 0\n"
     ]
    }
   ],
   "source": [
    "#check for duplicate values\n",
    "dupl_columns = list(stats_other.columns)\n",
    "\n",
    "mask = stats_other.duplicated(subset=dupl_columns)\n",
    "stats_duplicates = stats_other[mask]\n",
    "print(f'Number of Duplicates: {stats_duplicates.shape[0]}')"
   ]
  },
  {
   "cell_type": "markdown",
   "metadata": {},
   "source": [
    "##### check for null values"
   ]
  },
  {
   "cell_type": "code",
   "execution_count": 11,
   "metadata": {},
   "outputs": [
    {
     "data": {
      "text/plain": [
       "Series([], dtype: int64)"
      ]
     },
     "execution_count": 11,
     "metadata": {},
     "output_type": "execute_result"
    }
   ],
   "source": [
    "#check for null values\n",
    "stats_other.isnull().sum()[stats_other.isnull().sum() > 0]"
   ]
  },
  {
   "cell_type": "markdown",
   "metadata": {},
   "source": [
    "##### unique values"
   ]
  },
  {
   "cell_type": "code",
   "execution_count": 12,
   "metadata": {},
   "outputs": [
    {
     "name": "stdout",
     "output_type": "stream",
     "text": [
      "Number of Unique Users: 35\n",
      "Number of Unique Lessons: 7\n",
      "Number of Unique Opening: 35\n",
      "Number of Unique Recommendation: 5\n",
      "Number of Unique Completion_Day: 35\n"
     ]
    }
   ],
   "source": [
    "#find how unique each feature is\n",
    "print(f\"Number of Unique Users: {stats_other['User'].nunique()}\")\n",
    "print(f\"Number of Unique Lessons: {stats_other['Best_Lesson'].nunique()}\")\n",
    "print(f\"Number of Unique Opening: {stats_other['Opening'].nunique()}\")\n",
    "print(f\"Number of Unique Recommendation: {stats_other['Recommendation'].nunique()}\")\n",
    "print(f\"Number of Unique Completion_Day: {stats_other['Completion_Day'].nunique()}\")"
   ]
  },
  {
   "cell_type": "markdown",
   "metadata": {},
   "source": [
    "##### lessons"
   ]
  },
  {
   "cell_type": "code",
   "execution_count": 13,
   "metadata": {},
   "outputs": [
    {
     "name": "stdout",
     "output_type": "stream",
     "text": [
      "Unique Lessons: ['Тайны мусорных контейнеров' 'В среде обитания'\n",
      " 'Идём по углеродному следу' 'Пульс городских вод' 'Свет фонарей'\n",
      " 'Дышим свежим воздухом' 'Городская симфония']\n"
     ]
    }
   ],
   "source": [
    "print(f\"Unique Lessons: {stats_other['Best_Lesson'].unique()}\")"
   ]
  },
  {
   "cell_type": "markdown",
   "metadata": {},
   "source": [
    "##### recommendation"
   ]
  },
  {
   "cell_type": "code",
   "execution_count": 14,
   "metadata": {},
   "outputs": [
    {
     "name": "stdout",
     "output_type": "stream",
     "text": [
      "Unique Recommendation: [ 8  5 10  7  9]\n"
     ]
    }
   ],
   "source": [
    "print(f\"Unique Recommendation: {stats_other['Recommendation'].unique()}\")"
   ]
  },
  {
   "cell_type": "markdown",
   "metadata": {},
   "source": [
    "assume recommendation score: 0-10"
   ]
  },
  {
   "cell_type": "markdown",
   "metadata": {},
   "source": [
    "##### opening"
   ]
  },
  {
   "cell_type": "code",
   "execution_count": 15,
   "metadata": {},
   "outputs": [
    {
     "name": "stdout",
     "output_type": "stream",
     "text": [
      "Unique Opening: ['Test' 'dasd' '13123123' 'Тайны «мусорных» контейнеров'\n",
      " 'Что можно так спокойно наблюдать за окружающей средой и действительно наслаждаемся прогулками.'\n",
      " 'Медея'\n",
      " 'Ночью тихо , но воздух тяжелее, чем днём, хотя люди привыкли считать наоборот! Поэтому ночные прогулки не очень полезны для здоровья человека!'\n",
      " 'ииии' 'Замечать, сколько ресурсов потрачено на создание вещи.' '.....'\n",
      " 'Количество мусора нужно сократить у себя дома, чтобы воздух стал чище'\n",
      " 'Меня очень впечатлил курс в аудио формате. Как много не замечаем, вечно бежим. Тайны мусорных контейнеров на первом месте. Как важно, следить за чистотой, просто не мусоря, или подняв фантик. Это важно. Важно донести детям это'\n",
      " '123' 'Сколько оттенков у темноты' 'ррподлрол'\n",
      " 'Углеродный след от любых предметов в среде обитания человека.'\n",
      " '8 аудио прогулок, которые дают человеку теоретические знания. И приходит осознание, что мы должны беречь свою Землю. А не быть злостными потребителями природных богатств . Мы в гармонии с природой сохраняем свое здоровье и пр умножаем богатства Земли для своих детей, внуков, правнуков.'\n",
      " 'Водоемы очень важны в городе и селениях'\n",
      " 'Что в природе оказывается все сбалансированно. Никогда на это не обращала внимание. Насколько много насаждений появилось в городе, есть места для пешей прогулки, чтоб не было машин.'\n",
      " 'Углеродный след.'\n",
      " 'Я начал ещё больше делать прогулки по городу! Спасибо больше Вам за курс!'\n",
      " 'Нужно сохранять природу' 'Идём по углеродному следу'\n",
      " 'Не задумывалась об углеродном следе .' 'Природа- МЫ.'\n",
      " 'Углеродный след каждого поедмета'\n",
      " 'Прогулки - эти наполнили мою жизнь. Конечно, они не доступны мне по первому желанию, но, особенно летом(после офисной работы) это приятно. Меня привлекали красивые виды, пейзажи, удивительные старые здания, наполненные собственной историей. В этот момент я почувствовала близость со своим городом.'\n",
      " 'Можно на секунду остановиться, отвлечься от городской суеты, ощутить дыхание, воздух, солнце, пение птиц... Замереть... И пойти дальше'\n",
      " 'Пыль ,тоже имеет запах.'\n",
      " 'Никогда ранее не задумывалась о световом загрязнении. Освещение в тёмное время суток это хорошо, но в меру. Действительно, очень много светового загрязнения вокруг. Хотелось бы более уютной обстановки вечером'\n",
      " 'Приятно было осознать себя частью большого экологического проекта.'\n",
      " 'В городе и правда много шума!'\n",
      " 'Впечатления много, наблюдать за природой который меня окружает,за мусором,за почкой,за чистим воздухом,это ценность нашей страны'\n",
      " 'Углеродный след каждого предмета.'\n",
      " 'Слушая прогулки я сделала вывод что можно слышать голос города))']\n"
     ]
    }
   ],
   "source": [
    "print(f\"Unique Opening: {stats_other['Opening'].unique()}\")"
   ]
  },
  {
   "cell_type": "markdown",
   "metadata": {},
   "source": [
    "##### completion day"
   ]
  },
  {
   "cell_type": "code",
   "execution_count": 16,
   "metadata": {},
   "outputs": [],
   "source": [
    "#separate the date into specific elements\n",
    "stats_other['Month_Day'] = stats_other.Completion_Day.str.split(',').str[0]\n",
    "stats_other['Year'] = stats_other.Completion_Day.str.split(',').str[1]\n",
    "stats_other['Time'] = stats_other.Completion_Day.str.split(',').str[-1]"
   ]
  },
  {
   "cell_type": "code",
   "execution_count": 17,
   "metadata": {},
   "outputs": [],
   "source": [
    "#find all the sequence of numbers\n",
    "regex2 = '\\d{2}'\n",
    "regex1 = '\\d{1}'\n",
    "\n",
    "#find the sequence of 2-digit numbers\n",
    "stats_other['Day2'] = stats_other['Month_Day'].str.findall(regex2).str.get(0)\n",
    "\n",
    "#find the sequence of 1-digit numbers\n",
    "stats_other['Day1'] = stats_other['Month_Day'].str.findall(regex1).str.get(0)"
   ]
  },
  {
   "cell_type": "code",
   "execution_count": 18,
   "metadata": {},
   "outputs": [],
   "source": [
    "#fill any blanks with 0\n",
    "stats_other['Day1'] = stats_other['Day1'].fillna(0)\n",
    "stats_other['Day2'] = stats_other['Day2'].fillna(0)"
   ]
  },
  {
   "cell_type": "code",
   "execution_count": 19,
   "metadata": {},
   "outputs": [],
   "source": [
    "#convert the day into one feature based on conditions set\n",
    "def convert_day(data):\n",
    "    if (int(data['Day2']) > int(data['Day1'])):\n",
    "        return int(data['Day2'])\n",
    "    else:\n",
    "        return int(data['Day1'])\n",
    "\n",
    "#create a new column by applying the function\n",
    "stats_other['Day'] = stats_other.apply(convert_day,\n",
    "                                       axis=1)"
   ]
  },
  {
   "cell_type": "code",
   "execution_count": 20,
   "metadata": {},
   "outputs": [],
   "source": [
    "import re\n",
    "\n",
    "#find the sequence of text only\n",
    "def find_text(data):\n",
    "    feature = str(data['Month_Day'])\n",
    "    result = re.findall(r\"(?i)\\b[a-z]+\\b\", feature)\n",
    "    result = str(result)\n",
    "    result = result.replace('[', '').replace(']', '').replace(\"'\", \"\")\n",
    "    return result\n",
    "\n",
    "#create a new feature by applying the function\n",
    "stats_other['Month'] = stats_other.apply(find_text,\n",
    "                                           axis=1)"
   ]
  },
  {
   "cell_type": "code",
   "execution_count": 21,
   "metadata": {},
   "outputs": [],
   "source": [
    "#replace values\n",
    "stats_other['Time'] = stats_other.Time.str.replace('.', '')\n",
    "\n",
    "#create new time features\n",
    "stats_other['Hour_Minute'] = stats_other['Time'].str[:-3]\n",
    "stats_other['Period'] = stats_other['Time'].str[-2:]"
   ]
  },
  {
   "cell_type": "code",
   "execution_count": 22,
   "metadata": {},
   "outputs": [],
   "source": [
    "#drop uninformation features\n",
    "stats_other = stats_other.drop(['Day1', 'Day2', 'Month_Day', 'Time'],\n",
    "                               axis=1,\n",
    "                               errors='ignore')"
   ]
  },
  {
   "cell_type": "markdown",
   "metadata": {},
   "source": [
    "##### data types"
   ]
  },
  {
   "cell_type": "code",
   "execution_count": 23,
   "metadata": {},
   "outputs": [],
   "source": [
    "#convert the data types\n",
    "stats_other['User'] = stats_other['User'].astype('string')\n",
    "stats_other['Best_Lesson'] = stats_other['Best_Lesson'].astype('string')\n",
    "stats_other['Opening'] = stats_other['Opening'].astype('string')\n",
    "stats_other['Recommendation'] = stats_other['Recommendation'].to_numpy('int8')\n",
    "stats_other['Completion_Day'] = stats_other['Completion_Day'].astype('string')\n",
    "\n",
    "stats_other['Year'] = stats_other['Year'].to_numpy('int16')\n",
    "stats_other['Month'] = stats_other['Month'].astype('string')\n",
    "stats_other['Day'] = stats_other['Day'].to_numpy('int8')\n",
    "\n",
    "stats_other['Hour_Minute'] = stats_other['Hour_Minute'].astype('string')\n",
    "stats_other['Period'] = stats_other['Period'].astype('string')"
   ]
  },
  {
   "cell_type": "markdown",
   "metadata": {},
   "source": [
    "#### **Visualization**"
   ]
  },
  {
   "cell_type": "code",
   "execution_count": 24,
   "metadata": {},
   "outputs": [
    {
     "data": {
      "image/png": "[encoded data removed]",
      "text/plain": [
       "<Figure size 1500x300 with 1 Axes>"
      ]
     },
     "metadata": {},
     "output_type": "display_data"
    }
   ],
   "source": [
    "#group by recommendation\n",
    "user_recommendation = stats_other.groupby('Recommendation')['User'].count().sort_values(ascending=False).nlargest(11)\n",
    "user_recommendation = pd.DataFrame(user_recommendation)\n",
    "\n",
    "#set the canvas\n",
    "plt.figure(figsize=(15, 3))\n",
    "\n",
    "ax = sns.barplot(user_recommendation,\n",
    "                 x='Recommendation',\n",
    "                 y='User',\n",
    "                 hue='Recommendation').set(title='Distribution of Recommendation');"
   ]
  },
  {
   "cell_type": "code",
   "execution_count": 25,
   "metadata": {},
   "outputs": [
    {
     "data": {
      "image/png": "[encoded data removed]",
      "text/plain": [
       "<Figure size 1500x300 with 1 Axes>"
      ]
     },
     "metadata": {},
     "output_type": "display_data"
    }
   ],
   "source": [
    "#group by recommendation\n",
    "user_lesson = stats_other.groupby('Best_Lesson')['User'].count().sort_values(ascending=False).nlargest(11)\n",
    "user_lesson = pd.DataFrame(user_lesson)\n",
    "\n",
    "#set the canvas\n",
    "plt.figure(figsize=(15, 3))\n",
    "\n",
    "ax = sns.barplot(user_lesson,\n",
    "                 x='Best_Lesson',\n",
    "                 y='User',\n",
    "                 hue='Best_Lesson').set(title='Distribution of Best Lessons')\n",
    "\n",
    "plt.xticks(rotation=45);"
   ]
  },
  {
   "cell_type": "code",
   "execution_count": 26,
   "metadata": {},
   "outputs": [
    {
     "data": {
      "image/png": "[encoded data removed]",
      "text/plain": [
       "<Figure size 1500x500 with 1 Axes>"
      ]
     },
     "metadata": {},
     "output_type": "display_data"
    }
   ],
   "source": [
    "#group month per user\n",
    "month_by_user = stats_other.groupby('Month')['User'].count().sort_values(ascending=False)\n",
    "month_by_user = pd.DataFrame(month_by_user)\n",
    "\n",
    "#set the canvas\n",
    "plt.figure(figsize=(15, 5))\n",
    "\n",
    "ax = sns.barplot(month_by_user,\n",
    "                 x='Month',\n",
    "                 y='User',\n",
    "                 hue='Month',).set(title='Distribution of Completion Month');"
   ]
  },
  {
   "cell_type": "markdown",
   "metadata": {},
   "source": [
    "#### **Export**"
   ]
  },
  {
   "cell_type": "code",
   "execution_count": 27,
   "metadata": {},
   "outputs": [],
   "source": [
    "#create a file name\n",
    "xlx_name = 'user_other_details.xlsx'\n",
    "\n",
    "#save to excel\n",
    "stats_other.to_excel('./adjusted/' + xlx_name,\n",
    "                     sheet_name='other_statistics')"
   ]
  }
 ],
 "metadata": {
  "kernelspec": {
   "display_name": "Python 3",
   "language": "python",
   "name": "python3"
  },
  "language_info": {
   "codemirror_mode": {
    "name": "ipython",
    "version": 3
   },
   "file_extension": ".py",
   "mimetype": "text/x-python",
   "name": "python",
   "nbconvert_exporter": "python",
   "pygments_lexer": "ipython3",
   "version": "3.10.5"
  }
 },
 "nbformat": 4,
 "nbformat_minor": 2
}
