{
 "cells": [
  {
   "cell_type": "code",
   "execution_count": 1,
   "metadata": {},
   "outputs": [],
   "source": [
    "#standard libraries\n",
    "import pandas as pd, numpy as np\n",
    "\n",
    "#visualization libraries\n",
    "import seaborn as sns\n",
    "import matplotlib as plt\n",
    "from matplotlib import pyplot as plt\n",
    "\n",
    "import warnings \n",
    "warnings.filterwarnings('ignore')"
   ]
  },
  {
   "cell_type": "markdown",
   "metadata": {},
   "source": [
    "#### **Data**"
   ]
  },
  {
   "cell_type": "code",
   "execution_count": 2,
   "metadata": {},
   "outputs": [
    {
     "data": {
      "text/html": [
       "<div>\n",
       "<style scoped>\n",
       "    .dataframe tbody tr th:only-of-type {\n",
       "        vertical-align: middle;\n",
       "    }\n",
       "\n",
       "    .dataframe tbody tr th {\n",
       "        vertical-align: top;\n",
       "    }\n",
       "\n",
       "    .dataframe thead th {\n",
       "        text-align: right;\n",
       "    }\n",
       "</style>\n",
       "<table border=\"1\" class=\"dataframe\">\n",
       "  <thead>\n",
       "    <tr style=\"text-align: right;\">\n",
       "      <th></th>\n",
       "      <th>Пользователь</th>\n",
       "      <th>Дата открытия модуля</th>\n",
       "      <th>Дата начала прослушивания</th>\n",
       "      <th>Начало теста</th>\n",
       "      <th>Завершение теста</th>\n",
       "      <th>Урок</th>\n",
       "      <th>Количество баллов за тест</th>\n",
       "    </tr>\n",
       "  </thead>\n",
       "  <tbody>\n",
       "    <tr>\n",
       "      <th>0</th>\n",
       "      <td>test@test.ru</td>\n",
       "      <td>2024-09-10 21:57:49.431957+00:00</td>\n",
       "      <td>2024-05-29 10:17:26.910777+00:00</td>\n",
       "      <td>2024-05-29 10:19:57.469127+00:00</td>\n",
       "      <td>NaN</td>\n",
       "      <td>1</td>\n",
       "      <td>NaN</td>\n",
       "    </tr>\n",
       "  </tbody>\n",
       "</table>\n",
       "</div>"
      ],
      "text/plain": [
       "   Пользователь              Дата открытия модуля  \\\n",
       "0  test@test.ru  2024-09-10 21:57:49.431957+00:00   \n",
       "\n",
       "          Дата начала прослушивания                      Начало теста  \\\n",
       "0  2024-05-29 10:17:26.910777+00:00  2024-05-29 10:19:57.469127+00:00   \n",
       "\n",
       "  Завершение теста  Урок  Количество баллов за тест  \n",
       "0              NaN     1                        NaN  "
      ]
     },
     "execution_count": 2,
     "metadata": {},
     "output_type": "execute_result"
    }
   ],
   "source": [
    "#import the data set\n",
    "lessons = pd.read_csv('original/lesson_stats.csv')\n",
    "\n",
    "#read the data set\n",
    "lessons.head(1)"
   ]
  },
  {
   "cell_type": "code",
   "execution_count": 3,
   "metadata": {},
   "outputs": [
    {
     "data": {
      "text/plain": [
       "(1702, 7)"
      ]
     },
     "execution_count": 3,
     "metadata": {},
     "output_type": "execute_result"
    }
   ],
   "source": [
    "#find the dimensions\n",
    "lessons.shape"
   ]
  },
  {
   "cell_type": "code",
   "execution_count": 4,
   "metadata": {},
   "outputs": [
    {
     "name": "stdout",
     "output_type": "stream",
     "text": [
      "<class 'pandas.core.frame.DataFrame'>\n",
      "RangeIndex: 1702 entries, 0 to 1701\n",
      "Data columns (total 7 columns):\n",
      " #   Column                     Non-Null Count  Dtype  \n",
      "---  ------                     --------------  -----  \n",
      " 0   Пользователь               1702 non-null   object \n",
      " 1   Дата открытия модуля       1702 non-null   object \n",
      " 2   Дата начала прослушивания  1240 non-null   object \n",
      " 3   Начало теста               1378 non-null   object \n",
      " 4   Завершение теста           1344 non-null   object \n",
      " 5   Урок                       1702 non-null   int64  \n",
      " 6   Количество баллов за тест  1344 non-null   float64\n",
      "dtypes: float64(1), int64(1), object(5)\n",
      "memory usage: 93.2+ KB\n"
     ]
    }
   ],
   "source": [
    "#basic information\n",
    "lessons.info()"
   ]
  },
  {
   "cell_type": "markdown",
   "metadata": {},
   "source": [
    "##### rename the features"
   ]
  },
  {
   "cell_type": "code",
   "execution_count": 5,
   "metadata": {},
   "outputs": [],
   "source": [
    "#rename the columns\n",
    "lessons = lessons.rename(columns={'Пользователь': 'User',\n",
    "                                  'Дата открытия модуля': 'Module_Opening_Date',\n",
    "                                  'Дата начала прослушивания': 'Audition_Opening_Date',\n",
    "                                  'Начало теста': 'Test_Start',\n",
    "                                  'Завершение теста': 'Test_Completion',\n",
    "                                  'Урок': 'Lesson',\n",
    "                                  'Количество баллов за тест': 'Test_Points',                      \n",
    "})"
   ]
  },
  {
   "cell_type": "markdown",
   "metadata": {},
   "source": [
    "##### check for duplicates"
   ]
  },
  {
   "cell_type": "code",
   "execution_count": 6,
   "metadata": {},
   "outputs": [
    {
     "name": "stdout",
     "output_type": "stream",
     "text": [
      "Number of Duplicates: 0\n"
     ]
    }
   ],
   "source": [
    "#check for duplicate values\n",
    "dupl_columns = list(lessons.columns)\n",
    "\n",
    "mask = lessons.duplicated(subset=dupl_columns)\n",
    "lessons_duplicates = lessons[mask]\n",
    "print(f'Number of Duplicates: {lessons_duplicates.shape[0]}')"
   ]
  },
  {
   "cell_type": "markdown",
   "metadata": {},
   "source": [
    "##### check for null values"
   ]
  },
  {
   "cell_type": "code",
   "execution_count": 7,
   "metadata": {},
   "outputs": [
    {
     "data": {
      "text/plain": [
       "Audition_Opening_Date    462\n",
       "Test_Start               324\n",
       "Test_Completion          358\n",
       "Test_Points              358\n",
       "dtype: int64"
      ]
     },
     "execution_count": 7,
     "metadata": {},
     "output_type": "execute_result"
    }
   ],
   "source": [
    "#check for null values\n",
    "lessons.isnull().sum()[lessons.isnull().sum() > 0]"
   ]
  },
  {
   "cell_type": "markdown",
   "metadata": {},
   "source": [
    "##### unique values"
   ]
  },
  {
   "cell_type": "code",
   "execution_count": 8,
   "metadata": {},
   "outputs": [
    {
     "name": "stdout",
     "output_type": "stream",
     "text": [
      "Number of Unique Users: 439\n",
      "Number of Unique Module Openings: 1702\n",
      "Number of Unique Audition Openings: 1240\n",
      "Number of Unique Test Start: 1378\n",
      "Number of Unique Test Completion: 1344\n",
      "Number of Unique Lessons: 15\n",
      "Number of Unique Points: 9\n"
     ]
    }
   ],
   "source": [
    "#find how unique each feature is\n",
    "print(f\"Number of Unique Users: {lessons['User'].nunique()}\")\n",
    "print(f\"Number of Unique Module Openings: {lessons['Module_Opening_Date'].nunique()}\")\n",
    "print(f\"Number of Unique Audition Openings: {lessons['Audition_Opening_Date'].nunique()}\")\n",
    "print(f\"Number of Unique Test Start: {lessons['Test_Start'].nunique()}\")\n",
    "print(f\"Number of Unique Test Completion: {lessons['Test_Completion'].nunique()}\")\n",
    "print(f\"Number of Unique Lessons: {lessons['Lesson'].nunique()}\")\n",
    "print(f\"Number of Unique Points: {lessons['Test_Points'].nunique()}\")"
   ]
  },
  {
   "cell_type": "markdown",
   "metadata": {},
   "source": [
    "##### lessons"
   ]
  },
  {
   "cell_type": "code",
   "execution_count": 9,
   "metadata": {},
   "outputs": [
    {
     "name": "stdout",
     "output_type": "stream",
     "text": [
      "Unique Lessons: [ 1  4  2  3  5  6  7 15  8  9 10 11 12 13 14]\n"
     ]
    }
   ],
   "source": [
    "print(f\"Unique Lessons: {lessons['Lesson'].unique()}\")"
   ]
  },
  {
   "cell_type": "markdown",
   "metadata": {},
   "source": [
    "lessons from 1-15"
   ]
  },
  {
   "cell_type": "markdown",
   "metadata": {},
   "source": [
    "##### points"
   ]
  },
  {
   "cell_type": "code",
   "execution_count": 10,
   "metadata": {},
   "outputs": [
    {
     "name": "stdout",
     "output_type": "stream",
     "text": [
      "Unique Points: [nan  9.  7.  6.  8.  5.  3.  0.  4.  2.]\n"
     ]
    }
   ],
   "source": [
    "print(f\"Unique Points: {lessons['Test_Points'].unique()}\")"
   ]
  },
  {
   "cell_type": "markdown",
   "metadata": {},
   "source": [
    "assume point scale: 0-10"
   ]
  },
  {
   "cell_type": "code",
   "execution_count": 11,
   "metadata": {},
   "outputs": [],
   "source": [
    "lessons['Test_Points'] = lessons['Test_Points'].fillna(0)"
   ]
  },
  {
   "cell_type": "markdown",
   "metadata": {},
   "source": [
    "##### datetime"
   ]
  },
  {
   "cell_type": "code",
   "execution_count": 12,
   "metadata": {},
   "outputs": [],
   "source": [
    "#convert to datetime\n",
    "lessons['Module_Opening_Date'] = pd.to_datetime(lessons['Module_Opening_Date'])\n",
    "lessons['Audition_Opening_Date'] = pd.to_datetime(lessons['Audition_Opening_Date'])\n",
    "lessons['Test_Start'] = pd.to_datetime(lessons['Test_Start'])\n",
    "lessons['Test_Completion'] = pd.to_datetime(lessons['Test_Completion'])"
   ]
  },
  {
   "cell_type": "code",
   "execution_count": 13,
   "metadata": {},
   "outputs": [],
   "source": [
    "#create new time features - for Module_Opening_Date\n",
    "lessons['Module_Year'] = lessons['Module_Opening_Date'].dt.year\n",
    "lessons['Module_Month'] = lessons['Module_Opening_Date'].dt.month\n",
    "lessons['Module_Day'] = lessons['Module_Opening_Date'].dt.day"
   ]
  },
  {
   "cell_type": "code",
   "execution_count": 14,
   "metadata": {},
   "outputs": [],
   "source": [
    "#create new time features - for Audition_Opening_Date\n",
    "lessons['Audition_Year'] = lessons['Audition_Opening_Date'].dt.year\n",
    "lessons['Audition_Month'] = lessons['Audition_Opening_Date'].dt.month\n",
    "lessons['Audition_Day'] = lessons['Audition_Opening_Date'].dt.day"
   ]
  },
  {
   "cell_type": "code",
   "execution_count": 15,
   "metadata": {},
   "outputs": [],
   "source": [
    "#create new time features - for Test_Start\n",
    "lessons['Test_Start_Year'] = lessons['Test_Start'].dt.year\n",
    "lessons['Test_Start_Month'] = lessons['Test_Start'].dt.month\n",
    "lessons['Test_Start_Day'] = lessons['Test_Start'].dt.day"
   ]
  },
  {
   "cell_type": "code",
   "execution_count": 16,
   "metadata": {},
   "outputs": [],
   "source": [
    "#create new time features - for Test_Completion\n",
    "lessons['Test_Completion_Year'] = lessons['Test_Completion'].dt.year\n",
    "lessons['Test_Completion_Month'] = lessons['Test_Completion'].dt.month\n",
    "lessons['Test_Completion_Day'] = lessons['Test_Completion'].dt.day"
   ]
  },
  {
   "cell_type": "code",
   "execution_count": 17,
   "metadata": {},
   "outputs": [],
   "source": [
    "#create a new time feature\n",
    "lessons['Test_Time'] = ((lessons['Test_Completion'] - lessons['Test_Start']).dt.total_seconds() / 60).round(2)"
   ]
  },
  {
   "cell_type": "markdown",
   "metadata": {},
   "source": [
    "##### data types"
   ]
  },
  {
   "cell_type": "code",
   "execution_count": 18,
   "metadata": {},
   "outputs": [],
   "source": [
    "#convert the data types\n",
    "lessons['User'] = lessons['User'].astype('string')\n",
    "lessons['Lesson'] = lessons['Lesson'].to_numpy('int8')\n",
    "lessons['Test_Points'] = lessons['Test_Points'].to_numpy('float32')\n",
    " \n",
    "lessons['Module_Year'] = lessons['Module_Year'].to_numpy('int16')\n",
    "lessons['Module_Month'] = lessons['Module_Month'].to_numpy('int8')\n",
    "lessons['Module_Day'] = lessons['Module_Day'].to_numpy('int8')\n",
    " \n",
    "lessons['Audition_Year'] = lessons['Audition_Year'].to_numpy('int16')\n",
    "lessons['Audition_Month'] = lessons['Audition_Month'].to_numpy('int8')\n",
    "lessons['Audition_Day'] = lessons['Audition_Day'].to_numpy('int8')\n",
    "           \n",
    "lessons['Test_Start_Year'] = lessons['Test_Start_Year'].to_numpy('int16')\n",
    "lessons['Test_Start_Month'] = lessons['Test_Start_Month'].to_numpy('int8')\n",
    "lessons['Test_Start_Day'] = lessons['Test_Start_Day'].to_numpy('int8')\n",
    " \n",
    "lessons['Test_Completion_Year'] = lessons['Test_Completion_Year'].to_numpy('int16')\n",
    "lessons['Test_Completion_Month'] = lessons['Test_Completion_Month'].to_numpy('int8')\n",
    "lessons['Test_Completion_Day'] = lessons['Test_Completion_Day'].to_numpy('int8')\n",
    "\n",
    "lessons['Test_Time'] = lessons['Test_Time'].to_numpy('int16')"
   ]
  },
  {
   "cell_type": "code",
   "execution_count": 19,
   "metadata": {},
   "outputs": [
    {
     "data": {
      "text/plain": [
       "Audition_Opening_Date    462\n",
       "Test_Start               324\n",
       "Test_Completion          358\n",
       "dtype: int64"
      ]
     },
     "execution_count": 19,
     "metadata": {},
     "output_type": "execute_result"
    }
   ],
   "source": [
    "#check for null values\n",
    "lessons.isnull().sum()[lessons.isnull().sum() > 0]"
   ]
  },
  {
   "cell_type": "code",
   "execution_count": 20,
   "metadata": {},
   "outputs": [
    {
     "name": "stdout",
     "output_type": "stream",
     "text": [
      "<class 'pandas.core.frame.DataFrame'>\n",
      "RangeIndex: 1702 entries, 0 to 1701\n",
      "Data columns (total 20 columns):\n",
      " #   Column                 Non-Null Count  Dtype              \n",
      "---  ------                 --------------  -----              \n",
      " 0   User                   1702 non-null   string             \n",
      " 1   Module_Opening_Date    1702 non-null   datetime64[ns, UTC]\n",
      " 2   Audition_Opening_Date  1240 non-null   datetime64[ns, UTC]\n",
      " 3   Test_Start             1378 non-null   datetime64[ns, UTC]\n",
      " 4   Test_Completion        1344 non-null   datetime64[ns, UTC]\n",
      " 5   Lesson                 1702 non-null   int8               \n",
      " 6   Test_Points            1702 non-null   float32            \n",
      " 7   Module_Year            1702 non-null   int16              \n",
      " 8   Module_Month           1702 non-null   int8               \n",
      " 9   Module_Day             1702 non-null   int8               \n",
      " 10  Audition_Year          1702 non-null   int16              \n",
      " 11  Audition_Month         1702 non-null   int8               \n",
      " 12  Audition_Day           1702 non-null   int8               \n",
      " 13  Test_Start_Year        1702 non-null   int16              \n",
      " 14  Test_Start_Month       1702 non-null   int8               \n",
      " 15  Test_Start_Day         1702 non-null   int8               \n",
      " 16  Test_Completion_Year   1702 non-null   int16              \n",
      " 17  Test_Completion_Month  1702 non-null   int8               \n",
      " 18  Test_Completion_Day    1702 non-null   int8               \n",
      " 19  Test_Time              1702 non-null   int16              \n",
      "dtypes: datetime64[ns, UTC](4), float32(1), int16(5), int8(9), string(1)\n",
      "memory usage: 104.8 KB\n"
     ]
    }
   ],
   "source": [
    "lessons.info()"
   ]
  },
  {
   "cell_type": "markdown",
   "metadata": {},
   "source": [
    "#### **Visualization**"
   ]
  },
  {
   "cell_type": "code",
   "execution_count": 21,
   "metadata": {},
   "outputs": [
    {
     "data": {
      "image/png": "[encoded data removed]",
      "text/plain": [
       "<Figure size 1500x300 with 1 Axes>"
      ]
     },
     "metadata": {},
     "output_type": "display_data"
    }
   ],
   "source": [
    "#group by lesson\n",
    "lessons_per_user = lessons.groupby('Lesson')['User'].count().round().sort_values(ascending=False)\n",
    "lessons_per_user = pd.DataFrame(lessons_per_user)\n",
    "\n",
    "#set the canvas\n",
    "plt.figure(figsize=(15, 3))\n",
    "\n",
    "ax = sns.barplot(lessons_per_user,\n",
    "                 x='Lesson',\n",
    "                 y='User',\n",
    "                 hue='Lesson',\n",
    "                 legend=False).set(title='Distribution of Lessons');"
   ]
  },
  {
   "cell_type": "code",
   "execution_count": 22,
   "metadata": {},
   "outputs": [
    {
     "data": {
      "image/png": "[encoded data removed]",
      "text/plain": [
       "<Figure size 1500x300 with 1 Axes>"
      ]
     },
     "metadata": {},
     "output_type": "display_data"
    }
   ],
   "source": [
    "#group by test points\n",
    "points_per_user = lessons.groupby('Test_Points')['User'].count().round().sort_values(ascending=False)\n",
    "points_per_user = pd.DataFrame(points_per_user)\n",
    "\n",
    "#set the canvas\n",
    "plt.figure(figsize=(15, 3))\n",
    "\n",
    "ax = sns.barplot(points_per_user,\n",
    "                 x='Test_Points',\n",
    "                 y='User',\n",
    "                 hue='Test_Points',\n",
    "                 legend=False).set(title='Distribution of Test Points');"
   ]
  },
  {
   "cell_type": "code",
   "execution_count": 23,
   "metadata": {},
   "outputs": [
    {
     "data": {
      "image/png": "[encoded data removed]",
      "text/plain": [
       "<Figure size 1500x300 with 1 Axes>"
      ]
     },
     "metadata": {},
     "output_type": "display_data"
    }
   ],
   "source": [
    "#group by test time - top 5 - excl. 0 test time\n",
    "test_time_per_user = lessons.groupby('Test_Time')['User'].count().round().sort_values(ascending=False).nlargest(6)\n",
    "test_time_per_user = pd.DataFrame(test_time_per_user[1:])\n",
    "\n",
    "#set the canvas\n",
    "plt.figure(figsize=(15, 3))\n",
    "\n",
    "ax = sns.barplot(test_time_per_user,\n",
    "                 x='Test_Time',\n",
    "                 y='User',\n",
    "                 hue='Test_Time',\n",
    "                 legend=False).set(title='Distribution of Test Time');"
   ]
  },
  {
   "cell_type": "markdown",
   "metadata": {},
   "source": [
    "#### **Export**"
   ]
  },
  {
   "cell_type": "code",
   "execution_count": 24,
   "metadata": {},
   "outputs": [],
   "source": [
    "#remove timezone from columns\n",
    "lessons['Module_Opening_Date'] = lessons['Module_Opening_Date'].dt.tz_localize(None)\n",
    "lessons['Audition_Opening_Date'] = lessons['Module_Opening_Date'].dt.tz_localize(None)\n",
    "lessons['Test_Start'] = lessons['Module_Opening_Date'].dt.tz_localize(None)\n",
    "lessons['Test_Completion'] = lessons['Module_Opening_Date'].dt.tz_localize(None)"
   ]
  },
  {
   "cell_type": "code",
   "execution_count": 25,
   "metadata": {},
   "outputs": [],
   "source": [
    "#create a file name\n",
    "xlx_name = 'lessons.xlsx'\n",
    "\n",
    "#save to excel\n",
    "lessons.to_excel('./adjusted/' + xlx_name,\n",
    "                 sheet_name='lesson_details')"
   ]
  }
 ],
 "metadata": {
  "kernelspec": {
   "display_name": "Python 3",
   "language": "python",
   "name": "python3"
  },
  "language_info": {
   "codemirror_mode": {
    "name": "ipython",
    "version": 3
   },
   "file_extension": ".py",
   "mimetype": "text/x-python",
   "name": "python",
   "nbconvert_exporter": "python",
   "pygments_lexer": "ipython3",
   "version": "3.10.5"
  }
 },
 "nbformat": 4,
 "nbformat_minor": 2
}
