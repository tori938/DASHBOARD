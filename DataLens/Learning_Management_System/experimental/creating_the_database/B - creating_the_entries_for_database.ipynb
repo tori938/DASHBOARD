{
 "cells": [
  {
   "cell_type": "code",
   "execution_count": 3,
   "metadata": {},
   "outputs": [],
   "source": [
    "#standard libraries\n",
    "import pandas as pd, numpy as np\n",
    "\n",
    "#randomization\n",
    "import random\n",
    "from faker import Faker"
   ]
  },
  {
   "cell_type": "code",
   "execution_count": 4,
   "metadata": {},
   "outputs": [],
   "source": [
    "#export the file(s)\n",
    "students = pd.read_excel('./experimental/created_tables/students.xlsx',\n",
    "                         index_col=0)\n",
    "\n",
    "course_details = pd.read_excel('./experimental/created_tables/course_details.xlsx',\n",
    "                               index_col=0)\n",
    "\n",
    "class_details = pd.read_excel('./experimental/created_tables/class_details.xlsx',\n",
    "                              index_col=0)\n",
    "\n",
    "enrolment = pd.read_excel('./experimental/created_tables/enrolment.xlsx',\n",
    "                         index_col=0)"
   ]
  },
  {
   "cell_type": "code",
   "execution_count": 5,
   "metadata": {},
   "outputs": [
    {
     "name": "stdout",
     "output_type": "stream",
     "text": [
      "students: (200, 6), \n",
      " course_details: (5, 2), \n",
      " class_details: (37, 3), \n",
      " enrolment: (200, 6)\n"
     ]
    }
   ],
   "source": [
    "#find dimensions\n",
    "print(f'students: {students.shape}, \\n course_details: {course_details.shape}, \\n class_details: {class_details.shape}, \\n enrolment: {enrolment.shape}')"
   ]
  },
  {
   "cell_type": "code",
   "execution_count": 6,
   "metadata": {},
   "outputs": [
    {
     "data": {
      "text/html": [
       "<div>\n",
       "<style scoped>\n",
       "    .dataframe tbody tr th:only-of-type {\n",
       "        vertical-align: middle;\n",
       "    }\n",
       "\n",
       "    .dataframe tbody tr th {\n",
       "        vertical-align: top;\n",
       "    }\n",
       "\n",
       "    .dataframe thead th {\n",
       "        text-align: right;\n",
       "    }\n",
       "</style>\n",
       "<table border=\"1\" class=\"dataframe\">\n",
       "  <thead>\n",
       "    <tr style=\"text-align: right;\">\n",
       "      <th></th>\n",
       "      <th>STUDENT_ID</th>\n",
       "      <th>FIRST_NAME</th>\n",
       "      <th>LAST_NAME</th>\n",
       "      <th>CITY</th>\n",
       "      <th>BIRTH_DATE</th>\n",
       "      <th>E-MAIL</th>\n",
       "    </tr>\n",
       "  </thead>\n",
       "  <tbody>\n",
       "    <tr>\n",
       "      <th>0</th>\n",
       "      <td>S000000</td>\n",
       "      <td>James</td>\n",
       "      <td>Smith</td>\n",
       "      <td>Moscow</td>\n",
       "      <td>1967-10-01</td>\n",
       "      <td>jamessmith@yandex.com</td>\n",
       "    </tr>\n",
       "    <tr>\n",
       "      <th>1</th>\n",
       "      <td>S000001</td>\n",
       "      <td>Michael</td>\n",
       "      <td>Johnson</td>\n",
       "      <td>Nizhniy Novgorod</td>\n",
       "      <td>1993-08-30</td>\n",
       "      <td>michaeljohnson@yandex.com</td>\n",
       "    </tr>\n",
       "  </tbody>\n",
       "</table>\n",
       "</div>"
      ],
      "text/plain": [
       "  STUDENT_ID FIRST_NAME LAST_NAME              CITY BIRTH_DATE  \\\n",
       "0    S000000      James     Smith            Moscow 1967-10-01   \n",
       "1    S000001    Michael   Johnson  Nizhniy Novgorod 1993-08-30   \n",
       "\n",
       "                      E-MAIL  \n",
       "0      jamessmith@yandex.com  \n",
       "1  michaeljohnson@yandex.com  "
      ]
     },
     "metadata": {},
     "output_type": "display_data"
    },
    {
     "name": "stdout",
     "output_type": "stream",
     "text": [
      "\n"
     ]
    },
    {
     "data": {
      "text/html": [
       "<div>\n",
       "<style scoped>\n",
       "    .dataframe tbody tr th:only-of-type {\n",
       "        vertical-align: middle;\n",
       "    }\n",
       "\n",
       "    .dataframe tbody tr th {\n",
       "        vertical-align: top;\n",
       "    }\n",
       "\n",
       "    .dataframe thead th {\n",
       "        text-align: right;\n",
       "    }\n",
       "</style>\n",
       "<table border=\"1\" class=\"dataframe\">\n",
       "  <thead>\n",
       "    <tr style=\"text-align: right;\">\n",
       "      <th></th>\n",
       "      <th>COURSE_ID</th>\n",
       "      <th>COURSE_TITLE</th>\n",
       "    </tr>\n",
       "  </thead>\n",
       "  <tbody>\n",
       "    <tr>\n",
       "      <th>0</th>\n",
       "      <td>C0001</td>\n",
       "      <td>CIRCULAR ECONOMY, RESPONSIBLE PRODUCTION AND C...</td>\n",
       "    </tr>\n",
       "    <tr>\n",
       "      <th>1</th>\n",
       "      <td>C0002</td>\n",
       "      <td>SUSTAINABLE FOOD SYSTEMS</td>\n",
       "    </tr>\n",
       "  </tbody>\n",
       "</table>\n",
       "</div>"
      ],
      "text/plain": [
       "  COURSE_ID                                       COURSE_TITLE\n",
       "0     C0001  CIRCULAR ECONOMY, RESPONSIBLE PRODUCTION AND C...\n",
       "1     C0002                           SUSTAINABLE FOOD SYSTEMS"
      ]
     },
     "metadata": {},
     "output_type": "display_data"
    },
    {
     "name": "stdout",
     "output_type": "stream",
     "text": [
      "\n"
     ]
    },
    {
     "data": {
      "text/html": [
       "<div>\n",
       "<style scoped>\n",
       "    .dataframe tbody tr th:only-of-type {\n",
       "        vertical-align: middle;\n",
       "    }\n",
       "\n",
       "    .dataframe tbody tr th {\n",
       "        vertical-align: top;\n",
       "    }\n",
       "\n",
       "    .dataframe thead th {\n",
       "        text-align: right;\n",
       "    }\n",
       "</style>\n",
       "<table border=\"1\" class=\"dataframe\">\n",
       "  <thead>\n",
       "    <tr style=\"text-align: right;\">\n",
       "      <th></th>\n",
       "      <th>COURSE_ID</th>\n",
       "      <th>CLASS_ID</th>\n",
       "      <th>CLASS_TITLE</th>\n",
       "    </tr>\n",
       "  </thead>\n",
       "  <tbody>\n",
       "    <tr>\n",
       "      <th>0</th>\n",
       "      <td>C0001</td>\n",
       "      <td>CERPC101</td>\n",
       "      <td>001 - CIRCULAR ECONOMY, RESPONSIBLE PRODUCTION...</td>\n",
       "    </tr>\n",
       "    <tr>\n",
       "      <th>1</th>\n",
       "      <td>C0001</td>\n",
       "      <td>CERPC102</td>\n",
       "      <td>002 - CIRCULAR ECONOMY, RESPONSIBLE PRODUCTION...</td>\n",
       "    </tr>\n",
       "  </tbody>\n",
       "</table>\n",
       "</div>"
      ],
      "text/plain": [
       "  COURSE_ID  CLASS_ID                                        CLASS_TITLE\n",
       "0     C0001  CERPC101  001 - CIRCULAR ECONOMY, RESPONSIBLE PRODUCTION...\n",
       "1     C0001  CERPC102  002 - CIRCULAR ECONOMY, RESPONSIBLE PRODUCTION..."
      ]
     },
     "metadata": {},
     "output_type": "display_data"
    },
    {
     "name": "stdout",
     "output_type": "stream",
     "text": [
      "\n"
     ]
    },
    {
     "data": {
      "text/html": [
       "<div>\n",
       "<style scoped>\n",
       "    .dataframe tbody tr th:only-of-type {\n",
       "        vertical-align: middle;\n",
       "    }\n",
       "\n",
       "    .dataframe tbody tr th {\n",
       "        vertical-align: top;\n",
       "    }\n",
       "\n",
       "    .dataframe thead th {\n",
       "        text-align: right;\n",
       "    }\n",
       "</style>\n",
       "<table border=\"1\" class=\"dataframe\">\n",
       "  <thead>\n",
       "    <tr style=\"text-align: right;\">\n",
       "      <th></th>\n",
       "      <th>ID</th>\n",
       "      <th>COURSE_ID</th>\n",
       "      <th>STUDENT_ID</th>\n",
       "      <th>CANCELLED</th>\n",
       "      <th>ENROLMENT_DATE</th>\n",
       "      <th>COMPLETION_DATE</th>\n",
       "    </tr>\n",
       "  </thead>\n",
       "  <tbody>\n",
       "    <tr>\n",
       "      <th>0</th>\n",
       "      <td>0</td>\n",
       "      <td>NaN</td>\n",
       "      <td>S000000</td>\n",
       "      <td>True</td>\n",
       "      <td>2021-04-12</td>\n",
       "      <td>2021-08-30</td>\n",
       "    </tr>\n",
       "    <tr>\n",
       "      <th>1</th>\n",
       "      <td>1</td>\n",
       "      <td>NaN</td>\n",
       "      <td>S000001</td>\n",
       "      <td>False</td>\n",
       "      <td>2023-10-31</td>\n",
       "      <td>2024-01-06</td>\n",
       "    </tr>\n",
       "  </tbody>\n",
       "</table>\n",
       "</div>"
      ],
      "text/plain": [
       "   ID  COURSE_ID STUDENT_ID  CANCELLED ENROLMENT_DATE COMPLETION_DATE\n",
       "0   0        NaN    S000000       True     2021-04-12      2021-08-30\n",
       "1   1        NaN    S000001      False     2023-10-31      2024-01-06"
      ]
     },
     "metadata": {},
     "output_type": "display_data"
    }
   ],
   "source": [
    "#display the data sets\n",
    "display(students.head(2))\n",
    "print()\n",
    "display(course_details.head(2))\n",
    "print()\n",
    "display(class_details.head(2))\n",
    "print()\n",
    "display(enrolment.head(2))"
   ]
  },
  {
   "cell_type": "markdown",
   "metadata": {},
   "source": [
    "#### **MERGE STUDENTS + ENROLMENT**"
   ]
  },
  {
   "cell_type": "code",
   "execution_count": 7,
   "metadata": {},
   "outputs": [
    {
     "data": {
      "text/html": [
       "<div>\n",
       "<style scoped>\n",
       "    .dataframe tbody tr th:only-of-type {\n",
       "        vertical-align: middle;\n",
       "    }\n",
       "\n",
       "    .dataframe tbody tr th {\n",
       "        vertical-align: top;\n",
       "    }\n",
       "\n",
       "    .dataframe thead th {\n",
       "        text-align: right;\n",
       "    }\n",
       "</style>\n",
       "<table border=\"1\" class=\"dataframe\">\n",
       "  <thead>\n",
       "    <tr style=\"text-align: right;\">\n",
       "      <th></th>\n",
       "      <th>STUDENT_ID</th>\n",
       "      <th>FIRST_NAME</th>\n",
       "      <th>LAST_NAME</th>\n",
       "      <th>CITY</th>\n",
       "      <th>BIRTH_DATE</th>\n",
       "      <th>E-MAIL</th>\n",
       "      <th>ID</th>\n",
       "      <th>COURSE_ID</th>\n",
       "      <th>CANCELLED</th>\n",
       "      <th>ENROLMENT_DATE</th>\n",
       "      <th>COMPLETION_DATE</th>\n",
       "    </tr>\n",
       "  </thead>\n",
       "  <tbody>\n",
       "    <tr>\n",
       "      <th>0</th>\n",
       "      <td>S000000</td>\n",
       "      <td>James</td>\n",
       "      <td>Smith</td>\n",
       "      <td>Moscow</td>\n",
       "      <td>1967-10-01</td>\n",
       "      <td>jamessmith@yandex.com</td>\n",
       "      <td>0</td>\n",
       "      <td>NaN</td>\n",
       "      <td>True</td>\n",
       "      <td>2021-04-12</td>\n",
       "      <td>2021-08-30</td>\n",
       "    </tr>\n",
       "    <tr>\n",
       "      <th>1</th>\n",
       "      <td>S000001</td>\n",
       "      <td>Michael</td>\n",
       "      <td>Johnson</td>\n",
       "      <td>Nizhniy Novgorod</td>\n",
       "      <td>1993-08-30</td>\n",
       "      <td>michaeljohnson@yandex.com</td>\n",
       "      <td>1</td>\n",
       "      <td>NaN</td>\n",
       "      <td>False</td>\n",
       "      <td>2023-10-31</td>\n",
       "      <td>2024-01-06</td>\n",
       "    </tr>\n",
       "  </tbody>\n",
       "</table>\n",
       "</div>"
      ],
      "text/plain": [
       "  STUDENT_ID FIRST_NAME LAST_NAME              CITY BIRTH_DATE  \\\n",
       "0    S000000      James     Smith            Moscow 1967-10-01   \n",
       "1    S000001    Michael   Johnson  Nizhniy Novgorod 1993-08-30   \n",
       "\n",
       "                      E-MAIL  ID  COURSE_ID  CANCELLED ENROLMENT_DATE  \\\n",
       "0      jamessmith@yandex.com   0        NaN       True     2021-04-12   \n",
       "1  michaeljohnson@yandex.com   1        NaN      False     2023-10-31   \n",
       "\n",
       "  COMPLETION_DATE  \n",
       "0      2021-08-30  \n",
       "1      2024-01-06  "
      ]
     },
     "execution_count": 7,
     "metadata": {},
     "output_type": "execute_result"
    }
   ],
   "source": [
    "#combine the students and enrolment\n",
    "enrolled_students = students.merge(enrolment,\n",
    "                                   how='left',\n",
    "                                   on='STUDENT_ID')\n",
    "\n",
    "enrolled_students.head(2)"
   ]
  },
  {
   "cell_type": "code",
   "execution_count": 8,
   "metadata": {},
   "outputs": [
    {
     "data": {
      "text/plain": [
       "COURSE_ID    200\n",
       "dtype: int64"
      ]
     },
     "execution_count": 8,
     "metadata": {},
     "output_type": "execute_result"
    }
   ],
   "source": [
    "#check for null values\n",
    "enrolled_students.isnull().sum()[enrolled_students.isnull().sum() > 0]"
   ]
  },
  {
   "cell_type": "code",
   "execution_count": 9,
   "metadata": {},
   "outputs": [
    {
     "data": {
      "text/plain": [
       "(200, 11)"
      ]
     },
     "execution_count": 9,
     "metadata": {},
     "output_type": "execute_result"
    }
   ],
   "source": [
    "#dimensions\n",
    "enrolled_students.shape"
   ]
  },
  {
   "cell_type": "code",
   "execution_count": 10,
   "metadata": {},
   "outputs": [
    {
     "data": {
      "text/html": [
       "<div>\n",
       "<style scoped>\n",
       "    .dataframe tbody tr th:only-of-type {\n",
       "        vertical-align: middle;\n",
       "    }\n",
       "\n",
       "    .dataframe tbody tr th {\n",
       "        vertical-align: top;\n",
       "    }\n",
       "\n",
       "    .dataframe thead th {\n",
       "        text-align: right;\n",
       "    }\n",
       "</style>\n",
       "<table border=\"1\" class=\"dataframe\">\n",
       "  <thead>\n",
       "    <tr style=\"text-align: right;\">\n",
       "      <th></th>\n",
       "      <th>STUDENT_ID</th>\n",
       "      <th>FIRST_NAME</th>\n",
       "      <th>LAST_NAME</th>\n",
       "      <th>CITY</th>\n",
       "      <th>BIRTH_DATE</th>\n",
       "      <th>E-MAIL</th>\n",
       "      <th>ID</th>\n",
       "      <th>COURSE_ID</th>\n",
       "      <th>CANCELLED</th>\n",
       "      <th>ENROLMENT_DATE</th>\n",
       "      <th>COMPLETION_DATE</th>\n",
       "    </tr>\n",
       "  </thead>\n",
       "  <tbody>\n",
       "    <tr>\n",
       "      <th>0</th>\n",
       "      <td>S000000</td>\n",
       "      <td>James</td>\n",
       "      <td>Smith</td>\n",
       "      <td>Moscow</td>\n",
       "      <td>1967-10-01</td>\n",
       "      <td>jamessmith@yandex.com</td>\n",
       "      <td>0</td>\n",
       "      <td>NaN</td>\n",
       "      <td>True</td>\n",
       "      <td>2021-04-12</td>\n",
       "      <td>2021-08-30</td>\n",
       "    </tr>\n",
       "    <tr>\n",
       "      <th>1</th>\n",
       "      <td>S000001</td>\n",
       "      <td>Michael</td>\n",
       "      <td>Johnson</td>\n",
       "      <td>Nizhniy Novgorod</td>\n",
       "      <td>1993-08-30</td>\n",
       "      <td>michaeljohnson@yandex.com</td>\n",
       "      <td>1</td>\n",
       "      <td>NaN</td>\n",
       "      <td>False</td>\n",
       "      <td>2023-10-31</td>\n",
       "      <td>2024-01-06</td>\n",
       "    </tr>\n",
       "  </tbody>\n",
       "</table>\n",
       "</div>"
      ],
      "text/plain": [
       "  STUDENT_ID FIRST_NAME LAST_NAME              CITY BIRTH_DATE  \\\n",
       "0    S000000      James     Smith            Moscow 1967-10-01   \n",
       "1    S000001    Michael   Johnson  Nizhniy Novgorod 1993-08-30   \n",
       "\n",
       "                      E-MAIL  ID  COURSE_ID  CANCELLED ENROLMENT_DATE  \\\n",
       "0      jamessmith@yandex.com   0        NaN       True     2021-04-12   \n",
       "1  michaeljohnson@yandex.com   1        NaN      False     2023-10-31   \n",
       "\n",
       "  COMPLETION_DATE  \n",
       "0      2021-08-30  \n",
       "1      2024-01-06  "
      ]
     },
     "execution_count": 10,
     "metadata": {},
     "output_type": "execute_result"
    }
   ],
   "source": [
    "#concat vertically - 3x times\n",
    "merged_thrice = pd.concat([enrolled_students, enrolled_students, enrolled_students],\n",
    "                          axis=0)\n",
    "\n",
    "merged_thrice.head(2)"
   ]
  },
  {
   "cell_type": "code",
   "execution_count": 11,
   "metadata": {},
   "outputs": [
    {
     "data": {
      "text/plain": [
       "(600, 11)"
      ]
     },
     "execution_count": 11,
     "metadata": {},
     "output_type": "execute_result"
    }
   ],
   "source": [
    "#dimensions\n",
    "merged_thrice.shape"
   ]
  },
  {
   "cell_type": "markdown",
   "metadata": {},
   "source": [
    "#### **CREATE COURSE_ID BY RANDOMIZATION**"
   ]
  },
  {
   "cell_type": "markdown",
   "metadata": {},
   "source": [
    "create a random list of courses (from 1-5) and distribute per student"
   ]
  },
  {
   "cell_type": "code",
   "execution_count": 12,
   "metadata": {},
   "outputs": [
    {
     "data": {
      "text/plain": [
       "5"
      ]
     },
     "execution_count": 12,
     "metadata": {},
     "output_type": "execute_result"
    }
   ],
   "source": [
    "#number of courses available\n",
    "course_details['COURSE_ID'].nunique()"
   ]
  },
  {
   "cell_type": "code",
   "execution_count": 13,
   "metadata": {},
   "outputs": [],
   "source": [
    "#number of courses\n",
    "course_list = [1, 2, 3, 4, 5]\n",
    "\n",
    "#relative weights to choose elements from the list with different probability\n",
    "course_num = random.choices(course_list,\n",
    "                            weights=(19, 21.5, 21.5, 14, 24),\n",
    "                            k=600)"
   ]
  },
  {
   "cell_type": "code",
   "execution_count": 14,
   "metadata": {},
   "outputs": [],
   "source": [
    "#insert new features\n",
    "merged_thrice['COURSE_NUMBER'] = None\n",
    "\n",
    "merged_thrice = merged_thrice.assign(COURSE_NUMBER=course_num)"
   ]
  },
  {
   "cell_type": "code",
   "execution_count": 15,
   "metadata": {},
   "outputs": [
    {
     "data": {
      "text/plain": [
       "COURSE_NUMBER\n",
       "5    151\n",
       "3    140\n",
       "2    117\n",
       "1    108\n",
       "4     84\n",
       "Name: count, dtype: int64"
      ]
     },
     "execution_count": 15,
     "metadata": {},
     "output_type": "execute_result"
    }
   ],
   "source": [
    "#course distribution\n",
    "merged_thrice['COURSE_NUMBER'].value_counts()"
   ]
  },
  {
   "cell_type": "code",
   "execution_count": 16,
   "metadata": {},
   "outputs": [
    {
     "data": {
      "text/plain": [
       "(600, 12)"
      ]
     },
     "execution_count": 16,
     "metadata": {},
     "output_type": "execute_result"
    }
   ],
   "source": [
    "#dimensions\n",
    "merged_thrice.shape"
   ]
  },
  {
   "cell_type": "code",
   "execution_count": 17,
   "metadata": {},
   "outputs": [],
   "source": [
    "#write a function to return course_id\n",
    "def create_course_id(data):\n",
    "    return 'C000' + str(data['COURSE_NUMBER'])\n",
    "\n",
    "#apply the function\n",
    "merged_thrice['COURSE_ID'] = merged_thrice.apply(create_course_id,\n",
    "                                             axis=1)"
   ]
  },
  {
   "cell_type": "code",
   "execution_count": 18,
   "metadata": {},
   "outputs": [
    {
     "data": {
      "text/html": [
       "<div>\n",
       "<style scoped>\n",
       "    .dataframe tbody tr th:only-of-type {\n",
       "        vertical-align: middle;\n",
       "    }\n",
       "\n",
       "    .dataframe tbody tr th {\n",
       "        vertical-align: top;\n",
       "    }\n",
       "\n",
       "    .dataframe thead th {\n",
       "        text-align: right;\n",
       "    }\n",
       "</style>\n",
       "<table border=\"1\" class=\"dataframe\">\n",
       "  <thead>\n",
       "    <tr style=\"text-align: right;\">\n",
       "      <th></th>\n",
       "      <th>STUDENT_ID</th>\n",
       "      <th>FIRST_NAME</th>\n",
       "      <th>LAST_NAME</th>\n",
       "      <th>CITY</th>\n",
       "      <th>BIRTH_DATE</th>\n",
       "      <th>E-MAIL</th>\n",
       "      <th>ID</th>\n",
       "      <th>COURSE_ID</th>\n",
       "      <th>CANCELLED</th>\n",
       "      <th>ENROLMENT_DATE</th>\n",
       "      <th>COMPLETION_DATE</th>\n",
       "      <th>COURSE_NUMBER</th>\n",
       "    </tr>\n",
       "  </thead>\n",
       "  <tbody>\n",
       "    <tr>\n",
       "      <th>0</th>\n",
       "      <td>S000000</td>\n",
       "      <td>James</td>\n",
       "      <td>Smith</td>\n",
       "      <td>Moscow</td>\n",
       "      <td>1967-10-01</td>\n",
       "      <td>jamessmith@yandex.com</td>\n",
       "      <td>0</td>\n",
       "      <td>C0003</td>\n",
       "      <td>True</td>\n",
       "      <td>2021-04-12</td>\n",
       "      <td>2021-08-30</td>\n",
       "      <td>3</td>\n",
       "    </tr>\n",
       "    <tr>\n",
       "      <th>1</th>\n",
       "      <td>S000001</td>\n",
       "      <td>Michael</td>\n",
       "      <td>Johnson</td>\n",
       "      <td>Nizhniy Novgorod</td>\n",
       "      <td>1993-08-30</td>\n",
       "      <td>michaeljohnson@yandex.com</td>\n",
       "      <td>1</td>\n",
       "      <td>C0004</td>\n",
       "      <td>False</td>\n",
       "      <td>2023-10-31</td>\n",
       "      <td>2024-01-06</td>\n",
       "      <td>4</td>\n",
       "    </tr>\n",
       "    <tr>\n",
       "      <th>2</th>\n",
       "      <td>S000002</td>\n",
       "      <td>Robert</td>\n",
       "      <td>Williams</td>\n",
       "      <td>Rostov</td>\n",
       "      <td>1993-10-02</td>\n",
       "      <td>robertwilliams@yandex.com</td>\n",
       "      <td>2</td>\n",
       "      <td>C0001</td>\n",
       "      <td>False</td>\n",
       "      <td>2022-06-19</td>\n",
       "      <td>2023-01-24</td>\n",
       "      <td>1</td>\n",
       "    </tr>\n",
       "  </tbody>\n",
       "</table>\n",
       "</div>"
      ],
      "text/plain": [
       "  STUDENT_ID FIRST_NAME LAST_NAME              CITY BIRTH_DATE  \\\n",
       "0    S000000      James     Smith            Moscow 1967-10-01   \n",
       "1    S000001    Michael   Johnson  Nizhniy Novgorod 1993-08-30   \n",
       "2    S000002     Robert  Williams            Rostov 1993-10-02   \n",
       "\n",
       "                      E-MAIL  ID COURSE_ID  CANCELLED ENROLMENT_DATE  \\\n",
       "0      jamessmith@yandex.com   0     C0003       True     2021-04-12   \n",
       "1  michaeljohnson@yandex.com   1     C0004      False     2023-10-31   \n",
       "2  robertwilliams@yandex.com   2     C0001      False     2022-06-19   \n",
       "\n",
       "  COMPLETION_DATE  COURSE_NUMBER  \n",
       "0      2021-08-30              3  \n",
       "1      2024-01-06              4  \n",
       "2      2023-01-24              1  "
      ]
     },
     "execution_count": 18,
     "metadata": {},
     "output_type": "execute_result"
    }
   ],
   "source": [
    "merged_thrice.head(3)"
   ]
  },
  {
   "cell_type": "markdown",
   "metadata": {},
   "source": [
    "#### **COMBINE CLASSES**"
   ]
  },
  {
   "cell_type": "code",
   "execution_count": 19,
   "metadata": {},
   "outputs": [],
   "source": [
    "#add classes\n",
    "enrolled_students_studies = merged_thrice.merge(class_details,\n",
    "                                                how='outer',\n",
    "                                                on=['COURSE_ID'])"
   ]
  },
  {
   "cell_type": "code",
   "execution_count": 20,
   "metadata": {},
   "outputs": [
    {
     "data": {
      "text/plain": [
       "Series([], dtype: int64)"
      ]
     },
     "execution_count": 20,
     "metadata": {},
     "output_type": "execute_result"
    }
   ],
   "source": [
    "#check for null values\n",
    "enrolled_students_studies.isnull().sum()[enrolled_students_studies.isnull().sum() > 0]"
   ]
  },
  {
   "cell_type": "code",
   "execution_count": 21,
   "metadata": {},
   "outputs": [
    {
     "data": {
      "text/plain": [
       "(4306, 14)"
      ]
     },
     "execution_count": 21,
     "metadata": {},
     "output_type": "execute_result"
    }
   ],
   "source": [
    "#dimensions\n",
    "enrolled_students_studies.shape"
   ]
  },
  {
   "cell_type": "code",
   "execution_count": 22,
   "metadata": {},
   "outputs": [
    {
     "data": {
      "text/plain": [
       "200"
      ]
     },
     "execution_count": 22,
     "metadata": {},
     "output_type": "execute_result"
    }
   ],
   "source": [
    "#no of students on file\n",
    "enrolled_students_studies['STUDENT_ID'].nunique()"
   ]
  },
  {
   "cell_type": "code",
   "execution_count": 23,
   "metadata": {},
   "outputs": [
    {
     "data": {
      "text/html": [
       "<div>\n",
       "<style scoped>\n",
       "    .dataframe tbody tr th:only-of-type {\n",
       "        vertical-align: middle;\n",
       "    }\n",
       "\n",
       "    .dataframe tbody tr th {\n",
       "        vertical-align: top;\n",
       "    }\n",
       "\n",
       "    .dataframe thead th {\n",
       "        text-align: right;\n",
       "    }\n",
       "</style>\n",
       "<table border=\"1\" class=\"dataframe\">\n",
       "  <thead>\n",
       "    <tr style=\"text-align: right;\">\n",
       "      <th></th>\n",
       "      <th>STUDENT_ID</th>\n",
       "      <th>FIRST_NAME</th>\n",
       "      <th>LAST_NAME</th>\n",
       "      <th>CITY</th>\n",
       "      <th>BIRTH_DATE</th>\n",
       "      <th>E-MAIL</th>\n",
       "      <th>ID</th>\n",
       "      <th>COURSE_ID</th>\n",
       "      <th>CANCELLED</th>\n",
       "      <th>ENROLMENT_DATE</th>\n",
       "      <th>COMPLETION_DATE</th>\n",
       "      <th>COURSE_NUMBER</th>\n",
       "      <th>CLASS_ID</th>\n",
       "      <th>CLASS_TITLE</th>\n",
       "    </tr>\n",
       "  </thead>\n",
       "  <tbody>\n",
       "    <tr>\n",
       "      <th>0</th>\n",
       "      <td>S000002</td>\n",
       "      <td>Robert</td>\n",
       "      <td>Williams</td>\n",
       "      <td>Rostov</td>\n",
       "      <td>1993-10-02</td>\n",
       "      <td>robertwilliams@yandex.com</td>\n",
       "      <td>2</td>\n",
       "      <td>C0001</td>\n",
       "      <td>False</td>\n",
       "      <td>2022-06-19</td>\n",
       "      <td>2023-01-24</td>\n",
       "      <td>1</td>\n",
       "      <td>CERPC101</td>\n",
       "      <td>001 - CIRCULAR ECONOMY, RESPONSIBLE PRODUCTION...</td>\n",
       "    </tr>\n",
       "    <tr>\n",
       "      <th>1</th>\n",
       "      <td>S000002</td>\n",
       "      <td>Robert</td>\n",
       "      <td>Williams</td>\n",
       "      <td>Rostov</td>\n",
       "      <td>1993-10-02</td>\n",
       "      <td>robertwilliams@yandex.com</td>\n",
       "      <td>2</td>\n",
       "      <td>C0001</td>\n",
       "      <td>False</td>\n",
       "      <td>2022-06-19</td>\n",
       "      <td>2023-01-24</td>\n",
       "      <td>1</td>\n",
       "      <td>CERPC102</td>\n",
       "      <td>002 - CIRCULAR ECONOMY, RESPONSIBLE PRODUCTION...</td>\n",
       "    </tr>\n",
       "  </tbody>\n",
       "</table>\n",
       "</div>"
      ],
      "text/plain": [
       "  STUDENT_ID FIRST_NAME LAST_NAME    CITY BIRTH_DATE  \\\n",
       "0    S000002     Robert  Williams  Rostov 1993-10-02   \n",
       "1    S000002     Robert  Williams  Rostov 1993-10-02   \n",
       "\n",
       "                      E-MAIL  ID COURSE_ID  CANCELLED ENROLMENT_DATE  \\\n",
       "0  robertwilliams@yandex.com   2     C0001      False     2022-06-19   \n",
       "1  robertwilliams@yandex.com   2     C0001      False     2022-06-19   \n",
       "\n",
       "  COMPLETION_DATE  COURSE_NUMBER  CLASS_ID  \\\n",
       "0      2023-01-24              1  CERPC101   \n",
       "1      2023-01-24              1  CERPC102   \n",
       "\n",
       "                                         CLASS_TITLE  \n",
       "0  001 - CIRCULAR ECONOMY, RESPONSIBLE PRODUCTION...  \n",
       "1  002 - CIRCULAR ECONOMY, RESPONSIBLE PRODUCTION...  "
      ]
     },
     "execution_count": 23,
     "metadata": {},
     "output_type": "execute_result"
    }
   ],
   "source": [
    "enrolled_students_studies.head(2)"
   ]
  },
  {
   "cell_type": "markdown",
   "metadata": {},
   "source": [
    "#### **COMBINE COURSES**"
   ]
  },
  {
   "cell_type": "code",
   "execution_count": 24,
   "metadata": {},
   "outputs": [],
   "source": [
    "#add courses\n",
    "student_study = enrolled_students_studies.merge(course_details,\n",
    "                                                how='outer',\n",
    "                                                on=['COURSE_ID'])"
   ]
  },
  {
   "cell_type": "code",
   "execution_count": 25,
   "metadata": {},
   "outputs": [
    {
     "data": {
      "text/plain": [
       "Series([], dtype: int64)"
      ]
     },
     "execution_count": 25,
     "metadata": {},
     "output_type": "execute_result"
    }
   ],
   "source": [
    "#check for null values\n",
    "student_study.isnull().sum()[student_study.isnull().sum() > 0]"
   ]
  },
  {
   "cell_type": "code",
   "execution_count": 26,
   "metadata": {},
   "outputs": [
    {
     "data": {
      "text/plain": [
       "(4306, 15)"
      ]
     },
     "execution_count": 26,
     "metadata": {},
     "output_type": "execute_result"
    }
   ],
   "source": [
    "#dimensions\n",
    "student_study.shape"
   ]
  },
  {
   "cell_type": "code",
   "execution_count": 27,
   "metadata": {},
   "outputs": [
    {
     "data": {
      "text/plain": [
       "200"
      ]
     },
     "execution_count": 27,
     "metadata": {},
     "output_type": "execute_result"
    }
   ],
   "source": [
    "#no of students on file\n",
    "student_study['STUDENT_ID'].nunique()"
   ]
  },
  {
   "cell_type": "code",
   "execution_count": 28,
   "metadata": {},
   "outputs": [
    {
     "data": {
      "text/html": [
       "<div>\n",
       "<style scoped>\n",
       "    .dataframe tbody tr th:only-of-type {\n",
       "        vertical-align: middle;\n",
       "    }\n",
       "\n",
       "    .dataframe tbody tr th {\n",
       "        vertical-align: top;\n",
       "    }\n",
       "\n",
       "    .dataframe thead th {\n",
       "        text-align: right;\n",
       "    }\n",
       "</style>\n",
       "<table border=\"1\" class=\"dataframe\">\n",
       "  <thead>\n",
       "    <tr style=\"text-align: right;\">\n",
       "      <th></th>\n",
       "      <th>STUDENT_ID</th>\n",
       "      <th>FIRST_NAME</th>\n",
       "      <th>LAST_NAME</th>\n",
       "      <th>CITY</th>\n",
       "      <th>BIRTH_DATE</th>\n",
       "      <th>E-MAIL</th>\n",
       "      <th>ID</th>\n",
       "      <th>COURSE_ID</th>\n",
       "      <th>CANCELLED</th>\n",
       "      <th>ENROLMENT_DATE</th>\n",
       "      <th>COMPLETION_DATE</th>\n",
       "      <th>COURSE_NUMBER</th>\n",
       "      <th>CLASS_ID</th>\n",
       "      <th>CLASS_TITLE</th>\n",
       "      <th>COURSE_TITLE</th>\n",
       "    </tr>\n",
       "  </thead>\n",
       "  <tbody>\n",
       "    <tr>\n",
       "      <th>0</th>\n",
       "      <td>S000002</td>\n",
       "      <td>Robert</td>\n",
       "      <td>Williams</td>\n",
       "      <td>Rostov</td>\n",
       "      <td>1993-10-02</td>\n",
       "      <td>robertwilliams@yandex.com</td>\n",
       "      <td>2</td>\n",
       "      <td>C0001</td>\n",
       "      <td>False</td>\n",
       "      <td>2022-06-19</td>\n",
       "      <td>2023-01-24</td>\n",
       "      <td>1</td>\n",
       "      <td>CERPC101</td>\n",
       "      <td>001 - CIRCULAR ECONOMY, RESPONSIBLE PRODUCTION...</td>\n",
       "      <td>CIRCULAR ECONOMY, RESPONSIBLE PRODUCTION AND C...</td>\n",
       "    </tr>\n",
       "    <tr>\n",
       "      <th>1</th>\n",
       "      <td>S000002</td>\n",
       "      <td>Robert</td>\n",
       "      <td>Williams</td>\n",
       "      <td>Rostov</td>\n",
       "      <td>1993-10-02</td>\n",
       "      <td>robertwilliams@yandex.com</td>\n",
       "      <td>2</td>\n",
       "      <td>C0001</td>\n",
       "      <td>False</td>\n",
       "      <td>2022-06-19</td>\n",
       "      <td>2023-01-24</td>\n",
       "      <td>1</td>\n",
       "      <td>CERPC102</td>\n",
       "      <td>002 - CIRCULAR ECONOMY, RESPONSIBLE PRODUCTION...</td>\n",
       "      <td>CIRCULAR ECONOMY, RESPONSIBLE PRODUCTION AND C...</td>\n",
       "    </tr>\n",
       "  </tbody>\n",
       "</table>\n",
       "</div>"
      ],
      "text/plain": [
       "  STUDENT_ID FIRST_NAME LAST_NAME    CITY BIRTH_DATE  \\\n",
       "0    S000002     Robert  Williams  Rostov 1993-10-02   \n",
       "1    S000002     Robert  Williams  Rostov 1993-10-02   \n",
       "\n",
       "                      E-MAIL  ID COURSE_ID  CANCELLED ENROLMENT_DATE  \\\n",
       "0  robertwilliams@yandex.com   2     C0001      False     2022-06-19   \n",
       "1  robertwilliams@yandex.com   2     C0001      False     2022-06-19   \n",
       "\n",
       "  COMPLETION_DATE  COURSE_NUMBER  CLASS_ID  \\\n",
       "0      2023-01-24              1  CERPC101   \n",
       "1      2023-01-24              1  CERPC102   \n",
       "\n",
       "                                         CLASS_TITLE  \\\n",
       "0  001 - CIRCULAR ECONOMY, RESPONSIBLE PRODUCTION...   \n",
       "1  002 - CIRCULAR ECONOMY, RESPONSIBLE PRODUCTION...   \n",
       "\n",
       "                                        COURSE_TITLE  \n",
       "0  CIRCULAR ECONOMY, RESPONSIBLE PRODUCTION AND C...  \n",
       "1  CIRCULAR ECONOMY, RESPONSIBLE PRODUCTION AND C...  "
      ]
     },
     "execution_count": 28,
     "metadata": {},
     "output_type": "execute_result"
    }
   ],
   "source": [
    "student_study.head(2)"
   ]
  },
  {
   "cell_type": "code",
   "execution_count": 29,
   "metadata": {},
   "outputs": [],
   "source": [
    "#remove uninformative features\n",
    "student_study = student_study.drop(['COURSE_NUMBER',],\n",
    "                                   axis=1,\n",
    "                                   errors='ignore')"
   ]
  },
  {
   "cell_type": "markdown",
   "metadata": {},
   "source": [
    "#### **CREATE COURSE_START_DATE / COURSE_END_DATE**"
   ]
  },
  {
   "cell_type": "code",
   "execution_count": 30,
   "metadata": {},
   "outputs": [
    {
     "data": {
      "text/html": [
       "<div>\n",
       "<style scoped>\n",
       "    .dataframe tbody tr th:only-of-type {\n",
       "        vertical-align: middle;\n",
       "    }\n",
       "\n",
       "    .dataframe tbody tr th {\n",
       "        vertical-align: top;\n",
       "    }\n",
       "\n",
       "    .dataframe thead th {\n",
       "        text-align: right;\n",
       "    }\n",
       "</style>\n",
       "<table border=\"1\" class=\"dataframe\">\n",
       "  <thead>\n",
       "    <tr style=\"text-align: right;\">\n",
       "      <th></th>\n",
       "      <th>STUDENT_ID</th>\n",
       "      <th>ID</th>\n",
       "      <th>COURSE_ID</th>\n",
       "      <th>ENROLMENT_DATE</th>\n",
       "      <th>COMPLETION_DATE</th>\n",
       "    </tr>\n",
       "  </thead>\n",
       "  <tbody>\n",
       "    <tr>\n",
       "      <th>0</th>\n",
       "      <td>S000002</td>\n",
       "      <td>2</td>\n",
       "      <td>C0001</td>\n",
       "      <td>2022-06-19</td>\n",
       "      <td>2023-01-24</td>\n",
       "    </tr>\n",
       "    <tr>\n",
       "      <th>1</th>\n",
       "      <td>S000002</td>\n",
       "      <td>2</td>\n",
       "      <td>C0001</td>\n",
       "      <td>2022-06-19</td>\n",
       "      <td>2023-01-24</td>\n",
       "    </tr>\n",
       "  </tbody>\n",
       "</table>\n",
       "</div>"
      ],
      "text/plain": [
       "  STUDENT_ID  ID COURSE_ID ENROLMENT_DATE COMPLETION_DATE\n",
       "0    S000002   2     C0001     2022-06-19      2023-01-24\n",
       "1    S000002   2     C0001     2022-06-19      2023-01-24"
      ]
     },
     "execution_count": 30,
     "metadata": {},
     "output_type": "execute_result"
    }
   ],
   "source": [
    "#slice the table\n",
    "slice_course_dates = student_study.iloc[:, [0, 6, 7, 9, 10]]\n",
    "slice_course_dates.head(2)"
   ]
  },
  {
   "cell_type": "code",
   "execution_count": 31,
   "metadata": {},
   "outputs": [
    {
     "name": "stdout",
     "output_type": "stream",
     "text": [
      "Number of Duplicates: 3830\n"
     ]
    }
   ],
   "source": [
    "#check for duplicate values\n",
    "dupl_columns = list(slice_course_dates.columns)\n",
    "\n",
    "mask = slice_course_dates.duplicated(subset=dupl_columns)\n",
    "slice_duplicates = slice_course_dates[mask]\n",
    "print(f'Number of Duplicates: {slice_duplicates.shape[0]}')"
   ]
  },
  {
   "cell_type": "code",
   "execution_count": 32,
   "metadata": {},
   "outputs": [
    {
     "name": "stdout",
     "output_type": "stream",
     "text": [
      "New Dimensions: 476\n"
     ]
    }
   ],
   "source": [
    "#remove duplicates\n",
    "slice_course_dates = slice_course_dates.drop_duplicates(subset=dupl_columns)\n",
    "print(f'New Dimensions: {slice_course_dates.shape[0]}')"
   ]
  },
  {
   "cell_type": "code",
   "execution_count": 33,
   "metadata": {},
   "outputs": [],
   "source": [
    "#reset the index\n",
    "slice_course_dates = slice_course_dates.reset_index()\n",
    "\n",
    "#remove uninformative feature\n",
    "slice_course_dates = slice_course_dates.drop('index',\n",
    "                                             axis=1,\n",
    "                                             errors='ignore')"
   ]
  },
  {
   "cell_type": "code",
   "execution_count": 34,
   "metadata": {},
   "outputs": [
    {
     "data": {
      "text/html": [
       "<div>\n",
       "<style scoped>\n",
       "    .dataframe tbody tr th:only-of-type {\n",
       "        vertical-align: middle;\n",
       "    }\n",
       "\n",
       "    .dataframe tbody tr th {\n",
       "        vertical-align: top;\n",
       "    }\n",
       "\n",
       "    .dataframe thead th {\n",
       "        text-align: right;\n",
       "    }\n",
       "</style>\n",
       "<table border=\"1\" class=\"dataframe\">\n",
       "  <thead>\n",
       "    <tr style=\"text-align: right;\">\n",
       "      <th></th>\n",
       "      <th>STUDENT_ID</th>\n",
       "      <th>ID</th>\n",
       "      <th>COURSE_ID</th>\n",
       "      <th>ENROLMENT_DATE</th>\n",
       "      <th>COMPLETION_DATE</th>\n",
       "    </tr>\n",
       "  </thead>\n",
       "  <tbody>\n",
       "    <tr>\n",
       "      <th>0</th>\n",
       "      <td>S000002</td>\n",
       "      <td>2</td>\n",
       "      <td>C0001</td>\n",
       "      <td>2022-06-19</td>\n",
       "      <td>2023-01-24</td>\n",
       "    </tr>\n",
       "    <tr>\n",
       "      <th>1</th>\n",
       "      <td>S000008</td>\n",
       "      <td>8</td>\n",
       "      <td>C0001</td>\n",
       "      <td>2022-12-09</td>\n",
       "      <td>2023-09-03</td>\n",
       "    </tr>\n",
       "  </tbody>\n",
       "</table>\n",
       "</div>"
      ],
      "text/plain": [
       "  STUDENT_ID  ID COURSE_ID ENROLMENT_DATE COMPLETION_DATE\n",
       "0    S000002   2     C0001     2022-06-19      2023-01-24\n",
       "1    S000008   8     C0001     2022-12-09      2023-09-03"
      ]
     },
     "execution_count": 34,
     "metadata": {},
     "output_type": "execute_result"
    }
   ],
   "source": [
    "slice_course_dates.head(2)"
   ]
  },
  {
   "cell_type": "code",
   "execution_count": 35,
   "metadata": {},
   "outputs": [],
   "source": [
    "from datetime import date\n",
    "\n",
    "#write a function to create the course start date\n",
    "def create_course_start(data):\n",
    "    #create the object class\n",
    "    fake_start = Faker()\n",
    "    \n",
    "    #randomize between enrolment and completion date\n",
    "    return fake_start.date_between(start_date=data['ENROLMENT_DATE'],\n",
    "                                   end_date=data['COMPLETION_DATE'])"
   ]
  },
  {
   "cell_type": "code",
   "execution_count": 36,
   "metadata": {},
   "outputs": [],
   "source": [
    "#apply the function\n",
    "slice_course_dates['COURSE_START_DATE'] = slice_course_dates.apply(create_course_start,\n",
    "                                                                   axis=1)"
   ]
  },
  {
   "cell_type": "code",
   "execution_count": 37,
   "metadata": {},
   "outputs": [],
   "source": [
    "from datetime import date\n",
    "\n",
    "#write a function to create the course end date\n",
    "def create_course_end(data):\n",
    "    #create the object class\n",
    "    fake_end = Faker()\n",
    "    \n",
    "    #randomize between course start and completion date\n",
    "    return fake_end.date_between(start_date=data['COURSE_START_DATE'],\n",
    "                                 end_date=data['COMPLETION_DATE'])"
   ]
  },
  {
   "cell_type": "code",
   "execution_count": 38,
   "metadata": {},
   "outputs": [],
   "source": [
    "#apply the function\n",
    "slice_course_dates['COURSE_END_DATE'] = slice_course_dates.apply(create_course_end,\n",
    "                                                                 axis=1)"
   ]
  },
  {
   "cell_type": "markdown",
   "metadata": {},
   "source": [
    "LOGIC CHECK"
   ]
  },
  {
   "cell_type": "code",
   "execution_count": 39,
   "metadata": {},
   "outputs": [
    {
     "data": {
      "text/html": [
       "<div>\n",
       "<style scoped>\n",
       "    .dataframe tbody tr th:only-of-type {\n",
       "        vertical-align: middle;\n",
       "    }\n",
       "\n",
       "    .dataframe tbody tr th {\n",
       "        vertical-align: top;\n",
       "    }\n",
       "\n",
       "    .dataframe thead th {\n",
       "        text-align: right;\n",
       "    }\n",
       "</style>\n",
       "<table border=\"1\" class=\"dataframe\">\n",
       "  <thead>\n",
       "    <tr style=\"text-align: right;\">\n",
       "      <th></th>\n",
       "      <th>STUDENT_ID</th>\n",
       "      <th>ID</th>\n",
       "      <th>COURSE_ID</th>\n",
       "      <th>ENROLMENT_DATE</th>\n",
       "      <th>COMPLETION_DATE</th>\n",
       "      <th>COURSE_START_DATE</th>\n",
       "      <th>COURSE_END_DATE</th>\n",
       "    </tr>\n",
       "  </thead>\n",
       "  <tbody>\n",
       "  </tbody>\n",
       "</table>\n",
       "</div>"
      ],
      "text/plain": [
       "Empty DataFrame\n",
       "Columns: [STUDENT_ID, ID, COURSE_ID, ENROLMENT_DATE, COMPLETION_DATE, COURSE_START_DATE, COURSE_END_DATE]\n",
       "Index: []"
      ]
     },
     "execution_count": 39,
     "metadata": {},
     "output_type": "execute_result"
    }
   ],
   "source": [
    "#enrolment cannot be after completion\n",
    "slice_course_dates[slice_course_dates['ENROLMENT_DATE'] > slice_course_dates['COMPLETION_DATE']]"
   ]
  },
  {
   "cell_type": "code",
   "execution_count": 40,
   "metadata": {},
   "outputs": [
    {
     "data": {
      "text/html": [
       "<div>\n",
       "<style scoped>\n",
       "    .dataframe tbody tr th:only-of-type {\n",
       "        vertical-align: middle;\n",
       "    }\n",
       "\n",
       "    .dataframe tbody tr th {\n",
       "        vertical-align: top;\n",
       "    }\n",
       "\n",
       "    .dataframe thead th {\n",
       "        text-align: right;\n",
       "    }\n",
       "</style>\n",
       "<table border=\"1\" class=\"dataframe\">\n",
       "  <thead>\n",
       "    <tr style=\"text-align: right;\">\n",
       "      <th></th>\n",
       "      <th>STUDENT_ID</th>\n",
       "      <th>ID</th>\n",
       "      <th>COURSE_ID</th>\n",
       "      <th>ENROLMENT_DATE</th>\n",
       "      <th>COMPLETION_DATE</th>\n",
       "      <th>COURSE_START_DATE</th>\n",
       "      <th>COURSE_END_DATE</th>\n",
       "    </tr>\n",
       "  </thead>\n",
       "  <tbody>\n",
       "  </tbody>\n",
       "</table>\n",
       "</div>"
      ],
      "text/plain": [
       "Empty DataFrame\n",
       "Columns: [STUDENT_ID, ID, COURSE_ID, ENROLMENT_DATE, COMPLETION_DATE, COURSE_START_DATE, COURSE_END_DATE]\n",
       "Index: []"
      ]
     },
     "execution_count": 40,
     "metadata": {},
     "output_type": "execute_result"
    }
   ],
   "source": [
    "#start date cannot be before enrolment\n",
    "slice_course_dates[slice_course_dates['COURSE_START_DATE'] < slice_course_dates['ENROLMENT_DATE']]"
   ]
  },
  {
   "cell_type": "code",
   "execution_count": 41,
   "metadata": {},
   "outputs": [
    {
     "data": {
      "text/html": [
       "<div>\n",
       "<style scoped>\n",
       "    .dataframe tbody tr th:only-of-type {\n",
       "        vertical-align: middle;\n",
       "    }\n",
       "\n",
       "    .dataframe tbody tr th {\n",
       "        vertical-align: top;\n",
       "    }\n",
       "\n",
       "    .dataframe thead th {\n",
       "        text-align: right;\n",
       "    }\n",
       "</style>\n",
       "<table border=\"1\" class=\"dataframe\">\n",
       "  <thead>\n",
       "    <tr style=\"text-align: right;\">\n",
       "      <th></th>\n",
       "      <th>STUDENT_ID</th>\n",
       "      <th>ID</th>\n",
       "      <th>COURSE_ID</th>\n",
       "      <th>ENROLMENT_DATE</th>\n",
       "      <th>COMPLETION_DATE</th>\n",
       "      <th>COURSE_START_DATE</th>\n",
       "      <th>COURSE_END_DATE</th>\n",
       "    </tr>\n",
       "  </thead>\n",
       "  <tbody>\n",
       "  </tbody>\n",
       "</table>\n",
       "</div>"
      ],
      "text/plain": [
       "Empty DataFrame\n",
       "Columns: [STUDENT_ID, ID, COURSE_ID, ENROLMENT_DATE, COMPLETION_DATE, COURSE_START_DATE, COURSE_END_DATE]\n",
       "Index: []"
      ]
     },
     "execution_count": 41,
     "metadata": {},
     "output_type": "execute_result"
    }
   ],
   "source": [
    "#start cannot be after completion\n",
    "slice_course_dates[slice_course_dates['COURSE_START_DATE'] > slice_course_dates['COURSE_END_DATE']]"
   ]
  },
  {
   "cell_type": "code",
   "execution_count": 42,
   "metadata": {},
   "outputs": [
    {
     "data": {
      "text/plain": [
       "(4306, 14)"
      ]
     },
     "execution_count": 42,
     "metadata": {},
     "output_type": "execute_result"
    }
   ],
   "source": [
    "student_study.shape"
   ]
  },
  {
   "cell_type": "code",
   "execution_count": 43,
   "metadata": {},
   "outputs": [
    {
     "data": {
      "text/html": [
       "<div>\n",
       "<style scoped>\n",
       "    .dataframe tbody tr th:only-of-type {\n",
       "        vertical-align: middle;\n",
       "    }\n",
       "\n",
       "    .dataframe tbody tr th {\n",
       "        vertical-align: top;\n",
       "    }\n",
       "\n",
       "    .dataframe thead th {\n",
       "        text-align: right;\n",
       "    }\n",
       "</style>\n",
       "<table border=\"1\" class=\"dataframe\">\n",
       "  <thead>\n",
       "    <tr style=\"text-align: right;\">\n",
       "      <th></th>\n",
       "      <th>STUDENT_ID</th>\n",
       "      <th>ID</th>\n",
       "      <th>COURSE_ID</th>\n",
       "      <th>ENROLMENT_DATE</th>\n",
       "      <th>COMPLETION_DATE</th>\n",
       "      <th>COURSE_START_DATE</th>\n",
       "      <th>COURSE_END_DATE</th>\n",
       "    </tr>\n",
       "  </thead>\n",
       "  <tbody>\n",
       "    <tr>\n",
       "      <th>0</th>\n",
       "      <td>S000002</td>\n",
       "      <td>2</td>\n",
       "      <td>C0001</td>\n",
       "      <td>2022-06-19</td>\n",
       "      <td>2023-01-24</td>\n",
       "      <td>2022-07-20</td>\n",
       "      <td>2023-01-21</td>\n",
       "    </tr>\n",
       "    <tr>\n",
       "      <th>1</th>\n",
       "      <td>S000008</td>\n",
       "      <td>8</td>\n",
       "      <td>C0001</td>\n",
       "      <td>2022-12-09</td>\n",
       "      <td>2023-09-03</td>\n",
       "      <td>2023-04-16</td>\n",
       "      <td>2023-06-06</td>\n",
       "    </tr>\n",
       "  </tbody>\n",
       "</table>\n",
       "</div>"
      ],
      "text/plain": [
       "  STUDENT_ID  ID COURSE_ID ENROLMENT_DATE COMPLETION_DATE COURSE_START_DATE  \\\n",
       "0    S000002   2     C0001     2022-06-19      2023-01-24        2022-07-20   \n",
       "1    S000008   8     C0001     2022-12-09      2023-09-03        2023-04-16   \n",
       "\n",
       "  COURSE_END_DATE  \n",
       "0      2023-01-21  \n",
       "1      2023-06-06  "
      ]
     },
     "execution_count": 43,
     "metadata": {},
     "output_type": "execute_result"
    }
   ],
   "source": [
    "slice_course_dates.head(2)"
   ]
  },
  {
   "cell_type": "code",
   "execution_count": 44,
   "metadata": {},
   "outputs": [],
   "source": [
    "#add course_dates to the main merged table\n",
    "student_course_data = student_study.merge(slice_course_dates,\n",
    "                                          how='inner',\n",
    "                                          on=['STUDENT_ID', 'COURSE_ID', 'ID', 'ENROLMENT_DATE', 'COMPLETION_DATE'])"
   ]
  },
  {
   "cell_type": "code",
   "execution_count": 45,
   "metadata": {},
   "outputs": [
    {
     "data": {
      "text/html": [
       "<div>\n",
       "<style scoped>\n",
       "    .dataframe tbody tr th:only-of-type {\n",
       "        vertical-align: middle;\n",
       "    }\n",
       "\n",
       "    .dataframe tbody tr th {\n",
       "        vertical-align: top;\n",
       "    }\n",
       "\n",
       "    .dataframe thead th {\n",
       "        text-align: right;\n",
       "    }\n",
       "</style>\n",
       "<table border=\"1\" class=\"dataframe\">\n",
       "  <thead>\n",
       "    <tr style=\"text-align: right;\">\n",
       "      <th></th>\n",
       "      <th>STUDENT_ID</th>\n",
       "      <th>FIRST_NAME</th>\n",
       "      <th>LAST_NAME</th>\n",
       "      <th>CITY</th>\n",
       "      <th>BIRTH_DATE</th>\n",
       "      <th>E-MAIL</th>\n",
       "      <th>ID</th>\n",
       "      <th>COURSE_ID</th>\n",
       "      <th>CANCELLED</th>\n",
       "      <th>ENROLMENT_DATE</th>\n",
       "      <th>COMPLETION_DATE</th>\n",
       "      <th>CLASS_ID</th>\n",
       "      <th>CLASS_TITLE</th>\n",
       "      <th>COURSE_TITLE</th>\n",
       "      <th>COURSE_START_DATE</th>\n",
       "      <th>COURSE_END_DATE</th>\n",
       "    </tr>\n",
       "  </thead>\n",
       "  <tbody>\n",
       "    <tr>\n",
       "      <th>0</th>\n",
       "      <td>S000002</td>\n",
       "      <td>Robert</td>\n",
       "      <td>Williams</td>\n",
       "      <td>Rostov</td>\n",
       "      <td>1993-10-02</td>\n",
       "      <td>robertwilliams@yandex.com</td>\n",
       "      <td>2</td>\n",
       "      <td>C0001</td>\n",
       "      <td>False</td>\n",
       "      <td>2022-06-19</td>\n",
       "      <td>2023-01-24</td>\n",
       "      <td>CERPC101</td>\n",
       "      <td>001 - CIRCULAR ECONOMY, RESPONSIBLE PRODUCTION...</td>\n",
       "      <td>CIRCULAR ECONOMY, RESPONSIBLE PRODUCTION AND C...</td>\n",
       "      <td>2022-07-20</td>\n",
       "      <td>2023-01-21</td>\n",
       "    </tr>\n",
       "    <tr>\n",
       "      <th>1</th>\n",
       "      <td>S000002</td>\n",
       "      <td>Robert</td>\n",
       "      <td>Williams</td>\n",
       "      <td>Rostov</td>\n",
       "      <td>1993-10-02</td>\n",
       "      <td>robertwilliams@yandex.com</td>\n",
       "      <td>2</td>\n",
       "      <td>C0001</td>\n",
       "      <td>False</td>\n",
       "      <td>2022-06-19</td>\n",
       "      <td>2023-01-24</td>\n",
       "      <td>CERPC102</td>\n",
       "      <td>002 - CIRCULAR ECONOMY, RESPONSIBLE PRODUCTION...</td>\n",
       "      <td>CIRCULAR ECONOMY, RESPONSIBLE PRODUCTION AND C...</td>\n",
       "      <td>2022-07-20</td>\n",
       "      <td>2023-01-21</td>\n",
       "    </tr>\n",
       "  </tbody>\n",
       "</table>\n",
       "</div>"
      ],
      "text/plain": [
       "  STUDENT_ID FIRST_NAME LAST_NAME    CITY BIRTH_DATE  \\\n",
       "0    S000002     Robert  Williams  Rostov 1993-10-02   \n",
       "1    S000002     Robert  Williams  Rostov 1993-10-02   \n",
       "\n",
       "                      E-MAIL  ID COURSE_ID  CANCELLED ENROLMENT_DATE  \\\n",
       "0  robertwilliams@yandex.com   2     C0001      False     2022-06-19   \n",
       "1  robertwilliams@yandex.com   2     C0001      False     2022-06-19   \n",
       "\n",
       "  COMPLETION_DATE  CLASS_ID  \\\n",
       "0      2023-01-24  CERPC101   \n",
       "1      2023-01-24  CERPC102   \n",
       "\n",
       "                                         CLASS_TITLE  \\\n",
       "0  001 - CIRCULAR ECONOMY, RESPONSIBLE PRODUCTION...   \n",
       "1  002 - CIRCULAR ECONOMY, RESPONSIBLE PRODUCTION...   \n",
       "\n",
       "                                        COURSE_TITLE COURSE_START_DATE  \\\n",
       "0  CIRCULAR ECONOMY, RESPONSIBLE PRODUCTION AND C...        2022-07-20   \n",
       "1  CIRCULAR ECONOMY, RESPONSIBLE PRODUCTION AND C...        2022-07-20   \n",
       "\n",
       "  COURSE_END_DATE  \n",
       "0      2023-01-21  \n",
       "1      2023-01-21  "
      ]
     },
     "execution_count": 45,
     "metadata": {},
     "output_type": "execute_result"
    }
   ],
   "source": [
    "student_course_data.head(2)"
   ]
  },
  {
   "cell_type": "code",
   "execution_count": 46,
   "metadata": {},
   "outputs": [
    {
     "data": {
      "text/plain": [
       "(4306, 16)"
      ]
     },
     "execution_count": 46,
     "metadata": {},
     "output_type": "execute_result"
    }
   ],
   "source": [
    "student_course_data.shape"
   ]
  },
  {
   "cell_type": "markdown",
   "metadata": {},
   "source": [
    "#### **CREATE CLASS_START_DATE / CLASS_END_DATE**"
   ]
  },
  {
   "cell_type": "code",
   "execution_count": 47,
   "metadata": {},
   "outputs": [
    {
     "data": {
      "text/html": [
       "<div>\n",
       "<style scoped>\n",
       "    .dataframe tbody tr th:only-of-type {\n",
       "        vertical-align: middle;\n",
       "    }\n",
       "\n",
       "    .dataframe tbody tr th {\n",
       "        vertical-align: top;\n",
       "    }\n",
       "\n",
       "    .dataframe thead th {\n",
       "        text-align: right;\n",
       "    }\n",
       "</style>\n",
       "<table border=\"1\" class=\"dataframe\">\n",
       "  <thead>\n",
       "    <tr style=\"text-align: right;\">\n",
       "      <th></th>\n",
       "      <th>STUDENT_ID</th>\n",
       "      <th>ID</th>\n",
       "      <th>COURSE_ID</th>\n",
       "      <th>ENROLMENT_DATE</th>\n",
       "      <th>COMPLETION_DATE</th>\n",
       "      <th>CLASS_ID</th>\n",
       "      <th>COURSE_START_DATE</th>\n",
       "      <th>COURSE_END_DATE</th>\n",
       "    </tr>\n",
       "  </thead>\n",
       "  <tbody>\n",
       "    <tr>\n",
       "      <th>0</th>\n",
       "      <td>S000002</td>\n",
       "      <td>2</td>\n",
       "      <td>C0001</td>\n",
       "      <td>2022-06-19</td>\n",
       "      <td>2023-01-24</td>\n",
       "      <td>CERPC101</td>\n",
       "      <td>2022-07-20</td>\n",
       "      <td>2023-01-21</td>\n",
       "    </tr>\n",
       "    <tr>\n",
       "      <th>1</th>\n",
       "      <td>S000002</td>\n",
       "      <td>2</td>\n",
       "      <td>C0001</td>\n",
       "      <td>2022-06-19</td>\n",
       "      <td>2023-01-24</td>\n",
       "      <td>CERPC102</td>\n",
       "      <td>2022-07-20</td>\n",
       "      <td>2023-01-21</td>\n",
       "    </tr>\n",
       "  </tbody>\n",
       "</table>\n",
       "</div>"
      ],
      "text/plain": [
       "  STUDENT_ID  ID COURSE_ID ENROLMENT_DATE COMPLETION_DATE  CLASS_ID  \\\n",
       "0    S000002   2     C0001     2022-06-19      2023-01-24  CERPC101   \n",
       "1    S000002   2     C0001     2022-06-19      2023-01-24  CERPC102   \n",
       "\n",
       "  COURSE_START_DATE COURSE_END_DATE  \n",
       "0        2022-07-20      2023-01-21  \n",
       "1        2022-07-20      2023-01-21  "
      ]
     },
     "execution_count": 47,
     "metadata": {},
     "output_type": "execute_result"
    }
   ],
   "source": [
    "#slice the table\n",
    "slice_class_dates = student_course_data.iloc[:, [0, 6, 7, 9, 10, 11, 14, 15]]\n",
    "slice_class_dates.head(2)"
   ]
  },
  {
   "cell_type": "code",
   "execution_count": 48,
   "metadata": {},
   "outputs": [
    {
     "name": "stdout",
     "output_type": "stream",
     "text": [
      "Number of Duplicates: 873\n"
     ]
    }
   ],
   "source": [
    "#check for duplicate values\n",
    "dupl_columns = list(slice_class_dates.columns)\n",
    "\n",
    "mask = slice_class_dates.duplicated(subset=dupl_columns)\n",
    "slice_class_duplicates = slice_class_dates[mask]\n",
    "print(f'Number of Duplicates: {slice_class_duplicates.shape[0]}')"
   ]
  },
  {
   "cell_type": "code",
   "execution_count": 49,
   "metadata": {},
   "outputs": [
    {
     "name": "stdout",
     "output_type": "stream",
     "text": [
      "New Dimensions: 3433\n"
     ]
    }
   ],
   "source": [
    "#remove duplicates\n",
    "slice_class_dates = slice_class_dates.drop_duplicates(subset=dupl_columns)\n",
    "print(f'New Dimensions: {slice_class_dates.shape[0]}')"
   ]
  },
  {
   "cell_type": "code",
   "execution_count": 50,
   "metadata": {},
   "outputs": [],
   "source": [
    "#reset the index\n",
    "slice_class_dates = slice_class_dates.reset_index()\n",
    "\n",
    "#remove uninformative feature\n",
    "slice_class_dates = slice_class_dates.drop('index',\n",
    "                                           axis=1,\n",
    "                                           errors='ignore')"
   ]
  },
  {
   "cell_type": "code",
   "execution_count": 51,
   "metadata": {},
   "outputs": [
    {
     "data": {
      "text/html": [
       "<div>\n",
       "<style scoped>\n",
       "    .dataframe tbody tr th:only-of-type {\n",
       "        vertical-align: middle;\n",
       "    }\n",
       "\n",
       "    .dataframe tbody tr th {\n",
       "        vertical-align: top;\n",
       "    }\n",
       "\n",
       "    .dataframe thead th {\n",
       "        text-align: right;\n",
       "    }\n",
       "</style>\n",
       "<table border=\"1\" class=\"dataframe\">\n",
       "  <thead>\n",
       "    <tr style=\"text-align: right;\">\n",
       "      <th></th>\n",
       "      <th>STUDENT_ID</th>\n",
       "      <th>ID</th>\n",
       "      <th>COURSE_ID</th>\n",
       "      <th>ENROLMENT_DATE</th>\n",
       "      <th>COMPLETION_DATE</th>\n",
       "      <th>CLASS_ID</th>\n",
       "      <th>COURSE_START_DATE</th>\n",
       "      <th>COURSE_END_DATE</th>\n",
       "    </tr>\n",
       "  </thead>\n",
       "  <tbody>\n",
       "    <tr>\n",
       "      <th>0</th>\n",
       "      <td>S000002</td>\n",
       "      <td>2</td>\n",
       "      <td>C0001</td>\n",
       "      <td>2022-06-19</td>\n",
       "      <td>2023-01-24</td>\n",
       "      <td>CERPC101</td>\n",
       "      <td>2022-07-20</td>\n",
       "      <td>2023-01-21</td>\n",
       "    </tr>\n",
       "    <tr>\n",
       "      <th>1</th>\n",
       "      <td>S000002</td>\n",
       "      <td>2</td>\n",
       "      <td>C0001</td>\n",
       "      <td>2022-06-19</td>\n",
       "      <td>2023-01-24</td>\n",
       "      <td>CERPC102</td>\n",
       "      <td>2022-07-20</td>\n",
       "      <td>2023-01-21</td>\n",
       "    </tr>\n",
       "  </tbody>\n",
       "</table>\n",
       "</div>"
      ],
      "text/plain": [
       "  STUDENT_ID  ID COURSE_ID ENROLMENT_DATE COMPLETION_DATE  CLASS_ID  \\\n",
       "0    S000002   2     C0001     2022-06-19      2023-01-24  CERPC101   \n",
       "1    S000002   2     C0001     2022-06-19      2023-01-24  CERPC102   \n",
       "\n",
       "  COURSE_START_DATE COURSE_END_DATE  \n",
       "0        2022-07-20      2023-01-21  \n",
       "1        2022-07-20      2023-01-21  "
      ]
     },
     "execution_count": 51,
     "metadata": {},
     "output_type": "execute_result"
    }
   ],
   "source": [
    "slice_class_dates.head(2)"
   ]
  },
  {
   "cell_type": "code",
   "execution_count": 52,
   "metadata": {},
   "outputs": [],
   "source": [
    "from datetime import date\n",
    "\n",
    "#write a function to create the class start date\n",
    "def create_class_start(data):\n",
    "    #create the object class\n",
    "    fake_start = Faker()\n",
    "    \n",
    "    #randomize between course start and course end\n",
    "    return fake_start.date_between(start_date=data['COURSE_START_DATE'],\n",
    "                                   end_date=data['COURSE_END_DATE'])"
   ]
  },
  {
   "cell_type": "code",
   "execution_count": 53,
   "metadata": {},
   "outputs": [],
   "source": [
    "#apply the function\n",
    "slice_class_dates['CLASS_START_DATE'] = slice_class_dates.apply(create_class_start,\n",
    "                                                                axis=1)"
   ]
  },
  {
   "cell_type": "code",
   "execution_count": 54,
   "metadata": {},
   "outputs": [],
   "source": [
    "from datetime import date\n",
    "\n",
    "#write a function to create the class end date\n",
    "def create_class_end(data):\n",
    "    #create the object class\n",
    "    fake_end = Faker()\n",
    "    \n",
    "    #randomize between class start and course end\n",
    "    return fake_end.date_between(start_date=data['CLASS_START_DATE'],\n",
    "                                 end_date=data['COURSE_END_DATE'])"
   ]
  },
  {
   "cell_type": "code",
   "execution_count": 55,
   "metadata": {},
   "outputs": [],
   "source": [
    "#apply the function\n",
    "slice_class_dates['CLASS_END_DATE'] = slice_class_dates.apply(create_class_end,\n",
    "                                                              axis=1)"
   ]
  },
  {
   "cell_type": "markdown",
   "metadata": {},
   "source": [
    "LOGIC CHECK"
   ]
  },
  {
   "cell_type": "code",
   "execution_count": 56,
   "metadata": {},
   "outputs": [
    {
     "data": {
      "text/html": [
       "<div>\n",
       "<style scoped>\n",
       "    .dataframe tbody tr th:only-of-type {\n",
       "        vertical-align: middle;\n",
       "    }\n",
       "\n",
       "    .dataframe tbody tr th {\n",
       "        vertical-align: top;\n",
       "    }\n",
       "\n",
       "    .dataframe thead th {\n",
       "        text-align: right;\n",
       "    }\n",
       "</style>\n",
       "<table border=\"1\" class=\"dataframe\">\n",
       "  <thead>\n",
       "    <tr style=\"text-align: right;\">\n",
       "      <th></th>\n",
       "      <th>STUDENT_ID</th>\n",
       "      <th>ID</th>\n",
       "      <th>COURSE_ID</th>\n",
       "      <th>ENROLMENT_DATE</th>\n",
       "      <th>COMPLETION_DATE</th>\n",
       "      <th>CLASS_ID</th>\n",
       "      <th>COURSE_START_DATE</th>\n",
       "      <th>COURSE_END_DATE</th>\n",
       "      <th>CLASS_START_DATE</th>\n",
       "      <th>CLASS_END_DATE</th>\n",
       "    </tr>\n",
       "  </thead>\n",
       "  <tbody>\n",
       "  </tbody>\n",
       "</table>\n",
       "</div>"
      ],
      "text/plain": [
       "Empty DataFrame\n",
       "Columns: [STUDENT_ID, ID, COURSE_ID, ENROLMENT_DATE, COMPLETION_DATE, CLASS_ID, COURSE_START_DATE, COURSE_END_DATE, CLASS_START_DATE, CLASS_END_DATE]\n",
       "Index: []"
      ]
     },
     "execution_count": 56,
     "metadata": {},
     "output_type": "execute_result"
    }
   ],
   "source": [
    "#class start cannot be after course end\n",
    "slice_class_dates[slice_class_dates['CLASS_START_DATE'] > slice_class_dates['COURSE_END_DATE']]"
   ]
  },
  {
   "cell_type": "code",
   "execution_count": 57,
   "metadata": {},
   "outputs": [
    {
     "data": {
      "text/html": [
       "<div>\n",
       "<style scoped>\n",
       "    .dataframe tbody tr th:only-of-type {\n",
       "        vertical-align: middle;\n",
       "    }\n",
       "\n",
       "    .dataframe tbody tr th {\n",
       "        vertical-align: top;\n",
       "    }\n",
       "\n",
       "    .dataframe thead th {\n",
       "        text-align: right;\n",
       "    }\n",
       "</style>\n",
       "<table border=\"1\" class=\"dataframe\">\n",
       "  <thead>\n",
       "    <tr style=\"text-align: right;\">\n",
       "      <th></th>\n",
       "      <th>STUDENT_ID</th>\n",
       "      <th>ID</th>\n",
       "      <th>COURSE_ID</th>\n",
       "      <th>ENROLMENT_DATE</th>\n",
       "      <th>COMPLETION_DATE</th>\n",
       "      <th>CLASS_ID</th>\n",
       "      <th>COURSE_START_DATE</th>\n",
       "      <th>COURSE_END_DATE</th>\n",
       "      <th>CLASS_START_DATE</th>\n",
       "      <th>CLASS_END_DATE</th>\n",
       "    </tr>\n",
       "  </thead>\n",
       "  <tbody>\n",
       "  </tbody>\n",
       "</table>\n",
       "</div>"
      ],
      "text/plain": [
       "Empty DataFrame\n",
       "Columns: [STUDENT_ID, ID, COURSE_ID, ENROLMENT_DATE, COMPLETION_DATE, CLASS_ID, COURSE_START_DATE, COURSE_END_DATE, CLASS_START_DATE, CLASS_END_DATE]\n",
       "Index: []"
      ]
     },
     "execution_count": 57,
     "metadata": {},
     "output_type": "execute_result"
    }
   ],
   "source": [
    "#class end cannot be before class start\n",
    "slice_class_dates[slice_class_dates['CLASS_START_DATE'] > slice_class_dates['CLASS_END_DATE']]"
   ]
  },
  {
   "cell_type": "code",
   "execution_count": 58,
   "metadata": {},
   "outputs": [
    {
     "data": {
      "text/plain": [
       "(4306, 16)"
      ]
     },
     "execution_count": 58,
     "metadata": {},
     "output_type": "execute_result"
    }
   ],
   "source": [
    "student_course_data.shape"
   ]
  },
  {
   "cell_type": "code",
   "execution_count": 59,
   "metadata": {},
   "outputs": [],
   "source": [
    "#add class dates to the main merged table\n",
    "student_class_data = student_course_data.merge(slice_class_dates,\n",
    "                                               how='inner',\n",
    "                                               on=['STUDENT_ID', 'ID',\n",
    "                                                   'ENROLMENT_DATE', 'COMPLETION_DATE',\n",
    "                                                   'CLASS_ID', 'COURSE_ID',\n",
    "                                                   'COURSE_START_DATE', 'COURSE_END_DATE'])"
   ]
  },
  {
   "cell_type": "code",
   "execution_count": 60,
   "metadata": {},
   "outputs": [
    {
     "data": {
      "text/html": [
       "<div>\n",
       "<style scoped>\n",
       "    .dataframe tbody tr th:only-of-type {\n",
       "        vertical-align: middle;\n",
       "    }\n",
       "\n",
       "    .dataframe tbody tr th {\n",
       "        vertical-align: top;\n",
       "    }\n",
       "\n",
       "    .dataframe thead th {\n",
       "        text-align: right;\n",
       "    }\n",
       "</style>\n",
       "<table border=\"1\" class=\"dataframe\">\n",
       "  <thead>\n",
       "    <tr style=\"text-align: right;\">\n",
       "      <th></th>\n",
       "      <th>STUDENT_ID</th>\n",
       "      <th>FIRST_NAME</th>\n",
       "      <th>LAST_NAME</th>\n",
       "      <th>CITY</th>\n",
       "      <th>BIRTH_DATE</th>\n",
       "      <th>E-MAIL</th>\n",
       "      <th>ID</th>\n",
       "      <th>COURSE_ID</th>\n",
       "      <th>CANCELLED</th>\n",
       "      <th>ENROLMENT_DATE</th>\n",
       "      <th>COMPLETION_DATE</th>\n",
       "      <th>CLASS_ID</th>\n",
       "      <th>CLASS_TITLE</th>\n",
       "      <th>COURSE_TITLE</th>\n",
       "      <th>COURSE_START_DATE</th>\n",
       "      <th>COURSE_END_DATE</th>\n",
       "      <th>CLASS_START_DATE</th>\n",
       "      <th>CLASS_END_DATE</th>\n",
       "    </tr>\n",
       "  </thead>\n",
       "  <tbody>\n",
       "    <tr>\n",
       "      <th>0</th>\n",
       "      <td>S000002</td>\n",
       "      <td>Robert</td>\n",
       "      <td>Williams</td>\n",
       "      <td>Rostov</td>\n",
       "      <td>1993-10-02</td>\n",
       "      <td>robertwilliams@yandex.com</td>\n",
       "      <td>2</td>\n",
       "      <td>C0001</td>\n",
       "      <td>False</td>\n",
       "      <td>2022-06-19</td>\n",
       "      <td>2023-01-24</td>\n",
       "      <td>CERPC101</td>\n",
       "      <td>001 - CIRCULAR ECONOMY, RESPONSIBLE PRODUCTION...</td>\n",
       "      <td>CIRCULAR ECONOMY, RESPONSIBLE PRODUCTION AND C...</td>\n",
       "      <td>2022-07-20</td>\n",
       "      <td>2023-01-21</td>\n",
       "      <td>2022-09-19</td>\n",
       "      <td>2023-01-19</td>\n",
       "    </tr>\n",
       "    <tr>\n",
       "      <th>1</th>\n",
       "      <td>S000002</td>\n",
       "      <td>Robert</td>\n",
       "      <td>Williams</td>\n",
       "      <td>Rostov</td>\n",
       "      <td>1993-10-02</td>\n",
       "      <td>robertwilliams@yandex.com</td>\n",
       "      <td>2</td>\n",
       "      <td>C0001</td>\n",
       "      <td>False</td>\n",
       "      <td>2022-06-19</td>\n",
       "      <td>2023-01-24</td>\n",
       "      <td>CERPC102</td>\n",
       "      <td>002 - CIRCULAR ECONOMY, RESPONSIBLE PRODUCTION...</td>\n",
       "      <td>CIRCULAR ECONOMY, RESPONSIBLE PRODUCTION AND C...</td>\n",
       "      <td>2022-07-20</td>\n",
       "      <td>2023-01-21</td>\n",
       "      <td>2022-11-15</td>\n",
       "      <td>2022-12-15</td>\n",
       "    </tr>\n",
       "  </tbody>\n",
       "</table>\n",
       "</div>"
      ],
      "text/plain": [
       "  STUDENT_ID FIRST_NAME LAST_NAME    CITY BIRTH_DATE  \\\n",
       "0    S000002     Robert  Williams  Rostov 1993-10-02   \n",
       "1    S000002     Robert  Williams  Rostov 1993-10-02   \n",
       "\n",
       "                      E-MAIL  ID COURSE_ID  CANCELLED ENROLMENT_DATE  \\\n",
       "0  robertwilliams@yandex.com   2     C0001      False     2022-06-19   \n",
       "1  robertwilliams@yandex.com   2     C0001      False     2022-06-19   \n",
       "\n",
       "  COMPLETION_DATE  CLASS_ID  \\\n",
       "0      2023-01-24  CERPC101   \n",
       "1      2023-01-24  CERPC102   \n",
       "\n",
       "                                         CLASS_TITLE  \\\n",
       "0  001 - CIRCULAR ECONOMY, RESPONSIBLE PRODUCTION...   \n",
       "1  002 - CIRCULAR ECONOMY, RESPONSIBLE PRODUCTION...   \n",
       "\n",
       "                                        COURSE_TITLE COURSE_START_DATE  \\\n",
       "0  CIRCULAR ECONOMY, RESPONSIBLE PRODUCTION AND C...        2022-07-20   \n",
       "1  CIRCULAR ECONOMY, RESPONSIBLE PRODUCTION AND C...        2022-07-20   \n",
       "\n",
       "  COURSE_END_DATE CLASS_START_DATE CLASS_END_DATE  \n",
       "0      2023-01-21       2022-09-19     2023-01-19  \n",
       "1      2023-01-21       2022-11-15     2022-12-15  "
      ]
     },
     "execution_count": 60,
     "metadata": {},
     "output_type": "execute_result"
    }
   ],
   "source": [
    "student_class_data.head(2)"
   ]
  },
  {
   "cell_type": "code",
   "execution_count": 61,
   "metadata": {},
   "outputs": [
    {
     "data": {
      "text/plain": [
       "(4306, 18)"
      ]
     },
     "execution_count": 61,
     "metadata": {},
     "output_type": "execute_result"
    }
   ],
   "source": [
    "student_class_data.shape"
   ]
  },
  {
   "cell_type": "markdown",
   "metadata": {},
   "source": [
    "#### **CREATE TEST_NUMBER**"
   ]
  },
  {
   "cell_type": "markdown",
   "metadata": {},
   "source": [
    "create test_number by combining course_id + T000 + class_id"
   ]
  },
  {
   "cell_type": "code",
   "execution_count": 62,
   "metadata": {},
   "outputs": [],
   "source": [
    "#slice two characters from class id\n",
    "student_class_data['TNUM'] = student_class_data['CLASS_ID'].apply(lambda x: str(x)[-2:])"
   ]
  },
  {
   "cell_type": "code",
   "execution_count": 63,
   "metadata": {},
   "outputs": [],
   "source": [
    "#write a function to create the test id\n",
    "def create_test_number(data):\n",
    "    return str(data['COURSE_ID']) + 'T000' + str(data['TNUM'])\n",
    "\n",
    "#apply a function\n",
    "student_class_data['TEST_NUMBER'] = student_class_data.apply(create_test_number,\n",
    "                                                             axis=1)"
   ]
  },
  {
   "cell_type": "code",
   "execution_count": 64,
   "metadata": {},
   "outputs": [
    {
     "data": {
      "text/html": [
       "<div>\n",
       "<style scoped>\n",
       "    .dataframe tbody tr th:only-of-type {\n",
       "        vertical-align: middle;\n",
       "    }\n",
       "\n",
       "    .dataframe tbody tr th {\n",
       "        vertical-align: top;\n",
       "    }\n",
       "\n",
       "    .dataframe thead th {\n",
       "        text-align: right;\n",
       "    }\n",
       "</style>\n",
       "<table border=\"1\" class=\"dataframe\">\n",
       "  <thead>\n",
       "    <tr style=\"text-align: right;\">\n",
       "      <th></th>\n",
       "      <th>STUDENT_ID</th>\n",
       "      <th>FIRST_NAME</th>\n",
       "      <th>LAST_NAME</th>\n",
       "      <th>CITY</th>\n",
       "      <th>BIRTH_DATE</th>\n",
       "      <th>E-MAIL</th>\n",
       "      <th>ID</th>\n",
       "      <th>COURSE_ID</th>\n",
       "      <th>CANCELLED</th>\n",
       "      <th>ENROLMENT_DATE</th>\n",
       "      <th>COMPLETION_DATE</th>\n",
       "      <th>CLASS_ID</th>\n",
       "      <th>CLASS_TITLE</th>\n",
       "      <th>COURSE_TITLE</th>\n",
       "      <th>COURSE_START_DATE</th>\n",
       "      <th>COURSE_END_DATE</th>\n",
       "      <th>CLASS_START_DATE</th>\n",
       "      <th>CLASS_END_DATE</th>\n",
       "      <th>TNUM</th>\n",
       "      <th>TEST_NUMBER</th>\n",
       "    </tr>\n",
       "  </thead>\n",
       "  <tbody>\n",
       "    <tr>\n",
       "      <th>0</th>\n",
       "      <td>S000002</td>\n",
       "      <td>Robert</td>\n",
       "      <td>Williams</td>\n",
       "      <td>Rostov</td>\n",
       "      <td>1993-10-02</td>\n",
       "      <td>robertwilliams@yandex.com</td>\n",
       "      <td>2</td>\n",
       "      <td>C0001</td>\n",
       "      <td>False</td>\n",
       "      <td>2022-06-19</td>\n",
       "      <td>2023-01-24</td>\n",
       "      <td>CERPC101</td>\n",
       "      <td>001 - CIRCULAR ECONOMY, RESPONSIBLE PRODUCTION...</td>\n",
       "      <td>CIRCULAR ECONOMY, RESPONSIBLE PRODUCTION AND C...</td>\n",
       "      <td>2022-07-20</td>\n",
       "      <td>2023-01-21</td>\n",
       "      <td>2022-09-19</td>\n",
       "      <td>2023-01-19</td>\n",
       "      <td>01</td>\n",
       "      <td>C0001T00001</td>\n",
       "    </tr>\n",
       "    <tr>\n",
       "      <th>1</th>\n",
       "      <td>S000002</td>\n",
       "      <td>Robert</td>\n",
       "      <td>Williams</td>\n",
       "      <td>Rostov</td>\n",
       "      <td>1993-10-02</td>\n",
       "      <td>robertwilliams@yandex.com</td>\n",
       "      <td>2</td>\n",
       "      <td>C0001</td>\n",
       "      <td>False</td>\n",
       "      <td>2022-06-19</td>\n",
       "      <td>2023-01-24</td>\n",
       "      <td>CERPC102</td>\n",
       "      <td>002 - CIRCULAR ECONOMY, RESPONSIBLE PRODUCTION...</td>\n",
       "      <td>CIRCULAR ECONOMY, RESPONSIBLE PRODUCTION AND C...</td>\n",
       "      <td>2022-07-20</td>\n",
       "      <td>2023-01-21</td>\n",
       "      <td>2022-11-15</td>\n",
       "      <td>2022-12-15</td>\n",
       "      <td>02</td>\n",
       "      <td>C0001T00002</td>\n",
       "    </tr>\n",
       "  </tbody>\n",
       "</table>\n",
       "</div>"
      ],
      "text/plain": [
       "  STUDENT_ID FIRST_NAME LAST_NAME    CITY BIRTH_DATE  \\\n",
       "0    S000002     Robert  Williams  Rostov 1993-10-02   \n",
       "1    S000002     Robert  Williams  Rostov 1993-10-02   \n",
       "\n",
       "                      E-MAIL  ID COURSE_ID  CANCELLED ENROLMENT_DATE  \\\n",
       "0  robertwilliams@yandex.com   2     C0001      False     2022-06-19   \n",
       "1  robertwilliams@yandex.com   2     C0001      False     2022-06-19   \n",
       "\n",
       "  COMPLETION_DATE  CLASS_ID  \\\n",
       "0      2023-01-24  CERPC101   \n",
       "1      2023-01-24  CERPC102   \n",
       "\n",
       "                                         CLASS_TITLE  \\\n",
       "0  001 - CIRCULAR ECONOMY, RESPONSIBLE PRODUCTION...   \n",
       "1  002 - CIRCULAR ECONOMY, RESPONSIBLE PRODUCTION...   \n",
       "\n",
       "                                        COURSE_TITLE COURSE_START_DATE  \\\n",
       "0  CIRCULAR ECONOMY, RESPONSIBLE PRODUCTION AND C...        2022-07-20   \n",
       "1  CIRCULAR ECONOMY, RESPONSIBLE PRODUCTION AND C...        2022-07-20   \n",
       "\n",
       "  COURSE_END_DATE CLASS_START_DATE CLASS_END_DATE TNUM  TEST_NUMBER  \n",
       "0      2023-01-21       2022-09-19     2023-01-19   01  C0001T00001  \n",
       "1      2023-01-21       2022-11-15     2022-12-15   02  C0001T00002  "
      ]
     },
     "execution_count": 64,
     "metadata": {},
     "output_type": "execute_result"
    }
   ],
   "source": [
    "student_class_data.head(2)"
   ]
  },
  {
   "cell_type": "markdown",
   "metadata": {},
   "source": [
    "CREATE TESTS TABLE"
   ]
  },
  {
   "cell_type": "code",
   "execution_count": 65,
   "metadata": {},
   "outputs": [],
   "source": [
    "#combine courses + classes\n",
    "tests = course_details.merge(class_details,\n",
    "                             how='left',\n",
    "                             on=['COURSE_ID'])"
   ]
  },
  {
   "cell_type": "code",
   "execution_count": 66,
   "metadata": {},
   "outputs": [],
   "source": [
    "#slice two characters from class id\n",
    "tests['TNUM'] = tests['CLASS_ID'].apply(lambda x: str(x)[-2:])"
   ]
  },
  {
   "cell_type": "code",
   "execution_count": 67,
   "metadata": {},
   "outputs": [],
   "source": [
    "#apply a function\n",
    "tests['TEST_NUMBER'] = tests.apply(create_test_number,\n",
    "                                   axis=1)"
   ]
  },
  {
   "cell_type": "code",
   "execution_count": 68,
   "metadata": {},
   "outputs": [],
   "source": [
    "#remove uninformative feature(s)\n",
    "tests = tests.drop('TNUM',\n",
    "                   axis=1,\n",
    "                   errors='ignore')"
   ]
  },
  {
   "cell_type": "code",
   "execution_count": 69,
   "metadata": {},
   "outputs": [
    {
     "data": {
      "text/html": [
       "<div>\n",
       "<style scoped>\n",
       "    .dataframe tbody tr th:only-of-type {\n",
       "        vertical-align: middle;\n",
       "    }\n",
       "\n",
       "    .dataframe tbody tr th {\n",
       "        vertical-align: top;\n",
       "    }\n",
       "\n",
       "    .dataframe thead th {\n",
       "        text-align: right;\n",
       "    }\n",
       "</style>\n",
       "<table border=\"1\" class=\"dataframe\">\n",
       "  <thead>\n",
       "    <tr style=\"text-align: right;\">\n",
       "      <th></th>\n",
       "      <th>COURSE_ID</th>\n",
       "      <th>COURSE_TITLE</th>\n",
       "      <th>CLASS_ID</th>\n",
       "      <th>CLASS_TITLE</th>\n",
       "      <th>TEST_NUMBER</th>\n",
       "    </tr>\n",
       "  </thead>\n",
       "  <tbody>\n",
       "    <tr>\n",
       "      <th>0</th>\n",
       "      <td>C0001</td>\n",
       "      <td>CIRCULAR ECONOMY, RESPONSIBLE PRODUCTION AND C...</td>\n",
       "      <td>CERPC101</td>\n",
       "      <td>001 - CIRCULAR ECONOMY, RESPONSIBLE PRODUCTION...</td>\n",
       "      <td>C0001T00001</td>\n",
       "    </tr>\n",
       "    <tr>\n",
       "      <th>1</th>\n",
       "      <td>C0001</td>\n",
       "      <td>CIRCULAR ECONOMY, RESPONSIBLE PRODUCTION AND C...</td>\n",
       "      <td>CERPC102</td>\n",
       "      <td>002 - CIRCULAR ECONOMY, RESPONSIBLE PRODUCTION...</td>\n",
       "      <td>C0001T00002</td>\n",
       "    </tr>\n",
       "  </tbody>\n",
       "</table>\n",
       "</div>"
      ],
      "text/plain": [
       "  COURSE_ID                                       COURSE_TITLE  CLASS_ID  \\\n",
       "0     C0001  CIRCULAR ECONOMY, RESPONSIBLE PRODUCTION AND C...  CERPC101   \n",
       "1     C0001  CIRCULAR ECONOMY, RESPONSIBLE PRODUCTION AND C...  CERPC102   \n",
       "\n",
       "                                         CLASS_TITLE  TEST_NUMBER  \n",
       "0  001 - CIRCULAR ECONOMY, RESPONSIBLE PRODUCTION...  C0001T00001  \n",
       "1  002 - CIRCULAR ECONOMY, RESPONSIBLE PRODUCTION...  C0001T00002  "
      ]
     },
     "execution_count": 69,
     "metadata": {},
     "output_type": "execute_result"
    }
   ],
   "source": [
    "tests.head(2)"
   ]
  },
  {
   "cell_type": "markdown",
   "metadata": {},
   "source": [
    "EXPORT TABLE"
   ]
  },
  {
   "cell_type": "code",
   "execution_count": 70,
   "metadata": {},
   "outputs": [],
   "source": [
    "#create a file name\n",
    "xlx_name = 'test_details.xlsx'\n",
    "\n",
    "#export to excel\n",
    "tests.to_excel('./experimental/created_tables/' + xlx_name,\n",
    "               sheet_name='test_details')"
   ]
  },
  {
   "cell_type": "markdown",
   "metadata": {},
   "source": [
    "#### **CREATE TEST_SCORE**"
   ]
  },
  {
   "cell_type": "markdown",
   "metadata": {},
   "source": [
    "create a list of test scores with a different set of probabilities"
   ]
  },
  {
   "cell_type": "code",
   "execution_count": 71,
   "metadata": {},
   "outputs": [],
   "source": [
    "#75-100%, 0-100%\n",
    "test_score1, test_score2 = [75, 80, 85, 90, 95, 100], [0, 5, 10, 15, 20, 25, 30, 35, 40, 45, 50, 55, 60, 65, 70, 75, 80, 85, 90, 95, 100]\n",
    "\n",
    "#probability\n",
    "prob1, prob2 = 100 / len(test_score1), 100 / len(test_score2)\n",
    "\n",
    "#split\n",
    "split1 = round(student_class_data.shape[0] / 2, 0)\n",
    "split2 = student_class_data.shape[0] - split1\n",
    "\n",
    "#relative weights to choose elements from the list with different probability\n",
    "scores1 = random.choices(test_score1,\n",
    "                         weights=(prob1, prob1, prob1, prob1, prob1, prob1),\n",
    "                         k=int(split1))\n",
    "\n",
    "#relative weights to choose elements from the list with different probability\n",
    "scores2 = random.choices(test_score2,\n",
    "                         weights=(prob2, prob2, prob2, prob2, prob2, prob2, prob2, prob2, prob2, prob2,\n",
    "                                  prob2, prob2, prob2, prob2, prob2, prob2, prob2, prob2, prob2, prob2,\n",
    "                                  prob2),\n",
    "                         k=int(split2))\n",
    "\n",
    "#add two lists together\n",
    "combine_test_scores = scores1 + scores2"
   ]
  },
  {
   "cell_type": "code",
   "execution_count": 72,
   "metadata": {},
   "outputs": [],
   "source": [
    "#insert a new feature\n",
    "student_class_data['TEST_SCORE'] = None\n",
    "\n",
    "student_class_data = student_class_data.assign(TEST_SCORE=combine_test_scores)"
   ]
  },
  {
   "cell_type": "code",
   "execution_count": 73,
   "metadata": {},
   "outputs": [],
   "source": [
    "#write a function for test_status\n",
    "def pass_or_fail(data):\n",
    "    if data['TEST_SCORE'] > 50:\n",
    "        return 'PASS'\n",
    "    else:\n",
    "        return 'FAIL'\n",
    "\n",
    "#create a new feature\n",
    "student_class_data['TEST_STATUS'] = student_class_data.apply(pass_or_fail,\n",
    "                                                             axis=1)"
   ]
  },
  {
   "cell_type": "code",
   "execution_count": 74,
   "metadata": {},
   "outputs": [
    {
     "data": {
      "text/html": [
       "<div>\n",
       "<style scoped>\n",
       "    .dataframe tbody tr th:only-of-type {\n",
       "        vertical-align: middle;\n",
       "    }\n",
       "\n",
       "    .dataframe tbody tr th {\n",
       "        vertical-align: top;\n",
       "    }\n",
       "\n",
       "    .dataframe thead th {\n",
       "        text-align: right;\n",
       "    }\n",
       "</style>\n",
       "<table border=\"1\" class=\"dataframe\">\n",
       "  <thead>\n",
       "    <tr style=\"text-align: right;\">\n",
       "      <th></th>\n",
       "      <th>STUDENT_ID</th>\n",
       "      <th>FIRST_NAME</th>\n",
       "      <th>LAST_NAME</th>\n",
       "      <th>CITY</th>\n",
       "      <th>BIRTH_DATE</th>\n",
       "      <th>E-MAIL</th>\n",
       "      <th>ID</th>\n",
       "      <th>COURSE_ID</th>\n",
       "      <th>CANCELLED</th>\n",
       "      <th>ENROLMENT_DATE</th>\n",
       "      <th>...</th>\n",
       "      <th>CLASS_TITLE</th>\n",
       "      <th>COURSE_TITLE</th>\n",
       "      <th>COURSE_START_DATE</th>\n",
       "      <th>COURSE_END_DATE</th>\n",
       "      <th>CLASS_START_DATE</th>\n",
       "      <th>CLASS_END_DATE</th>\n",
       "      <th>TNUM</th>\n",
       "      <th>TEST_NUMBER</th>\n",
       "      <th>TEST_SCORE</th>\n",
       "      <th>TEST_STATUS</th>\n",
       "    </tr>\n",
       "  </thead>\n",
       "  <tbody>\n",
       "    <tr>\n",
       "      <th>0</th>\n",
       "      <td>S000002</td>\n",
       "      <td>Robert</td>\n",
       "      <td>Williams</td>\n",
       "      <td>Rostov</td>\n",
       "      <td>1993-10-02</td>\n",
       "      <td>robertwilliams@yandex.com</td>\n",
       "      <td>2</td>\n",
       "      <td>C0001</td>\n",
       "      <td>False</td>\n",
       "      <td>2022-06-19</td>\n",
       "      <td>...</td>\n",
       "      <td>001 - CIRCULAR ECONOMY, RESPONSIBLE PRODUCTION...</td>\n",
       "      <td>CIRCULAR ECONOMY, RESPONSIBLE PRODUCTION AND C...</td>\n",
       "      <td>2022-07-20</td>\n",
       "      <td>2023-01-21</td>\n",
       "      <td>2022-09-19</td>\n",
       "      <td>2023-01-19</td>\n",
       "      <td>01</td>\n",
       "      <td>C0001T00001</td>\n",
       "      <td>95</td>\n",
       "      <td>PASS</td>\n",
       "    </tr>\n",
       "    <tr>\n",
       "      <th>1</th>\n",
       "      <td>S000002</td>\n",
       "      <td>Robert</td>\n",
       "      <td>Williams</td>\n",
       "      <td>Rostov</td>\n",
       "      <td>1993-10-02</td>\n",
       "      <td>robertwilliams@yandex.com</td>\n",
       "      <td>2</td>\n",
       "      <td>C0001</td>\n",
       "      <td>False</td>\n",
       "      <td>2022-06-19</td>\n",
       "      <td>...</td>\n",
       "      <td>002 - CIRCULAR ECONOMY, RESPONSIBLE PRODUCTION...</td>\n",
       "      <td>CIRCULAR ECONOMY, RESPONSIBLE PRODUCTION AND C...</td>\n",
       "      <td>2022-07-20</td>\n",
       "      <td>2023-01-21</td>\n",
       "      <td>2022-11-15</td>\n",
       "      <td>2022-12-15</td>\n",
       "      <td>02</td>\n",
       "      <td>C0001T00002</td>\n",
       "      <td>75</td>\n",
       "      <td>PASS</td>\n",
       "    </tr>\n",
       "  </tbody>\n",
       "</table>\n",
       "<p>2 rows × 22 columns</p>\n",
       "</div>"
      ],
      "text/plain": [
       "  STUDENT_ID FIRST_NAME LAST_NAME    CITY BIRTH_DATE  \\\n",
       "0    S000002     Robert  Williams  Rostov 1993-10-02   \n",
       "1    S000002     Robert  Williams  Rostov 1993-10-02   \n",
       "\n",
       "                      E-MAIL  ID COURSE_ID  CANCELLED ENROLMENT_DATE  ...  \\\n",
       "0  robertwilliams@yandex.com   2     C0001      False     2022-06-19  ...   \n",
       "1  robertwilliams@yandex.com   2     C0001      False     2022-06-19  ...   \n",
       "\n",
       "                                         CLASS_TITLE  \\\n",
       "0  001 - CIRCULAR ECONOMY, RESPONSIBLE PRODUCTION...   \n",
       "1  002 - CIRCULAR ECONOMY, RESPONSIBLE PRODUCTION...   \n",
       "\n",
       "                                        COURSE_TITLE COURSE_START_DATE  \\\n",
       "0  CIRCULAR ECONOMY, RESPONSIBLE PRODUCTION AND C...        2022-07-20   \n",
       "1  CIRCULAR ECONOMY, RESPONSIBLE PRODUCTION AND C...        2022-07-20   \n",
       "\n",
       "  COURSE_END_DATE CLASS_START_DATE CLASS_END_DATE TNUM  TEST_NUMBER  \\\n",
       "0      2023-01-21       2022-09-19     2023-01-19   01  C0001T00001   \n",
       "1      2023-01-21       2022-11-15     2022-12-15   02  C0001T00002   \n",
       "\n",
       "  TEST_SCORE TEST_STATUS  \n",
       "0         95        PASS  \n",
       "1         75        PASS  \n",
       "\n",
       "[2 rows x 22 columns]"
      ]
     },
     "execution_count": 74,
     "metadata": {},
     "output_type": "execute_result"
    }
   ],
   "source": [
    "student_class_data.head(2)"
   ]
  },
  {
   "cell_type": "markdown",
   "metadata": {},
   "source": [
    "#### **CREATE ACTIVE STUDENTS**"
   ]
  },
  {
   "cell_type": "code",
   "execution_count": 75,
   "metadata": {},
   "outputs": [],
   "source": [
    "#create a new feature: student status\n",
    "student_class_data['STUDENT_STATUS'] = student_class_data['CANCELLED'].apply(lambda x: 'ACTIVE' if x == False else 'INACTIVE')"
   ]
  },
  {
   "cell_type": "code",
   "execution_count": 76,
   "metadata": {},
   "outputs": [],
   "source": [
    "#remove uninformative feature(s)\n",
    "student_class_data = student_class_data.drop(['TNUM'],\n",
    "                                             axis=1,\n",
    "                                             errors='ignore')"
   ]
  },
  {
   "cell_type": "code",
   "execution_count": 77,
   "metadata": {},
   "outputs": [
    {
     "data": {
      "text/html": [
       "<div>\n",
       "<style scoped>\n",
       "    .dataframe tbody tr th:only-of-type {\n",
       "        vertical-align: middle;\n",
       "    }\n",
       "\n",
       "    .dataframe tbody tr th {\n",
       "        vertical-align: top;\n",
       "    }\n",
       "\n",
       "    .dataframe thead th {\n",
       "        text-align: right;\n",
       "    }\n",
       "</style>\n",
       "<table border=\"1\" class=\"dataframe\">\n",
       "  <thead>\n",
       "    <tr style=\"text-align: right;\">\n",
       "      <th></th>\n",
       "      <th>STUDENT_ID</th>\n",
       "      <th>FIRST_NAME</th>\n",
       "      <th>LAST_NAME</th>\n",
       "      <th>CITY</th>\n",
       "      <th>BIRTH_DATE</th>\n",
       "      <th>E-MAIL</th>\n",
       "      <th>ID</th>\n",
       "      <th>COURSE_ID</th>\n",
       "      <th>CANCELLED</th>\n",
       "      <th>ENROLMENT_DATE</th>\n",
       "      <th>...</th>\n",
       "      <th>CLASS_TITLE</th>\n",
       "      <th>COURSE_TITLE</th>\n",
       "      <th>COURSE_START_DATE</th>\n",
       "      <th>COURSE_END_DATE</th>\n",
       "      <th>CLASS_START_DATE</th>\n",
       "      <th>CLASS_END_DATE</th>\n",
       "      <th>TEST_NUMBER</th>\n",
       "      <th>TEST_SCORE</th>\n",
       "      <th>TEST_STATUS</th>\n",
       "      <th>STUDENT_STATUS</th>\n",
       "    </tr>\n",
       "  </thead>\n",
       "  <tbody>\n",
       "    <tr>\n",
       "      <th>0</th>\n",
       "      <td>S000002</td>\n",
       "      <td>Robert</td>\n",
       "      <td>Williams</td>\n",
       "      <td>Rostov</td>\n",
       "      <td>1993-10-02</td>\n",
       "      <td>robertwilliams@yandex.com</td>\n",
       "      <td>2</td>\n",
       "      <td>C0001</td>\n",
       "      <td>False</td>\n",
       "      <td>2022-06-19</td>\n",
       "      <td>...</td>\n",
       "      <td>001 - CIRCULAR ECONOMY, RESPONSIBLE PRODUCTION...</td>\n",
       "      <td>CIRCULAR ECONOMY, RESPONSIBLE PRODUCTION AND C...</td>\n",
       "      <td>2022-07-20</td>\n",
       "      <td>2023-01-21</td>\n",
       "      <td>2022-09-19</td>\n",
       "      <td>2023-01-19</td>\n",
       "      <td>C0001T00001</td>\n",
       "      <td>95</td>\n",
       "      <td>PASS</td>\n",
       "      <td>ACTIVE</td>\n",
       "    </tr>\n",
       "    <tr>\n",
       "      <th>1</th>\n",
       "      <td>S000002</td>\n",
       "      <td>Robert</td>\n",
       "      <td>Williams</td>\n",
       "      <td>Rostov</td>\n",
       "      <td>1993-10-02</td>\n",
       "      <td>robertwilliams@yandex.com</td>\n",
       "      <td>2</td>\n",
       "      <td>C0001</td>\n",
       "      <td>False</td>\n",
       "      <td>2022-06-19</td>\n",
       "      <td>...</td>\n",
       "      <td>002 - CIRCULAR ECONOMY, RESPONSIBLE PRODUCTION...</td>\n",
       "      <td>CIRCULAR ECONOMY, RESPONSIBLE PRODUCTION AND C...</td>\n",
       "      <td>2022-07-20</td>\n",
       "      <td>2023-01-21</td>\n",
       "      <td>2022-11-15</td>\n",
       "      <td>2022-12-15</td>\n",
       "      <td>C0001T00002</td>\n",
       "      <td>75</td>\n",
       "      <td>PASS</td>\n",
       "      <td>ACTIVE</td>\n",
       "    </tr>\n",
       "  </tbody>\n",
       "</table>\n",
       "<p>2 rows × 22 columns</p>\n",
       "</div>"
      ],
      "text/plain": [
       "  STUDENT_ID FIRST_NAME LAST_NAME    CITY BIRTH_DATE  \\\n",
       "0    S000002     Robert  Williams  Rostov 1993-10-02   \n",
       "1    S000002     Robert  Williams  Rostov 1993-10-02   \n",
       "\n",
       "                      E-MAIL  ID COURSE_ID  CANCELLED ENROLMENT_DATE  ...  \\\n",
       "0  robertwilliams@yandex.com   2     C0001      False     2022-06-19  ...   \n",
       "1  robertwilliams@yandex.com   2     C0001      False     2022-06-19  ...   \n",
       "\n",
       "                                         CLASS_TITLE  \\\n",
       "0  001 - CIRCULAR ECONOMY, RESPONSIBLE PRODUCTION...   \n",
       "1  002 - CIRCULAR ECONOMY, RESPONSIBLE PRODUCTION...   \n",
       "\n",
       "                                        COURSE_TITLE COURSE_START_DATE  \\\n",
       "0  CIRCULAR ECONOMY, RESPONSIBLE PRODUCTION AND C...        2022-07-20   \n",
       "1  CIRCULAR ECONOMY, RESPONSIBLE PRODUCTION AND C...        2022-07-20   \n",
       "\n",
       "  COURSE_END_DATE CLASS_START_DATE CLASS_END_DATE  TEST_NUMBER TEST_SCORE  \\\n",
       "0      2023-01-21       2022-09-19     2023-01-19  C0001T00001         95   \n",
       "1      2023-01-21       2022-11-15     2022-12-15  C0001T00002         75   \n",
       "\n",
       "  TEST_STATUS  STUDENT_STATUS  \n",
       "0        PASS          ACTIVE  \n",
       "1        PASS          ACTIVE  \n",
       "\n",
       "[2 rows x 22 columns]"
      ]
     },
     "execution_count": 77,
     "metadata": {},
     "output_type": "execute_result"
    }
   ],
   "source": [
    "student_class_data.head(2)"
   ]
  },
  {
   "cell_type": "markdown",
   "metadata": {},
   "source": [
    "#### **CREATE UNFINISHED COURSES**"
   ]
  },
  {
   "cell_type": "code",
   "execution_count": 78,
   "metadata": {},
   "outputs": [],
   "source": [
    "student_class_data = student_class_data.reset_index()"
   ]
  },
  {
   "cell_type": "markdown",
   "metadata": {},
   "source": [
    "remove some records to create unfinished courses"
   ]
  },
  {
   "cell_type": "code",
   "execution_count": 79,
   "metadata": {},
   "outputs": [],
   "source": [
    "#slice two characters from class id\n",
    "student_class_data['TNUM'] = student_class_data['CLASS_ID'].apply(lambda x: str(x)[-2:])"
   ]
  },
  {
   "cell_type": "markdown",
   "metadata": {},
   "source": [
    "COURSE ONE"
   ]
  },
  {
   "cell_type": "code",
   "execution_count": 80,
   "metadata": {},
   "outputs": [
    {
     "data": {
      "text/plain": [
       "Index([   8,    9,   18,   19,   28,   29,   38,   39,   48,   49,\n",
       "       ...\n",
       "       1038, 1039, 1048, 1049, 1058, 1059, 1068, 1069, 1078, 1079],\n",
       "      dtype='int64', length=216)"
      ]
     },
     "execution_count": 80,
     "metadata": {},
     "output_type": "execute_result"
    }
   ],
   "source": [
    "#filter by course one and last two classes\n",
    "course_one_indx = student_class_data[(student_class_data['COURSE_ID'] == 'C0001') &\n",
    "                                     ((student_class_data['TNUM'] == '09') | (student_class_data['TNUM'] == '10'))]\n",
    "course_one_indx.index"
   ]
  },
  {
   "cell_type": "code",
   "execution_count": 81,
   "metadata": {},
   "outputs": [
    {
     "data": {
      "text/plain": [
       "54"
      ]
     },
     "execution_count": 81,
     "metadata": {},
     "output_type": "execute_result"
    }
   ],
   "source": [
    "#create a list to store course one records to remove\n",
    "delete_one = []\n",
    "\n",
    "#find records divisable by 4 without a remainder\n",
    "for r in course_one_indx.index.to_list():\n",
    "    if r % 4 == 0:\n",
    "        delete_one.append(r)\n",
    "\n",
    "delete_one\n",
    "len(delete_one)"
   ]
  },
  {
   "cell_type": "markdown",
   "metadata": {},
   "source": [
    "COURSE TWO AND THREE"
   ]
  },
  {
   "cell_type": "code",
   "execution_count": 82,
   "metadata": {},
   "outputs": [
    {
     "data": {
      "text/plain": [
       "Index([1085, 1086, 1092, 1093, 1099, 1100, 1106, 1107, 1113, 1114,\n",
       "       ...\n",
       "       2849, 2850, 2856, 2857, 2863, 2864, 2870, 2871, 2877, 2878],\n",
       "      dtype='int64', length=514)"
      ]
     },
     "execution_count": 82,
     "metadata": {},
     "output_type": "execute_result"
    }
   ],
   "source": [
    "#filter by course two and three and last two classes\n",
    "courses_two_three_indx = student_class_data[((student_class_data['COURSE_ID'] == 'C0002') | (student_class_data['COURSE_ID'] == 'C0003')) &\n",
    "                                            ((student_class_data['TNUM'] == '06') | (student_class_data['TNUM'] == '07'))]\n",
    "courses_two_three_indx.index"
   ]
  },
  {
   "cell_type": "code",
   "execution_count": 83,
   "metadata": {},
   "outputs": [
    {
     "data": {
      "text/plain": [
       "172"
      ]
     },
     "execution_count": 83,
     "metadata": {},
     "output_type": "execute_result"
    }
   ],
   "source": [
    "#create a list to store course two and three records to remove\n",
    "delete_two_three = []\n",
    "\n",
    "#find records divisable by 3 without a remainder\n",
    "for r in courses_two_three_indx.index.to_list():\n",
    "    if r % 3 == 0:\n",
    "        delete_two_three.append(r)\n",
    "\n",
    "delete_two_three\n",
    "len(delete_two_three)"
   ]
  },
  {
   "cell_type": "markdown",
   "metadata": {},
   "source": [
    "COURSE FOUR"
   ]
  },
  {
   "cell_type": "code",
   "execution_count": 84,
   "metadata": {},
   "outputs": [
    {
     "data": {
      "text/plain": [
       "Index([2886, 2894, 2902, 2910, 2918, 2926, 2934, 2942, 2950, 2958, 2966, 2974,\n",
       "       2982, 2990, 2998, 3006, 3014, 3022, 3030, 3038, 3046, 3054, 3062, 3070,\n",
       "       3078, 3086, 3094, 3102, 3110, 3118, 3126, 3134, 3142, 3150, 3158, 3166,\n",
       "       3174, 3182, 3190, 3198, 3206, 3214, 3222, 3230, 3238, 3246, 3254, 3262,\n",
       "       3270, 3278, 3286, 3294, 3302, 3310, 3318, 3326, 3334, 3342, 3350, 3358,\n",
       "       3366, 3374, 3382, 3390, 3398, 3406, 3414, 3422, 3430, 3438, 3446, 3454,\n",
       "       3462, 3470, 3478, 3486, 3494, 3502, 3510, 3518, 3526, 3534, 3542, 3550],\n",
       "      dtype='int64')"
      ]
     },
     "execution_count": 84,
     "metadata": {},
     "output_type": "execute_result"
    }
   ],
   "source": [
    "#filter by course four and last class\n",
    "course_four_indx = student_class_data[(student_class_data['COURSE_ID'] == 'C0004') & (student_class_data['TNUM'] == '08')]\n",
    "course_four_indx.index"
   ]
  },
  {
   "cell_type": "code",
   "execution_count": 85,
   "metadata": {},
   "outputs": [
    {
     "data": {
      "text/plain": [
       "17"
      ]
     },
     "execution_count": 85,
     "metadata": {},
     "output_type": "execute_result"
    }
   ],
   "source": [
    "#create a list to store course four records to remove\n",
    "delete_four = []\n",
    "\n",
    "#find records divisable by 5 without a remainder\n",
    "for r in course_four_indx.index.to_list():\n",
    "    if r % 5 == 0:\n",
    "        delete_four.append(r)\n",
    "\n",
    "delete_four\n",
    "len(delete_four)"
   ]
  },
  {
   "cell_type": "markdown",
   "metadata": {},
   "source": [
    "COURSE FIVE"
   ]
  },
  {
   "cell_type": "code",
   "execution_count": 86,
   "metadata": {},
   "outputs": [
    {
     "data": {
      "text/plain": [
       "Index([3555, 3560, 3565, 3570, 3575, 3580, 3585, 3590, 3595, 3600,\n",
       "       ...\n",
       "       4260, 4265, 4270, 4275, 4280, 4285, 4290, 4295, 4300, 4305],\n",
       "      dtype='int64', length=151)"
      ]
     },
     "execution_count": 86,
     "metadata": {},
     "output_type": "execute_result"
    }
   ],
   "source": [
    "#filter by course five and last class\n",
    "course_five_indx = student_class_data[(student_class_data['COURSE_ID'] == 'C0005') & (student_class_data['TNUM'] == '05')]\n",
    "course_five_indx.index"
   ]
  },
  {
   "cell_type": "code",
   "execution_count": 87,
   "metadata": {},
   "outputs": [
    {
     "data": {
      "text/plain": [
       "12"
      ]
     },
     "execution_count": 87,
     "metadata": {},
     "output_type": "execute_result"
    }
   ],
   "source": [
    "#create a list to store course five records to remove\n",
    "delete_five = []\n",
    "\n",
    "#find records divisable by 12 without a remainder\n",
    "for r in course_five_indx.index.to_list():\n",
    "    if r % 12 == 0:\n",
    "        delete_five.append(r)\n",
    "\n",
    "delete_five\n",
    "len(delete_five)"
   ]
  },
  {
   "cell_type": "markdown",
   "metadata": {},
   "source": [
    "REMOVE RECORDS TO CREATE UNFINISHED COURSES"
   ]
  },
  {
   "cell_type": "code",
   "execution_count": 88,
   "metadata": {},
   "outputs": [
    {
     "data": {
      "text/plain": [
       "(4306, 24)"
      ]
     },
     "execution_count": 88,
     "metadata": {},
     "output_type": "execute_result"
    }
   ],
   "source": [
    "student_class_data.shape"
   ]
  },
  {
   "cell_type": "code",
   "execution_count": 89,
   "metadata": {},
   "outputs": [],
   "source": [
    "#combine into one index\n",
    "delete_records = delete_one + delete_two_three + delete_four + delete_five\n",
    "\n",
    "#remove course records\n",
    "student_class_data = student_class_data.drop(student_class_data.index[delete_records],\n",
    "                                             axis=0,\n",
    "                                             errors='ignore')"
   ]
  },
  {
   "cell_type": "code",
   "execution_count": 90,
   "metadata": {},
   "outputs": [
    {
     "data": {
      "text/plain": [
       "(4051, 24)"
      ]
     },
     "execution_count": 90,
     "metadata": {},
     "output_type": "execute_result"
    }
   ],
   "source": [
    "student_class_data.shape"
   ]
  },
  {
   "cell_type": "code",
   "execution_count": 91,
   "metadata": {},
   "outputs": [],
   "source": [
    "#remove uninformative feature(s)\n",
    "student_class_data = student_class_data.drop(['index', 'TNUM'],\n",
    "                                             axis=1,\n",
    "                                             errors='ignore')"
   ]
  },
  {
   "cell_type": "markdown",
   "metadata": {},
   "source": [
    "#### **CREATE LOGS**"
   ]
  },
  {
   "cell_type": "code",
   "execution_count": 92,
   "metadata": {},
   "outputs": [
    {
     "data": {
      "text/html": [
       "<div>\n",
       "<style scoped>\n",
       "    .dataframe tbody tr th:only-of-type {\n",
       "        vertical-align: middle;\n",
       "    }\n",
       "\n",
       "    .dataframe tbody tr th {\n",
       "        vertical-align: top;\n",
       "    }\n",
       "\n",
       "    .dataframe thead th {\n",
       "        text-align: right;\n",
       "    }\n",
       "</style>\n",
       "<table border=\"1\" class=\"dataframe\">\n",
       "  <thead>\n",
       "    <tr style=\"text-align: right;\">\n",
       "      <th></th>\n",
       "      <th>STUDENT_ID</th>\n",
       "      <th>ID</th>\n",
       "      <th>COURSE_ID</th>\n",
       "      <th>CLASS_ID</th>\n",
       "      <th>CLASS_START_DATE</th>\n",
       "      <th>CLASS_END_DATE</th>\n",
       "    </tr>\n",
       "  </thead>\n",
       "  <tbody>\n",
       "    <tr>\n",
       "      <th>0</th>\n",
       "      <td>S000002</td>\n",
       "      <td>2</td>\n",
       "      <td>C0001</td>\n",
       "      <td>CERPC101</td>\n",
       "      <td>2022-09-19</td>\n",
       "      <td>2023-01-19</td>\n",
       "    </tr>\n",
       "    <tr>\n",
       "      <th>1</th>\n",
       "      <td>S000002</td>\n",
       "      <td>2</td>\n",
       "      <td>C0001</td>\n",
       "      <td>CERPC102</td>\n",
       "      <td>2022-11-15</td>\n",
       "      <td>2022-12-15</td>\n",
       "    </tr>\n",
       "    <tr>\n",
       "      <th>2</th>\n",
       "      <td>S000002</td>\n",
       "      <td>2</td>\n",
       "      <td>C0001</td>\n",
       "      <td>CERPC103</td>\n",
       "      <td>2022-10-01</td>\n",
       "      <td>2022-10-05</td>\n",
       "    </tr>\n",
       "  </tbody>\n",
       "</table>\n",
       "</div>"
      ],
      "text/plain": [
       "  STUDENT_ID  ID COURSE_ID  CLASS_ID CLASS_START_DATE CLASS_END_DATE\n",
       "0    S000002   2     C0001  CERPC101       2022-09-19     2023-01-19\n",
       "1    S000002   2     C0001  CERPC102       2022-11-15     2022-12-15\n",
       "2    S000002   2     C0001  CERPC103       2022-10-01     2022-10-05"
      ]
     },
     "execution_count": 92,
     "metadata": {},
     "output_type": "execute_result"
    }
   ],
   "source": [
    "#slice the table\n",
    "attend = student_class_data[['STUDENT_ID', 'ID', 'COURSE_ID', 'CLASS_ID', 'CLASS_START_DATE', 'CLASS_END_DATE']]\n",
    "attend.head(3)"
   ]
  },
  {
   "cell_type": "code",
   "execution_count": 93,
   "metadata": {},
   "outputs": [
    {
     "name": "stdout",
     "output_type": "stream",
     "text": [
      "Number of Duplicates: 774\n"
     ]
    }
   ],
   "source": [
    "#check for duplicate values\n",
    "dupl_columns = list(attend.columns)\n",
    "\n",
    "mask = attend.duplicated(subset=dupl_columns)\n",
    "attend_duplicates = attend[mask]\n",
    "print(f'Number of Duplicates: {attend_duplicates.shape[0]}')"
   ]
  },
  {
   "cell_type": "code",
   "execution_count": 94,
   "metadata": {},
   "outputs": [
    {
     "name": "stdout",
     "output_type": "stream",
     "text": [
      "New Dimensions: 3277\n"
     ]
    }
   ],
   "source": [
    "#remove duplicates\n",
    "attend = attend.drop_duplicates(subset=dupl_columns)\n",
    "print(f'New Dimensions: {attend.shape[0]}')"
   ]
  },
  {
   "cell_type": "code",
   "execution_count": 95,
   "metadata": {},
   "outputs": [],
   "source": [
    "#convert to specific format to avoid log_out < log_in\n",
    "attend['CLASS_START_DATE'] = pd.to_datetime(attend['CLASS_START_DATE'],\n",
    "                                       format='%Y-%m-%d %H:%M:%S')\n",
    "\n",
    "attend['CLASS_END_DATE'] = pd.to_datetime(attend['CLASS_END_DATE'],\n",
    "                                     format='%Y-%m-%d %H:%M:%S')"
   ]
  },
  {
   "cell_type": "code",
   "execution_count": 96,
   "metadata": {},
   "outputs": [],
   "source": [
    "import datetime\n",
    "from datetime import date\n",
    "\n",
    "#write a function to create the log in\n",
    "def create_session_start(data):\n",
    "    #create the object class\n",
    "    fake_timezone = Faker()\n",
    "    \n",
    "    #randomize between class start and class end\n",
    "    return fake_timezone.date_time_between(start_date=data['CLASS_START_DATE'],\n",
    "                                             end_date=data['CLASS_END_DATE'])\n",
    "\n",
    "#apply the function\n",
    "attend['LOG_IN'] = attend.apply(create_session_start,\n",
    "                                axis=1)"
   ]
  },
  {
   "cell_type": "code",
   "execution_count": 97,
   "metadata": {},
   "outputs": [],
   "source": [
    "#write a function to create the log out\n",
    "def create_session_end(data):\n",
    "    #create the object class\n",
    "    fake_timezone = Faker()\n",
    "    \n",
    "    #randomize between log in and class end\n",
    "    return fake_timezone.date_time_between(start_date=data['LOG_IN'],\n",
    "                                              end_date=data['CLASS_END_DATE'])\n",
    "\n",
    "#apply the function\n",
    "attend['LOG_OUT'] = attend.apply(create_session_end,\n",
    "                                 axis=1)"
   ]
  },
  {
   "cell_type": "code",
   "execution_count": 98,
   "metadata": {},
   "outputs": [
    {
     "data": {
      "text/html": [
       "<div>\n",
       "<style scoped>\n",
       "    .dataframe tbody tr th:only-of-type {\n",
       "        vertical-align: middle;\n",
       "    }\n",
       "\n",
       "    .dataframe tbody tr th {\n",
       "        vertical-align: top;\n",
       "    }\n",
       "\n",
       "    .dataframe thead th {\n",
       "        text-align: right;\n",
       "    }\n",
       "</style>\n",
       "<table border=\"1\" class=\"dataframe\">\n",
       "  <thead>\n",
       "    <tr style=\"text-align: right;\">\n",
       "      <th></th>\n",
       "      <th>STUDENT_ID</th>\n",
       "      <th>ID</th>\n",
       "      <th>COURSE_ID</th>\n",
       "      <th>CLASS_ID</th>\n",
       "      <th>CLASS_START_DATE</th>\n",
       "      <th>CLASS_END_DATE</th>\n",
       "      <th>LOG_IN</th>\n",
       "      <th>LOG_OUT</th>\n",
       "    </tr>\n",
       "  </thead>\n",
       "  <tbody>\n",
       "    <tr>\n",
       "      <th>0</th>\n",
       "      <td>S000002</td>\n",
       "      <td>2</td>\n",
       "      <td>C0001</td>\n",
       "      <td>CERPC101</td>\n",
       "      <td>2022-09-19</td>\n",
       "      <td>2023-01-19</td>\n",
       "      <td>2022-09-23 11:28:34.121015</td>\n",
       "      <td>2022-11-10 05:12:53.524904</td>\n",
       "    </tr>\n",
       "    <tr>\n",
       "      <th>1</th>\n",
       "      <td>S000002</td>\n",
       "      <td>2</td>\n",
       "      <td>C0001</td>\n",
       "      <td>CERPC102</td>\n",
       "      <td>2022-11-15</td>\n",
       "      <td>2022-12-15</td>\n",
       "      <td>2022-11-24 08:45:31.068376</td>\n",
       "      <td>2022-12-04 16:44:31.439917</td>\n",
       "    </tr>\n",
       "  </tbody>\n",
       "</table>\n",
       "</div>"
      ],
      "text/plain": [
       "  STUDENT_ID  ID COURSE_ID  CLASS_ID CLASS_START_DATE CLASS_END_DATE  \\\n",
       "0    S000002   2     C0001  CERPC101       2022-09-19     2023-01-19   \n",
       "1    S000002   2     C0001  CERPC102       2022-11-15     2022-12-15   \n",
       "\n",
       "                      LOG_IN                    LOG_OUT  \n",
       "0 2022-09-23 11:28:34.121015 2022-11-10 05:12:53.524904  \n",
       "1 2022-11-24 08:45:31.068376 2022-12-04 16:44:31.439917  "
      ]
     },
     "execution_count": 98,
     "metadata": {},
     "output_type": "execute_result"
    }
   ],
   "source": [
    "attend.head(2)"
   ]
  },
  {
   "cell_type": "code",
   "execution_count": 99,
   "metadata": {},
   "outputs": [],
   "source": [
    "#find the session time\n",
    "attend['DIF'] = abs(attend['LOG_OUT'] - attend['LOG_IN'])\n",
    "\n",
    "#convert to string\n",
    "attend['DIF'] = attend['DIF'].astype('string')"
   ]
  },
  {
   "cell_type": "code",
   "execution_count": 100,
   "metadata": {},
   "outputs": [],
   "source": [
    "from datetime import datetime\n",
    "from operator import attrgetter\n",
    "\n",
    "#write a function to return session time (in minutes) to 2dp to signify seconds, i.e. 0.05 = 3 seconds (0.05 * 60 = 3)\n",
    "def str_datetime_to_minute(data):\n",
    "    #split the string\n",
    "    days, time = data['DIF'].split(' days ')\n",
    "    \n",
    "    #separate elements\n",
    "    hours, minutes, seconds, microseconds = attrgetter(\n",
    "        'hour', 'minute', 'second', 'microsecond'\n",
    "    )(datetime.strptime(time, '%H:%M:%S.%f'))\n",
    "    \n",
    "    #convert to minutes rounding down to 2dp\n",
    "    return round(int(days) * 24 * 60\n",
    "            + hours * 60\n",
    "            + minutes\n",
    "            + seconds / 60\n",
    "            + microseconds / 60 / 1000000, 2)"
   ]
  },
  {
   "cell_type": "code",
   "execution_count": 101,
   "metadata": {},
   "outputs": [],
   "source": [
    "#apply the function to create the new feature\n",
    "attend['SESSION_TIME'] = attend.apply(str_datetime_to_minute,\n",
    "                                      axis=1)"
   ]
  },
  {
   "cell_type": "code",
   "execution_count": 102,
   "metadata": {},
   "outputs": [
    {
     "data": {
      "text/html": [
       "<div>\n",
       "<style scoped>\n",
       "    .dataframe tbody tr th:only-of-type {\n",
       "        vertical-align: middle;\n",
       "    }\n",
       "\n",
       "    .dataframe tbody tr th {\n",
       "        vertical-align: top;\n",
       "    }\n",
       "\n",
       "    .dataframe thead th {\n",
       "        text-align: right;\n",
       "    }\n",
       "</style>\n",
       "<table border=\"1\" class=\"dataframe\">\n",
       "  <thead>\n",
       "    <tr style=\"text-align: right;\">\n",
       "      <th></th>\n",
       "      <th>STUDENT_ID</th>\n",
       "      <th>ID</th>\n",
       "      <th>COURSE_ID</th>\n",
       "      <th>CLASS_ID</th>\n",
       "      <th>CLASS_START_DATE</th>\n",
       "      <th>CLASS_END_DATE</th>\n",
       "      <th>LOG_IN</th>\n",
       "      <th>LOG_OUT</th>\n",
       "      <th>DIF</th>\n",
       "      <th>SESSION_TIME</th>\n",
       "    </tr>\n",
       "  </thead>\n",
       "  <tbody>\n",
       "    <tr>\n",
       "      <th>0</th>\n",
       "      <td>S000002</td>\n",
       "      <td>2</td>\n",
       "      <td>C0001</td>\n",
       "      <td>CERPC101</td>\n",
       "      <td>2022-09-19</td>\n",
       "      <td>2023-01-19</td>\n",
       "      <td>2022-09-23 11:28:34.121015</td>\n",
       "      <td>2022-11-10 05:12:53.524904</td>\n",
       "      <td>47 days 17:44:19.403889</td>\n",
       "      <td>68744.32</td>\n",
       "    </tr>\n",
       "    <tr>\n",
       "      <th>1</th>\n",
       "      <td>S000002</td>\n",
       "      <td>2</td>\n",
       "      <td>C0001</td>\n",
       "      <td>CERPC102</td>\n",
       "      <td>2022-11-15</td>\n",
       "      <td>2022-12-15</td>\n",
       "      <td>2022-11-24 08:45:31.068376</td>\n",
       "      <td>2022-12-04 16:44:31.439917</td>\n",
       "      <td>10 days 07:59:00.371541</td>\n",
       "      <td>14879.01</td>\n",
       "    </tr>\n",
       "  </tbody>\n",
       "</table>\n",
       "</div>"
      ],
      "text/plain": [
       "  STUDENT_ID  ID COURSE_ID  CLASS_ID CLASS_START_DATE CLASS_END_DATE  \\\n",
       "0    S000002   2     C0001  CERPC101       2022-09-19     2023-01-19   \n",
       "1    S000002   2     C0001  CERPC102       2022-11-15     2022-12-15   \n",
       "\n",
       "                      LOG_IN                    LOG_OUT  \\\n",
       "0 2022-09-23 11:28:34.121015 2022-11-10 05:12:53.524904   \n",
       "1 2022-11-24 08:45:31.068376 2022-12-04 16:44:31.439917   \n",
       "\n",
       "                       DIF  SESSION_TIME  \n",
       "0  47 days 17:44:19.403889      68744.32  \n",
       "1  10 days 07:59:00.371541      14879.01  "
      ]
     },
     "execution_count": 102,
     "metadata": {},
     "output_type": "execute_result"
    }
   ],
   "source": [
    "attend.head(2)"
   ]
  },
  {
   "cell_type": "code",
   "execution_count": 103,
   "metadata": {},
   "outputs": [
    {
     "data": {
      "text/plain": [
       "SESSION_TIME\n",
       "51.70        1\n",
       "484.13       1\n",
       "18.81        1\n",
       "336.88       1\n",
       "3160.65      1\n",
       "          ... \n",
       "59.43        2\n",
       "9040.18      2\n",
       "0.02         5\n",
       "0.00       290\n",
       "0.01       301\n",
       "Name: count, Length: 2678, dtype: int64"
      ]
     },
     "execution_count": 103,
     "metadata": {},
     "output_type": "execute_result"
    }
   ],
   "source": [
    "#distribution\n",
    "attend['SESSION_TIME'].value_counts().sort_values(ascending=True)"
   ]
  },
  {
   "cell_type": "markdown",
   "metadata": {},
   "source": [
    "not creating multiple sessions, so outliers possible"
   ]
  },
  {
   "cell_type": "code",
   "execution_count": 104,
   "metadata": {},
   "outputs": [
    {
     "data": {
      "text/plain": [
       "3277"
      ]
     },
     "execution_count": 104,
     "metadata": {},
     "output_type": "execute_result"
    }
   ],
   "source": [
    "#create the sessions\n",
    "sessions = list(range(1, (attend.shape[0]+1)))\n",
    "len(sessions)"
   ]
  },
  {
   "cell_type": "code",
   "execution_count": 105,
   "metadata": {},
   "outputs": [],
   "source": [
    "#insert the new feature\n",
    "attend.insert(0, 'SESSION_ID', sessions, True)"
   ]
  },
  {
   "cell_type": "code",
   "execution_count": 106,
   "metadata": {},
   "outputs": [],
   "source": [
    "attend = attend.reset_index()"
   ]
  },
  {
   "cell_type": "code",
   "execution_count": 107,
   "metadata": {},
   "outputs": [],
   "source": [
    "#remove uninformative feature(s)\n",
    "attend = attend.drop('index',\n",
    "                     axis=1,\n",
    "                     errors='ignore')"
   ]
  },
  {
   "cell_type": "code",
   "execution_count": 108,
   "metadata": {},
   "outputs": [
    {
     "data": {
      "text/html": [
       "<div>\n",
       "<style scoped>\n",
       "    .dataframe tbody tr th:only-of-type {\n",
       "        vertical-align: middle;\n",
       "    }\n",
       "\n",
       "    .dataframe tbody tr th {\n",
       "        vertical-align: top;\n",
       "    }\n",
       "\n",
       "    .dataframe thead th {\n",
       "        text-align: right;\n",
       "    }\n",
       "</style>\n",
       "<table border=\"1\" class=\"dataframe\">\n",
       "  <thead>\n",
       "    <tr style=\"text-align: right;\">\n",
       "      <th></th>\n",
       "      <th>SESSION_ID</th>\n",
       "      <th>STUDENT_ID</th>\n",
       "      <th>ID</th>\n",
       "      <th>COURSE_ID</th>\n",
       "      <th>CLASS_ID</th>\n",
       "      <th>CLASS_START_DATE</th>\n",
       "      <th>CLASS_END_DATE</th>\n",
       "      <th>LOG_IN</th>\n",
       "      <th>LOG_OUT</th>\n",
       "      <th>DIF</th>\n",
       "      <th>SESSION_TIME</th>\n",
       "    </tr>\n",
       "  </thead>\n",
       "  <tbody>\n",
       "    <tr>\n",
       "      <th>0</th>\n",
       "      <td>1</td>\n",
       "      <td>S000002</td>\n",
       "      <td>2</td>\n",
       "      <td>C0001</td>\n",
       "      <td>CERPC101</td>\n",
       "      <td>2022-09-19</td>\n",
       "      <td>2023-01-19</td>\n",
       "      <td>2022-09-23 11:28:34.121015</td>\n",
       "      <td>2022-11-10 05:12:53.524904</td>\n",
       "      <td>47 days 17:44:19.403889</td>\n",
       "      <td>68744.32</td>\n",
       "    </tr>\n",
       "    <tr>\n",
       "      <th>1</th>\n",
       "      <td>2</td>\n",
       "      <td>S000002</td>\n",
       "      <td>2</td>\n",
       "      <td>C0001</td>\n",
       "      <td>CERPC102</td>\n",
       "      <td>2022-11-15</td>\n",
       "      <td>2022-12-15</td>\n",
       "      <td>2022-11-24 08:45:31.068376</td>\n",
       "      <td>2022-12-04 16:44:31.439917</td>\n",
       "      <td>10 days 07:59:00.371541</td>\n",
       "      <td>14879.01</td>\n",
       "    </tr>\n",
       "  </tbody>\n",
       "</table>\n",
       "</div>"
      ],
      "text/plain": [
       "   SESSION_ID STUDENT_ID  ID COURSE_ID  CLASS_ID CLASS_START_DATE  \\\n",
       "0           1    S000002   2     C0001  CERPC101       2022-09-19   \n",
       "1           2    S000002   2     C0001  CERPC102       2022-11-15   \n",
       "\n",
       "  CLASS_END_DATE                     LOG_IN                    LOG_OUT  \\\n",
       "0     2023-01-19 2022-09-23 11:28:34.121015 2022-11-10 05:12:53.524904   \n",
       "1     2022-12-15 2022-11-24 08:45:31.068376 2022-12-04 16:44:31.439917   \n",
       "\n",
       "                       DIF  SESSION_TIME  \n",
       "0  47 days 17:44:19.403889      68744.32  \n",
       "1  10 days 07:59:00.371541      14879.01  "
      ]
     },
     "execution_count": 108,
     "metadata": {},
     "output_type": "execute_result"
    }
   ],
   "source": [
    "attend.head(2)"
   ]
  },
  {
   "cell_type": "markdown",
   "metadata": {},
   "source": [
    "EXPORT TABLE"
   ]
  },
  {
   "cell_type": "code",
   "execution_count": 109,
   "metadata": {},
   "outputs": [],
   "source": [
    "#create a file name\n",
    "xlx_name = 'attendance.xlsx'\n",
    "\n",
    "#export to excel\n",
    "attend.to_excel('./experimental/created_tables/' + xlx_name,\n",
    "                sheet_name='logging_data')"
   ]
  },
  {
   "cell_type": "markdown",
   "metadata": {},
   "source": [
    "#### **CREATE COURSE_STATUS**"
   ]
  },
  {
   "cell_type": "code",
   "execution_count": 110,
   "metadata": {},
   "outputs": [
    {
     "data": {
      "text/plain": [
       "STUDENT_ID  COURSE_ID\n",
       "S000000     C0001        90.0\n",
       "            C0003        66.0\n",
       "S000001     C0004        49.0\n",
       "            C0005        57.0\n",
       "S000002     C0001        86.0\n",
       "Name: TEST_SCORE, dtype: float64"
      ]
     },
     "execution_count": 110,
     "metadata": {},
     "output_type": "execute_result"
    }
   ],
   "source": [
    "#group the test_scores by course (per student)\n",
    "average_score_per_course = student_class_data.groupby(['STUDENT_ID', 'COURSE_ID'])['TEST_SCORE'].mean().round(0)\n",
    "average_score_per_course[:5]"
   ]
  },
  {
   "cell_type": "code",
   "execution_count": 111,
   "metadata": {},
   "outputs": [
    {
     "data": {
      "text/plain": [
       "pandas.core.frame.DataFrame"
      ]
     },
     "execution_count": 111,
     "metadata": {},
     "output_type": "execute_result"
    }
   ],
   "source": [
    "#convert series to dataframe\n",
    "average_score_per_course = average_score_per_course.to_frame()\n",
    "type(average_score_per_course)"
   ]
  },
  {
   "cell_type": "code",
   "execution_count": 112,
   "metadata": {},
   "outputs": [],
   "source": [
    "#write a function for course_status\n",
    "def course_pass(data):\n",
    "    if data['TEST_SCORE'] >= 50:\n",
    "        return 'PASS'\n",
    "    else:\n",
    "        return 'FAIL'\n",
    "    \n",
    "#apply the function\n",
    "average_score_per_course['COURSE_STATUS'] = average_score_per_course.apply(course_pass,\n",
    "                                                                           axis=1)"
   ]
  },
  {
   "cell_type": "code",
   "execution_count": 113,
   "metadata": {},
   "outputs": [
    {
     "data": {
      "text/plain": [
       "(476, 2)"
      ]
     },
     "execution_count": 113,
     "metadata": {},
     "output_type": "execute_result"
    }
   ],
   "source": [
    "average_score_per_course.shape"
   ]
  },
  {
   "cell_type": "code",
   "execution_count": 114,
   "metadata": {},
   "outputs": [],
   "source": [
    "#create an index to fill in the blanks\n",
    "average_score_per_course = average_score_per_course.reset_index()"
   ]
  },
  {
   "cell_type": "code",
   "execution_count": 115,
   "metadata": {},
   "outputs": [
    {
     "data": {
      "text/html": [
       "<div>\n",
       "<style scoped>\n",
       "    .dataframe tbody tr th:only-of-type {\n",
       "        vertical-align: middle;\n",
       "    }\n",
       "\n",
       "    .dataframe tbody tr th {\n",
       "        vertical-align: top;\n",
       "    }\n",
       "\n",
       "    .dataframe thead th {\n",
       "        text-align: right;\n",
       "    }\n",
       "</style>\n",
       "<table border=\"1\" class=\"dataframe\">\n",
       "  <thead>\n",
       "    <tr style=\"text-align: right;\">\n",
       "      <th></th>\n",
       "      <th>STUDENT_ID</th>\n",
       "      <th>COURSE_ID</th>\n",
       "      <th>TEST_SCORE</th>\n",
       "      <th>COURSE_STATUS</th>\n",
       "    </tr>\n",
       "  </thead>\n",
       "  <tbody>\n",
       "    <tr>\n",
       "      <th>0</th>\n",
       "      <td>S000000</td>\n",
       "      <td>C0001</td>\n",
       "      <td>90.0</td>\n",
       "      <td>PASS</td>\n",
       "    </tr>\n",
       "    <tr>\n",
       "      <th>1</th>\n",
       "      <td>S000000</td>\n",
       "      <td>C0003</td>\n",
       "      <td>66.0</td>\n",
       "      <td>PASS</td>\n",
       "    </tr>\n",
       "    <tr>\n",
       "      <th>2</th>\n",
       "      <td>S000001</td>\n",
       "      <td>C0004</td>\n",
       "      <td>49.0</td>\n",
       "      <td>FAIL</td>\n",
       "    </tr>\n",
       "  </tbody>\n",
       "</table>\n",
       "</div>"
      ],
      "text/plain": [
       "  STUDENT_ID COURSE_ID  TEST_SCORE COURSE_STATUS\n",
       "0    S000000     C0001        90.0          PASS\n",
       "1    S000000     C0003        66.0          PASS\n",
       "2    S000001     C0004        49.0          FAIL"
      ]
     },
     "execution_count": 115,
     "metadata": {},
     "output_type": "execute_result"
    }
   ],
   "source": [
    "#confirm that the change was applied correctly\n",
    "average_score_per_course.head(3)"
   ]
  },
  {
   "cell_type": "code",
   "execution_count": 116,
   "metadata": {},
   "outputs": [],
   "source": [
    "#rename the column\n",
    "average_score_per_course = average_score_per_course.rename(columns={'TEST_SCORE': 'COURSE_SCORE',\n",
    "                                                                    })"
   ]
  },
  {
   "cell_type": "code",
   "execution_count": 117,
   "metadata": {},
   "outputs": [
    {
     "data": {
      "text/plain": [
       "(476, 4)"
      ]
     },
     "execution_count": 117,
     "metadata": {},
     "output_type": "execute_result"
    }
   ],
   "source": [
    "average_score_per_course.shape"
   ]
  },
  {
   "cell_type": "code",
   "execution_count": 118,
   "metadata": {},
   "outputs": [],
   "source": [
    "#add course_score and course_status to the main merged table\n",
    "student_data = student_class_data.merge(average_score_per_course,\n",
    "                                        how='outer',\n",
    "                                        on=['STUDENT_ID', 'COURSE_ID'])"
   ]
  },
  {
   "cell_type": "code",
   "execution_count": 119,
   "metadata": {},
   "outputs": [
    {
     "data": {
      "text/plain": [
       "(4051, 24)"
      ]
     },
     "execution_count": 119,
     "metadata": {},
     "output_type": "execute_result"
    }
   ],
   "source": [
    "student_data.shape"
   ]
  },
  {
   "cell_type": "code",
   "execution_count": 120,
   "metadata": {},
   "outputs": [
    {
     "data": {
      "text/html": [
       "<div>\n",
       "<style scoped>\n",
       "    .dataframe tbody tr th:only-of-type {\n",
       "        vertical-align: middle;\n",
       "    }\n",
       "\n",
       "    .dataframe tbody tr th {\n",
       "        vertical-align: top;\n",
       "    }\n",
       "\n",
       "    .dataframe thead th {\n",
       "        text-align: right;\n",
       "    }\n",
       "</style>\n",
       "<table border=\"1\" class=\"dataframe\">\n",
       "  <thead>\n",
       "    <tr style=\"text-align: right;\">\n",
       "      <th></th>\n",
       "      <th>STUDENT_ID</th>\n",
       "      <th>FIRST_NAME</th>\n",
       "      <th>LAST_NAME</th>\n",
       "      <th>CITY</th>\n",
       "      <th>BIRTH_DATE</th>\n",
       "      <th>E-MAIL</th>\n",
       "      <th>ID</th>\n",
       "      <th>COURSE_ID</th>\n",
       "      <th>CANCELLED</th>\n",
       "      <th>ENROLMENT_DATE</th>\n",
       "      <th>...</th>\n",
       "      <th>COURSE_START_DATE</th>\n",
       "      <th>COURSE_END_DATE</th>\n",
       "      <th>CLASS_START_DATE</th>\n",
       "      <th>CLASS_END_DATE</th>\n",
       "      <th>TEST_NUMBER</th>\n",
       "      <th>TEST_SCORE</th>\n",
       "      <th>TEST_STATUS</th>\n",
       "      <th>STUDENT_STATUS</th>\n",
       "      <th>COURSE_SCORE</th>\n",
       "      <th>COURSE_STATUS</th>\n",
       "    </tr>\n",
       "  </thead>\n",
       "  <tbody>\n",
       "    <tr>\n",
       "      <th>0</th>\n",
       "      <td>S000000</td>\n",
       "      <td>James</td>\n",
       "      <td>Smith</td>\n",
       "      <td>Moscow</td>\n",
       "      <td>1967-10-01</td>\n",
       "      <td>jamessmith@yandex.com</td>\n",
       "      <td>0</td>\n",
       "      <td>C0001</td>\n",
       "      <td>True</td>\n",
       "      <td>2021-04-12</td>\n",
       "      <td>...</td>\n",
       "      <td>2021-05-16</td>\n",
       "      <td>2021-07-08</td>\n",
       "      <td>2021-07-07</td>\n",
       "      <td>2021-07-07</td>\n",
       "      <td>C0001T00001</td>\n",
       "      <td>90</td>\n",
       "      <td>PASS</td>\n",
       "      <td>INACTIVE</td>\n",
       "      <td>90.0</td>\n",
       "      <td>PASS</td>\n",
       "    </tr>\n",
       "    <tr>\n",
       "      <th>1</th>\n",
       "      <td>S000000</td>\n",
       "      <td>James</td>\n",
       "      <td>Smith</td>\n",
       "      <td>Moscow</td>\n",
       "      <td>1967-10-01</td>\n",
       "      <td>jamessmith@yandex.com</td>\n",
       "      <td>0</td>\n",
       "      <td>C0001</td>\n",
       "      <td>True</td>\n",
       "      <td>2021-04-12</td>\n",
       "      <td>...</td>\n",
       "      <td>2021-05-16</td>\n",
       "      <td>2021-07-08</td>\n",
       "      <td>2021-05-29</td>\n",
       "      <td>2021-06-22</td>\n",
       "      <td>C0001T00002</td>\n",
       "      <td>95</td>\n",
       "      <td>PASS</td>\n",
       "      <td>INACTIVE</td>\n",
       "      <td>90.0</td>\n",
       "      <td>PASS</td>\n",
       "    </tr>\n",
       "  </tbody>\n",
       "</table>\n",
       "<p>2 rows × 24 columns</p>\n",
       "</div>"
      ],
      "text/plain": [
       "  STUDENT_ID FIRST_NAME LAST_NAME    CITY BIRTH_DATE                 E-MAIL  \\\n",
       "0    S000000      James     Smith  Moscow 1967-10-01  jamessmith@yandex.com   \n",
       "1    S000000      James     Smith  Moscow 1967-10-01  jamessmith@yandex.com   \n",
       "\n",
       "   ID COURSE_ID  CANCELLED ENROLMENT_DATE  ... COURSE_START_DATE  \\\n",
       "0   0     C0001       True     2021-04-12  ...        2021-05-16   \n",
       "1   0     C0001       True     2021-04-12  ...        2021-05-16   \n",
       "\n",
       "  COURSE_END_DATE CLASS_START_DATE CLASS_END_DATE  TEST_NUMBER TEST_SCORE  \\\n",
       "0      2021-07-08       2021-07-07     2021-07-07  C0001T00001         90   \n",
       "1      2021-07-08       2021-05-29     2021-06-22  C0001T00002         95   \n",
       "\n",
       "  TEST_STATUS STUDENT_STATUS COURSE_SCORE  COURSE_STATUS  \n",
       "0        PASS       INACTIVE         90.0           PASS  \n",
       "1        PASS       INACTIVE         90.0           PASS  \n",
       "\n",
       "[2 rows x 24 columns]"
      ]
     },
     "execution_count": 120,
     "metadata": {},
     "output_type": "execute_result"
    }
   ],
   "source": [
    "student_data.head(2)"
   ]
  },
  {
   "cell_type": "markdown",
   "metadata": {},
   "source": [
    "#### **CREATE ACHIEVEMENTS AND POINTS**"
   ]
  },
  {
   "cell_type": "markdown",
   "metadata": {},
   "source": [
    "SCORING: 0-100\n",
    "\n",
    "ACHIEVEMENTS:\n",
    "> GOLD: 90-100% \\\n",
    "> SILVER: 80-89% \\\n",
    "> BRONZE: 70-79%\n",
    "\n",
    "POINTS:\n",
    "- GOLD (100)\n",
    "- SILVER (75)\n",
    "- BRONZE (50)"
   ]
  },
  {
   "cell_type": "code",
   "execution_count": 121,
   "metadata": {},
   "outputs": [],
   "source": [
    "#write a function for achievements\n",
    "def create_achievements(data):\n",
    "    if 90 <= data['TEST_SCORE'] <= 100:\n",
    "        return 'GOLD'\n",
    "    elif 80 <= data['TEST_SCORE'] <= 89:\n",
    "        return 'SILVER'\n",
    "    elif 70 <= data['TEST_SCORE'] <= 79:\n",
    "        return 'BRONZE'\n",
    "    else:\n",
    "        return None"
   ]
  },
  {
   "cell_type": "code",
   "execution_count": 122,
   "metadata": {},
   "outputs": [],
   "source": [
    "#apply the function\n",
    "student_data['ACHIEVEMENT'] = student_data.apply(create_achievements,\n",
    "                                                 axis=1)"
   ]
  },
  {
   "cell_type": "code",
   "execution_count": 123,
   "metadata": {},
   "outputs": [],
   "source": [
    "#write a function for points\n",
    "def get_points(data):\n",
    "    if data['ACHIEVEMENT'] == 'GOLD':\n",
    "        return 100\n",
    "    elif data['ACHIEVEMENT'] == 'SILVER':\n",
    "        return 75\n",
    "    elif data['ACHIEVEMENT'] == 'BRONZE':\n",
    "        return 50\n",
    "    else:\n",
    "        return 0"
   ]
  },
  {
   "cell_type": "code",
   "execution_count": 124,
   "metadata": {},
   "outputs": [],
   "source": [
    "#apply the function\n",
    "student_data['POINTS'] = student_data.apply(get_points,\n",
    "                                            axis=1)"
   ]
  },
  {
   "cell_type": "code",
   "execution_count": 125,
   "metadata": {},
   "outputs": [
    {
     "data": {
      "text/html": [
       "<div>\n",
       "<style scoped>\n",
       "    .dataframe tbody tr th:only-of-type {\n",
       "        vertical-align: middle;\n",
       "    }\n",
       "\n",
       "    .dataframe tbody tr th {\n",
       "        vertical-align: top;\n",
       "    }\n",
       "\n",
       "    .dataframe thead th {\n",
       "        text-align: right;\n",
       "    }\n",
       "</style>\n",
       "<table border=\"1\" class=\"dataframe\">\n",
       "  <thead>\n",
       "    <tr style=\"text-align: right;\">\n",
       "      <th></th>\n",
       "      <th>STUDENT_ID</th>\n",
       "      <th>FIRST_NAME</th>\n",
       "      <th>LAST_NAME</th>\n",
       "      <th>CITY</th>\n",
       "      <th>BIRTH_DATE</th>\n",
       "      <th>E-MAIL</th>\n",
       "      <th>ID</th>\n",
       "      <th>COURSE_ID</th>\n",
       "      <th>CANCELLED</th>\n",
       "      <th>ENROLMENT_DATE</th>\n",
       "      <th>...</th>\n",
       "      <th>CLASS_START_DATE</th>\n",
       "      <th>CLASS_END_DATE</th>\n",
       "      <th>TEST_NUMBER</th>\n",
       "      <th>TEST_SCORE</th>\n",
       "      <th>TEST_STATUS</th>\n",
       "      <th>STUDENT_STATUS</th>\n",
       "      <th>COURSE_SCORE</th>\n",
       "      <th>COURSE_STATUS</th>\n",
       "      <th>ACHIEVEMENT</th>\n",
       "      <th>POINTS</th>\n",
       "    </tr>\n",
       "  </thead>\n",
       "  <tbody>\n",
       "    <tr>\n",
       "      <th>0</th>\n",
       "      <td>S000000</td>\n",
       "      <td>James</td>\n",
       "      <td>Smith</td>\n",
       "      <td>Moscow</td>\n",
       "      <td>1967-10-01</td>\n",
       "      <td>jamessmith@yandex.com</td>\n",
       "      <td>0</td>\n",
       "      <td>C0001</td>\n",
       "      <td>True</td>\n",
       "      <td>2021-04-12</td>\n",
       "      <td>...</td>\n",
       "      <td>2021-07-07</td>\n",
       "      <td>2021-07-07</td>\n",
       "      <td>C0001T00001</td>\n",
       "      <td>90</td>\n",
       "      <td>PASS</td>\n",
       "      <td>INACTIVE</td>\n",
       "      <td>90.0</td>\n",
       "      <td>PASS</td>\n",
       "      <td>GOLD</td>\n",
       "      <td>100</td>\n",
       "    </tr>\n",
       "    <tr>\n",
       "      <th>1</th>\n",
       "      <td>S000000</td>\n",
       "      <td>James</td>\n",
       "      <td>Smith</td>\n",
       "      <td>Moscow</td>\n",
       "      <td>1967-10-01</td>\n",
       "      <td>jamessmith@yandex.com</td>\n",
       "      <td>0</td>\n",
       "      <td>C0001</td>\n",
       "      <td>True</td>\n",
       "      <td>2021-04-12</td>\n",
       "      <td>...</td>\n",
       "      <td>2021-05-29</td>\n",
       "      <td>2021-06-22</td>\n",
       "      <td>C0001T00002</td>\n",
       "      <td>95</td>\n",
       "      <td>PASS</td>\n",
       "      <td>INACTIVE</td>\n",
       "      <td>90.0</td>\n",
       "      <td>PASS</td>\n",
       "      <td>GOLD</td>\n",
       "      <td>100</td>\n",
       "    </tr>\n",
       "  </tbody>\n",
       "</table>\n",
       "<p>2 rows × 26 columns</p>\n",
       "</div>"
      ],
      "text/plain": [
       "  STUDENT_ID FIRST_NAME LAST_NAME    CITY BIRTH_DATE                 E-MAIL  \\\n",
       "0    S000000      James     Smith  Moscow 1967-10-01  jamessmith@yandex.com   \n",
       "1    S000000      James     Smith  Moscow 1967-10-01  jamessmith@yandex.com   \n",
       "\n",
       "   ID COURSE_ID  CANCELLED ENROLMENT_DATE  ... CLASS_START_DATE  \\\n",
       "0   0     C0001       True     2021-04-12  ...       2021-07-07   \n",
       "1   0     C0001       True     2021-04-12  ...       2021-05-29   \n",
       "\n",
       "  CLASS_END_DATE  TEST_NUMBER TEST_SCORE TEST_STATUS STUDENT_STATUS  \\\n",
       "0     2021-07-07  C0001T00001         90        PASS       INACTIVE   \n",
       "1     2021-06-22  C0001T00002         95        PASS       INACTIVE   \n",
       "\n",
       "  COURSE_SCORE COURSE_STATUS ACHIEVEMENT  POINTS  \n",
       "0         90.0          PASS        GOLD     100  \n",
       "1         90.0          PASS        GOLD     100  \n",
       "\n",
       "[2 rows x 26 columns]"
      ]
     },
     "execution_count": 125,
     "metadata": {},
     "output_type": "execute_result"
    }
   ],
   "source": [
    "student_data.head(2)"
   ]
  },
  {
   "cell_type": "markdown",
   "metadata": {},
   "source": [
    "ADD LOGGING DETAILS"
   ]
  },
  {
   "cell_type": "code",
   "execution_count": 127,
   "metadata": {},
   "outputs": [],
   "source": [
    "#add class dates to the main merged table\n",
    "student_data = student_data.merge(attend,\n",
    "                                  how='left',\n",
    "                                  on=['STUDENT_ID', 'ID',\n",
    "                                      'COURSE_ID', 'CLASS_ID'])"
   ]
  },
  {
   "cell_type": "code",
   "execution_count": 128,
   "metadata": {},
   "outputs": [
    {
     "data": {
      "text/plain": [
       "ACHIEVEMENT    1351\n",
       "dtype: int64"
      ]
     },
     "execution_count": 128,
     "metadata": {},
     "output_type": "execute_result"
    }
   ],
   "source": [
    "#check for null values\n",
    "student_data.isnull().sum()[student_data.isnull().sum() > 0]"
   ]
  },
  {
   "cell_type": "markdown",
   "metadata": {},
   "source": [
    "##### **CORRECTIONS**"
   ]
  },
  {
   "cell_type": "code",
   "execution_count": 129,
   "metadata": {},
   "outputs": [
    {
     "data": {
      "text/html": [
       "<div>\n",
       "<style scoped>\n",
       "    .dataframe tbody tr th:only-of-type {\n",
       "        vertical-align: middle;\n",
       "    }\n",
       "\n",
       "    .dataframe tbody tr th {\n",
       "        vertical-align: top;\n",
       "    }\n",
       "\n",
       "    .dataframe thead th {\n",
       "        text-align: right;\n",
       "    }\n",
       "</style>\n",
       "<table border=\"1\" class=\"dataframe\">\n",
       "  <thead>\n",
       "    <tr style=\"text-align: right;\">\n",
       "      <th></th>\n",
       "      <th>STUDENT_ID</th>\n",
       "      <th>FIRST_NAME</th>\n",
       "      <th>LAST_NAME</th>\n",
       "      <th>CITY</th>\n",
       "      <th>BIRTH_DATE</th>\n",
       "      <th>E-MAIL</th>\n",
       "      <th>ID</th>\n",
       "      <th>COURSE_ID</th>\n",
       "      <th>CANCELLED</th>\n",
       "      <th>ENROLMENT_DATE</th>\n",
       "      <th>...</th>\n",
       "      <th>COURSE_STATUS</th>\n",
       "      <th>ACHIEVEMENT</th>\n",
       "      <th>POINTS</th>\n",
       "      <th>SESSION_ID</th>\n",
       "      <th>CLASS_START_DATE_y</th>\n",
       "      <th>CLASS_END_DATE_y</th>\n",
       "      <th>LOG_IN</th>\n",
       "      <th>LOG_OUT</th>\n",
       "      <th>DIF</th>\n",
       "      <th>SESSION_TIME</th>\n",
       "    </tr>\n",
       "  </thead>\n",
       "  <tbody>\n",
       "    <tr>\n",
       "      <th>0</th>\n",
       "      <td>S000000</td>\n",
       "      <td>James</td>\n",
       "      <td>Smith</td>\n",
       "      <td>Moscow</td>\n",
       "      <td>1967-10-01</td>\n",
       "      <td>jamessmith@yandex.com</td>\n",
       "      <td>0</td>\n",
       "      <td>C0001</td>\n",
       "      <td>True</td>\n",
       "      <td>2021-04-12</td>\n",
       "      <td>...</td>\n",
       "      <td>PASS</td>\n",
       "      <td>GOLD</td>\n",
       "      <td>100</td>\n",
       "      <td>553</td>\n",
       "      <td>2021-07-07</td>\n",
       "      <td>2021-07-07</td>\n",
       "      <td>2021-07-07 00:00:00.047659</td>\n",
       "      <td>2021-07-07 00:00:00.829958</td>\n",
       "      <td>0 days 00:00:00.782299</td>\n",
       "      <td>0.01</td>\n",
       "    </tr>\n",
       "    <tr>\n",
       "      <th>1</th>\n",
       "      <td>S000000</td>\n",
       "      <td>James</td>\n",
       "      <td>Smith</td>\n",
       "      <td>Moscow</td>\n",
       "      <td>1967-10-01</td>\n",
       "      <td>jamessmith@yandex.com</td>\n",
       "      <td>0</td>\n",
       "      <td>C0001</td>\n",
       "      <td>True</td>\n",
       "      <td>2021-04-12</td>\n",
       "      <td>...</td>\n",
       "      <td>PASS</td>\n",
       "      <td>GOLD</td>\n",
       "      <td>100</td>\n",
       "      <td>554</td>\n",
       "      <td>2021-05-29</td>\n",
       "      <td>2021-06-22</td>\n",
       "      <td>2021-06-10 20:03:09.436395</td>\n",
       "      <td>2021-06-21 01:27:26.322408</td>\n",
       "      <td>10 days 05:24:16.886013</td>\n",
       "      <td>14724.28</td>\n",
       "    </tr>\n",
       "    <tr>\n",
       "      <th>2</th>\n",
       "      <td>S000000</td>\n",
       "      <td>James</td>\n",
       "      <td>Smith</td>\n",
       "      <td>Moscow</td>\n",
       "      <td>1967-10-01</td>\n",
       "      <td>jamessmith@yandex.com</td>\n",
       "      <td>0</td>\n",
       "      <td>C0001</td>\n",
       "      <td>True</td>\n",
       "      <td>2021-04-12</td>\n",
       "      <td>...</td>\n",
       "      <td>PASS</td>\n",
       "      <td>SILVER</td>\n",
       "      <td>75</td>\n",
       "      <td>555</td>\n",
       "      <td>2021-05-25</td>\n",
       "      <td>2021-06-18</td>\n",
       "      <td>2021-06-16 22:47:55.012603</td>\n",
       "      <td>2021-06-17 07:15:20.502716</td>\n",
       "      <td>0 days 08:27:25.490113</td>\n",
       "      <td>507.42</td>\n",
       "    </tr>\n",
       "  </tbody>\n",
       "</table>\n",
       "<p>3 rows × 33 columns</p>\n",
       "</div>"
      ],
      "text/plain": [
       "  STUDENT_ID FIRST_NAME LAST_NAME    CITY BIRTH_DATE                 E-MAIL  \\\n",
       "0    S000000      James     Smith  Moscow 1967-10-01  jamessmith@yandex.com   \n",
       "1    S000000      James     Smith  Moscow 1967-10-01  jamessmith@yandex.com   \n",
       "2    S000000      James     Smith  Moscow 1967-10-01  jamessmith@yandex.com   \n",
       "\n",
       "   ID COURSE_ID  CANCELLED ENROLMENT_DATE  ... COURSE_STATUS ACHIEVEMENT  \\\n",
       "0   0     C0001       True     2021-04-12  ...          PASS        GOLD   \n",
       "1   0     C0001       True     2021-04-12  ...          PASS        GOLD   \n",
       "2   0     C0001       True     2021-04-12  ...          PASS      SILVER   \n",
       "\n",
       "  POINTS SESSION_ID CLASS_START_DATE_y CLASS_END_DATE_y  \\\n",
       "0    100        553         2021-07-07       2021-07-07   \n",
       "1    100        554         2021-05-29       2021-06-22   \n",
       "2     75        555         2021-05-25       2021-06-18   \n",
       "\n",
       "                      LOG_IN                    LOG_OUT  \\\n",
       "0 2021-07-07 00:00:00.047659 2021-07-07 00:00:00.829958   \n",
       "1 2021-06-10 20:03:09.436395 2021-06-21 01:27:26.322408   \n",
       "2 2021-06-16 22:47:55.012603 2021-06-17 07:15:20.502716   \n",
       "\n",
       "                       DIF  SESSION_TIME  \n",
       "0   0 days 00:00:00.782299          0.01  \n",
       "1  10 days 05:24:16.886013      14724.28  \n",
       "2   0 days 08:27:25.490113        507.42  \n",
       "\n",
       "[3 rows x 33 columns]"
      ]
     },
     "execution_count": 129,
     "metadata": {},
     "output_type": "execute_result"
    }
   ],
   "source": [
    "student_data.head(3)"
   ]
  },
  {
   "cell_type": "code",
   "execution_count": 131,
   "metadata": {},
   "outputs": [
    {
     "data": {
      "text/html": [
       "<div>\n",
       "<style scoped>\n",
       "    .dataframe tbody tr th:only-of-type {\n",
       "        vertical-align: middle;\n",
       "    }\n",
       "\n",
       "    .dataframe tbody tr th {\n",
       "        vertical-align: top;\n",
       "    }\n",
       "\n",
       "    .dataframe thead th {\n",
       "        text-align: right;\n",
       "    }\n",
       "</style>\n",
       "<table border=\"1\" class=\"dataframe\">\n",
       "  <thead>\n",
       "    <tr style=\"text-align: right;\">\n",
       "      <th></th>\n",
       "      <th>CLASS_START_DATE_x</th>\n",
       "      <th>CLASS_START_DATE_y</th>\n",
       "      <th>CLASS_END_DATE_x</th>\n",
       "      <th>CLASS_END_DATE_y</th>\n",
       "    </tr>\n",
       "  </thead>\n",
       "  <tbody>\n",
       "    <tr>\n",
       "      <th>0</th>\n",
       "      <td>2021-07-07</td>\n",
       "      <td>2021-07-07</td>\n",
       "      <td>2021-07-07</td>\n",
       "      <td>2021-07-07</td>\n",
       "    </tr>\n",
       "    <tr>\n",
       "      <th>1</th>\n",
       "      <td>2021-05-29</td>\n",
       "      <td>2021-05-29</td>\n",
       "      <td>2021-06-22</td>\n",
       "      <td>2021-06-22</td>\n",
       "    </tr>\n",
       "  </tbody>\n",
       "</table>\n",
       "</div>"
      ],
      "text/plain": [
       "  CLASS_START_DATE_x CLASS_START_DATE_y CLASS_END_DATE_x CLASS_END_DATE_y\n",
       "0         2021-07-07         2021-07-07       2021-07-07       2021-07-07\n",
       "1         2021-05-29         2021-05-29       2021-06-22       2021-06-22"
      ]
     },
     "execution_count": 131,
     "metadata": {},
     "output_type": "execute_result"
    }
   ],
   "source": [
    "student_data[['CLASS_START_DATE_x', 'CLASS_START_DATE_y', 'CLASS_END_DATE_x', 'CLASS_END_DATE_y']].head(2)"
   ]
  },
  {
   "cell_type": "markdown",
   "metadata": {},
   "source": [
    "LOGIC CHECK"
   ]
  },
  {
   "cell_type": "code",
   "execution_count": 133,
   "metadata": {},
   "outputs": [
    {
     "data": {
      "text/html": [
       "<div>\n",
       "<style scoped>\n",
       "    .dataframe tbody tr th:only-of-type {\n",
       "        vertical-align: middle;\n",
       "    }\n",
       "\n",
       "    .dataframe tbody tr th {\n",
       "        vertical-align: top;\n",
       "    }\n",
       "\n",
       "    .dataframe thead th {\n",
       "        text-align: right;\n",
       "    }\n",
       "</style>\n",
       "<table border=\"1\" class=\"dataframe\">\n",
       "  <thead>\n",
       "    <tr style=\"text-align: right;\">\n",
       "      <th></th>\n",
       "      <th>STUDENT_ID</th>\n",
       "      <th>FIRST_NAME</th>\n",
       "      <th>LAST_NAME</th>\n",
       "      <th>CITY</th>\n",
       "      <th>BIRTH_DATE</th>\n",
       "      <th>E-MAIL</th>\n",
       "      <th>ID</th>\n",
       "      <th>COURSE_ID</th>\n",
       "      <th>CANCELLED</th>\n",
       "      <th>ENROLMENT_DATE</th>\n",
       "      <th>...</th>\n",
       "      <th>COURSE_STATUS</th>\n",
       "      <th>ACHIEVEMENT</th>\n",
       "      <th>POINTS</th>\n",
       "      <th>SESSION_ID</th>\n",
       "      <th>CLASS_START_DATE_y</th>\n",
       "      <th>CLASS_END_DATE_y</th>\n",
       "      <th>LOG_IN</th>\n",
       "      <th>LOG_OUT</th>\n",
       "      <th>DIF</th>\n",
       "      <th>SESSION_TIME</th>\n",
       "    </tr>\n",
       "  </thead>\n",
       "  <tbody>\n",
       "  </tbody>\n",
       "</table>\n",
       "<p>0 rows × 33 columns</p>\n",
       "</div>"
      ],
      "text/plain": [
       "Empty DataFrame\n",
       "Columns: [STUDENT_ID, FIRST_NAME, LAST_NAME, CITY, BIRTH_DATE, E-MAIL, ID, COURSE_ID, CANCELLED, ENROLMENT_DATE, COMPLETION_DATE, CLASS_ID, CLASS_TITLE, COURSE_TITLE, COURSE_START_DATE, COURSE_END_DATE, CLASS_START_DATE_x, CLASS_END_DATE_x, TEST_NUMBER, TEST_SCORE, TEST_STATUS, STUDENT_STATUS, COURSE_SCORE, COURSE_STATUS, ACHIEVEMENT, POINTS, SESSION_ID, CLASS_START_DATE_y, CLASS_END_DATE_y, LOG_IN, LOG_OUT, DIF, SESSION_TIME]\n",
       "Index: []\n",
       "\n",
       "[0 rows x 33 columns]"
      ]
     },
     "execution_count": 133,
     "metadata": {},
     "output_type": "execute_result"
    }
   ],
   "source": [
    "student_data[student_data['CLASS_START_DATE_x'] != student_data['CLASS_START_DATE_y']]"
   ]
  },
  {
   "cell_type": "code",
   "execution_count": 134,
   "metadata": {},
   "outputs": [
    {
     "data": {
      "text/html": [
       "<div>\n",
       "<style scoped>\n",
       "    .dataframe tbody tr th:only-of-type {\n",
       "        vertical-align: middle;\n",
       "    }\n",
       "\n",
       "    .dataframe tbody tr th {\n",
       "        vertical-align: top;\n",
       "    }\n",
       "\n",
       "    .dataframe thead th {\n",
       "        text-align: right;\n",
       "    }\n",
       "</style>\n",
       "<table border=\"1\" class=\"dataframe\">\n",
       "  <thead>\n",
       "    <tr style=\"text-align: right;\">\n",
       "      <th></th>\n",
       "      <th>STUDENT_ID</th>\n",
       "      <th>FIRST_NAME</th>\n",
       "      <th>LAST_NAME</th>\n",
       "      <th>CITY</th>\n",
       "      <th>BIRTH_DATE</th>\n",
       "      <th>E-MAIL</th>\n",
       "      <th>ID</th>\n",
       "      <th>COURSE_ID</th>\n",
       "      <th>CANCELLED</th>\n",
       "      <th>ENROLMENT_DATE</th>\n",
       "      <th>...</th>\n",
       "      <th>COURSE_STATUS</th>\n",
       "      <th>ACHIEVEMENT</th>\n",
       "      <th>POINTS</th>\n",
       "      <th>SESSION_ID</th>\n",
       "      <th>CLASS_START_DATE_y</th>\n",
       "      <th>CLASS_END_DATE_y</th>\n",
       "      <th>LOG_IN</th>\n",
       "      <th>LOG_OUT</th>\n",
       "      <th>DIF</th>\n",
       "      <th>SESSION_TIME</th>\n",
       "    </tr>\n",
       "  </thead>\n",
       "  <tbody>\n",
       "  </tbody>\n",
       "</table>\n",
       "<p>0 rows × 33 columns</p>\n",
       "</div>"
      ],
      "text/plain": [
       "Empty DataFrame\n",
       "Columns: [STUDENT_ID, FIRST_NAME, LAST_NAME, CITY, BIRTH_DATE, E-MAIL, ID, COURSE_ID, CANCELLED, ENROLMENT_DATE, COMPLETION_DATE, CLASS_ID, CLASS_TITLE, COURSE_TITLE, COURSE_START_DATE, COURSE_END_DATE, CLASS_START_DATE_x, CLASS_END_DATE_x, TEST_NUMBER, TEST_SCORE, TEST_STATUS, STUDENT_STATUS, COURSE_SCORE, COURSE_STATUS, ACHIEVEMENT, POINTS, SESSION_ID, CLASS_START_DATE_y, CLASS_END_DATE_y, LOG_IN, LOG_OUT, DIF, SESSION_TIME]\n",
       "Index: []\n",
       "\n",
       "[0 rows x 33 columns]"
      ]
     },
     "execution_count": 134,
     "metadata": {},
     "output_type": "execute_result"
    }
   ],
   "source": [
    "student_data[student_data['CLASS_END_DATE_x'] != student_data['CLASS_END_DATE_y']]"
   ]
  },
  {
   "cell_type": "code",
   "execution_count": 135,
   "metadata": {},
   "outputs": [],
   "source": [
    "#rename the columns\n",
    "student_data = student_data.rename(columns={'CLASS_START_DATE_x': 'CLASS_START_DATE',\n",
    "                                            'CLASS_END_DATE_x': 'CLASS_END_DATE',\n",
    "                                            })"
   ]
  },
  {
   "cell_type": "code",
   "execution_count": 136,
   "metadata": {},
   "outputs": [],
   "source": [
    "#drop unnecessary feature(s)\n",
    "student_data = student_data.drop(['CLASS_START_DATE_y', 'CLASS_END_DATE_y'],\n",
    "                                 axis=1,\n",
    "                                 errors='ignore')"
   ]
  },
  {
   "cell_type": "code",
   "execution_count": 144,
   "metadata": {},
   "outputs": [],
   "source": [
    "#drop unnecessary feature(s)\n",
    "student_data = student_data.drop(['SESSION_ID', 'DIF'],\n",
    "                                 axis=1,\n",
    "                                 errors='ignore')"
   ]
  },
  {
   "cell_type": "code",
   "execution_count": 137,
   "metadata": {},
   "outputs": [
    {
     "data": {
      "text/html": [
       "<div>\n",
       "<style scoped>\n",
       "    .dataframe tbody tr th:only-of-type {\n",
       "        vertical-align: middle;\n",
       "    }\n",
       "\n",
       "    .dataframe tbody tr th {\n",
       "        vertical-align: top;\n",
       "    }\n",
       "\n",
       "    .dataframe thead th {\n",
       "        text-align: right;\n",
       "    }\n",
       "</style>\n",
       "<table border=\"1\" class=\"dataframe\">\n",
       "  <thead>\n",
       "    <tr style=\"text-align: right;\">\n",
       "      <th></th>\n",
       "      <th>STUDENT_ID</th>\n",
       "      <th>FIRST_NAME</th>\n",
       "      <th>LAST_NAME</th>\n",
       "      <th>CITY</th>\n",
       "      <th>BIRTH_DATE</th>\n",
       "      <th>E-MAIL</th>\n",
       "      <th>ID</th>\n",
       "      <th>COURSE_ID</th>\n",
       "      <th>CANCELLED</th>\n",
       "      <th>ENROLMENT_DATE</th>\n",
       "      <th>...</th>\n",
       "      <th>STUDENT_STATUS</th>\n",
       "      <th>COURSE_SCORE</th>\n",
       "      <th>COURSE_STATUS</th>\n",
       "      <th>ACHIEVEMENT</th>\n",
       "      <th>POINTS</th>\n",
       "      <th>SESSION_ID</th>\n",
       "      <th>LOG_IN</th>\n",
       "      <th>LOG_OUT</th>\n",
       "      <th>DIF</th>\n",
       "      <th>SESSION_TIME</th>\n",
       "    </tr>\n",
       "  </thead>\n",
       "  <tbody>\n",
       "    <tr>\n",
       "      <th>0</th>\n",
       "      <td>S000000</td>\n",
       "      <td>James</td>\n",
       "      <td>Smith</td>\n",
       "      <td>Moscow</td>\n",
       "      <td>1967-10-01</td>\n",
       "      <td>jamessmith@yandex.com</td>\n",
       "      <td>0</td>\n",
       "      <td>C0001</td>\n",
       "      <td>True</td>\n",
       "      <td>2021-04-12</td>\n",
       "      <td>...</td>\n",
       "      <td>INACTIVE</td>\n",
       "      <td>90.0</td>\n",
       "      <td>PASS</td>\n",
       "      <td>GOLD</td>\n",
       "      <td>100</td>\n",
       "      <td>553</td>\n",
       "      <td>2021-07-07 00:00:00.047659</td>\n",
       "      <td>2021-07-07 00:00:00.829958</td>\n",
       "      <td>0 days 00:00:00.782299</td>\n",
       "      <td>0.01</td>\n",
       "    </tr>\n",
       "    <tr>\n",
       "      <th>1</th>\n",
       "      <td>S000000</td>\n",
       "      <td>James</td>\n",
       "      <td>Smith</td>\n",
       "      <td>Moscow</td>\n",
       "      <td>1967-10-01</td>\n",
       "      <td>jamessmith@yandex.com</td>\n",
       "      <td>0</td>\n",
       "      <td>C0001</td>\n",
       "      <td>True</td>\n",
       "      <td>2021-04-12</td>\n",
       "      <td>...</td>\n",
       "      <td>INACTIVE</td>\n",
       "      <td>90.0</td>\n",
       "      <td>PASS</td>\n",
       "      <td>GOLD</td>\n",
       "      <td>100</td>\n",
       "      <td>554</td>\n",
       "      <td>2021-06-10 20:03:09.436395</td>\n",
       "      <td>2021-06-21 01:27:26.322408</td>\n",
       "      <td>10 days 05:24:16.886013</td>\n",
       "      <td>14724.28</td>\n",
       "    </tr>\n",
       "  </tbody>\n",
       "</table>\n",
       "<p>2 rows × 31 columns</p>\n",
       "</div>"
      ],
      "text/plain": [
       "  STUDENT_ID FIRST_NAME LAST_NAME    CITY BIRTH_DATE                 E-MAIL  \\\n",
       "0    S000000      James     Smith  Moscow 1967-10-01  jamessmith@yandex.com   \n",
       "1    S000000      James     Smith  Moscow 1967-10-01  jamessmith@yandex.com   \n",
       "\n",
       "   ID COURSE_ID  CANCELLED ENROLMENT_DATE  ... STUDENT_STATUS COURSE_SCORE  \\\n",
       "0   0     C0001       True     2021-04-12  ...       INACTIVE         90.0   \n",
       "1   0     C0001       True     2021-04-12  ...       INACTIVE         90.0   \n",
       "\n",
       "  COURSE_STATUS ACHIEVEMENT POINTS SESSION_ID                     LOG_IN  \\\n",
       "0          PASS        GOLD    100        553 2021-07-07 00:00:00.047659   \n",
       "1          PASS        GOLD    100        554 2021-06-10 20:03:09.436395   \n",
       "\n",
       "                     LOG_OUT                      DIF  SESSION_TIME  \n",
       "0 2021-07-07 00:00:00.829958   0 days 00:00:00.782299          0.01  \n",
       "1 2021-06-21 01:27:26.322408  10 days 05:24:16.886013      14724.28  \n",
       "\n",
       "[2 rows x 31 columns]"
      ]
     },
     "execution_count": 137,
     "metadata": {},
     "output_type": "execute_result"
    }
   ],
   "source": [
    "student_data.head(2)"
   ]
  },
  {
   "cell_type": "code",
   "execution_count": 146,
   "metadata": {},
   "outputs": [],
   "source": [
    "#set to datetime\n",
    "student_data['BIRTH_DATE'] = pd.to_datetime(student_data['BIRTH_DATE'])\n",
    "student_data['ENROLMENT_DATE'] = pd.to_datetime(student_data['ENROLMENT_DATE'])\n",
    "student_data['COMPLETION_DATE'] = pd.to_datetime(student_data['COMPLETION_DATE'])\n",
    "student_data['COURSE_START_DATE'] = pd.to_datetime(student_data['COURSE_START_DATE'])\n",
    "student_data['COURSE_END_DATE'] = pd.to_datetime(student_data['COURSE_END_DATE'])\n",
    "student_data['CLASS_START_DATE'] = pd.to_datetime(student_data['CLASS_START_DATE'])\n",
    "student_data['CLASS_END_DATE'] = pd.to_datetime(student_data['CLASS_END_DATE'])"
   ]
  },
  {
   "cell_type": "code",
   "execution_count": 147,
   "metadata": {},
   "outputs": [],
   "source": [
    "#change object to string\n",
    "student_data['STUDENT_ID'] = student_data['STUDENT_ID'].astype('string')\n",
    "student_data['FIRST_NAME'] = student_data['FIRST_NAME'].astype('string')\n",
    "student_data['LAST_NAME'] = student_data['LAST_NAME'].astype('string')\n",
    "student_data['CITY'] = student_data['CITY'].astype('string')\n",
    "student_data['E-MAIL'] = student_data['E-MAIL'].astype('string')\n",
    "student_data['COURSE_ID'] = student_data['COURSE_ID'].astype('string')\n",
    "student_data['CLASS_ID'] = student_data['CLASS_ID'].astype('string')\n",
    "student_data['CLASS_TITLE'] = student_data['CLASS_TITLE'].astype('string')\n",
    "student_data['COURSE_TITLE'] = student_data['COURSE_TITLE'].astype('string')\n",
    "student_data['TEST_NUMBER'] = student_data['TEST_NUMBER'].astype('string')\n",
    "student_data['TEST_STATUS'] = student_data['TEST_STATUS'].astype('string')\n",
    "student_data['STUDENT_STATUS'] = student_data['STUDENT_STATUS'].astype('string')\n",
    "student_data['COURSE_STATUS'] = student_data['COURSE_STATUS'].astype('string')\n",
    "student_data['ACHIEVEMENT'] = student_data['ACHIEVEMENT'].astype('string')"
   ]
  },
  {
   "cell_type": "code",
   "execution_count": 148,
   "metadata": {},
   "outputs": [],
   "source": [
    "#change object to integer\n",
    "student_data['ID'] = student_data['ID'].to_numpy('int16')\n",
    "student_data['TEST_SCORE'] = student_data['TEST_SCORE'].to_numpy('int8')\n",
    "student_data['POINTS'] = student_data['POINTS'].to_numpy('int8')"
   ]
  },
  {
   "cell_type": "markdown",
   "metadata": {},
   "source": [
    "##### **EXPORT TABLES**"
   ]
  },
  {
   "cell_type": "code",
   "execution_count": 150,
   "metadata": {},
   "outputs": [],
   "source": [
    "# #remove timezone from columns\n",
    "# student_data[''] = student_data['Programme_Completion'].dt.tz_localize(None)"
   ]
  },
  {
   "cell_type": "code",
   "execution_count": 151,
   "metadata": {},
   "outputs": [],
   "source": [
    "#create a file name\n",
    "xlx_name = 'merged_tables.xlsx'\n",
    "\n",
    "#export to excel\n",
    "student_data.to_excel('./experimental/database_tables/' + xlx_name,\n",
    "                       sheet_name='merged_tables')"
   ]
  },
  {
   "cell_type": "markdown",
   "metadata": {},
   "source": [
    "TEST_SCORES"
   ]
  },
  {
   "cell_type": "code",
   "execution_count": 152,
   "metadata": {},
   "outputs": [
    {
     "data": {
      "text/html": [
       "<div>\n",
       "<style scoped>\n",
       "    .dataframe tbody tr th:only-of-type {\n",
       "        vertical-align: middle;\n",
       "    }\n",
       "\n",
       "    .dataframe tbody tr th {\n",
       "        vertical-align: top;\n",
       "    }\n",
       "\n",
       "    .dataframe thead th {\n",
       "        text-align: right;\n",
       "    }\n",
       "</style>\n",
       "<table border=\"1\" class=\"dataframe\">\n",
       "  <thead>\n",
       "    <tr style=\"text-align: right;\">\n",
       "      <th></th>\n",
       "      <th>STUDENT_ID</th>\n",
       "      <th>COURSE_ID</th>\n",
       "      <th>CLASS_ID</th>\n",
       "      <th>TEST_NUMBER</th>\n",
       "      <th>TEST_SCORE</th>\n",
       "      <th>TEST_STATUS</th>\n",
       "      <th>STUDENT_STATUS</th>\n",
       "      <th>ACHIEVEMENT</th>\n",
       "      <th>POINTS</th>\n",
       "    </tr>\n",
       "  </thead>\n",
       "  <tbody>\n",
       "    <tr>\n",
       "      <th>0</th>\n",
       "      <td>S000000</td>\n",
       "      <td>C0001</td>\n",
       "      <td>CERPC101</td>\n",
       "      <td>C0001T00001</td>\n",
       "      <td>90</td>\n",
       "      <td>PASS</td>\n",
       "      <td>INACTIVE</td>\n",
       "      <td>GOLD</td>\n",
       "      <td>100</td>\n",
       "    </tr>\n",
       "    <tr>\n",
       "      <th>1</th>\n",
       "      <td>S000000</td>\n",
       "      <td>C0001</td>\n",
       "      <td>CERPC102</td>\n",
       "      <td>C0001T00002</td>\n",
       "      <td>95</td>\n",
       "      <td>PASS</td>\n",
       "      <td>INACTIVE</td>\n",
       "      <td>GOLD</td>\n",
       "      <td>100</td>\n",
       "    </tr>\n",
       "  </tbody>\n",
       "</table>\n",
       "</div>"
      ],
      "text/plain": [
       "  STUDENT_ID COURSE_ID  CLASS_ID  TEST_NUMBER  TEST_SCORE TEST_STATUS  \\\n",
       "0    S000000     C0001  CERPC101  C0001T00001          90        PASS   \n",
       "1    S000000     C0001  CERPC102  C0001T00002          95        PASS   \n",
       "\n",
       "  STUDENT_STATUS ACHIEVEMENT  POINTS  \n",
       "0       INACTIVE        GOLD     100  \n",
       "1       INACTIVE        GOLD     100  "
      ]
     },
     "execution_count": 152,
     "metadata": {},
     "output_type": "execute_result"
    }
   ],
   "source": [
    "#slice the merged table\n",
    "test_scores = student_data[['STUDENT_ID', \n",
    "                            'COURSE_ID', 'CLASS_ID',\n",
    "                            'TEST_NUMBER', 'TEST_SCORE', 'TEST_STATUS',\n",
    "                            'STUDENT_STATUS',\n",
    "                            'ACHIEVEMENT', 'POINTS']]\n",
    "\n",
    "test_scores.head(2)"
   ]
  },
  {
   "cell_type": "code",
   "execution_count": 153,
   "metadata": {},
   "outputs": [],
   "source": [
    "#create a file name\n",
    "xlx_name = 'test_scores.xlsx'\n",
    "\n",
    "#export to excel\n",
    "test_scores.to_excel('./experimental/created_tables/' + xlx_name,\n",
    "                       sheet_name='test_scores')"
   ]
  },
  {
   "cell_type": "markdown",
   "metadata": {},
   "source": [
    "CURRENT COURSES"
   ]
  },
  {
   "cell_type": "code",
   "execution_count": 154,
   "metadata": {},
   "outputs": [
    {
     "data": {
      "text/html": [
       "<div>\n",
       "<style scoped>\n",
       "    .dataframe tbody tr th:only-of-type {\n",
       "        vertical-align: middle;\n",
       "    }\n",
       "\n",
       "    .dataframe tbody tr th {\n",
       "        vertical-align: top;\n",
       "    }\n",
       "\n",
       "    .dataframe thead th {\n",
       "        text-align: right;\n",
       "    }\n",
       "</style>\n",
       "<table border=\"1\" class=\"dataframe\">\n",
       "  <thead>\n",
       "    <tr style=\"text-align: right;\">\n",
       "      <th></th>\n",
       "      <th>STUDENT_ID</th>\n",
       "      <th>COURSE_ID</th>\n",
       "      <th>COURSE_START_DATE</th>\n",
       "      <th>COURSE_END_DATE</th>\n",
       "      <th>COURSE_SCORE</th>\n",
       "      <th>COURSE_STATUS</th>\n",
       "      <th>STUDENT_STATUS</th>\n",
       "    </tr>\n",
       "  </thead>\n",
       "  <tbody>\n",
       "    <tr>\n",
       "      <th>0</th>\n",
       "      <td>S000000</td>\n",
       "      <td>C0001</td>\n",
       "      <td>2021-05-16</td>\n",
       "      <td>2021-07-08</td>\n",
       "      <td>90.0</td>\n",
       "      <td>PASS</td>\n",
       "      <td>INACTIVE</td>\n",
       "    </tr>\n",
       "    <tr>\n",
       "      <th>1</th>\n",
       "      <td>S000000</td>\n",
       "      <td>C0001</td>\n",
       "      <td>2021-05-16</td>\n",
       "      <td>2021-07-08</td>\n",
       "      <td>90.0</td>\n",
       "      <td>PASS</td>\n",
       "      <td>INACTIVE</td>\n",
       "    </tr>\n",
       "  </tbody>\n",
       "</table>\n",
       "</div>"
      ],
      "text/plain": [
       "  STUDENT_ID COURSE_ID COURSE_START_DATE COURSE_END_DATE  COURSE_SCORE  \\\n",
       "0    S000000     C0001        2021-05-16      2021-07-08          90.0   \n",
       "1    S000000     C0001        2021-05-16      2021-07-08          90.0   \n",
       "\n",
       "  COURSE_STATUS STUDENT_STATUS  \n",
       "0          PASS       INACTIVE  \n",
       "1          PASS       INACTIVE  "
      ]
     },
     "execution_count": 154,
     "metadata": {},
     "output_type": "execute_result"
    }
   ],
   "source": [
    "#slice the merged table\n",
    "courses = student_data[['STUDENT_ID',\n",
    "                        'COURSE_ID',\n",
    "                        'COURSE_START_DATE', 'COURSE_END_DATE', 'COURSE_SCORE', 'COURSE_STATUS',\n",
    "                        'STUDENT_STATUS']]\n",
    "\n",
    "courses.head(2)"
   ]
  },
  {
   "cell_type": "code",
   "execution_count": 155,
   "metadata": {},
   "outputs": [],
   "source": [
    "#create a file name\n",
    "xlx_name = 'courses.xlsx'\n",
    "\n",
    "#export to excel\n",
    "courses.to_excel('./experimental/created_tables/' + xlx_name,\n",
    "                 sheet_name='courses')"
   ]
  },
  {
   "cell_type": "markdown",
   "metadata": {},
   "source": [
    "CURRENT CLASSES"
   ]
  },
  {
   "cell_type": "code",
   "execution_count": 156,
   "metadata": {},
   "outputs": [
    {
     "data": {
      "text/html": [
       "<div>\n",
       "<style scoped>\n",
       "    .dataframe tbody tr th:only-of-type {\n",
       "        vertical-align: middle;\n",
       "    }\n",
       "\n",
       "    .dataframe tbody tr th {\n",
       "        vertical-align: top;\n",
       "    }\n",
       "\n",
       "    .dataframe thead th {\n",
       "        text-align: right;\n",
       "    }\n",
       "</style>\n",
       "<table border=\"1\" class=\"dataframe\">\n",
       "  <thead>\n",
       "    <tr style=\"text-align: right;\">\n",
       "      <th></th>\n",
       "      <th>STUDENT_ID</th>\n",
       "      <th>COURSE_ID</th>\n",
       "      <th>CLASS_ID</th>\n",
       "      <th>COURSE_START_DATE</th>\n",
       "      <th>COURSE_END_DATE</th>\n",
       "      <th>CLASS_START_DATE</th>\n",
       "      <th>CLASS_END_DATE</th>\n",
       "      <th>TEST_STATUS</th>\n",
       "      <th>STUDENT_STATUS</th>\n",
       "    </tr>\n",
       "  </thead>\n",
       "  <tbody>\n",
       "    <tr>\n",
       "      <th>0</th>\n",
       "      <td>S000000</td>\n",
       "      <td>C0001</td>\n",
       "      <td>CERPC101</td>\n",
       "      <td>2021-05-16</td>\n",
       "      <td>2021-07-08</td>\n",
       "      <td>2021-07-07</td>\n",
       "      <td>2021-07-07</td>\n",
       "      <td>PASS</td>\n",
       "      <td>INACTIVE</td>\n",
       "    </tr>\n",
       "    <tr>\n",
       "      <th>1</th>\n",
       "      <td>S000000</td>\n",
       "      <td>C0001</td>\n",
       "      <td>CERPC102</td>\n",
       "      <td>2021-05-16</td>\n",
       "      <td>2021-07-08</td>\n",
       "      <td>2021-05-29</td>\n",
       "      <td>2021-06-22</td>\n",
       "      <td>PASS</td>\n",
       "      <td>INACTIVE</td>\n",
       "    </tr>\n",
       "  </tbody>\n",
       "</table>\n",
       "</div>"
      ],
      "text/plain": [
       "  STUDENT_ID COURSE_ID  CLASS_ID COURSE_START_DATE COURSE_END_DATE  \\\n",
       "0    S000000     C0001  CERPC101        2021-05-16      2021-07-08   \n",
       "1    S000000     C0001  CERPC102        2021-05-16      2021-07-08   \n",
       "\n",
       "  CLASS_START_DATE CLASS_END_DATE TEST_STATUS STUDENT_STATUS  \n",
       "0       2021-07-07     2021-07-07        PASS       INACTIVE  \n",
       "1       2021-05-29     2021-06-22        PASS       INACTIVE  "
      ]
     },
     "execution_count": 156,
     "metadata": {},
     "output_type": "execute_result"
    }
   ],
   "source": [
    "#slice the merged table\n",
    "classes = student_data[['STUDENT_ID',\n",
    "                        'COURSE_ID', 'CLASS_ID',\n",
    "                        'COURSE_START_DATE', 'COURSE_END_DATE',\n",
    "                        'CLASS_START_DATE', 'CLASS_END_DATE', 'TEST_STATUS',\n",
    "                        'STUDENT_STATUS']]\n",
    "\n",
    "classes.head(2)"
   ]
  },
  {
   "cell_type": "code",
   "execution_count": 157,
   "metadata": {},
   "outputs": [],
   "source": [
    "#rename the feature(s)\n",
    "classes = classes.rename(columns={'TEST_STATUS': 'CLASS_STATUS',\n",
    "                                  })"
   ]
  },
  {
   "cell_type": "code",
   "execution_count": 158,
   "metadata": {},
   "outputs": [],
   "source": [
    "#create a file name\n",
    "xlx_name = 'classes.xlsx'\n",
    "\n",
    "#export to excel\n",
    "classes.to_excel('./experimental/created_tables/' + xlx_name,\n",
    "                 sheet_name='classes')"
   ]
  }
 ],
 "metadata": {
  "kernelspec": {
   "display_name": "Python 3",
   "language": "python",
   "name": "python3"
  },
  "language_info": {
   "codemirror_mode": {
    "name": "ipython",
    "version": 3
   },
   "file_extension": ".py",
   "mimetype": "text/x-python",
   "name": "python",
   "nbconvert_exporter": "python",
   "pygments_lexer": "ipython3",
   "version": "3.10.5"
  }
 },
 "nbformat": 4,
 "nbformat_minor": 2
}
