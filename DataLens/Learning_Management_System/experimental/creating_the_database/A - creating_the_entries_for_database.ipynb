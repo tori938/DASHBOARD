{
 "cells": [
  {
   "cell_type": "code",
   "execution_count": 1,
   "metadata": {},
   "outputs": [],
   "source": [
    "#standard libraries\n",
    "import pandas as pd, numpy as np\n",
    "\n",
    "#randomization\n",
    "import random\n",
    "from faker import Faker"
   ]
  },
  {
   "cell_type": "code",
   "execution_count": 2,
   "metadata": {},
   "outputs": [],
   "source": [
    "#export the file(s)\n",
    "students = pd.read_excel('./experimental/created_tables/students.xlsx',\n",
    "                         index_col=0)\n",
    "\n",
    "course_details = pd.read_excel('./experimental/created_tables/course_details.xlsx',\n",
    "                               index_col=0)\n",
    "\n",
    "class_details = pd.read_excel('./experimental/created_tables/class_details.xlsx',\n",
    "                              index_col=0)\n",
    "\n",
    "enrolment = pd.read_excel('./experimental/created_tables/enrolment.xlsx',\n",
    "                         index_col=0)"
   ]
  },
  {
   "cell_type": "code",
   "execution_count": 3,
   "metadata": {},
   "outputs": [
    {
     "name": "stdout",
     "output_type": "stream",
     "text": [
      "students: (200, 6), \n",
      " course_details: (5, 2), \n",
      " class_details: (37, 3), \n",
      " enrolment: (200, 6)\n"
     ]
    }
   ],
   "source": [
    "#find dimensions\n",
    "print(f'students: {students.shape}, \\n course_details: {course_details.shape}, \\n class_details: {class_details.shape}, \\n enrolment: {enrolment.shape}')"
   ]
  },
  {
   "cell_type": "code",
   "execution_count": 4,
   "metadata": {},
   "outputs": [
    {
     "data": {
      "text/html": [
       "<div>\n",
       "<style scoped>\n",
       "    .dataframe tbody tr th:only-of-type {\n",
       "        vertical-align: middle;\n",
       "    }\n",
       "\n",
       "    .dataframe tbody tr th {\n",
       "        vertical-align: top;\n",
       "    }\n",
       "\n",
       "    .dataframe thead th {\n",
       "        text-align: right;\n",
       "    }\n",
       "</style>\n",
       "<table border=\"1\" class=\"dataframe\">\n",
       "  <thead>\n",
       "    <tr style=\"text-align: right;\">\n",
       "      <th></th>\n",
       "      <th>STUDENT_ID</th>\n",
       "      <th>FIRST_NAME</th>\n",
       "      <th>LAST_NAME</th>\n",
       "      <th>CITY</th>\n",
       "      <th>BIRTH_DATE</th>\n",
       "      <th>E-MAIL</th>\n",
       "    </tr>\n",
       "  </thead>\n",
       "  <tbody>\n",
       "    <tr>\n",
       "      <th>0</th>\n",
       "      <td>S000000</td>\n",
       "      <td>James</td>\n",
       "      <td>Smith</td>\n",
       "      <td>Moscow</td>\n",
       "      <td>1974-08-25</td>\n",
       "      <td>jamessmith@yandex.com</td>\n",
       "    </tr>\n",
       "    <tr>\n",
       "      <th>1</th>\n",
       "      <td>S000001</td>\n",
       "      <td>Michael</td>\n",
       "      <td>Johnson</td>\n",
       "      <td>Nizhniy Novgorod</td>\n",
       "      <td>1970-02-13</td>\n",
       "      <td>michaeljohnson@yandex.com</td>\n",
       "    </tr>\n",
       "  </tbody>\n",
       "</table>\n",
       "</div>"
      ],
      "text/plain": [
       "  STUDENT_ID FIRST_NAME LAST_NAME              CITY BIRTH_DATE  \\\n",
       "0    S000000      James     Smith            Moscow 1974-08-25   \n",
       "1    S000001    Michael   Johnson  Nizhniy Novgorod 1970-02-13   \n",
       "\n",
       "                      E-MAIL  \n",
       "0      jamessmith@yandex.com  \n",
       "1  michaeljohnson@yandex.com  "
      ]
     },
     "metadata": {},
     "output_type": "display_data"
    },
    {
     "name": "stdout",
     "output_type": "stream",
     "text": [
      "\n"
     ]
    },
    {
     "data": {
      "text/html": [
       "<div>\n",
       "<style scoped>\n",
       "    .dataframe tbody tr th:only-of-type {\n",
       "        vertical-align: middle;\n",
       "    }\n",
       "\n",
       "    .dataframe tbody tr th {\n",
       "        vertical-align: top;\n",
       "    }\n",
       "\n",
       "    .dataframe thead th {\n",
       "        text-align: right;\n",
       "    }\n",
       "</style>\n",
       "<table border=\"1\" class=\"dataframe\">\n",
       "  <thead>\n",
       "    <tr style=\"text-align: right;\">\n",
       "      <th></th>\n",
       "      <th>COURSE_ID</th>\n",
       "      <th>COURSE_TITLE</th>\n",
       "    </tr>\n",
       "  </thead>\n",
       "  <tbody>\n",
       "    <tr>\n",
       "      <th>0</th>\n",
       "      <td>C0001</td>\n",
       "      <td>CIRCULAR ECONOMY, RESPONSIBLE PRODUCTION AND C...</td>\n",
       "    </tr>\n",
       "    <tr>\n",
       "      <th>1</th>\n",
       "      <td>C0002</td>\n",
       "      <td>SUSTAINABLE FOOD SYSTEMS</td>\n",
       "    </tr>\n",
       "  </tbody>\n",
       "</table>\n",
       "</div>"
      ],
      "text/plain": [
       "  COURSE_ID                                       COURSE_TITLE\n",
       "0     C0001  CIRCULAR ECONOMY, RESPONSIBLE PRODUCTION AND C...\n",
       "1     C0002                           SUSTAINABLE FOOD SYSTEMS"
      ]
     },
     "metadata": {},
     "output_type": "display_data"
    },
    {
     "name": "stdout",
     "output_type": "stream",
     "text": [
      "\n"
     ]
    },
    {
     "data": {
      "text/html": [
       "<div>\n",
       "<style scoped>\n",
       "    .dataframe tbody tr th:only-of-type {\n",
       "        vertical-align: middle;\n",
       "    }\n",
       "\n",
       "    .dataframe tbody tr th {\n",
       "        vertical-align: top;\n",
       "    }\n",
       "\n",
       "    .dataframe thead th {\n",
       "        text-align: right;\n",
       "    }\n",
       "</style>\n",
       "<table border=\"1\" class=\"dataframe\">\n",
       "  <thead>\n",
       "    <tr style=\"text-align: right;\">\n",
       "      <th></th>\n",
       "      <th>COURSE_ID</th>\n",
       "      <th>CLASS_ID</th>\n",
       "      <th>CLASS_TITLE</th>\n",
       "    </tr>\n",
       "  </thead>\n",
       "  <tbody>\n",
       "    <tr>\n",
       "      <th>0</th>\n",
       "      <td>C0001</td>\n",
       "      <td>CERPC101</td>\n",
       "      <td>001 - CIRCULAR ECONOMY, RESPONSIBLE PRODUCTION...</td>\n",
       "    </tr>\n",
       "    <tr>\n",
       "      <th>1</th>\n",
       "      <td>C0001</td>\n",
       "      <td>CERPC102</td>\n",
       "      <td>002 - CIRCULAR ECONOMY, RESPONSIBLE PRODUCTION...</td>\n",
       "    </tr>\n",
       "  </tbody>\n",
       "</table>\n",
       "</div>"
      ],
      "text/plain": [
       "  COURSE_ID  CLASS_ID                                        CLASS_TITLE\n",
       "0     C0001  CERPC101  001 - CIRCULAR ECONOMY, RESPONSIBLE PRODUCTION...\n",
       "1     C0001  CERPC102  002 - CIRCULAR ECONOMY, RESPONSIBLE PRODUCTION..."
      ]
     },
     "metadata": {},
     "output_type": "display_data"
    },
    {
     "name": "stdout",
     "output_type": "stream",
     "text": [
      "\n"
     ]
    },
    {
     "data": {
      "text/html": [
       "<div>\n",
       "<style scoped>\n",
       "    .dataframe tbody tr th:only-of-type {\n",
       "        vertical-align: middle;\n",
       "    }\n",
       "\n",
       "    .dataframe tbody tr th {\n",
       "        vertical-align: top;\n",
       "    }\n",
       "\n",
       "    .dataframe thead th {\n",
       "        text-align: right;\n",
       "    }\n",
       "</style>\n",
       "<table border=\"1\" class=\"dataframe\">\n",
       "  <thead>\n",
       "    <tr style=\"text-align: right;\">\n",
       "      <th></th>\n",
       "      <th>ID</th>\n",
       "      <th>COURSE_ID</th>\n",
       "      <th>STUDENT_ID</th>\n",
       "      <th>CANCELLED</th>\n",
       "      <th>ENROLMENT_DATE</th>\n",
       "      <th>COMPLETION_DATE</th>\n",
       "    </tr>\n",
       "  </thead>\n",
       "  <tbody>\n",
       "    <tr>\n",
       "      <th>0</th>\n",
       "      <td>0</td>\n",
       "      <td>NaN</td>\n",
       "      <td>S000000</td>\n",
       "      <td>True</td>\n",
       "      <td>2023-12-22</td>\n",
       "      <td>2024-01-16</td>\n",
       "    </tr>\n",
       "    <tr>\n",
       "      <th>1</th>\n",
       "      <td>1</td>\n",
       "      <td>NaN</td>\n",
       "      <td>S000001</td>\n",
       "      <td>False</td>\n",
       "      <td>2023-08-27</td>\n",
       "      <td>2024-04-15</td>\n",
       "    </tr>\n",
       "  </tbody>\n",
       "</table>\n",
       "</div>"
      ],
      "text/plain": [
       "   ID  COURSE_ID STUDENT_ID  CANCELLED ENROLMENT_DATE COMPLETION_DATE\n",
       "0   0        NaN    S000000       True     2023-12-22      2024-01-16\n",
       "1   1        NaN    S000001      False     2023-08-27      2024-04-15"
      ]
     },
     "metadata": {},
     "output_type": "display_data"
    }
   ],
   "source": [
    "#display the data sets\n",
    "display(students.head(2))\n",
    "print()\n",
    "display(course_details.head(2))\n",
    "print()\n",
    "display(class_details.head(2))\n",
    "print()\n",
    "display(enrolment.head(2))"
   ]
  },
  {
   "cell_type": "markdown",
   "metadata": {},
   "source": [
    "#### **MERGE STUDENTS + ENROLMENT**"
   ]
  },
  {
   "cell_type": "code",
   "execution_count": 5,
   "metadata": {},
   "outputs": [
    {
     "data": {
      "text/html": [
       "<div>\n",
       "<style scoped>\n",
       "    .dataframe tbody tr th:only-of-type {\n",
       "        vertical-align: middle;\n",
       "    }\n",
       "\n",
       "    .dataframe tbody tr th {\n",
       "        vertical-align: top;\n",
       "    }\n",
       "\n",
       "    .dataframe thead th {\n",
       "        text-align: right;\n",
       "    }\n",
       "</style>\n",
       "<table border=\"1\" class=\"dataframe\">\n",
       "  <thead>\n",
       "    <tr style=\"text-align: right;\">\n",
       "      <th></th>\n",
       "      <th>STUDENT_ID</th>\n",
       "      <th>FIRST_NAME</th>\n",
       "      <th>LAST_NAME</th>\n",
       "      <th>CITY</th>\n",
       "      <th>BIRTH_DATE</th>\n",
       "      <th>E-MAIL</th>\n",
       "      <th>ID</th>\n",
       "      <th>COURSE_ID</th>\n",
       "      <th>CANCELLED</th>\n",
       "      <th>ENROLMENT_DATE</th>\n",
       "      <th>COMPLETION_DATE</th>\n",
       "    </tr>\n",
       "  </thead>\n",
       "  <tbody>\n",
       "    <tr>\n",
       "      <th>0</th>\n",
       "      <td>S000000</td>\n",
       "      <td>James</td>\n",
       "      <td>Smith</td>\n",
       "      <td>Moscow</td>\n",
       "      <td>1974-08-25</td>\n",
       "      <td>jamessmith@yandex.com</td>\n",
       "      <td>0</td>\n",
       "      <td>NaN</td>\n",
       "      <td>True</td>\n",
       "      <td>2023-12-22</td>\n",
       "      <td>2024-01-16</td>\n",
       "    </tr>\n",
       "    <tr>\n",
       "      <th>1</th>\n",
       "      <td>S000001</td>\n",
       "      <td>Michael</td>\n",
       "      <td>Johnson</td>\n",
       "      <td>Nizhniy Novgorod</td>\n",
       "      <td>1970-02-13</td>\n",
       "      <td>michaeljohnson@yandex.com</td>\n",
       "      <td>1</td>\n",
       "      <td>NaN</td>\n",
       "      <td>False</td>\n",
       "      <td>2023-08-27</td>\n",
       "      <td>2024-04-15</td>\n",
       "    </tr>\n",
       "  </tbody>\n",
       "</table>\n",
       "</div>"
      ],
      "text/plain": [
       "  STUDENT_ID FIRST_NAME LAST_NAME              CITY BIRTH_DATE  \\\n",
       "0    S000000      James     Smith            Moscow 1974-08-25   \n",
       "1    S000001    Michael   Johnson  Nizhniy Novgorod 1970-02-13   \n",
       "\n",
       "                      E-MAIL  ID  COURSE_ID  CANCELLED ENROLMENT_DATE  \\\n",
       "0      jamessmith@yandex.com   0        NaN       True     2023-12-22   \n",
       "1  michaeljohnson@yandex.com   1        NaN      False     2023-08-27   \n",
       "\n",
       "  COMPLETION_DATE  \n",
       "0      2024-01-16  \n",
       "1      2024-04-15  "
      ]
     },
     "execution_count": 5,
     "metadata": {},
     "output_type": "execute_result"
    }
   ],
   "source": [
    "#combine the students and enrolment\n",
    "enrolled_students = students.merge(enrolment,\n",
    "                                   how='left',\n",
    "                                   on='STUDENT_ID')\n",
    "\n",
    "enrolled_students.head(2)"
   ]
  },
  {
   "cell_type": "code",
   "execution_count": 6,
   "metadata": {},
   "outputs": [
    {
     "data": {
      "text/plain": [
       "COURSE_ID    200\n",
       "dtype: int64"
      ]
     },
     "execution_count": 6,
     "metadata": {},
     "output_type": "execute_result"
    }
   ],
   "source": [
    "#check for null values\n",
    "enrolled_students.isnull().sum()[enrolled_students.isnull().sum() > 0]"
   ]
  },
  {
   "cell_type": "code",
   "execution_count": 7,
   "metadata": {},
   "outputs": [
    {
     "data": {
      "text/plain": [
       "(200, 11)"
      ]
     },
     "execution_count": 7,
     "metadata": {},
     "output_type": "execute_result"
    }
   ],
   "source": [
    "#dimensions\n",
    "enrolled_students.shape"
   ]
  },
  {
   "cell_type": "code",
   "execution_count": 8,
   "metadata": {},
   "outputs": [
    {
     "data": {
      "text/html": [
       "<div>\n",
       "<style scoped>\n",
       "    .dataframe tbody tr th:only-of-type {\n",
       "        vertical-align: middle;\n",
       "    }\n",
       "\n",
       "    .dataframe tbody tr th {\n",
       "        vertical-align: top;\n",
       "    }\n",
       "\n",
       "    .dataframe thead th {\n",
       "        text-align: right;\n",
       "    }\n",
       "</style>\n",
       "<table border=\"1\" class=\"dataframe\">\n",
       "  <thead>\n",
       "    <tr style=\"text-align: right;\">\n",
       "      <th></th>\n",
       "      <th>STUDENT_ID</th>\n",
       "      <th>FIRST_NAME</th>\n",
       "      <th>LAST_NAME</th>\n",
       "      <th>CITY</th>\n",
       "      <th>BIRTH_DATE</th>\n",
       "      <th>E-MAIL</th>\n",
       "      <th>ID</th>\n",
       "      <th>COURSE_ID</th>\n",
       "      <th>CANCELLED</th>\n",
       "      <th>ENROLMENT_DATE</th>\n",
       "      <th>COMPLETION_DATE</th>\n",
       "    </tr>\n",
       "  </thead>\n",
       "  <tbody>\n",
       "    <tr>\n",
       "      <th>0</th>\n",
       "      <td>S000000</td>\n",
       "      <td>James</td>\n",
       "      <td>Smith</td>\n",
       "      <td>Moscow</td>\n",
       "      <td>1974-08-25</td>\n",
       "      <td>jamessmith@yandex.com</td>\n",
       "      <td>0</td>\n",
       "      <td>NaN</td>\n",
       "      <td>True</td>\n",
       "      <td>2023-12-22</td>\n",
       "      <td>2024-01-16</td>\n",
       "    </tr>\n",
       "    <tr>\n",
       "      <th>1</th>\n",
       "      <td>S000001</td>\n",
       "      <td>Michael</td>\n",
       "      <td>Johnson</td>\n",
       "      <td>Nizhniy Novgorod</td>\n",
       "      <td>1970-02-13</td>\n",
       "      <td>michaeljohnson@yandex.com</td>\n",
       "      <td>1</td>\n",
       "      <td>NaN</td>\n",
       "      <td>False</td>\n",
       "      <td>2023-08-27</td>\n",
       "      <td>2024-04-15</td>\n",
       "    </tr>\n",
       "  </tbody>\n",
       "</table>\n",
       "</div>"
      ],
      "text/plain": [
       "  STUDENT_ID FIRST_NAME LAST_NAME              CITY BIRTH_DATE  \\\n",
       "0    S000000      James     Smith            Moscow 1974-08-25   \n",
       "1    S000001    Michael   Johnson  Nizhniy Novgorod 1970-02-13   \n",
       "\n",
       "                      E-MAIL  ID  COURSE_ID  CANCELLED ENROLMENT_DATE  \\\n",
       "0      jamessmith@yandex.com   0        NaN       True     2023-12-22   \n",
       "1  michaeljohnson@yandex.com   1        NaN      False     2023-08-27   \n",
       "\n",
       "  COMPLETION_DATE  \n",
       "0      2024-01-16  \n",
       "1      2024-04-15  "
      ]
     },
     "execution_count": 8,
     "metadata": {},
     "output_type": "execute_result"
    }
   ],
   "source": [
    "#concat vertically - 3x times\n",
    "merged_thrice = pd.concat([enrolled_students, enrolled_students, enrolled_students],\n",
    "                          axis=0)\n",
    "\n",
    "merged_thrice.head(2)"
   ]
  },
  {
   "cell_type": "code",
   "execution_count": 9,
   "metadata": {},
   "outputs": [
    {
     "data": {
      "text/plain": [
       "(600, 11)"
      ]
     },
     "execution_count": 9,
     "metadata": {},
     "output_type": "execute_result"
    }
   ],
   "source": [
    "#dimensions\n",
    "merged_thrice.shape"
   ]
  },
  {
   "cell_type": "markdown",
   "metadata": {},
   "source": [
    "#### **CREATE COURSE_ID BY RANDOMIZATION**"
   ]
  },
  {
   "cell_type": "markdown",
   "metadata": {},
   "source": [
    "create a random list of courses (from 1-5) and distribute per student"
   ]
  },
  {
   "cell_type": "code",
   "execution_count": 10,
   "metadata": {},
   "outputs": [
    {
     "data": {
      "text/plain": [
       "5"
      ]
     },
     "execution_count": 10,
     "metadata": {},
     "output_type": "execute_result"
    }
   ],
   "source": [
    "#number of courses available\n",
    "course_details['COURSE_ID'].nunique()"
   ]
  },
  {
   "cell_type": "code",
   "execution_count": 11,
   "metadata": {},
   "outputs": [],
   "source": [
    "#number of courses\n",
    "course_list = [1, 2, 3, 4, 5]\n",
    "\n",
    "#relative weights to choose elements from the list with different probability\n",
    "course_num = random.choices(course_list,\n",
    "                            weights=(19, 21.5, 21.5, 14, 24),\n",
    "                            k=600)"
   ]
  },
  {
   "cell_type": "code",
   "execution_count": 12,
   "metadata": {},
   "outputs": [],
   "source": [
    "#insert new features\n",
    "merged_thrice['COURSE_NUMBER'] = None\n",
    "\n",
    "merged_thrice = merged_thrice.assign(COURSE_NUMBER=course_num)"
   ]
  },
  {
   "cell_type": "code",
   "execution_count": 13,
   "metadata": {},
   "outputs": [
    {
     "data": {
      "text/plain": [
       "COURSE_NUMBER\n",
       "5    155\n",
       "3    142\n",
       "2    128\n",
       "1    106\n",
       "4     69\n",
       "Name: count, dtype: int64"
      ]
     },
     "execution_count": 13,
     "metadata": {},
     "output_type": "execute_result"
    }
   ],
   "source": [
    "#course distribution\n",
    "merged_thrice['COURSE_NUMBER'].value_counts()"
   ]
  },
  {
   "cell_type": "code",
   "execution_count": 14,
   "metadata": {},
   "outputs": [
    {
     "data": {
      "text/plain": [
       "(600, 12)"
      ]
     },
     "execution_count": 14,
     "metadata": {},
     "output_type": "execute_result"
    }
   ],
   "source": [
    "#dimensions\n",
    "merged_thrice.shape"
   ]
  },
  {
   "cell_type": "code",
   "execution_count": 15,
   "metadata": {},
   "outputs": [],
   "source": [
    "#write a function to return course_id\n",
    "def create_course_id(data):\n",
    "    return 'C000' + str(data['COURSE_NUMBER'])\n",
    "\n",
    "#apply the function\n",
    "merged_thrice['COURSE_ID'] = merged_thrice.apply(create_course_id,\n",
    "                                             axis=1)"
   ]
  },
  {
   "cell_type": "code",
   "execution_count": 16,
   "metadata": {},
   "outputs": [
    {
     "data": {
      "text/html": [
       "<div>\n",
       "<style scoped>\n",
       "    .dataframe tbody tr th:only-of-type {\n",
       "        vertical-align: middle;\n",
       "    }\n",
       "\n",
       "    .dataframe tbody tr th {\n",
       "        vertical-align: top;\n",
       "    }\n",
       "\n",
       "    .dataframe thead th {\n",
       "        text-align: right;\n",
       "    }\n",
       "</style>\n",
       "<table border=\"1\" class=\"dataframe\">\n",
       "  <thead>\n",
       "    <tr style=\"text-align: right;\">\n",
       "      <th></th>\n",
       "      <th>STUDENT_ID</th>\n",
       "      <th>FIRST_NAME</th>\n",
       "      <th>LAST_NAME</th>\n",
       "      <th>CITY</th>\n",
       "      <th>BIRTH_DATE</th>\n",
       "      <th>E-MAIL</th>\n",
       "      <th>ID</th>\n",
       "      <th>COURSE_ID</th>\n",
       "      <th>CANCELLED</th>\n",
       "      <th>ENROLMENT_DATE</th>\n",
       "      <th>COMPLETION_DATE</th>\n",
       "      <th>COURSE_NUMBER</th>\n",
       "    </tr>\n",
       "  </thead>\n",
       "  <tbody>\n",
       "    <tr>\n",
       "      <th>0</th>\n",
       "      <td>S000000</td>\n",
       "      <td>James</td>\n",
       "      <td>Smith</td>\n",
       "      <td>Moscow</td>\n",
       "      <td>1974-08-25</td>\n",
       "      <td>jamessmith@yandex.com</td>\n",
       "      <td>0</td>\n",
       "      <td>C0005</td>\n",
       "      <td>True</td>\n",
       "      <td>2023-12-22</td>\n",
       "      <td>2024-01-16</td>\n",
       "      <td>5</td>\n",
       "    </tr>\n",
       "    <tr>\n",
       "      <th>1</th>\n",
       "      <td>S000001</td>\n",
       "      <td>Michael</td>\n",
       "      <td>Johnson</td>\n",
       "      <td>Nizhniy Novgorod</td>\n",
       "      <td>1970-02-13</td>\n",
       "      <td>michaeljohnson@yandex.com</td>\n",
       "      <td>1</td>\n",
       "      <td>C0003</td>\n",
       "      <td>False</td>\n",
       "      <td>2023-08-27</td>\n",
       "      <td>2024-04-15</td>\n",
       "      <td>3</td>\n",
       "    </tr>\n",
       "    <tr>\n",
       "      <th>2</th>\n",
       "      <td>S000002</td>\n",
       "      <td>Robert</td>\n",
       "      <td>Williams</td>\n",
       "      <td>Rostov</td>\n",
       "      <td>1974-09-03</td>\n",
       "      <td>robertwilliams@yandex.com</td>\n",
       "      <td>2</td>\n",
       "      <td>C0005</td>\n",
       "      <td>False</td>\n",
       "      <td>2024-07-23</td>\n",
       "      <td>2024-08-17</td>\n",
       "      <td>5</td>\n",
       "    </tr>\n",
       "  </tbody>\n",
       "</table>\n",
       "</div>"
      ],
      "text/plain": [
       "  STUDENT_ID FIRST_NAME LAST_NAME              CITY BIRTH_DATE  \\\n",
       "0    S000000      James     Smith            Moscow 1974-08-25   \n",
       "1    S000001    Michael   Johnson  Nizhniy Novgorod 1970-02-13   \n",
       "2    S000002     Robert  Williams            Rostov 1974-09-03   \n",
       "\n",
       "                      E-MAIL  ID COURSE_ID  CANCELLED ENROLMENT_DATE  \\\n",
       "0      jamessmith@yandex.com   0     C0005       True     2023-12-22   \n",
       "1  michaeljohnson@yandex.com   1     C0003      False     2023-08-27   \n",
       "2  robertwilliams@yandex.com   2     C0005      False     2024-07-23   \n",
       "\n",
       "  COMPLETION_DATE  COURSE_NUMBER  \n",
       "0      2024-01-16              5  \n",
       "1      2024-04-15              3  \n",
       "2      2024-08-17              5  "
      ]
     },
     "execution_count": 16,
     "metadata": {},
     "output_type": "execute_result"
    }
   ],
   "source": [
    "merged_thrice.head(3)"
   ]
  },
  {
   "cell_type": "markdown",
   "metadata": {},
   "source": [
    "#### **COMBINE CLASSES**"
   ]
  },
  {
   "cell_type": "code",
   "execution_count": 17,
   "metadata": {},
   "outputs": [],
   "source": [
    "#add classes\n",
    "enrolled_students_studies = merged_thrice.merge(class_details,\n",
    "                                                how='outer',\n",
    "                                                on=['COURSE_ID'])"
   ]
  },
  {
   "cell_type": "code",
   "execution_count": 18,
   "metadata": {},
   "outputs": [
    {
     "data": {
      "text/plain": [
       "Series([], dtype: int64)"
      ]
     },
     "execution_count": 18,
     "metadata": {},
     "output_type": "execute_result"
    }
   ],
   "source": [
    "#check for null values\n",
    "enrolled_students_studies.isnull().sum()[enrolled_students_studies.isnull().sum() > 0]"
   ]
  },
  {
   "cell_type": "code",
   "execution_count": 19,
   "metadata": {},
   "outputs": [
    {
     "data": {
      "text/plain": [
       "(4277, 14)"
      ]
     },
     "execution_count": 19,
     "metadata": {},
     "output_type": "execute_result"
    }
   ],
   "source": [
    "#dimensions\n",
    "enrolled_students_studies.shape"
   ]
  },
  {
   "cell_type": "code",
   "execution_count": 20,
   "metadata": {},
   "outputs": [
    {
     "data": {
      "text/plain": [
       "200"
      ]
     },
     "execution_count": 20,
     "metadata": {},
     "output_type": "execute_result"
    }
   ],
   "source": [
    "#no of students on file\n",
    "enrolled_students_studies['STUDENT_ID'].nunique()"
   ]
  },
  {
   "cell_type": "code",
   "execution_count": 21,
   "metadata": {},
   "outputs": [
    {
     "data": {
      "text/html": [
       "<div>\n",
       "<style scoped>\n",
       "    .dataframe tbody tr th:only-of-type {\n",
       "        vertical-align: middle;\n",
       "    }\n",
       "\n",
       "    .dataframe tbody tr th {\n",
       "        vertical-align: top;\n",
       "    }\n",
       "\n",
       "    .dataframe thead th {\n",
       "        text-align: right;\n",
       "    }\n",
       "</style>\n",
       "<table border=\"1\" class=\"dataframe\">\n",
       "  <thead>\n",
       "    <tr style=\"text-align: right;\">\n",
       "      <th></th>\n",
       "      <th>STUDENT_ID</th>\n",
       "      <th>FIRST_NAME</th>\n",
       "      <th>LAST_NAME</th>\n",
       "      <th>CITY</th>\n",
       "      <th>BIRTH_DATE</th>\n",
       "      <th>E-MAIL</th>\n",
       "      <th>ID</th>\n",
       "      <th>COURSE_ID</th>\n",
       "      <th>CANCELLED</th>\n",
       "      <th>ENROLMENT_DATE</th>\n",
       "      <th>COMPLETION_DATE</th>\n",
       "      <th>COURSE_NUMBER</th>\n",
       "      <th>CLASS_ID</th>\n",
       "      <th>CLASS_TITLE</th>\n",
       "    </tr>\n",
       "  </thead>\n",
       "  <tbody>\n",
       "    <tr>\n",
       "      <th>0</th>\n",
       "      <td>S000008</td>\n",
       "      <td>Thomas</td>\n",
       "      <td>Moore</td>\n",
       "      <td>Krasnoyarsk</td>\n",
       "      <td>1975-11-26</td>\n",
       "      <td>thomasmoore@yandex.com</td>\n",
       "      <td>8</td>\n",
       "      <td>C0001</td>\n",
       "      <td>False</td>\n",
       "      <td>2023-12-14</td>\n",
       "      <td>2024-01-08</td>\n",
       "      <td>1</td>\n",
       "      <td>CERPC101</td>\n",
       "      <td>001 - CIRCULAR ECONOMY, RESPONSIBLE PRODUCTION...</td>\n",
       "    </tr>\n",
       "    <tr>\n",
       "      <th>1</th>\n",
       "      <td>S000008</td>\n",
       "      <td>Thomas</td>\n",
       "      <td>Moore</td>\n",
       "      <td>Krasnoyarsk</td>\n",
       "      <td>1975-11-26</td>\n",
       "      <td>thomasmoore@yandex.com</td>\n",
       "      <td>8</td>\n",
       "      <td>C0001</td>\n",
       "      <td>False</td>\n",
       "      <td>2023-12-14</td>\n",
       "      <td>2024-01-08</td>\n",
       "      <td>1</td>\n",
       "      <td>CERPC102</td>\n",
       "      <td>002 - CIRCULAR ECONOMY, RESPONSIBLE PRODUCTION...</td>\n",
       "    </tr>\n",
       "  </tbody>\n",
       "</table>\n",
       "</div>"
      ],
      "text/plain": [
       "  STUDENT_ID FIRST_NAME LAST_NAME         CITY BIRTH_DATE  \\\n",
       "0    S000008     Thomas     Moore  Krasnoyarsk 1975-11-26   \n",
       "1    S000008     Thomas     Moore  Krasnoyarsk 1975-11-26   \n",
       "\n",
       "                   E-MAIL  ID COURSE_ID  CANCELLED ENROLMENT_DATE  \\\n",
       "0  thomasmoore@yandex.com   8     C0001      False     2023-12-14   \n",
       "1  thomasmoore@yandex.com   8     C0001      False     2023-12-14   \n",
       "\n",
       "  COMPLETION_DATE  COURSE_NUMBER  CLASS_ID  \\\n",
       "0      2024-01-08              1  CERPC101   \n",
       "1      2024-01-08              1  CERPC102   \n",
       "\n",
       "                                         CLASS_TITLE  \n",
       "0  001 - CIRCULAR ECONOMY, RESPONSIBLE PRODUCTION...  \n",
       "1  002 - CIRCULAR ECONOMY, RESPONSIBLE PRODUCTION...  "
      ]
     },
     "execution_count": 21,
     "metadata": {},
     "output_type": "execute_result"
    }
   ],
   "source": [
    "enrolled_students_studies.head(2)"
   ]
  },
  {
   "cell_type": "markdown",
   "metadata": {},
   "source": [
    "#### **COMBINE COURSES**"
   ]
  },
  {
   "cell_type": "code",
   "execution_count": 22,
   "metadata": {},
   "outputs": [],
   "source": [
    "#add courses\n",
    "student_study = enrolled_students_studies.merge(course_details,\n",
    "                                                how='outer',\n",
    "                                                on=['COURSE_ID'])"
   ]
  },
  {
   "cell_type": "code",
   "execution_count": 23,
   "metadata": {},
   "outputs": [
    {
     "data": {
      "text/plain": [
       "Series([], dtype: int64)"
      ]
     },
     "execution_count": 23,
     "metadata": {},
     "output_type": "execute_result"
    }
   ],
   "source": [
    "#check for null values\n",
    "student_study.isnull().sum()[student_study.isnull().sum() > 0]"
   ]
  },
  {
   "cell_type": "code",
   "execution_count": 24,
   "metadata": {},
   "outputs": [
    {
     "data": {
      "text/plain": [
       "(4277, 15)"
      ]
     },
     "execution_count": 24,
     "metadata": {},
     "output_type": "execute_result"
    }
   ],
   "source": [
    "#dimensions\n",
    "student_study.shape"
   ]
  },
  {
   "cell_type": "code",
   "execution_count": 25,
   "metadata": {},
   "outputs": [
    {
     "data": {
      "text/plain": [
       "200"
      ]
     },
     "execution_count": 25,
     "metadata": {},
     "output_type": "execute_result"
    }
   ],
   "source": [
    "#no of students on file\n",
    "student_study['STUDENT_ID'].nunique()"
   ]
  },
  {
   "cell_type": "code",
   "execution_count": 26,
   "metadata": {},
   "outputs": [
    {
     "data": {
      "text/html": [
       "<div>\n",
       "<style scoped>\n",
       "    .dataframe tbody tr th:only-of-type {\n",
       "        vertical-align: middle;\n",
       "    }\n",
       "\n",
       "    .dataframe tbody tr th {\n",
       "        vertical-align: top;\n",
       "    }\n",
       "\n",
       "    .dataframe thead th {\n",
       "        text-align: right;\n",
       "    }\n",
       "</style>\n",
       "<table border=\"1\" class=\"dataframe\">\n",
       "  <thead>\n",
       "    <tr style=\"text-align: right;\">\n",
       "      <th></th>\n",
       "      <th>STUDENT_ID</th>\n",
       "      <th>FIRST_NAME</th>\n",
       "      <th>LAST_NAME</th>\n",
       "      <th>CITY</th>\n",
       "      <th>BIRTH_DATE</th>\n",
       "      <th>E-MAIL</th>\n",
       "      <th>ID</th>\n",
       "      <th>COURSE_ID</th>\n",
       "      <th>CANCELLED</th>\n",
       "      <th>ENROLMENT_DATE</th>\n",
       "      <th>COMPLETION_DATE</th>\n",
       "      <th>COURSE_NUMBER</th>\n",
       "      <th>CLASS_ID</th>\n",
       "      <th>CLASS_TITLE</th>\n",
       "      <th>COURSE_TITLE</th>\n",
       "    </tr>\n",
       "  </thead>\n",
       "  <tbody>\n",
       "    <tr>\n",
       "      <th>0</th>\n",
       "      <td>S000008</td>\n",
       "      <td>Thomas</td>\n",
       "      <td>Moore</td>\n",
       "      <td>Krasnoyarsk</td>\n",
       "      <td>1975-11-26</td>\n",
       "      <td>thomasmoore@yandex.com</td>\n",
       "      <td>8</td>\n",
       "      <td>C0001</td>\n",
       "      <td>False</td>\n",
       "      <td>2023-12-14</td>\n",
       "      <td>2024-01-08</td>\n",
       "      <td>1</td>\n",
       "      <td>CERPC101</td>\n",
       "      <td>001 - CIRCULAR ECONOMY, RESPONSIBLE PRODUCTION...</td>\n",
       "      <td>CIRCULAR ECONOMY, RESPONSIBLE PRODUCTION AND C...</td>\n",
       "    </tr>\n",
       "    <tr>\n",
       "      <th>1</th>\n",
       "      <td>S000008</td>\n",
       "      <td>Thomas</td>\n",
       "      <td>Moore</td>\n",
       "      <td>Krasnoyarsk</td>\n",
       "      <td>1975-11-26</td>\n",
       "      <td>thomasmoore@yandex.com</td>\n",
       "      <td>8</td>\n",
       "      <td>C0001</td>\n",
       "      <td>False</td>\n",
       "      <td>2023-12-14</td>\n",
       "      <td>2024-01-08</td>\n",
       "      <td>1</td>\n",
       "      <td>CERPC102</td>\n",
       "      <td>002 - CIRCULAR ECONOMY, RESPONSIBLE PRODUCTION...</td>\n",
       "      <td>CIRCULAR ECONOMY, RESPONSIBLE PRODUCTION AND C...</td>\n",
       "    </tr>\n",
       "  </tbody>\n",
       "</table>\n",
       "</div>"
      ],
      "text/plain": [
       "  STUDENT_ID FIRST_NAME LAST_NAME         CITY BIRTH_DATE  \\\n",
       "0    S000008     Thomas     Moore  Krasnoyarsk 1975-11-26   \n",
       "1    S000008     Thomas     Moore  Krasnoyarsk 1975-11-26   \n",
       "\n",
       "                   E-MAIL  ID COURSE_ID  CANCELLED ENROLMENT_DATE  \\\n",
       "0  thomasmoore@yandex.com   8     C0001      False     2023-12-14   \n",
       "1  thomasmoore@yandex.com   8     C0001      False     2023-12-14   \n",
       "\n",
       "  COMPLETION_DATE  COURSE_NUMBER  CLASS_ID  \\\n",
       "0      2024-01-08              1  CERPC101   \n",
       "1      2024-01-08              1  CERPC102   \n",
       "\n",
       "                                         CLASS_TITLE  \\\n",
       "0  001 - CIRCULAR ECONOMY, RESPONSIBLE PRODUCTION...   \n",
       "1  002 - CIRCULAR ECONOMY, RESPONSIBLE PRODUCTION...   \n",
       "\n",
       "                                        COURSE_TITLE  \n",
       "0  CIRCULAR ECONOMY, RESPONSIBLE PRODUCTION AND C...  \n",
       "1  CIRCULAR ECONOMY, RESPONSIBLE PRODUCTION AND C...  "
      ]
     },
     "execution_count": 26,
     "metadata": {},
     "output_type": "execute_result"
    }
   ],
   "source": [
    "student_study.head(2)"
   ]
  },
  {
   "cell_type": "code",
   "execution_count": 27,
   "metadata": {},
   "outputs": [],
   "source": [
    "#remove uninformative features\n",
    "student_study = student_study.drop(['COURSE_NUMBER', 'CLASS_TITLE', 'COURSE_TITLE'],\n",
    "                                   axis=1,\n",
    "                                   errors='ignore')"
   ]
  },
  {
   "cell_type": "markdown",
   "metadata": {},
   "source": [
    "#### **CREATE COURSE_START_DATE / COURSE_END_DATE**"
   ]
  },
  {
   "cell_type": "code",
   "execution_count": 47,
   "metadata": {},
   "outputs": [
    {
     "data": {
      "text/html": [
       "<div>\n",
       "<style scoped>\n",
       "    .dataframe tbody tr th:only-of-type {\n",
       "        vertical-align: middle;\n",
       "    }\n",
       "\n",
       "    .dataframe tbody tr th {\n",
       "        vertical-align: top;\n",
       "    }\n",
       "\n",
       "    .dataframe thead th {\n",
       "        text-align: right;\n",
       "    }\n",
       "</style>\n",
       "<table border=\"1\" class=\"dataframe\">\n",
       "  <thead>\n",
       "    <tr style=\"text-align: right;\">\n",
       "      <th></th>\n",
       "      <th>STUDENT_ID</th>\n",
       "      <th>ID</th>\n",
       "      <th>COURSE_ID</th>\n",
       "      <th>ENROLMENT_DATE</th>\n",
       "      <th>COMPLETION_DATE</th>\n",
       "    </tr>\n",
       "  </thead>\n",
       "  <tbody>\n",
       "    <tr>\n",
       "      <th>0</th>\n",
       "      <td>S000008</td>\n",
       "      <td>8</td>\n",
       "      <td>C0001</td>\n",
       "      <td>2023-12-14</td>\n",
       "      <td>2024-01-08</td>\n",
       "    </tr>\n",
       "    <tr>\n",
       "      <th>1</th>\n",
       "      <td>S000008</td>\n",
       "      <td>8</td>\n",
       "      <td>C0001</td>\n",
       "      <td>2023-12-14</td>\n",
       "      <td>2024-01-08</td>\n",
       "    </tr>\n",
       "  </tbody>\n",
       "</table>\n",
       "</div>"
      ],
      "text/plain": [
       "  STUDENT_ID  ID COURSE_ID ENROLMENT_DATE COMPLETION_DATE\n",
       "0    S000008   8     C0001     2023-12-14      2024-01-08\n",
       "1    S000008   8     C0001     2023-12-14      2024-01-08"
      ]
     },
     "execution_count": 47,
     "metadata": {},
     "output_type": "execute_result"
    }
   ],
   "source": [
    "#slice the table\n",
    "slice_course_dates = student_study.iloc[:, [0, 6, 7, 9, 10]]\n",
    "slice_course_dates.head(2)"
   ]
  },
  {
   "cell_type": "code",
   "execution_count": 48,
   "metadata": {},
   "outputs": [
    {
     "name": "stdout",
     "output_type": "stream",
     "text": [
      "Number of Duplicates: 3800\n"
     ]
    }
   ],
   "source": [
    "#check for duplicate values\n",
    "dupl_columns = list(slice_course_dates.columns)\n",
    "\n",
    "mask = slice_course_dates.duplicated(subset=dupl_columns)\n",
    "slice_duplicates = slice_course_dates[mask]\n",
    "print(f'Number of Duplicates: {slice_duplicates.shape[0]}')"
   ]
  },
  {
   "cell_type": "code",
   "execution_count": 49,
   "metadata": {},
   "outputs": [
    {
     "name": "stdout",
     "output_type": "stream",
     "text": [
      "New Dimensions: 477\n"
     ]
    }
   ],
   "source": [
    "#remove duplicates\n",
    "slice_course_dates = slice_course_dates.drop_duplicates(subset=dupl_columns)\n",
    "print(f'New Dimensions: {slice_course_dates.shape[0]}')"
   ]
  },
  {
   "cell_type": "code",
   "execution_count": 50,
   "metadata": {},
   "outputs": [],
   "source": [
    "#reset the index\n",
    "slice_course_dates = slice_course_dates.reset_index()\n",
    "\n",
    "#remove uninformative feature\n",
    "slice_course_dates = slice_course_dates.drop('index',\n",
    "                                             axis=1,\n",
    "                                             errors='ignore')"
   ]
  },
  {
   "cell_type": "code",
   "execution_count": 51,
   "metadata": {},
   "outputs": [
    {
     "data": {
      "text/html": [
       "<div>\n",
       "<style scoped>\n",
       "    .dataframe tbody tr th:only-of-type {\n",
       "        vertical-align: middle;\n",
       "    }\n",
       "\n",
       "    .dataframe tbody tr th {\n",
       "        vertical-align: top;\n",
       "    }\n",
       "\n",
       "    .dataframe thead th {\n",
       "        text-align: right;\n",
       "    }\n",
       "</style>\n",
       "<table border=\"1\" class=\"dataframe\">\n",
       "  <thead>\n",
       "    <tr style=\"text-align: right;\">\n",
       "      <th></th>\n",
       "      <th>STUDENT_ID</th>\n",
       "      <th>ID</th>\n",
       "      <th>COURSE_ID</th>\n",
       "      <th>ENROLMENT_DATE</th>\n",
       "      <th>COMPLETION_DATE</th>\n",
       "    </tr>\n",
       "  </thead>\n",
       "  <tbody>\n",
       "    <tr>\n",
       "      <th>0</th>\n",
       "      <td>S000008</td>\n",
       "      <td>8</td>\n",
       "      <td>C0001</td>\n",
       "      <td>2023-12-14</td>\n",
       "      <td>2024-01-08</td>\n",
       "    </tr>\n",
       "    <tr>\n",
       "      <th>1</th>\n",
       "      <td>S000009</td>\n",
       "      <td>9</td>\n",
       "      <td>C0001</td>\n",
       "      <td>2023-05-20</td>\n",
       "      <td>2024-04-19</td>\n",
       "    </tr>\n",
       "  </tbody>\n",
       "</table>\n",
       "</div>"
      ],
      "text/plain": [
       "  STUDENT_ID  ID COURSE_ID ENROLMENT_DATE COMPLETION_DATE\n",
       "0    S000008   8     C0001     2023-12-14      2024-01-08\n",
       "1    S000009   9     C0001     2023-05-20      2024-04-19"
      ]
     },
     "execution_count": 51,
     "metadata": {},
     "output_type": "execute_result"
    }
   ],
   "source": [
    "slice_course_dates.head(2)"
   ]
  },
  {
   "cell_type": "code",
   "execution_count": 52,
   "metadata": {},
   "outputs": [],
   "source": [
    "from datetime import date\n",
    "\n",
    "#write a function to create the course start date\n",
    "def create_course_start(data):\n",
    "    #create the object class\n",
    "    fake_start = Faker()\n",
    "    \n",
    "    #randomize between enrolment and completion date\n",
    "    return fake_start.date_between(start_date=data['ENROLMENT_DATE'],\n",
    "                                   end_date=data['COMPLETION_DATE'])"
   ]
  },
  {
   "cell_type": "code",
   "execution_count": 53,
   "metadata": {},
   "outputs": [],
   "source": [
    "#apply the function\n",
    "slice_course_dates['COURSE_START_DATE'] = slice_course_dates.apply(create_course_start,\n",
    "                                                                   axis=1)"
   ]
  },
  {
   "cell_type": "code",
   "execution_count": 54,
   "metadata": {},
   "outputs": [],
   "source": [
    "from datetime import date\n",
    "\n",
    "#write a function to create the course end date\n",
    "def create_course_end(data):\n",
    "    #create the object class\n",
    "    fake_end = Faker()\n",
    "    \n",
    "    #randomize between course start and completion date\n",
    "    return fake_end.date_between(start_date=data['COURSE_START_DATE'],\n",
    "                                 end_date=data['COMPLETION_DATE'])"
   ]
  },
  {
   "cell_type": "code",
   "execution_count": 55,
   "metadata": {},
   "outputs": [],
   "source": [
    "#apply the function\n",
    "slice_course_dates['COURSE_END_DATE'] = slice_course_dates.apply(create_course_end,\n",
    "                                                                 axis=1)"
   ]
  },
  {
   "cell_type": "markdown",
   "metadata": {},
   "source": [
    "LOGIC CHECK"
   ]
  },
  {
   "cell_type": "code",
   "execution_count": 56,
   "metadata": {},
   "outputs": [
    {
     "data": {
      "text/html": [
       "<div>\n",
       "<style scoped>\n",
       "    .dataframe tbody tr th:only-of-type {\n",
       "        vertical-align: middle;\n",
       "    }\n",
       "\n",
       "    .dataframe tbody tr th {\n",
       "        vertical-align: top;\n",
       "    }\n",
       "\n",
       "    .dataframe thead th {\n",
       "        text-align: right;\n",
       "    }\n",
       "</style>\n",
       "<table border=\"1\" class=\"dataframe\">\n",
       "  <thead>\n",
       "    <tr style=\"text-align: right;\">\n",
       "      <th></th>\n",
       "      <th>STUDENT_ID</th>\n",
       "      <th>ID</th>\n",
       "      <th>COURSE_ID</th>\n",
       "      <th>ENROLMENT_DATE</th>\n",
       "      <th>COMPLETION_DATE</th>\n",
       "      <th>COURSE_START_DATE</th>\n",
       "      <th>COURSE_END_DATE</th>\n",
       "    </tr>\n",
       "  </thead>\n",
       "  <tbody>\n",
       "  </tbody>\n",
       "</table>\n",
       "</div>"
      ],
      "text/plain": [
       "Empty DataFrame\n",
       "Columns: [STUDENT_ID, ID, COURSE_ID, ENROLMENT_DATE, COMPLETION_DATE, COURSE_START_DATE, COURSE_END_DATE]\n",
       "Index: []"
      ]
     },
     "execution_count": 56,
     "metadata": {},
     "output_type": "execute_result"
    }
   ],
   "source": [
    "#enrolment cannot be after completion\n",
    "slice_course_dates[slice_course_dates['ENROLMENT_DATE'] > slice_course_dates['COMPLETION_DATE']]"
   ]
  },
  {
   "cell_type": "code",
   "execution_count": 57,
   "metadata": {},
   "outputs": [
    {
     "data": {
      "text/html": [
       "<div>\n",
       "<style scoped>\n",
       "    .dataframe tbody tr th:only-of-type {\n",
       "        vertical-align: middle;\n",
       "    }\n",
       "\n",
       "    .dataframe tbody tr th {\n",
       "        vertical-align: top;\n",
       "    }\n",
       "\n",
       "    .dataframe thead th {\n",
       "        text-align: right;\n",
       "    }\n",
       "</style>\n",
       "<table border=\"1\" class=\"dataframe\">\n",
       "  <thead>\n",
       "    <tr style=\"text-align: right;\">\n",
       "      <th></th>\n",
       "      <th>STUDENT_ID</th>\n",
       "      <th>ID</th>\n",
       "      <th>COURSE_ID</th>\n",
       "      <th>ENROLMENT_DATE</th>\n",
       "      <th>COMPLETION_DATE</th>\n",
       "      <th>COURSE_START_DATE</th>\n",
       "      <th>COURSE_END_DATE</th>\n",
       "    </tr>\n",
       "  </thead>\n",
       "  <tbody>\n",
       "  </tbody>\n",
       "</table>\n",
       "</div>"
      ],
      "text/plain": [
       "Empty DataFrame\n",
       "Columns: [STUDENT_ID, ID, COURSE_ID, ENROLMENT_DATE, COMPLETION_DATE, COURSE_START_DATE, COURSE_END_DATE]\n",
       "Index: []"
      ]
     },
     "execution_count": 57,
     "metadata": {},
     "output_type": "execute_result"
    }
   ],
   "source": [
    "#start date cannot be before enrolment\n",
    "slice_course_dates[slice_course_dates['COURSE_START_DATE'] < slice_course_dates['ENROLMENT_DATE']]"
   ]
  },
  {
   "cell_type": "code",
   "execution_count": 58,
   "metadata": {},
   "outputs": [
    {
     "data": {
      "text/html": [
       "<div>\n",
       "<style scoped>\n",
       "    .dataframe tbody tr th:only-of-type {\n",
       "        vertical-align: middle;\n",
       "    }\n",
       "\n",
       "    .dataframe tbody tr th {\n",
       "        vertical-align: top;\n",
       "    }\n",
       "\n",
       "    .dataframe thead th {\n",
       "        text-align: right;\n",
       "    }\n",
       "</style>\n",
       "<table border=\"1\" class=\"dataframe\">\n",
       "  <thead>\n",
       "    <tr style=\"text-align: right;\">\n",
       "      <th></th>\n",
       "      <th>STUDENT_ID</th>\n",
       "      <th>ID</th>\n",
       "      <th>COURSE_ID</th>\n",
       "      <th>ENROLMENT_DATE</th>\n",
       "      <th>COMPLETION_DATE</th>\n",
       "      <th>COURSE_START_DATE</th>\n",
       "      <th>COURSE_END_DATE</th>\n",
       "    </tr>\n",
       "  </thead>\n",
       "  <tbody>\n",
       "  </tbody>\n",
       "</table>\n",
       "</div>"
      ],
      "text/plain": [
       "Empty DataFrame\n",
       "Columns: [STUDENT_ID, ID, COURSE_ID, ENROLMENT_DATE, COMPLETION_DATE, COURSE_START_DATE, COURSE_END_DATE]\n",
       "Index: []"
      ]
     },
     "execution_count": 58,
     "metadata": {},
     "output_type": "execute_result"
    }
   ],
   "source": [
    "#start cannot be after completion\n",
    "slice_course_dates[slice_course_dates['COURSE_START_DATE'] > slice_course_dates['COURSE_END_DATE']]"
   ]
  },
  {
   "cell_type": "code",
   "execution_count": 59,
   "metadata": {},
   "outputs": [
    {
     "data": {
      "text/plain": [
       "(4277, 12)"
      ]
     },
     "execution_count": 59,
     "metadata": {},
     "output_type": "execute_result"
    }
   ],
   "source": [
    "student_study.shape"
   ]
  },
  {
   "cell_type": "code",
   "execution_count": 61,
   "metadata": {},
   "outputs": [
    {
     "data": {
      "text/html": [
       "<div>\n",
       "<style scoped>\n",
       "    .dataframe tbody tr th:only-of-type {\n",
       "        vertical-align: middle;\n",
       "    }\n",
       "\n",
       "    .dataframe tbody tr th {\n",
       "        vertical-align: top;\n",
       "    }\n",
       "\n",
       "    .dataframe thead th {\n",
       "        text-align: right;\n",
       "    }\n",
       "</style>\n",
       "<table border=\"1\" class=\"dataframe\">\n",
       "  <thead>\n",
       "    <tr style=\"text-align: right;\">\n",
       "      <th></th>\n",
       "      <th>STUDENT_ID</th>\n",
       "      <th>ID</th>\n",
       "      <th>COURSE_ID</th>\n",
       "      <th>ENROLMENT_DATE</th>\n",
       "      <th>COMPLETION_DATE</th>\n",
       "      <th>COURSE_START_DATE</th>\n",
       "      <th>COURSE_END_DATE</th>\n",
       "    </tr>\n",
       "  </thead>\n",
       "  <tbody>\n",
       "    <tr>\n",
       "      <th>0</th>\n",
       "      <td>S000008</td>\n",
       "      <td>8</td>\n",
       "      <td>C0001</td>\n",
       "      <td>2023-12-14</td>\n",
       "      <td>2024-01-08</td>\n",
       "      <td>2023-12-21</td>\n",
       "      <td>2023-12-25</td>\n",
       "    </tr>\n",
       "    <tr>\n",
       "      <th>1</th>\n",
       "      <td>S000009</td>\n",
       "      <td>9</td>\n",
       "      <td>C0001</td>\n",
       "      <td>2023-05-20</td>\n",
       "      <td>2024-04-19</td>\n",
       "      <td>2023-08-18</td>\n",
       "      <td>2023-12-08</td>\n",
       "    </tr>\n",
       "  </tbody>\n",
       "</table>\n",
       "</div>"
      ],
      "text/plain": [
       "  STUDENT_ID  ID COURSE_ID ENROLMENT_DATE COMPLETION_DATE COURSE_START_DATE  \\\n",
       "0    S000008   8     C0001     2023-12-14      2024-01-08        2023-12-21   \n",
       "1    S000009   9     C0001     2023-05-20      2024-04-19        2023-08-18   \n",
       "\n",
       "  COURSE_END_DATE  \n",
       "0      2023-12-25  \n",
       "1      2023-12-08  "
      ]
     },
     "execution_count": 61,
     "metadata": {},
     "output_type": "execute_result"
    }
   ],
   "source": [
    "slice_course_dates.head(2)"
   ]
  },
  {
   "cell_type": "code",
   "execution_count": 62,
   "metadata": {},
   "outputs": [],
   "source": [
    "#add course_dates to the main merged table\n",
    "student_course_data = student_study.merge(slice_course_dates,\n",
    "                                          how='inner',\n",
    "                                          on=['STUDENT_ID', 'COURSE_ID', 'ID', 'ENROLMENT_DATE', 'COMPLETION_DATE'])"
   ]
  },
  {
   "cell_type": "code",
   "execution_count": 63,
   "metadata": {},
   "outputs": [
    {
     "data": {
      "text/html": [
       "<div>\n",
       "<style scoped>\n",
       "    .dataframe tbody tr th:only-of-type {\n",
       "        vertical-align: middle;\n",
       "    }\n",
       "\n",
       "    .dataframe tbody tr th {\n",
       "        vertical-align: top;\n",
       "    }\n",
       "\n",
       "    .dataframe thead th {\n",
       "        text-align: right;\n",
       "    }\n",
       "</style>\n",
       "<table border=\"1\" class=\"dataframe\">\n",
       "  <thead>\n",
       "    <tr style=\"text-align: right;\">\n",
       "      <th></th>\n",
       "      <th>STUDENT_ID</th>\n",
       "      <th>FIRST_NAME</th>\n",
       "      <th>LAST_NAME</th>\n",
       "      <th>CITY</th>\n",
       "      <th>BIRTH_DATE</th>\n",
       "      <th>E-MAIL</th>\n",
       "      <th>ID</th>\n",
       "      <th>COURSE_ID</th>\n",
       "      <th>CANCELLED</th>\n",
       "      <th>ENROLMENT_DATE</th>\n",
       "      <th>COMPLETION_DATE</th>\n",
       "      <th>CLASS_ID</th>\n",
       "      <th>COURSE_START_DATE</th>\n",
       "      <th>COURSE_END_DATE</th>\n",
       "    </tr>\n",
       "  </thead>\n",
       "  <tbody>\n",
       "    <tr>\n",
       "      <th>0</th>\n",
       "      <td>S000008</td>\n",
       "      <td>Thomas</td>\n",
       "      <td>Moore</td>\n",
       "      <td>Krasnoyarsk</td>\n",
       "      <td>1975-11-26</td>\n",
       "      <td>thomasmoore@yandex.com</td>\n",
       "      <td>8</td>\n",
       "      <td>C0001</td>\n",
       "      <td>False</td>\n",
       "      <td>2023-12-14</td>\n",
       "      <td>2024-01-08</td>\n",
       "      <td>CERPC101</td>\n",
       "      <td>2023-12-21</td>\n",
       "      <td>2023-12-25</td>\n",
       "    </tr>\n",
       "    <tr>\n",
       "      <th>1</th>\n",
       "      <td>S000008</td>\n",
       "      <td>Thomas</td>\n",
       "      <td>Moore</td>\n",
       "      <td>Krasnoyarsk</td>\n",
       "      <td>1975-11-26</td>\n",
       "      <td>thomasmoore@yandex.com</td>\n",
       "      <td>8</td>\n",
       "      <td>C0001</td>\n",
       "      <td>False</td>\n",
       "      <td>2023-12-14</td>\n",
       "      <td>2024-01-08</td>\n",
       "      <td>CERPC102</td>\n",
       "      <td>2023-12-21</td>\n",
       "      <td>2023-12-25</td>\n",
       "    </tr>\n",
       "  </tbody>\n",
       "</table>\n",
       "</div>"
      ],
      "text/plain": [
       "  STUDENT_ID FIRST_NAME LAST_NAME         CITY BIRTH_DATE  \\\n",
       "0    S000008     Thomas     Moore  Krasnoyarsk 1975-11-26   \n",
       "1    S000008     Thomas     Moore  Krasnoyarsk 1975-11-26   \n",
       "\n",
       "                   E-MAIL  ID COURSE_ID  CANCELLED ENROLMENT_DATE  \\\n",
       "0  thomasmoore@yandex.com   8     C0001      False     2023-12-14   \n",
       "1  thomasmoore@yandex.com   8     C0001      False     2023-12-14   \n",
       "\n",
       "  COMPLETION_DATE  CLASS_ID COURSE_START_DATE COURSE_END_DATE  \n",
       "0      2024-01-08  CERPC101        2023-12-21      2023-12-25  \n",
       "1      2024-01-08  CERPC102        2023-12-21      2023-12-25  "
      ]
     },
     "execution_count": 63,
     "metadata": {},
     "output_type": "execute_result"
    }
   ],
   "source": [
    "student_course_data.head(2)"
   ]
  },
  {
   "cell_type": "code",
   "execution_count": 64,
   "metadata": {},
   "outputs": [
    {
     "data": {
      "text/html": [
       "<div>\n",
       "<style scoped>\n",
       "    .dataframe tbody tr th:only-of-type {\n",
       "        vertical-align: middle;\n",
       "    }\n",
       "\n",
       "    .dataframe tbody tr th {\n",
       "        vertical-align: top;\n",
       "    }\n",
       "\n",
       "    .dataframe thead th {\n",
       "        text-align: right;\n",
       "    }\n",
       "</style>\n",
       "<table border=\"1\" class=\"dataframe\">\n",
       "  <thead>\n",
       "    <tr style=\"text-align: right;\">\n",
       "      <th></th>\n",
       "      <th>STUDENT_ID</th>\n",
       "      <th>FIRST_NAME</th>\n",
       "      <th>LAST_NAME</th>\n",
       "      <th>CITY</th>\n",
       "      <th>BIRTH_DATE</th>\n",
       "      <th>E-MAIL</th>\n",
       "      <th>ID</th>\n",
       "      <th>COURSE_ID</th>\n",
       "      <th>CANCELLED</th>\n",
       "      <th>ENROLMENT_DATE</th>\n",
       "      <th>COMPLETION_DATE</th>\n",
       "      <th>CLASS_ID</th>\n",
       "      <th>COURSE_START_DATE</th>\n",
       "      <th>COURSE_END_DATE</th>\n",
       "    </tr>\n",
       "  </thead>\n",
       "  <tbody>\n",
       "    <tr>\n",
       "      <th>0</th>\n",
       "      <td>S000008</td>\n",
       "      <td>Thomas</td>\n",
       "      <td>Moore</td>\n",
       "      <td>Krasnoyarsk</td>\n",
       "      <td>1975-11-26</td>\n",
       "      <td>thomasmoore@yandex.com</td>\n",
       "      <td>8</td>\n",
       "      <td>C0001</td>\n",
       "      <td>False</td>\n",
       "      <td>2023-12-14</td>\n",
       "      <td>2024-01-08</td>\n",
       "      <td>CERPC101</td>\n",
       "      <td>2023-12-21</td>\n",
       "      <td>2023-12-25</td>\n",
       "    </tr>\n",
       "    <tr>\n",
       "      <th>1</th>\n",
       "      <td>S000008</td>\n",
       "      <td>Thomas</td>\n",
       "      <td>Moore</td>\n",
       "      <td>Krasnoyarsk</td>\n",
       "      <td>1975-11-26</td>\n",
       "      <td>thomasmoore@yandex.com</td>\n",
       "      <td>8</td>\n",
       "      <td>C0001</td>\n",
       "      <td>False</td>\n",
       "      <td>2023-12-14</td>\n",
       "      <td>2024-01-08</td>\n",
       "      <td>CERPC102</td>\n",
       "      <td>2023-12-21</td>\n",
       "      <td>2023-12-25</td>\n",
       "    </tr>\n",
       "  </tbody>\n",
       "</table>\n",
       "</div>"
      ],
      "text/plain": [
       "  STUDENT_ID FIRST_NAME LAST_NAME         CITY BIRTH_DATE  \\\n",
       "0    S000008     Thomas     Moore  Krasnoyarsk 1975-11-26   \n",
       "1    S000008     Thomas     Moore  Krasnoyarsk 1975-11-26   \n",
       "\n",
       "                   E-MAIL  ID COURSE_ID  CANCELLED ENROLMENT_DATE  \\\n",
       "0  thomasmoore@yandex.com   8     C0001      False     2023-12-14   \n",
       "1  thomasmoore@yandex.com   8     C0001      False     2023-12-14   \n",
       "\n",
       "  COMPLETION_DATE  CLASS_ID COURSE_START_DATE COURSE_END_DATE  \n",
       "0      2024-01-08  CERPC101        2023-12-21      2023-12-25  \n",
       "1      2024-01-08  CERPC102        2023-12-21      2023-12-25  "
      ]
     },
     "execution_count": 64,
     "metadata": {},
     "output_type": "execute_result"
    }
   ],
   "source": [
    "student_course_data.head(2)"
   ]
  },
  {
   "cell_type": "code",
   "execution_count": 65,
   "metadata": {},
   "outputs": [
    {
     "data": {
      "text/plain": [
       "(4277, 14)"
      ]
     },
     "execution_count": 65,
     "metadata": {},
     "output_type": "execute_result"
    }
   ],
   "source": [
    "student_course_data.shape"
   ]
  },
  {
   "cell_type": "markdown",
   "metadata": {},
   "source": [
    "#### **CREATE CLASS_START_DATE / CLASS_END_DATE**"
   ]
  },
  {
   "cell_type": "code",
   "execution_count": 67,
   "metadata": {},
   "outputs": [
    {
     "data": {
      "text/html": [
       "<div>\n",
       "<style scoped>\n",
       "    .dataframe tbody tr th:only-of-type {\n",
       "        vertical-align: middle;\n",
       "    }\n",
       "\n",
       "    .dataframe tbody tr th {\n",
       "        vertical-align: top;\n",
       "    }\n",
       "\n",
       "    .dataframe thead th {\n",
       "        text-align: right;\n",
       "    }\n",
       "</style>\n",
       "<table border=\"1\" class=\"dataframe\">\n",
       "  <thead>\n",
       "    <tr style=\"text-align: right;\">\n",
       "      <th></th>\n",
       "      <th>STUDENT_ID</th>\n",
       "      <th>ID</th>\n",
       "      <th>COURSE_ID</th>\n",
       "      <th>ENROLMENT_DATE</th>\n",
       "      <th>COMPLETION_DATE</th>\n",
       "      <th>CLASS_ID</th>\n",
       "      <th>COURSE_START_DATE</th>\n",
       "      <th>COURSE_END_DATE</th>\n",
       "    </tr>\n",
       "  </thead>\n",
       "  <tbody>\n",
       "    <tr>\n",
       "      <th>0</th>\n",
       "      <td>S000008</td>\n",
       "      <td>8</td>\n",
       "      <td>C0001</td>\n",
       "      <td>2023-12-14</td>\n",
       "      <td>2024-01-08</td>\n",
       "      <td>CERPC101</td>\n",
       "      <td>2023-12-21</td>\n",
       "      <td>2023-12-25</td>\n",
       "    </tr>\n",
       "    <tr>\n",
       "      <th>1</th>\n",
       "      <td>S000008</td>\n",
       "      <td>8</td>\n",
       "      <td>C0001</td>\n",
       "      <td>2023-12-14</td>\n",
       "      <td>2024-01-08</td>\n",
       "      <td>CERPC102</td>\n",
       "      <td>2023-12-21</td>\n",
       "      <td>2023-12-25</td>\n",
       "    </tr>\n",
       "  </tbody>\n",
       "</table>\n",
       "</div>"
      ],
      "text/plain": [
       "  STUDENT_ID  ID COURSE_ID ENROLMENT_DATE COMPLETION_DATE  CLASS_ID  \\\n",
       "0    S000008   8     C0001     2023-12-14      2024-01-08  CERPC101   \n",
       "1    S000008   8     C0001     2023-12-14      2024-01-08  CERPC102   \n",
       "\n",
       "  COURSE_START_DATE COURSE_END_DATE  \n",
       "0        2023-12-21      2023-12-25  \n",
       "1        2023-12-21      2023-12-25  "
      ]
     },
     "execution_count": 67,
     "metadata": {},
     "output_type": "execute_result"
    }
   ],
   "source": [
    "#slice the table\n",
    "slice_class_dates = student_course_data.iloc[:, [0, 6, 7, 9, 10, 11, 12, 13]]\n",
    "slice_class_dates.head(2)"
   ]
  },
  {
   "cell_type": "code",
   "execution_count": 68,
   "metadata": {},
   "outputs": [
    {
     "name": "stdout",
     "output_type": "stream",
     "text": [
      "Number of Duplicates: 860\n"
     ]
    }
   ],
   "source": [
    "#check for duplicate values\n",
    "dupl_columns = list(slice_class_dates.columns)\n",
    "\n",
    "mask = slice_class_dates.duplicated(subset=dupl_columns)\n",
    "slice_class_duplicates = slice_class_dates[mask]\n",
    "print(f'Number of Duplicates: {slice_class_duplicates.shape[0]}')"
   ]
  },
  {
   "cell_type": "code",
   "execution_count": 69,
   "metadata": {},
   "outputs": [
    {
     "name": "stdout",
     "output_type": "stream",
     "text": [
      "New Dimensions: 3417\n"
     ]
    }
   ],
   "source": [
    "#remove duplicates\n",
    "slice_class_dates = slice_class_dates.drop_duplicates(subset=dupl_columns)\n",
    "print(f'New Dimensions: {slice_class_dates.shape[0]}')"
   ]
  },
  {
   "cell_type": "code",
   "execution_count": 70,
   "metadata": {},
   "outputs": [],
   "source": [
    "#reset the index\n",
    "slice_class_dates = slice_class_dates.reset_index()\n",
    "\n",
    "#remove uninformative feature\n",
    "slice_class_dates = slice_class_dates.drop('index',\n",
    "                                           axis=1,\n",
    "                                           errors='ignore')"
   ]
  },
  {
   "cell_type": "code",
   "execution_count": 71,
   "metadata": {},
   "outputs": [
    {
     "data": {
      "text/html": [
       "<div>\n",
       "<style scoped>\n",
       "    .dataframe tbody tr th:only-of-type {\n",
       "        vertical-align: middle;\n",
       "    }\n",
       "\n",
       "    .dataframe tbody tr th {\n",
       "        vertical-align: top;\n",
       "    }\n",
       "\n",
       "    .dataframe thead th {\n",
       "        text-align: right;\n",
       "    }\n",
       "</style>\n",
       "<table border=\"1\" class=\"dataframe\">\n",
       "  <thead>\n",
       "    <tr style=\"text-align: right;\">\n",
       "      <th></th>\n",
       "      <th>STUDENT_ID</th>\n",
       "      <th>ID</th>\n",
       "      <th>COURSE_ID</th>\n",
       "      <th>ENROLMENT_DATE</th>\n",
       "      <th>COMPLETION_DATE</th>\n",
       "      <th>CLASS_ID</th>\n",
       "      <th>COURSE_START_DATE</th>\n",
       "      <th>COURSE_END_DATE</th>\n",
       "    </tr>\n",
       "  </thead>\n",
       "  <tbody>\n",
       "    <tr>\n",
       "      <th>0</th>\n",
       "      <td>S000008</td>\n",
       "      <td>8</td>\n",
       "      <td>C0001</td>\n",
       "      <td>2023-12-14</td>\n",
       "      <td>2024-01-08</td>\n",
       "      <td>CERPC101</td>\n",
       "      <td>2023-12-21</td>\n",
       "      <td>2023-12-25</td>\n",
       "    </tr>\n",
       "    <tr>\n",
       "      <th>1</th>\n",
       "      <td>S000008</td>\n",
       "      <td>8</td>\n",
       "      <td>C0001</td>\n",
       "      <td>2023-12-14</td>\n",
       "      <td>2024-01-08</td>\n",
       "      <td>CERPC102</td>\n",
       "      <td>2023-12-21</td>\n",
       "      <td>2023-12-25</td>\n",
       "    </tr>\n",
       "  </tbody>\n",
       "</table>\n",
       "</div>"
      ],
      "text/plain": [
       "  STUDENT_ID  ID COURSE_ID ENROLMENT_DATE COMPLETION_DATE  CLASS_ID  \\\n",
       "0    S000008   8     C0001     2023-12-14      2024-01-08  CERPC101   \n",
       "1    S000008   8     C0001     2023-12-14      2024-01-08  CERPC102   \n",
       "\n",
       "  COURSE_START_DATE COURSE_END_DATE  \n",
       "0        2023-12-21      2023-12-25  \n",
       "1        2023-12-21      2023-12-25  "
      ]
     },
     "execution_count": 71,
     "metadata": {},
     "output_type": "execute_result"
    }
   ],
   "source": [
    "slice_class_dates.head(2)"
   ]
  },
  {
   "cell_type": "code",
   "execution_count": 72,
   "metadata": {},
   "outputs": [],
   "source": [
    "from datetime import date\n",
    "\n",
    "#write a function to create the class start date\n",
    "def create_class_start(data):\n",
    "    #create the object class\n",
    "    fake_start = Faker()\n",
    "    \n",
    "    #randomize between course start and course end\n",
    "    return fake_start.date_between(start_date=data['COURSE_START_DATE'],\n",
    "                                   end_date=data['COURSE_END_DATE'])"
   ]
  },
  {
   "cell_type": "code",
   "execution_count": 73,
   "metadata": {},
   "outputs": [],
   "source": [
    "#apply the function\n",
    "slice_class_dates['CLASS_START_DATE'] = slice_class_dates.apply(create_class_start,\n",
    "                                                                axis=1)"
   ]
  },
  {
   "cell_type": "code",
   "execution_count": 74,
   "metadata": {},
   "outputs": [],
   "source": [
    "from datetime import date\n",
    "\n",
    "#write a function to create the class end date\n",
    "def create_class_end(data):\n",
    "    #create the object class\n",
    "    fake_end = Faker()\n",
    "    \n",
    "    #randomize between class start and course end\n",
    "    return fake_end.date_between(start_date=data['CLASS_START_DATE'],\n",
    "                                 end_date=data['COURSE_END_DATE'])"
   ]
  },
  {
   "cell_type": "code",
   "execution_count": 75,
   "metadata": {},
   "outputs": [],
   "source": [
    "#apply the function\n",
    "slice_class_dates['CLASS_END_DATE'] = slice_class_dates.apply(create_class_end,\n",
    "                                                              axis=1)"
   ]
  },
  {
   "cell_type": "markdown",
   "metadata": {},
   "source": [
    "LOGIC CHECK"
   ]
  },
  {
   "cell_type": "code",
   "execution_count": 76,
   "metadata": {},
   "outputs": [
    {
     "data": {
      "text/html": [
       "<div>\n",
       "<style scoped>\n",
       "    .dataframe tbody tr th:only-of-type {\n",
       "        vertical-align: middle;\n",
       "    }\n",
       "\n",
       "    .dataframe tbody tr th {\n",
       "        vertical-align: top;\n",
       "    }\n",
       "\n",
       "    .dataframe thead th {\n",
       "        text-align: right;\n",
       "    }\n",
       "</style>\n",
       "<table border=\"1\" class=\"dataframe\">\n",
       "  <thead>\n",
       "    <tr style=\"text-align: right;\">\n",
       "      <th></th>\n",
       "      <th>STUDENT_ID</th>\n",
       "      <th>ID</th>\n",
       "      <th>COURSE_ID</th>\n",
       "      <th>ENROLMENT_DATE</th>\n",
       "      <th>COMPLETION_DATE</th>\n",
       "      <th>CLASS_ID</th>\n",
       "      <th>COURSE_START_DATE</th>\n",
       "      <th>COURSE_END_DATE</th>\n",
       "      <th>CLASS_START_DATE</th>\n",
       "      <th>CLASS_END_DATE</th>\n",
       "    </tr>\n",
       "  </thead>\n",
       "  <tbody>\n",
       "  </tbody>\n",
       "</table>\n",
       "</div>"
      ],
      "text/plain": [
       "Empty DataFrame\n",
       "Columns: [STUDENT_ID, ID, COURSE_ID, ENROLMENT_DATE, COMPLETION_DATE, CLASS_ID, COURSE_START_DATE, COURSE_END_DATE, CLASS_START_DATE, CLASS_END_DATE]\n",
       "Index: []"
      ]
     },
     "execution_count": 76,
     "metadata": {},
     "output_type": "execute_result"
    }
   ],
   "source": [
    "#class start cannot be after course end\n",
    "slice_class_dates[slice_class_dates['CLASS_START_DATE'] > slice_class_dates['COURSE_END_DATE']]"
   ]
  },
  {
   "cell_type": "code",
   "execution_count": 77,
   "metadata": {},
   "outputs": [
    {
     "data": {
      "text/html": [
       "<div>\n",
       "<style scoped>\n",
       "    .dataframe tbody tr th:only-of-type {\n",
       "        vertical-align: middle;\n",
       "    }\n",
       "\n",
       "    .dataframe tbody tr th {\n",
       "        vertical-align: top;\n",
       "    }\n",
       "\n",
       "    .dataframe thead th {\n",
       "        text-align: right;\n",
       "    }\n",
       "</style>\n",
       "<table border=\"1\" class=\"dataframe\">\n",
       "  <thead>\n",
       "    <tr style=\"text-align: right;\">\n",
       "      <th></th>\n",
       "      <th>STUDENT_ID</th>\n",
       "      <th>ID</th>\n",
       "      <th>COURSE_ID</th>\n",
       "      <th>ENROLMENT_DATE</th>\n",
       "      <th>COMPLETION_DATE</th>\n",
       "      <th>CLASS_ID</th>\n",
       "      <th>COURSE_START_DATE</th>\n",
       "      <th>COURSE_END_DATE</th>\n",
       "      <th>CLASS_START_DATE</th>\n",
       "      <th>CLASS_END_DATE</th>\n",
       "    </tr>\n",
       "  </thead>\n",
       "  <tbody>\n",
       "  </tbody>\n",
       "</table>\n",
       "</div>"
      ],
      "text/plain": [
       "Empty DataFrame\n",
       "Columns: [STUDENT_ID, ID, COURSE_ID, ENROLMENT_DATE, COMPLETION_DATE, CLASS_ID, COURSE_START_DATE, COURSE_END_DATE, CLASS_START_DATE, CLASS_END_DATE]\n",
       "Index: []"
      ]
     },
     "execution_count": 77,
     "metadata": {},
     "output_type": "execute_result"
    }
   ],
   "source": [
    "#class end cannot be before class start\n",
    "slice_class_dates[slice_class_dates['CLASS_START_DATE'] > slice_class_dates['CLASS_END_DATE']]"
   ]
  },
  {
   "cell_type": "code",
   "execution_count": 78,
   "metadata": {},
   "outputs": [
    {
     "data": {
      "text/plain": [
       "(4277, 14)"
      ]
     },
     "execution_count": 78,
     "metadata": {},
     "output_type": "execute_result"
    }
   ],
   "source": [
    "student_course_data.shape"
   ]
  },
  {
   "cell_type": "code",
   "execution_count": 79,
   "metadata": {},
   "outputs": [],
   "source": [
    "#add class dates to the main merged table\n",
    "student_class_data = student_course_data.merge(slice_class_dates,\n",
    "                                               how='inner',\n",
    "                                               on=['STUDENT_ID', 'ID',\n",
    "                                                   'ENROLMENT_DATE', 'COMPLETION_DATE',\n",
    "                                                   'CLASS_ID',\n",
    "                                                   'COURSE_ID', 'COURSE_START_DATE', 'COURSE_END_DATE'])"
   ]
  },
  {
   "cell_type": "code",
   "execution_count": 80,
   "metadata": {},
   "outputs": [
    {
     "data": {
      "text/html": [
       "<div>\n",
       "<style scoped>\n",
       "    .dataframe tbody tr th:only-of-type {\n",
       "        vertical-align: middle;\n",
       "    }\n",
       "\n",
       "    .dataframe tbody tr th {\n",
       "        vertical-align: top;\n",
       "    }\n",
       "\n",
       "    .dataframe thead th {\n",
       "        text-align: right;\n",
       "    }\n",
       "</style>\n",
       "<table border=\"1\" class=\"dataframe\">\n",
       "  <thead>\n",
       "    <tr style=\"text-align: right;\">\n",
       "      <th></th>\n",
       "      <th>STUDENT_ID</th>\n",
       "      <th>FIRST_NAME</th>\n",
       "      <th>LAST_NAME</th>\n",
       "      <th>CITY</th>\n",
       "      <th>BIRTH_DATE</th>\n",
       "      <th>E-MAIL</th>\n",
       "      <th>ID</th>\n",
       "      <th>COURSE_ID</th>\n",
       "      <th>CANCELLED</th>\n",
       "      <th>ENROLMENT_DATE</th>\n",
       "      <th>COMPLETION_DATE</th>\n",
       "      <th>CLASS_ID</th>\n",
       "      <th>COURSE_START_DATE</th>\n",
       "      <th>COURSE_END_DATE</th>\n",
       "      <th>CLASS_START_DATE</th>\n",
       "      <th>CLASS_END_DATE</th>\n",
       "    </tr>\n",
       "  </thead>\n",
       "  <tbody>\n",
       "    <tr>\n",
       "      <th>0</th>\n",
       "      <td>S000008</td>\n",
       "      <td>Thomas</td>\n",
       "      <td>Moore</td>\n",
       "      <td>Krasnoyarsk</td>\n",
       "      <td>1975-11-26</td>\n",
       "      <td>thomasmoore@yandex.com</td>\n",
       "      <td>8</td>\n",
       "      <td>C0001</td>\n",
       "      <td>False</td>\n",
       "      <td>2023-12-14</td>\n",
       "      <td>2024-01-08</td>\n",
       "      <td>CERPC101</td>\n",
       "      <td>2023-12-21</td>\n",
       "      <td>2023-12-25</td>\n",
       "      <td>2023-12-22</td>\n",
       "      <td>2023-12-23</td>\n",
       "    </tr>\n",
       "    <tr>\n",
       "      <th>1</th>\n",
       "      <td>S000008</td>\n",
       "      <td>Thomas</td>\n",
       "      <td>Moore</td>\n",
       "      <td>Krasnoyarsk</td>\n",
       "      <td>1975-11-26</td>\n",
       "      <td>thomasmoore@yandex.com</td>\n",
       "      <td>8</td>\n",
       "      <td>C0001</td>\n",
       "      <td>False</td>\n",
       "      <td>2023-12-14</td>\n",
       "      <td>2024-01-08</td>\n",
       "      <td>CERPC102</td>\n",
       "      <td>2023-12-21</td>\n",
       "      <td>2023-12-25</td>\n",
       "      <td>2023-12-21</td>\n",
       "      <td>2023-12-24</td>\n",
       "    </tr>\n",
       "  </tbody>\n",
       "</table>\n",
       "</div>"
      ],
      "text/plain": [
       "  STUDENT_ID FIRST_NAME LAST_NAME         CITY BIRTH_DATE  \\\n",
       "0    S000008     Thomas     Moore  Krasnoyarsk 1975-11-26   \n",
       "1    S000008     Thomas     Moore  Krasnoyarsk 1975-11-26   \n",
       "\n",
       "                   E-MAIL  ID COURSE_ID  CANCELLED ENROLMENT_DATE  \\\n",
       "0  thomasmoore@yandex.com   8     C0001      False     2023-12-14   \n",
       "1  thomasmoore@yandex.com   8     C0001      False     2023-12-14   \n",
       "\n",
       "  COMPLETION_DATE  CLASS_ID COURSE_START_DATE COURSE_END_DATE  \\\n",
       "0      2024-01-08  CERPC101        2023-12-21      2023-12-25   \n",
       "1      2024-01-08  CERPC102        2023-12-21      2023-12-25   \n",
       "\n",
       "  CLASS_START_DATE CLASS_END_DATE  \n",
       "0       2023-12-22     2023-12-23  \n",
       "1       2023-12-21     2023-12-24  "
      ]
     },
     "execution_count": 80,
     "metadata": {},
     "output_type": "execute_result"
    }
   ],
   "source": [
    "student_class_data.head(2)"
   ]
  },
  {
   "cell_type": "code",
   "execution_count": 81,
   "metadata": {},
   "outputs": [
    {
     "data": {
      "text/plain": [
       "(4277, 16)"
      ]
     },
     "execution_count": 81,
     "metadata": {},
     "output_type": "execute_result"
    }
   ],
   "source": [
    "student_class_data.shape"
   ]
  },
  {
   "cell_type": "markdown",
   "metadata": {},
   "source": [
    "#### **CREATE TEST_NUMBER**"
   ]
  },
  {
   "cell_type": "markdown",
   "metadata": {},
   "source": [
    "create test_number by combining course_id + T000 + class_id"
   ]
  },
  {
   "cell_type": "code",
   "execution_count": 82,
   "metadata": {},
   "outputs": [],
   "source": [
    "#slice two characters from class id\n",
    "student_class_data['TNUM'] = student_class_data['CLASS_ID'].apply(lambda x: str(x)[-2:])"
   ]
  },
  {
   "cell_type": "code",
   "execution_count": 84,
   "metadata": {},
   "outputs": [],
   "source": [
    "#write a function to create the test id\n",
    "def create_test_number(data):\n",
    "    return str(data['COURSE_ID']) + 'T000' + str(data['TNUM'])\n",
    "\n",
    "#apply a function\n",
    "student_class_data['TEST_NUMBER'] = student_class_data.apply(create_test_number,\n",
    "                                                             axis=1)"
   ]
  },
  {
   "cell_type": "code",
   "execution_count": 85,
   "metadata": {},
   "outputs": [
    {
     "data": {
      "text/html": [
       "<div>\n",
       "<style scoped>\n",
       "    .dataframe tbody tr th:only-of-type {\n",
       "        vertical-align: middle;\n",
       "    }\n",
       "\n",
       "    .dataframe tbody tr th {\n",
       "        vertical-align: top;\n",
       "    }\n",
       "\n",
       "    .dataframe thead th {\n",
       "        text-align: right;\n",
       "    }\n",
       "</style>\n",
       "<table border=\"1\" class=\"dataframe\">\n",
       "  <thead>\n",
       "    <tr style=\"text-align: right;\">\n",
       "      <th></th>\n",
       "      <th>STUDENT_ID</th>\n",
       "      <th>FIRST_NAME</th>\n",
       "      <th>LAST_NAME</th>\n",
       "      <th>CITY</th>\n",
       "      <th>BIRTH_DATE</th>\n",
       "      <th>E-MAIL</th>\n",
       "      <th>ID</th>\n",
       "      <th>COURSE_ID</th>\n",
       "      <th>CANCELLED</th>\n",
       "      <th>ENROLMENT_DATE</th>\n",
       "      <th>COMPLETION_DATE</th>\n",
       "      <th>CLASS_ID</th>\n",
       "      <th>COURSE_START_DATE</th>\n",
       "      <th>COURSE_END_DATE</th>\n",
       "      <th>CLASS_START_DATE</th>\n",
       "      <th>CLASS_END_DATE</th>\n",
       "      <th>TNUM</th>\n",
       "      <th>TEST_NUMBER</th>\n",
       "    </tr>\n",
       "  </thead>\n",
       "  <tbody>\n",
       "    <tr>\n",
       "      <th>0</th>\n",
       "      <td>S000008</td>\n",
       "      <td>Thomas</td>\n",
       "      <td>Moore</td>\n",
       "      <td>Krasnoyarsk</td>\n",
       "      <td>1975-11-26</td>\n",
       "      <td>thomasmoore@yandex.com</td>\n",
       "      <td>8</td>\n",
       "      <td>C0001</td>\n",
       "      <td>False</td>\n",
       "      <td>2023-12-14</td>\n",
       "      <td>2024-01-08</td>\n",
       "      <td>CERPC101</td>\n",
       "      <td>2023-12-21</td>\n",
       "      <td>2023-12-25</td>\n",
       "      <td>2023-12-22</td>\n",
       "      <td>2023-12-23</td>\n",
       "      <td>01</td>\n",
       "      <td>C0001T00001</td>\n",
       "    </tr>\n",
       "    <tr>\n",
       "      <th>1</th>\n",
       "      <td>S000008</td>\n",
       "      <td>Thomas</td>\n",
       "      <td>Moore</td>\n",
       "      <td>Krasnoyarsk</td>\n",
       "      <td>1975-11-26</td>\n",
       "      <td>thomasmoore@yandex.com</td>\n",
       "      <td>8</td>\n",
       "      <td>C0001</td>\n",
       "      <td>False</td>\n",
       "      <td>2023-12-14</td>\n",
       "      <td>2024-01-08</td>\n",
       "      <td>CERPC102</td>\n",
       "      <td>2023-12-21</td>\n",
       "      <td>2023-12-25</td>\n",
       "      <td>2023-12-21</td>\n",
       "      <td>2023-12-24</td>\n",
       "      <td>02</td>\n",
       "      <td>C0001T00002</td>\n",
       "    </tr>\n",
       "  </tbody>\n",
       "</table>\n",
       "</div>"
      ],
      "text/plain": [
       "  STUDENT_ID FIRST_NAME LAST_NAME         CITY BIRTH_DATE  \\\n",
       "0    S000008     Thomas     Moore  Krasnoyarsk 1975-11-26   \n",
       "1    S000008     Thomas     Moore  Krasnoyarsk 1975-11-26   \n",
       "\n",
       "                   E-MAIL  ID COURSE_ID  CANCELLED ENROLMENT_DATE  \\\n",
       "0  thomasmoore@yandex.com   8     C0001      False     2023-12-14   \n",
       "1  thomasmoore@yandex.com   8     C0001      False     2023-12-14   \n",
       "\n",
       "  COMPLETION_DATE  CLASS_ID COURSE_START_DATE COURSE_END_DATE  \\\n",
       "0      2024-01-08  CERPC101        2023-12-21      2023-12-25   \n",
       "1      2024-01-08  CERPC102        2023-12-21      2023-12-25   \n",
       "\n",
       "  CLASS_START_DATE CLASS_END_DATE TNUM  TEST_NUMBER  \n",
       "0       2023-12-22     2023-12-23   01  C0001T00001  \n",
       "1       2023-12-21     2023-12-24   02  C0001T00002  "
      ]
     },
     "execution_count": 85,
     "metadata": {},
     "output_type": "execute_result"
    }
   ],
   "source": [
    "student_class_data.head(2)"
   ]
  },
  {
   "cell_type": "markdown",
   "metadata": {},
   "source": [
    "CREATE TESTS TABLE"
   ]
  },
  {
   "cell_type": "code",
   "execution_count": 88,
   "metadata": {},
   "outputs": [],
   "source": [
    "#combine courses + classes\n",
    "tests = course_details.merge(class_details,\n",
    "                             how='left',\n",
    "                             on=['COURSE_ID'])"
   ]
  },
  {
   "cell_type": "code",
   "execution_count": 91,
   "metadata": {},
   "outputs": [],
   "source": [
    "#slice two characters from class id\n",
    "tests['TNUM'] = tests['CLASS_ID'].apply(lambda x: str(x)[-2:])"
   ]
  },
  {
   "cell_type": "code",
   "execution_count": 93,
   "metadata": {},
   "outputs": [],
   "source": [
    "#apply a function\n",
    "tests['TEST_NUMBER'] = tests.apply(create_test_number,\n",
    "                                   axis=1)"
   ]
  },
  {
   "cell_type": "code",
   "execution_count": 95,
   "metadata": {},
   "outputs": [],
   "source": [
    "#remove uninformative feature(s)\n",
    "tests = tests.drop('TNUM',\n",
    "                   axis=1,\n",
    "                   errors='ignore')"
   ]
  },
  {
   "cell_type": "code",
   "execution_count": 96,
   "metadata": {},
   "outputs": [
    {
     "data": {
      "text/html": [
       "<div>\n",
       "<style scoped>\n",
       "    .dataframe tbody tr th:only-of-type {\n",
       "        vertical-align: middle;\n",
       "    }\n",
       "\n",
       "    .dataframe tbody tr th {\n",
       "        vertical-align: top;\n",
       "    }\n",
       "\n",
       "    .dataframe thead th {\n",
       "        text-align: right;\n",
       "    }\n",
       "</style>\n",
       "<table border=\"1\" class=\"dataframe\">\n",
       "  <thead>\n",
       "    <tr style=\"text-align: right;\">\n",
       "      <th></th>\n",
       "      <th>COURSE_ID</th>\n",
       "      <th>COURSE_TITLE</th>\n",
       "      <th>CLASS_ID</th>\n",
       "      <th>CLASS_TITLE</th>\n",
       "      <th>TEST_NUMBER</th>\n",
       "    </tr>\n",
       "  </thead>\n",
       "  <tbody>\n",
       "    <tr>\n",
       "      <th>0</th>\n",
       "      <td>C0001</td>\n",
       "      <td>CIRCULAR ECONOMY, RESPONSIBLE PRODUCTION AND C...</td>\n",
       "      <td>CERPC101</td>\n",
       "      <td>001 - CIRCULAR ECONOMY, RESPONSIBLE PRODUCTION...</td>\n",
       "      <td>C0001T00001</td>\n",
       "    </tr>\n",
       "    <tr>\n",
       "      <th>1</th>\n",
       "      <td>C0001</td>\n",
       "      <td>CIRCULAR ECONOMY, RESPONSIBLE PRODUCTION AND C...</td>\n",
       "      <td>CERPC102</td>\n",
       "      <td>002 - CIRCULAR ECONOMY, RESPONSIBLE PRODUCTION...</td>\n",
       "      <td>C0001T00002</td>\n",
       "    </tr>\n",
       "  </tbody>\n",
       "</table>\n",
       "</div>"
      ],
      "text/plain": [
       "  COURSE_ID                                       COURSE_TITLE  CLASS_ID  \\\n",
       "0     C0001  CIRCULAR ECONOMY, RESPONSIBLE PRODUCTION AND C...  CERPC101   \n",
       "1     C0001  CIRCULAR ECONOMY, RESPONSIBLE PRODUCTION AND C...  CERPC102   \n",
       "\n",
       "                                         CLASS_TITLE  TEST_NUMBER  \n",
       "0  001 - CIRCULAR ECONOMY, RESPONSIBLE PRODUCTION...  C0001T00001  \n",
       "1  002 - CIRCULAR ECONOMY, RESPONSIBLE PRODUCTION...  C0001T00002  "
      ]
     },
     "execution_count": 96,
     "metadata": {},
     "output_type": "execute_result"
    }
   ],
   "source": [
    "tests.head(2)"
   ]
  },
  {
   "cell_type": "markdown",
   "metadata": {},
   "source": [
    "EXPORT TABLE"
   ]
  },
  {
   "cell_type": "code",
   "execution_count": 97,
   "metadata": {},
   "outputs": [],
   "source": [
    "#create a file name\n",
    "xlx_name = 'test_details.xlsx'\n",
    "\n",
    "#export to excel\n",
    "tests.to_excel('./experimental/created_tables/' + xlx_name,\n",
    "               sheet_name='test_details')"
   ]
  },
  {
   "cell_type": "markdown",
   "metadata": {},
   "source": [
    "#### **CREATE TEST_SCORE**"
   ]
  },
  {
   "cell_type": "markdown",
   "metadata": {},
   "source": [
    "create a list of test scores with a different set of probabilities"
   ]
  },
  {
   "cell_type": "code",
   "execution_count": 100,
   "metadata": {},
   "outputs": [],
   "source": [
    "#75-100%, 0-100%\n",
    "test_score1, test_score2 = [75, 80, 85, 90, 95, 100], [0, 5, 10, 15, 20, 25, 30, 35, 40, 45, 50, 55, 60, 65, 70, 75, 80, 85, 90, 95, 100]\n",
    "\n",
    "#probability\n",
    "prob1, prob2 = 100 / len(test_score1), 100 / len(test_score2)\n",
    "\n",
    "#split\n",
    "split1 = round(student_class_data.shape[0] / 2, 0)\n",
    "split2 = student_class_data.shape[0] - split1\n",
    "\n",
    "#relative weights to choose elements from the list with different probability\n",
    "scores1 = random.choices(test_score1,\n",
    "                         weights=(prob1, prob1, prob1, prob1, prob1, prob1),\n",
    "                         k=int(split1))\n",
    "\n",
    "#relative weights to choose elements from the list with different probability\n",
    "scores2 = random.choices(test_score2,\n",
    "                         weights=(prob2, prob2, prob2, prob2, prob2, prob2, prob2, prob2, prob2, prob2,\n",
    "                                  prob2, prob2, prob2, prob2, prob2, prob2, prob2, prob2, prob2, prob2,\n",
    "                                  prob2),\n",
    "                         k=int(split2))\n",
    "\n",
    "#add two lists together\n",
    "combine_test_scores = scores1 + scores2"
   ]
  },
  {
   "cell_type": "code",
   "execution_count": 101,
   "metadata": {},
   "outputs": [],
   "source": [
    "#insert a new feature\n",
    "student_class_data['TEST_SCORE'] = None\n",
    "\n",
    "student_class_data = student_class_data.assign(TEST_SCORE=combine_test_scores)"
   ]
  },
  {
   "cell_type": "code",
   "execution_count": 102,
   "metadata": {},
   "outputs": [],
   "source": [
    "#write a function for test_status\n",
    "def pass_or_fail(data):\n",
    "    if data['TEST_SCORE'] > 50:\n",
    "        return 'PASS'\n",
    "    else:\n",
    "        return 'FAIL'\n",
    "\n",
    "#create a new feature\n",
    "student_class_data['TEST_STATUS'] = student_class_data.apply(pass_or_fail,\n",
    "                                                             axis=1)"
   ]
  },
  {
   "cell_type": "markdown",
   "metadata": {},
   "source": [
    "#### **CREATE COURSE_STATUS**"
   ]
  },
  {
   "cell_type": "code",
   "execution_count": 103,
   "metadata": {},
   "outputs": [
    {
     "data": {
      "text/plain": [
       "STUDENT_ID  COURSE_ID\n",
       "S000000     C0001        86.0\n",
       "            C0004        48.0\n",
       "            C0005        51.0\n",
       "S000001     C0003        61.0\n",
       "            C0005        35.0\n",
       "Name: TEST_SCORE, dtype: float64"
      ]
     },
     "execution_count": 103,
     "metadata": {},
     "output_type": "execute_result"
    }
   ],
   "source": [
    "#group the test_scores by course (per student)\n",
    "average_score_per_course = student_class_data.groupby(['STUDENT_ID', 'COURSE_ID'])['TEST_SCORE'].mean().round(0)\n",
    "average_score_per_course[:5]"
   ]
  },
  {
   "cell_type": "code",
   "execution_count": 104,
   "metadata": {},
   "outputs": [
    {
     "data": {
      "text/plain": [
       "pandas.core.frame.DataFrame"
      ]
     },
     "execution_count": 104,
     "metadata": {},
     "output_type": "execute_result"
    }
   ],
   "source": [
    "#convert series to dataframe\n",
    "average_score_per_course = average_score_per_course.to_frame()\n",
    "type(average_score_per_course)"
   ]
  },
  {
   "cell_type": "code",
   "execution_count": 105,
   "metadata": {},
   "outputs": [],
   "source": [
    "#write a function for course_status\n",
    "def course_pass(data):\n",
    "    if data['TEST_SCORE'] >= 50:\n",
    "        return 'PASS'\n",
    "    else:\n",
    "        return 'FAIL'\n",
    "    \n",
    "#apply the function\n",
    "average_score_per_course['COURSE_STATUS'] = average_score_per_course.apply(course_pass,\n",
    "                                                                           axis=1)"
   ]
  },
  {
   "cell_type": "code",
   "execution_count": 106,
   "metadata": {},
   "outputs": [
    {
     "data": {
      "text/plain": [
       "(477, 2)"
      ]
     },
     "execution_count": 106,
     "metadata": {},
     "output_type": "execute_result"
    }
   ],
   "source": [
    "average_score_per_course.shape"
   ]
  },
  {
   "cell_type": "code",
   "execution_count": 107,
   "metadata": {},
   "outputs": [],
   "source": [
    "#create an index to fill in the blanks\n",
    "average_score_per_course = average_score_per_course.reset_index()"
   ]
  },
  {
   "cell_type": "code",
   "execution_count": 108,
   "metadata": {},
   "outputs": [
    {
     "data": {
      "text/html": [
       "<div>\n",
       "<style scoped>\n",
       "    .dataframe tbody tr th:only-of-type {\n",
       "        vertical-align: middle;\n",
       "    }\n",
       "\n",
       "    .dataframe tbody tr th {\n",
       "        vertical-align: top;\n",
       "    }\n",
       "\n",
       "    .dataframe thead th {\n",
       "        text-align: right;\n",
       "    }\n",
       "</style>\n",
       "<table border=\"1\" class=\"dataframe\">\n",
       "  <thead>\n",
       "    <tr style=\"text-align: right;\">\n",
       "      <th></th>\n",
       "      <th>STUDENT_ID</th>\n",
       "      <th>COURSE_ID</th>\n",
       "      <th>TEST_SCORE</th>\n",
       "      <th>COURSE_STATUS</th>\n",
       "    </tr>\n",
       "  </thead>\n",
       "  <tbody>\n",
       "    <tr>\n",
       "      <th>0</th>\n",
       "      <td>S000000</td>\n",
       "      <td>C0001</td>\n",
       "      <td>86.0</td>\n",
       "      <td>PASS</td>\n",
       "    </tr>\n",
       "    <tr>\n",
       "      <th>1</th>\n",
       "      <td>S000000</td>\n",
       "      <td>C0004</td>\n",
       "      <td>48.0</td>\n",
       "      <td>FAIL</td>\n",
       "    </tr>\n",
       "    <tr>\n",
       "      <th>2</th>\n",
       "      <td>S000000</td>\n",
       "      <td>C0005</td>\n",
       "      <td>51.0</td>\n",
       "      <td>PASS</td>\n",
       "    </tr>\n",
       "  </tbody>\n",
       "</table>\n",
       "</div>"
      ],
      "text/plain": [
       "  STUDENT_ID COURSE_ID  TEST_SCORE COURSE_STATUS\n",
       "0    S000000     C0001        86.0          PASS\n",
       "1    S000000     C0004        48.0          FAIL\n",
       "2    S000000     C0005        51.0          PASS"
      ]
     },
     "execution_count": 108,
     "metadata": {},
     "output_type": "execute_result"
    }
   ],
   "source": [
    "#confirm that the change was applied correctly\n",
    "average_score_per_course.head(3)"
   ]
  },
  {
   "cell_type": "code",
   "execution_count": 109,
   "metadata": {},
   "outputs": [],
   "source": [
    "#rename the column\n",
    "average_score_per_course = average_score_per_course.rename(columns={'TEST_SCORE': 'COURSE_SCORE',\n",
    "                                                                    })"
   ]
  },
  {
   "cell_type": "code",
   "execution_count": 110,
   "metadata": {},
   "outputs": [
    {
     "data": {
      "text/plain": [
       "(477, 4)"
      ]
     },
     "execution_count": 110,
     "metadata": {},
     "output_type": "execute_result"
    }
   ],
   "source": [
    "average_score_per_course.shape"
   ]
  },
  {
   "cell_type": "code",
   "execution_count": 111,
   "metadata": {},
   "outputs": [],
   "source": [
    "#add course_score and course_status to the main merged table\n",
    "student_data = student_class_data.merge(average_score_per_course,\n",
    "                                        how='outer',\n",
    "                                        on=['STUDENT_ID', 'COURSE_ID'])"
   ]
  },
  {
   "cell_type": "code",
   "execution_count": 112,
   "metadata": {},
   "outputs": [
    {
     "data": {
      "text/plain": [
       "(4277, 22)"
      ]
     },
     "execution_count": 112,
     "metadata": {},
     "output_type": "execute_result"
    }
   ],
   "source": [
    "student_data.shape"
   ]
  },
  {
   "cell_type": "markdown",
   "metadata": {},
   "source": [
    "#### **CREATE ACTIVE STUDENTS**"
   ]
  },
  {
   "cell_type": "code",
   "execution_count": 113,
   "metadata": {},
   "outputs": [],
   "source": [
    "#create a new feature: student status\n",
    "student_data['STUDENT_STATUS'] = student_data['CANCELLED'].apply(lambda x: 'ACTIVE' if x == False else 'INACTIVE')"
   ]
  },
  {
   "cell_type": "code",
   "execution_count": 116,
   "metadata": {},
   "outputs": [],
   "source": [
    "#remove uninformative feature(s)\n",
    "student_data = student_data.drop(['TNUM'],\n",
    "                                 axis=1,\n",
    "                                 errors='ignore')"
   ]
  },
  {
   "cell_type": "code",
   "execution_count": 117,
   "metadata": {},
   "outputs": [
    {
     "data": {
      "text/html": [
       "<div>\n",
       "<style scoped>\n",
       "    .dataframe tbody tr th:only-of-type {\n",
       "        vertical-align: middle;\n",
       "    }\n",
       "\n",
       "    .dataframe tbody tr th {\n",
       "        vertical-align: top;\n",
       "    }\n",
       "\n",
       "    .dataframe thead th {\n",
       "        text-align: right;\n",
       "    }\n",
       "</style>\n",
       "<table border=\"1\" class=\"dataframe\">\n",
       "  <thead>\n",
       "    <tr style=\"text-align: right;\">\n",
       "      <th></th>\n",
       "      <th>STUDENT_ID</th>\n",
       "      <th>FIRST_NAME</th>\n",
       "      <th>LAST_NAME</th>\n",
       "      <th>CITY</th>\n",
       "      <th>BIRTH_DATE</th>\n",
       "      <th>E-MAIL</th>\n",
       "      <th>ID</th>\n",
       "      <th>COURSE_ID</th>\n",
       "      <th>CANCELLED</th>\n",
       "      <th>ENROLMENT_DATE</th>\n",
       "      <th>...</th>\n",
       "      <th>COURSE_START_DATE</th>\n",
       "      <th>COURSE_END_DATE</th>\n",
       "      <th>CLASS_START_DATE</th>\n",
       "      <th>CLASS_END_DATE</th>\n",
       "      <th>TEST_NUMBER</th>\n",
       "      <th>TEST_SCORE</th>\n",
       "      <th>TEST_STATUS</th>\n",
       "      <th>COURSE_SCORE</th>\n",
       "      <th>COURSE_STATUS</th>\n",
       "      <th>STUDENT_STATUS</th>\n",
       "    </tr>\n",
       "  </thead>\n",
       "  <tbody>\n",
       "    <tr>\n",
       "      <th>0</th>\n",
       "      <td>S000000</td>\n",
       "      <td>James</td>\n",
       "      <td>Smith</td>\n",
       "      <td>Moscow</td>\n",
       "      <td>1974-08-25</td>\n",
       "      <td>jamessmith@yandex.com</td>\n",
       "      <td>0</td>\n",
       "      <td>C0001</td>\n",
       "      <td>True</td>\n",
       "      <td>2023-12-22</td>\n",
       "      <td>...</td>\n",
       "      <td>2023-12-28</td>\n",
       "      <td>2024-01-01</td>\n",
       "      <td>2023-12-30</td>\n",
       "      <td>2023-12-31</td>\n",
       "      <td>C0001T00001</td>\n",
       "      <td>100</td>\n",
       "      <td>PASS</td>\n",
       "      <td>86.0</td>\n",
       "      <td>PASS</td>\n",
       "      <td>INACTIVE</td>\n",
       "    </tr>\n",
       "    <tr>\n",
       "      <th>1</th>\n",
       "      <td>S000000</td>\n",
       "      <td>James</td>\n",
       "      <td>Smith</td>\n",
       "      <td>Moscow</td>\n",
       "      <td>1974-08-25</td>\n",
       "      <td>jamessmith@yandex.com</td>\n",
       "      <td>0</td>\n",
       "      <td>C0001</td>\n",
       "      <td>True</td>\n",
       "      <td>2023-12-22</td>\n",
       "      <td>...</td>\n",
       "      <td>2023-12-28</td>\n",
       "      <td>2024-01-01</td>\n",
       "      <td>2023-12-29</td>\n",
       "      <td>2023-12-29</td>\n",
       "      <td>C0001T00002</td>\n",
       "      <td>75</td>\n",
       "      <td>PASS</td>\n",
       "      <td>86.0</td>\n",
       "      <td>PASS</td>\n",
       "      <td>INACTIVE</td>\n",
       "    </tr>\n",
       "  </tbody>\n",
       "</table>\n",
       "<p>2 rows × 22 columns</p>\n",
       "</div>"
      ],
      "text/plain": [
       "  STUDENT_ID FIRST_NAME LAST_NAME    CITY BIRTH_DATE                 E-MAIL  \\\n",
       "0    S000000      James     Smith  Moscow 1974-08-25  jamessmith@yandex.com   \n",
       "1    S000000      James     Smith  Moscow 1974-08-25  jamessmith@yandex.com   \n",
       "\n",
       "   ID COURSE_ID  CANCELLED ENROLMENT_DATE  ... COURSE_START_DATE  \\\n",
       "0   0     C0001       True     2023-12-22  ...        2023-12-28   \n",
       "1   0     C0001       True     2023-12-22  ...        2023-12-28   \n",
       "\n",
       "  COURSE_END_DATE CLASS_START_DATE CLASS_END_DATE  TEST_NUMBER TEST_SCORE  \\\n",
       "0      2024-01-01       2023-12-30     2023-12-31  C0001T00001        100   \n",
       "1      2024-01-01       2023-12-29     2023-12-29  C0001T00002         75   \n",
       "\n",
       "  TEST_STATUS  COURSE_SCORE COURSE_STATUS  STUDENT_STATUS  \n",
       "0        PASS          86.0          PASS        INACTIVE  \n",
       "1        PASS          86.0          PASS        INACTIVE  \n",
       "\n",
       "[2 rows x 22 columns]"
      ]
     },
     "execution_count": 117,
     "metadata": {},
     "output_type": "execute_result"
    }
   ],
   "source": [
    "student_data.head(2)"
   ]
  },
  {
   "cell_type": "markdown",
   "metadata": {},
   "source": [
    "#### **CREATE ACHIEVEMENTS AND POINTS**"
   ]
  },
  {
   "cell_type": "markdown",
   "metadata": {},
   "source": [
    "SCORING: 0-100\n",
    "\n",
    "ACHIEVEMENTS:\n",
    "> GOLD: 90-100% \\\n",
    "> SILVER: 80-89% \\\n",
    "> BRONZE: 70-79%\n",
    "\n",
    "POINTS:\n",
    "- GOLD (100)\n",
    "- SILVER (75)\n",
    "- BRONZE (50)"
   ]
  },
  {
   "cell_type": "code",
   "execution_count": 118,
   "metadata": {},
   "outputs": [],
   "source": [
    "#write a function for achievements\n",
    "def create_achievements(data):\n",
    "    if 90 <= data['TEST_SCORE'] <= 100:\n",
    "        return 'GOLD'\n",
    "    elif 80 <= data['TEST_SCORE'] <= 89:\n",
    "        return 'SILVER'\n",
    "    elif 70 <= data['TEST_SCORE'] <= 79:\n",
    "        return 'BRONZE'\n",
    "    else:\n",
    "        return None\n",
    "\n",
    "#apply the function\n",
    "student_data['ACHIEVEMENT'] = student_data.apply(create_achievements,\n",
    "                                                 axis=1)"
   ]
  },
  {
   "cell_type": "code",
   "execution_count": 119,
   "metadata": {},
   "outputs": [],
   "source": [
    "#write a function for points\n",
    "def get_points(data):\n",
    "    if data['ACHIEVEMENT'] == 'GOLD':\n",
    "        return 100\n",
    "    elif data['ACHIEVEMENT'] == 'SILVER':\n",
    "        return 75\n",
    "    elif data['ACHIEVEMENT'] == 'BRONZE':\n",
    "        return 50\n",
    "    else:\n",
    "        return 0\n",
    "\n",
    "#apply the function\n",
    "student_data['POINTS'] = student_data.apply(get_points,\n",
    "                                            axis=1)"
   ]
  },
  {
   "cell_type": "code",
   "execution_count": 120,
   "metadata": {},
   "outputs": [
    {
     "data": {
      "text/html": [
       "<div>\n",
       "<style scoped>\n",
       "    .dataframe tbody tr th:only-of-type {\n",
       "        vertical-align: middle;\n",
       "    }\n",
       "\n",
       "    .dataframe tbody tr th {\n",
       "        vertical-align: top;\n",
       "    }\n",
       "\n",
       "    .dataframe thead th {\n",
       "        text-align: right;\n",
       "    }\n",
       "</style>\n",
       "<table border=\"1\" class=\"dataframe\">\n",
       "  <thead>\n",
       "    <tr style=\"text-align: right;\">\n",
       "      <th></th>\n",
       "      <th>STUDENT_ID</th>\n",
       "      <th>FIRST_NAME</th>\n",
       "      <th>LAST_NAME</th>\n",
       "      <th>CITY</th>\n",
       "      <th>BIRTH_DATE</th>\n",
       "      <th>E-MAIL</th>\n",
       "      <th>ID</th>\n",
       "      <th>COURSE_ID</th>\n",
       "      <th>CANCELLED</th>\n",
       "      <th>ENROLMENT_DATE</th>\n",
       "      <th>...</th>\n",
       "      <th>CLASS_START_DATE</th>\n",
       "      <th>CLASS_END_DATE</th>\n",
       "      <th>TEST_NUMBER</th>\n",
       "      <th>TEST_SCORE</th>\n",
       "      <th>TEST_STATUS</th>\n",
       "      <th>COURSE_SCORE</th>\n",
       "      <th>COURSE_STATUS</th>\n",
       "      <th>STUDENT_STATUS</th>\n",
       "      <th>ACHIEVEMENT</th>\n",
       "      <th>POINTS</th>\n",
       "    </tr>\n",
       "  </thead>\n",
       "  <tbody>\n",
       "    <tr>\n",
       "      <th>0</th>\n",
       "      <td>S000000</td>\n",
       "      <td>James</td>\n",
       "      <td>Smith</td>\n",
       "      <td>Moscow</td>\n",
       "      <td>1974-08-25</td>\n",
       "      <td>jamessmith@yandex.com</td>\n",
       "      <td>0</td>\n",
       "      <td>C0001</td>\n",
       "      <td>True</td>\n",
       "      <td>2023-12-22</td>\n",
       "      <td>...</td>\n",
       "      <td>2023-12-30</td>\n",
       "      <td>2023-12-31</td>\n",
       "      <td>C0001T00001</td>\n",
       "      <td>100</td>\n",
       "      <td>PASS</td>\n",
       "      <td>86.0</td>\n",
       "      <td>PASS</td>\n",
       "      <td>INACTIVE</td>\n",
       "      <td>GOLD</td>\n",
       "      <td>100</td>\n",
       "    </tr>\n",
       "    <tr>\n",
       "      <th>1</th>\n",
       "      <td>S000000</td>\n",
       "      <td>James</td>\n",
       "      <td>Smith</td>\n",
       "      <td>Moscow</td>\n",
       "      <td>1974-08-25</td>\n",
       "      <td>jamessmith@yandex.com</td>\n",
       "      <td>0</td>\n",
       "      <td>C0001</td>\n",
       "      <td>True</td>\n",
       "      <td>2023-12-22</td>\n",
       "      <td>...</td>\n",
       "      <td>2023-12-29</td>\n",
       "      <td>2023-12-29</td>\n",
       "      <td>C0001T00002</td>\n",
       "      <td>75</td>\n",
       "      <td>PASS</td>\n",
       "      <td>86.0</td>\n",
       "      <td>PASS</td>\n",
       "      <td>INACTIVE</td>\n",
       "      <td>BRONZE</td>\n",
       "      <td>50</td>\n",
       "    </tr>\n",
       "  </tbody>\n",
       "</table>\n",
       "<p>2 rows × 24 columns</p>\n",
       "</div>"
      ],
      "text/plain": [
       "  STUDENT_ID FIRST_NAME LAST_NAME    CITY BIRTH_DATE                 E-MAIL  \\\n",
       "0    S000000      James     Smith  Moscow 1974-08-25  jamessmith@yandex.com   \n",
       "1    S000000      James     Smith  Moscow 1974-08-25  jamessmith@yandex.com   \n",
       "\n",
       "   ID COURSE_ID  CANCELLED ENROLMENT_DATE  ... CLASS_START_DATE  \\\n",
       "0   0     C0001       True     2023-12-22  ...       2023-12-30   \n",
       "1   0     C0001       True     2023-12-22  ...       2023-12-29   \n",
       "\n",
       "  CLASS_END_DATE  TEST_NUMBER TEST_SCORE TEST_STATUS COURSE_SCORE  \\\n",
       "0     2023-12-31  C0001T00001        100        PASS         86.0   \n",
       "1     2023-12-29  C0001T00002         75        PASS         86.0   \n",
       "\n",
       "  COURSE_STATUS  STUDENT_STATUS ACHIEVEMENT  POINTS  \n",
       "0          PASS        INACTIVE        GOLD     100  \n",
       "1          PASS        INACTIVE      BRONZE      50  \n",
       "\n",
       "[2 rows x 24 columns]"
      ]
     },
     "execution_count": 120,
     "metadata": {},
     "output_type": "execute_result"
    }
   ],
   "source": [
    "student_data.head(2)"
   ]
  },
  {
   "cell_type": "code",
   "execution_count": 121,
   "metadata": {},
   "outputs": [
    {
     "data": {
      "text/plain": [
       "ACHIEVEMENT    1398\n",
       "dtype: int64"
      ]
     },
     "execution_count": 121,
     "metadata": {},
     "output_type": "execute_result"
    }
   ],
   "source": [
    "#check for null values\n",
    "student_data.isnull().sum()[student_data.isnull().sum() > 0]"
   ]
  },
  {
   "cell_type": "markdown",
   "metadata": {},
   "source": [
    "#### **CREATE UNFINISHED COURSES**"
   ]
  },
  {
   "cell_type": "code",
   "execution_count": 122,
   "metadata": {},
   "outputs": [],
   "source": [
    "student_data = student_data.reset_index()"
   ]
  },
  {
   "cell_type": "markdown",
   "metadata": {},
   "source": [
    "remove some records to create unfinished courses"
   ]
  },
  {
   "cell_type": "code",
   "execution_count": 123,
   "metadata": {},
   "outputs": [],
   "source": [
    "#slice two characters from class id\n",
    "student_data['TNUM'] = student_data['CLASS_ID'].apply(lambda x: str(x)[-2:])"
   ]
  },
  {
   "cell_type": "markdown",
   "metadata": {},
   "source": [
    "COURSE ONE"
   ]
  },
  {
   "cell_type": "code",
   "execution_count": 124,
   "metadata": {},
   "outputs": [
    {
     "data": {
      "text/plain": [
       "Index([   8,    9,  132,  133,  152,  153,  174,  175,  196,  197,\n",
       "       ...\n",
       "       4098, 4099, 4159, 4160, 4181, 4182, 4222, 4223, 4232, 4233],\n",
       "      dtype='int64', length=212)"
      ]
     },
     "execution_count": 124,
     "metadata": {},
     "output_type": "execute_result"
    }
   ],
   "source": [
    "#filter by course one and last two classes\n",
    "course_one_indx = student_data[(student_data['COURSE_ID'] == 'C0001') &\n",
    "                               ((student_data['TNUM'] == '09') | (student_data['TNUM'] == '10'))]\n",
    "course_one_indx.index"
   ]
  },
  {
   "cell_type": "code",
   "execution_count": 125,
   "metadata": {},
   "outputs": [
    {
     "data": {
      "text/plain": [
       "49"
      ]
     },
     "execution_count": 125,
     "metadata": {},
     "output_type": "execute_result"
    }
   ],
   "source": [
    "#create a list to store course one records to remove\n",
    "delete_one = []\n",
    "\n",
    "#find records divisable by 4 without a remainder\n",
    "for r in course_one_indx.index.to_list():\n",
    "    if r % 4 == 0:\n",
    "        delete_one.append(r)\n",
    "\n",
    "delete_one\n",
    "len(delete_one)"
   ]
  },
  {
   "cell_type": "markdown",
   "metadata": {},
   "source": [
    "COURSE TWO AND THREE"
   ]
  },
  {
   "cell_type": "code",
   "execution_count": 126,
   "metadata": {},
   "outputs": [
    {
     "data": {
      "text/plain": [
       "Index([  28,   29,   35,   36,   47,   48,   54,   55,  108,  109,\n",
       "       ...\n",
       "       4202, 4203, 4244, 4245, 4251, 4252, 4258, 4259, 4265, 4266],\n",
       "      dtype='int64', length=540)"
      ]
     },
     "execution_count": 126,
     "metadata": {},
     "output_type": "execute_result"
    }
   ],
   "source": [
    "#filter by course two and three and last two classes\n",
    "courses_two_three_indx = student_data[((student_data['COURSE_ID'] == 'C0002') | (student_data['COURSE_ID'] == 'C0003')) &\n",
    "                                      ((student_data['TNUM'] == '06') | (student_data['TNUM'] == '07'))]\n",
    "courses_two_three_indx.index"
   ]
  },
  {
   "cell_type": "code",
   "execution_count": 127,
   "metadata": {},
   "outputs": [
    {
     "data": {
      "text/plain": [
       "185"
      ]
     },
     "execution_count": 127,
     "metadata": {},
     "output_type": "execute_result"
    }
   ],
   "source": [
    "#create a list to store course two and three records to remove\n",
    "delete_two_three = []\n",
    "\n",
    "#find records divisable by 3 without a remainder\n",
    "for r in courses_two_three_indx.index.to_list():\n",
    "    if r % 3 == 0:\n",
    "        delete_two_three.append(r)\n",
    "\n",
    "delete_two_three\n",
    "len(delete_two_three)"
   ]
  },
  {
   "cell_type": "markdown",
   "metadata": {},
   "source": [
    "COURSE FOUR"
   ]
  },
  {
   "cell_type": "code",
   "execution_count": 128,
   "metadata": {},
   "outputs": [
    {
     "data": {
      "text/plain": [
       "Index([  17,   68,   76,   89,   97,  260,  318,  488,  816,  824,  832,  854,\n",
       "        876,  894,  957,  965,  973,  996, 1004, 1029, 1044, 1150, 1273, 1288,\n",
       "       1391, 1572, 1599, 1621, 1709, 1734, 1759, 1767, 1790, 1798, 2148, 2156,\n",
       "       2190, 2301, 2369, 2391, 2424, 2495, 2503, 2538, 2620, 2628, 2935, 3046,\n",
       "       3086, 3137, 3191, 3287, 3329, 3349, 3394, 3472, 3538, 3579, 3733, 3741,\n",
       "       3763, 3800, 3903, 3942, 3996, 4040, 4048, 4070, 4133],\n",
       "      dtype='int64')"
      ]
     },
     "execution_count": 128,
     "metadata": {},
     "output_type": "execute_result"
    }
   ],
   "source": [
    "#filter by course four and last class\n",
    "course_four_indx = student_data[(student_data['COURSE_ID'] == 'C0004') & (student_data['TNUM'] == '08')]\n",
    "course_four_indx.index"
   ]
  },
  {
   "cell_type": "code",
   "execution_count": 129,
   "metadata": {},
   "outputs": [
    {
     "data": {
      "text/plain": [
       "11"
      ]
     },
     "execution_count": 129,
     "metadata": {},
     "output_type": "execute_result"
    }
   ],
   "source": [
    "#create a list to store course four records to remove\n",
    "delete_four = []\n",
    "\n",
    "#find records divisable by 5 without a remainder\n",
    "for r in course_four_indx.index.to_list():\n",
    "    if r % 5 == 0:\n",
    "        delete_four.append(r)\n",
    "\n",
    "delete_four\n",
    "len(delete_four)"
   ]
  },
  {
   "cell_type": "markdown",
   "metadata": {},
   "source": [
    "COURSE FIVE"
   ]
  },
  {
   "cell_type": "code",
   "execution_count": 130,
   "metadata": {},
   "outputs": [
    {
     "data": {
      "text/plain": [
       "Index([  22,   41,   60,   81,  102,  138,  143,  165,  187,  300,\n",
       "       ...\n",
       "       4089, 4111, 4145, 4150, 4172, 4208, 4213, 4238, 4271, 4276],\n",
       "      dtype='int64', length=155)"
      ]
     },
     "execution_count": 130,
     "metadata": {},
     "output_type": "execute_result"
    }
   ],
   "source": [
    "#filter by course five and last class\n",
    "course_five_indx = student_data[(student_data['COURSE_ID'] == 'C0005') & (student_data['TNUM'] == '05')]\n",
    "course_five_indx.index"
   ]
  },
  {
   "cell_type": "code",
   "execution_count": 131,
   "metadata": {},
   "outputs": [
    {
     "data": {
      "text/plain": [
       "6"
      ]
     },
     "execution_count": 131,
     "metadata": {},
     "output_type": "execute_result"
    }
   ],
   "source": [
    "#create a list to store course five records to remove\n",
    "delete_five = []\n",
    "\n",
    "#find records divisable by 12 without a remainder\n",
    "for r in course_five_indx.index.to_list():\n",
    "    if r % 12 == 0:\n",
    "        delete_five.append(r)\n",
    "\n",
    "delete_five\n",
    "len(delete_five)"
   ]
  },
  {
   "cell_type": "markdown",
   "metadata": {},
   "source": [
    "REMOVE RECORDS TO CREATE UNFINISHED COURSES"
   ]
  },
  {
   "cell_type": "code",
   "execution_count": 132,
   "metadata": {},
   "outputs": [
    {
     "data": {
      "text/plain": [
       "(4277, 26)"
      ]
     },
     "execution_count": 132,
     "metadata": {},
     "output_type": "execute_result"
    }
   ],
   "source": [
    "student_data.shape"
   ]
  },
  {
   "cell_type": "code",
   "execution_count": 133,
   "metadata": {},
   "outputs": [],
   "source": [
    "#combine into one index\n",
    "delete_records = delete_one + delete_two_three + delete_four + delete_five\n",
    "\n",
    "#remove course records\n",
    "student_data = student_data.drop(student_data.index[delete_records],\n",
    "                                 axis=0,\n",
    "                                 errors='ignore')"
   ]
  },
  {
   "cell_type": "code",
   "execution_count": 134,
   "metadata": {},
   "outputs": [
    {
     "data": {
      "text/plain": [
       "(4026, 26)"
      ]
     },
     "execution_count": 134,
     "metadata": {},
     "output_type": "execute_result"
    }
   ],
   "source": [
    "student_data.shape"
   ]
  },
  {
   "cell_type": "code",
   "execution_count": 136,
   "metadata": {},
   "outputs": [],
   "source": [
    "#remove uninformative feature(s)\n",
    "student_data = student_data.drop(['index', 'TNUM'],\n",
    "                                 axis=1,\n",
    "                                 errors='ignore')"
   ]
  },
  {
   "cell_type": "markdown",
   "metadata": {},
   "source": [
    "#### **CREATE LOGS**"
   ]
  },
  {
   "cell_type": "code",
   "execution_count": 137,
   "metadata": {},
   "outputs": [
    {
     "data": {
      "text/html": [
       "<div>\n",
       "<style scoped>\n",
       "    .dataframe tbody tr th:only-of-type {\n",
       "        vertical-align: middle;\n",
       "    }\n",
       "\n",
       "    .dataframe tbody tr th {\n",
       "        vertical-align: top;\n",
       "    }\n",
       "\n",
       "    .dataframe thead th {\n",
       "        text-align: right;\n",
       "    }\n",
       "</style>\n",
       "<table border=\"1\" class=\"dataframe\">\n",
       "  <thead>\n",
       "    <tr style=\"text-align: right;\">\n",
       "      <th></th>\n",
       "      <th>STUDENT_ID</th>\n",
       "      <th>ID</th>\n",
       "      <th>COURSE_ID</th>\n",
       "      <th>CLASS_ID</th>\n",
       "      <th>CLASS_START_DATE</th>\n",
       "      <th>CLASS_END_DATE</th>\n",
       "    </tr>\n",
       "  </thead>\n",
       "  <tbody>\n",
       "    <tr>\n",
       "      <th>0</th>\n",
       "      <td>S000000</td>\n",
       "      <td>0</td>\n",
       "      <td>C0001</td>\n",
       "      <td>CERPC101</td>\n",
       "      <td>2023-12-30</td>\n",
       "      <td>2023-12-31</td>\n",
       "    </tr>\n",
       "    <tr>\n",
       "      <th>1</th>\n",
       "      <td>S000000</td>\n",
       "      <td>0</td>\n",
       "      <td>C0001</td>\n",
       "      <td>CERPC102</td>\n",
       "      <td>2023-12-29</td>\n",
       "      <td>2023-12-29</td>\n",
       "    </tr>\n",
       "    <tr>\n",
       "      <th>2</th>\n",
       "      <td>S000000</td>\n",
       "      <td>0</td>\n",
       "      <td>C0001</td>\n",
       "      <td>CERPC103</td>\n",
       "      <td>2023-12-30</td>\n",
       "      <td>2023-12-30</td>\n",
       "    </tr>\n",
       "  </tbody>\n",
       "</table>\n",
       "</div>"
      ],
      "text/plain": [
       "  STUDENT_ID  ID COURSE_ID  CLASS_ID CLASS_START_DATE CLASS_END_DATE\n",
       "0    S000000   0     C0001  CERPC101       2023-12-30     2023-12-31\n",
       "1    S000000   0     C0001  CERPC102       2023-12-29     2023-12-29\n",
       "2    S000000   0     C0001  CERPC103       2023-12-30     2023-12-30"
      ]
     },
     "execution_count": 137,
     "metadata": {},
     "output_type": "execute_result"
    }
   ],
   "source": [
    "#slice the table\n",
    "attend = student_data[['STUDENT_ID', 'ID', 'COURSE_ID', 'CLASS_ID', 'CLASS_START_DATE', 'CLASS_END_DATE']]\n",
    "attend.head(3)"
   ]
  },
  {
   "cell_type": "code",
   "execution_count": 138,
   "metadata": {},
   "outputs": [
    {
     "name": "stdout",
     "output_type": "stream",
     "text": [
      "Number of Duplicates: 755\n"
     ]
    }
   ],
   "source": [
    "#check for duplicate values\n",
    "dupl_columns = list(attend.columns)\n",
    "\n",
    "mask = attend.duplicated(subset=dupl_columns)\n",
    "attend_duplicates = attend[mask]\n",
    "print(f'Number of Duplicates: {attend_duplicates.shape[0]}')"
   ]
  },
  {
   "cell_type": "code",
   "execution_count": 139,
   "metadata": {},
   "outputs": [
    {
     "name": "stdout",
     "output_type": "stream",
     "text": [
      "New Dimensions: 3271\n"
     ]
    }
   ],
   "source": [
    "#remove duplicates\n",
    "attend = attend.drop_duplicates(subset=dupl_columns)\n",
    "print(f'New Dimensions: {attend.shape[0]}')"
   ]
  },
  {
   "cell_type": "code",
   "execution_count": 141,
   "metadata": {},
   "outputs": [],
   "source": [
    "#convert to specific format to avoid log_out < log_in\n",
    "attend['CLASS_START_DATE'] = pd.to_datetime(attend['CLASS_START_DATE'],\n",
    "                                       format='%Y-%m-%d %H:%M:%S')\n",
    "\n",
    "attend['CLASS_END_DATE'] = pd.to_datetime(attend['CLASS_END_DATE'],\n",
    "                                     format='%Y-%m-%d %H:%M:%S')"
   ]
  },
  {
   "cell_type": "code",
   "execution_count": 142,
   "metadata": {},
   "outputs": [],
   "source": [
    "import datetime\n",
    "from datetime import date\n",
    "\n",
    "#write a function to create the log in\n",
    "def create_session_start(data):\n",
    "    #create the object class\n",
    "    fake_timezone = Faker()\n",
    "    \n",
    "    #randomize between class start and class end\n",
    "    return fake_timezone.date_time_between(start_date=data['CLASS_START_DATE'],\n",
    "                                             end_date=data['CLASS_END_DATE'])\n",
    "\n",
    "#apply the function\n",
    "attend['LOG_IN'] = attend.apply(create_session_start,\n",
    "                                axis=1)"
   ]
  },
  {
   "cell_type": "code",
   "execution_count": 143,
   "metadata": {},
   "outputs": [],
   "source": [
    "#write a function to create the log out\n",
    "def create_session_end(data):\n",
    "    #create the object class\n",
    "    fake_timezone = Faker()\n",
    "    \n",
    "    #randomize between log in and class end\n",
    "    return fake_timezone.date_time_between(start_date=data['LOG_IN'],\n",
    "                                              end_date=data['CLASS_END_DATE'])\n",
    "\n",
    "#apply the function\n",
    "attend['LOG_OUT'] = attend.apply(create_session_end,\n",
    "                                 axis=1)"
   ]
  },
  {
   "cell_type": "code",
   "execution_count": 144,
   "metadata": {},
   "outputs": [
    {
     "data": {
      "text/html": [
       "<div>\n",
       "<style scoped>\n",
       "    .dataframe tbody tr th:only-of-type {\n",
       "        vertical-align: middle;\n",
       "    }\n",
       "\n",
       "    .dataframe tbody tr th {\n",
       "        vertical-align: top;\n",
       "    }\n",
       "\n",
       "    .dataframe thead th {\n",
       "        text-align: right;\n",
       "    }\n",
       "</style>\n",
       "<table border=\"1\" class=\"dataframe\">\n",
       "  <thead>\n",
       "    <tr style=\"text-align: right;\">\n",
       "      <th></th>\n",
       "      <th>STUDENT_ID</th>\n",
       "      <th>ID</th>\n",
       "      <th>COURSE_ID</th>\n",
       "      <th>CLASS_ID</th>\n",
       "      <th>CLASS_START_DATE</th>\n",
       "      <th>CLASS_END_DATE</th>\n",
       "      <th>LOG_IN</th>\n",
       "      <th>LOG_OUT</th>\n",
       "    </tr>\n",
       "  </thead>\n",
       "  <tbody>\n",
       "    <tr>\n",
       "      <th>0</th>\n",
       "      <td>S000000</td>\n",
       "      <td>0</td>\n",
       "      <td>C0001</td>\n",
       "      <td>CERPC101</td>\n",
       "      <td>2023-12-30</td>\n",
       "      <td>2023-12-31</td>\n",
       "      <td>2023-12-30 05:20:06.953221</td>\n",
       "      <td>2023-12-30 09:16:28.753009</td>\n",
       "    </tr>\n",
       "    <tr>\n",
       "      <th>1</th>\n",
       "      <td>S000000</td>\n",
       "      <td>0</td>\n",
       "      <td>C0001</td>\n",
       "      <td>CERPC102</td>\n",
       "      <td>2023-12-29</td>\n",
       "      <td>2023-12-29</td>\n",
       "      <td>2023-12-29 00:00:00.445911</td>\n",
       "      <td>2023-12-29 00:00:00.620733</td>\n",
       "    </tr>\n",
       "  </tbody>\n",
       "</table>\n",
       "</div>"
      ],
      "text/plain": [
       "  STUDENT_ID  ID COURSE_ID  CLASS_ID CLASS_START_DATE CLASS_END_DATE  \\\n",
       "0    S000000   0     C0001  CERPC101       2023-12-30     2023-12-31   \n",
       "1    S000000   0     C0001  CERPC102       2023-12-29     2023-12-29   \n",
       "\n",
       "                      LOG_IN                    LOG_OUT  \n",
       "0 2023-12-30 05:20:06.953221 2023-12-30 09:16:28.753009  \n",
       "1 2023-12-29 00:00:00.445911 2023-12-29 00:00:00.620733  "
      ]
     },
     "execution_count": 144,
     "metadata": {},
     "output_type": "execute_result"
    }
   ],
   "source": [
    "attend.head(2)"
   ]
  },
  {
   "cell_type": "code",
   "execution_count": 145,
   "metadata": {},
   "outputs": [],
   "source": [
    "#find the session time\n",
    "attend['DIF'] = abs(attend['LOG_OUT'] - attend['LOG_IN'])\n",
    "\n",
    "#convert to string\n",
    "attend['DIF'] = attend['DIF'].astype('string')"
   ]
  },
  {
   "cell_type": "code",
   "execution_count": 146,
   "metadata": {},
   "outputs": [],
   "source": [
    "from datetime import datetime\n",
    "from operator import attrgetter\n",
    "\n",
    "#write a function to return session time (in minutes) to 2dp to signify seconds, i.e. 0.05 = 3 seconds (0.05 * 60 = 3)\n",
    "def str_datetime_to_minute(data):\n",
    "    #split the string\n",
    "    days, time = data['DIF'].split(' days ')\n",
    "    \n",
    "    #separate elements\n",
    "    hours, minutes, seconds, microseconds = attrgetter(\n",
    "        'hour', 'minute', 'second', 'microsecond'\n",
    "    )(datetime.strptime(time, '%H:%M:%S.%f'))\n",
    "    \n",
    "    #convert to minutes rounding down to 2dp\n",
    "    return round(int(days) * 24 * 60\n",
    "            + hours * 60\n",
    "            + minutes\n",
    "            + seconds / 60\n",
    "            + microseconds / 60 / 1000000, 2)"
   ]
  },
  {
   "cell_type": "code",
   "execution_count": 147,
   "metadata": {},
   "outputs": [],
   "source": [
    "#apply the function to create the new feature\n",
    "attend['SESSION_TIME'] = attend.apply(str_datetime_to_minute,\n",
    "                                      axis=1)"
   ]
  },
  {
   "cell_type": "code",
   "execution_count": 149,
   "metadata": {},
   "outputs": [
    {
     "data": {
      "text/html": [
       "<div>\n",
       "<style scoped>\n",
       "    .dataframe tbody tr th:only-of-type {\n",
       "        vertical-align: middle;\n",
       "    }\n",
       "\n",
       "    .dataframe tbody tr th {\n",
       "        vertical-align: top;\n",
       "    }\n",
       "\n",
       "    .dataframe thead th {\n",
       "        text-align: right;\n",
       "    }\n",
       "</style>\n",
       "<table border=\"1\" class=\"dataframe\">\n",
       "  <thead>\n",
       "    <tr style=\"text-align: right;\">\n",
       "      <th></th>\n",
       "      <th>STUDENT_ID</th>\n",
       "      <th>ID</th>\n",
       "      <th>COURSE_ID</th>\n",
       "      <th>CLASS_ID</th>\n",
       "      <th>CLASS_START_DATE</th>\n",
       "      <th>CLASS_END_DATE</th>\n",
       "      <th>LOG_IN</th>\n",
       "      <th>LOG_OUT</th>\n",
       "      <th>DIF</th>\n",
       "      <th>SESSION_TIME</th>\n",
       "    </tr>\n",
       "  </thead>\n",
       "  <tbody>\n",
       "    <tr>\n",
       "      <th>0</th>\n",
       "      <td>S000000</td>\n",
       "      <td>0</td>\n",
       "      <td>C0001</td>\n",
       "      <td>CERPC101</td>\n",
       "      <td>2023-12-30</td>\n",
       "      <td>2023-12-31</td>\n",
       "      <td>2023-12-30 05:20:06.953221</td>\n",
       "      <td>2023-12-30 09:16:28.753009</td>\n",
       "      <td>0 days 03:56:21.799788</td>\n",
       "      <td>236.36</td>\n",
       "    </tr>\n",
       "    <tr>\n",
       "      <th>1</th>\n",
       "      <td>S000000</td>\n",
       "      <td>0</td>\n",
       "      <td>C0001</td>\n",
       "      <td>CERPC102</td>\n",
       "      <td>2023-12-29</td>\n",
       "      <td>2023-12-29</td>\n",
       "      <td>2023-12-29 00:00:00.445911</td>\n",
       "      <td>2023-12-29 00:00:00.620733</td>\n",
       "      <td>0 days 00:00:00.174822</td>\n",
       "      <td>0.00</td>\n",
       "    </tr>\n",
       "  </tbody>\n",
       "</table>\n",
       "</div>"
      ],
      "text/plain": [
       "  STUDENT_ID  ID COURSE_ID  CLASS_ID CLASS_START_DATE CLASS_END_DATE  \\\n",
       "0    S000000   0     C0001  CERPC101       2023-12-30     2023-12-31   \n",
       "1    S000000   0     C0001  CERPC102       2023-12-29     2023-12-29   \n",
       "\n",
       "                      LOG_IN                    LOG_OUT  \\\n",
       "0 2023-12-30 05:20:06.953221 2023-12-30 09:16:28.753009   \n",
       "1 2023-12-29 00:00:00.445911 2023-12-29 00:00:00.620733   \n",
       "\n",
       "                      DIF  SESSION_TIME  \n",
       "0  0 days 03:56:21.799788        236.36  \n",
       "1  0 days 00:00:00.174822          0.00  "
      ]
     },
     "execution_count": 149,
     "metadata": {},
     "output_type": "execute_result"
    }
   ],
   "source": [
    "attend.head(2)"
   ]
  },
  {
   "cell_type": "code",
   "execution_count": 148,
   "metadata": {},
   "outputs": [
    {
     "data": {
      "text/plain": [
       "SESSION_TIME\n",
       "54.11        1\n",
       "3392.62      1\n",
       "438.31       1\n",
       "101.91       1\n",
       "5278.96      1\n",
       "          ... \n",
       "78.21        2\n",
       "818.83       2\n",
       "0.02        13\n",
       "0.00       655\n",
       "0.01       707\n",
       "Name: count, Length: 1891, dtype: int64"
      ]
     },
     "execution_count": 148,
     "metadata": {},
     "output_type": "execute_result"
    }
   ],
   "source": [
    "#distribution\n",
    "attend['SESSION_TIME'].value_counts().sort_values(ascending=True)"
   ]
  },
  {
   "cell_type": "markdown",
   "metadata": {},
   "source": [
    "not creating multiple sessions, so outliers possible"
   ]
  },
  {
   "cell_type": "code",
   "execution_count": 150,
   "metadata": {},
   "outputs": [
    {
     "data": {
      "text/plain": [
       "3271"
      ]
     },
     "execution_count": 150,
     "metadata": {},
     "output_type": "execute_result"
    }
   ],
   "source": [
    "#create the sessions\n",
    "sessions = list(range(1, (attend.shape[0]+1)))\n",
    "len(sessions)"
   ]
  },
  {
   "cell_type": "code",
   "execution_count": 151,
   "metadata": {},
   "outputs": [],
   "source": [
    "#insert the new feature\n",
    "attend.insert(0, 'SESSION_ID', sessions, True)"
   ]
  },
  {
   "cell_type": "code",
   "execution_count": 152,
   "metadata": {},
   "outputs": [],
   "source": [
    "attend = attend.reset_index()"
   ]
  },
  {
   "cell_type": "code",
   "execution_count": 153,
   "metadata": {},
   "outputs": [],
   "source": [
    "#remove uninformative feature(s)\n",
    "attend = attend.drop('index',\n",
    "                     axis=1,\n",
    "                     errors='ignore')"
   ]
  },
  {
   "cell_type": "code",
   "execution_count": 154,
   "metadata": {},
   "outputs": [
    {
     "data": {
      "text/html": [
       "<div>\n",
       "<style scoped>\n",
       "    .dataframe tbody tr th:only-of-type {\n",
       "        vertical-align: middle;\n",
       "    }\n",
       "\n",
       "    .dataframe tbody tr th {\n",
       "        vertical-align: top;\n",
       "    }\n",
       "\n",
       "    .dataframe thead th {\n",
       "        text-align: right;\n",
       "    }\n",
       "</style>\n",
       "<table border=\"1\" class=\"dataframe\">\n",
       "  <thead>\n",
       "    <tr style=\"text-align: right;\">\n",
       "      <th></th>\n",
       "      <th>SESSION_ID</th>\n",
       "      <th>STUDENT_ID</th>\n",
       "      <th>ID</th>\n",
       "      <th>COURSE_ID</th>\n",
       "      <th>CLASS_ID</th>\n",
       "      <th>CLASS_START_DATE</th>\n",
       "      <th>CLASS_END_DATE</th>\n",
       "      <th>LOG_IN</th>\n",
       "      <th>LOG_OUT</th>\n",
       "      <th>DIF</th>\n",
       "      <th>SESSION_TIME</th>\n",
       "    </tr>\n",
       "  </thead>\n",
       "  <tbody>\n",
       "    <tr>\n",
       "      <th>0</th>\n",
       "      <td>1</td>\n",
       "      <td>S000000</td>\n",
       "      <td>0</td>\n",
       "      <td>C0001</td>\n",
       "      <td>CERPC101</td>\n",
       "      <td>2023-12-30</td>\n",
       "      <td>2023-12-31</td>\n",
       "      <td>2023-12-30 05:20:06.953221</td>\n",
       "      <td>2023-12-30 09:16:28.753009</td>\n",
       "      <td>0 days 03:56:21.799788</td>\n",
       "      <td>236.36</td>\n",
       "    </tr>\n",
       "    <tr>\n",
       "      <th>1</th>\n",
       "      <td>2</td>\n",
       "      <td>S000000</td>\n",
       "      <td>0</td>\n",
       "      <td>C0001</td>\n",
       "      <td>CERPC102</td>\n",
       "      <td>2023-12-29</td>\n",
       "      <td>2023-12-29</td>\n",
       "      <td>2023-12-29 00:00:00.445911</td>\n",
       "      <td>2023-12-29 00:00:00.620733</td>\n",
       "      <td>0 days 00:00:00.174822</td>\n",
       "      <td>0.00</td>\n",
       "    </tr>\n",
       "  </tbody>\n",
       "</table>\n",
       "</div>"
      ],
      "text/plain": [
       "   SESSION_ID STUDENT_ID  ID COURSE_ID  CLASS_ID CLASS_START_DATE  \\\n",
       "0           1    S000000   0     C0001  CERPC101       2023-12-30   \n",
       "1           2    S000000   0     C0001  CERPC102       2023-12-29   \n",
       "\n",
       "  CLASS_END_DATE                     LOG_IN                    LOG_OUT  \\\n",
       "0     2023-12-31 2023-12-30 05:20:06.953221 2023-12-30 09:16:28.753009   \n",
       "1     2023-12-29 2023-12-29 00:00:00.445911 2023-12-29 00:00:00.620733   \n",
       "\n",
       "                      DIF  SESSION_TIME  \n",
       "0  0 days 03:56:21.799788        236.36  \n",
       "1  0 days 00:00:00.174822          0.00  "
      ]
     },
     "execution_count": 154,
     "metadata": {},
     "output_type": "execute_result"
    }
   ],
   "source": [
    "attend.head(2)"
   ]
  },
  {
   "cell_type": "markdown",
   "metadata": {},
   "source": [
    "EXPORT TABLE"
   ]
  },
  {
   "cell_type": "code",
   "execution_count": 155,
   "metadata": {},
   "outputs": [],
   "source": [
    "#create a file name\n",
    "xlx_name = 'attendance.xlsx'\n",
    "\n",
    "#export to excel\n",
    "attend.to_excel('./experimental/created_tables/' + xlx_name,\n",
    "                sheet_name='logging_data')"
   ]
  },
  {
   "cell_type": "markdown",
   "metadata": {},
   "source": [
    "##### **EXPORT TABLES**"
   ]
  },
  {
   "cell_type": "code",
   "execution_count": 156,
   "metadata": {},
   "outputs": [
    {
     "data": {
      "text/html": [
       "<div>\n",
       "<style scoped>\n",
       "    .dataframe tbody tr th:only-of-type {\n",
       "        vertical-align: middle;\n",
       "    }\n",
       "\n",
       "    .dataframe tbody tr th {\n",
       "        vertical-align: top;\n",
       "    }\n",
       "\n",
       "    .dataframe thead th {\n",
       "        text-align: right;\n",
       "    }\n",
       "</style>\n",
       "<table border=\"1\" class=\"dataframe\">\n",
       "  <thead>\n",
       "    <tr style=\"text-align: right;\">\n",
       "      <th></th>\n",
       "      <th>STUDENT_ID</th>\n",
       "      <th>FIRST_NAME</th>\n",
       "      <th>LAST_NAME</th>\n",
       "      <th>CITY</th>\n",
       "      <th>BIRTH_DATE</th>\n",
       "      <th>E-MAIL</th>\n",
       "      <th>ID</th>\n",
       "      <th>COURSE_ID</th>\n",
       "      <th>CANCELLED</th>\n",
       "      <th>ENROLMENT_DATE</th>\n",
       "      <th>...</th>\n",
       "      <th>CLASS_START_DATE</th>\n",
       "      <th>CLASS_END_DATE</th>\n",
       "      <th>TEST_NUMBER</th>\n",
       "      <th>TEST_SCORE</th>\n",
       "      <th>TEST_STATUS</th>\n",
       "      <th>COURSE_SCORE</th>\n",
       "      <th>COURSE_STATUS</th>\n",
       "      <th>STUDENT_STATUS</th>\n",
       "      <th>ACHIEVEMENT</th>\n",
       "      <th>POINTS</th>\n",
       "    </tr>\n",
       "  </thead>\n",
       "  <tbody>\n",
       "    <tr>\n",
       "      <th>0</th>\n",
       "      <td>S000000</td>\n",
       "      <td>James</td>\n",
       "      <td>Smith</td>\n",
       "      <td>Moscow</td>\n",
       "      <td>1974-08-25</td>\n",
       "      <td>jamessmith@yandex.com</td>\n",
       "      <td>0</td>\n",
       "      <td>C0001</td>\n",
       "      <td>True</td>\n",
       "      <td>2023-12-22</td>\n",
       "      <td>...</td>\n",
       "      <td>2023-12-30</td>\n",
       "      <td>2023-12-31</td>\n",
       "      <td>C0001T00001</td>\n",
       "      <td>100</td>\n",
       "      <td>PASS</td>\n",
       "      <td>86.0</td>\n",
       "      <td>PASS</td>\n",
       "      <td>INACTIVE</td>\n",
       "      <td>GOLD</td>\n",
       "      <td>100</td>\n",
       "    </tr>\n",
       "    <tr>\n",
       "      <th>1</th>\n",
       "      <td>S000000</td>\n",
       "      <td>James</td>\n",
       "      <td>Smith</td>\n",
       "      <td>Moscow</td>\n",
       "      <td>1974-08-25</td>\n",
       "      <td>jamessmith@yandex.com</td>\n",
       "      <td>0</td>\n",
       "      <td>C0001</td>\n",
       "      <td>True</td>\n",
       "      <td>2023-12-22</td>\n",
       "      <td>...</td>\n",
       "      <td>2023-12-29</td>\n",
       "      <td>2023-12-29</td>\n",
       "      <td>C0001T00002</td>\n",
       "      <td>75</td>\n",
       "      <td>PASS</td>\n",
       "      <td>86.0</td>\n",
       "      <td>PASS</td>\n",
       "      <td>INACTIVE</td>\n",
       "      <td>BRONZE</td>\n",
       "      <td>50</td>\n",
       "    </tr>\n",
       "    <tr>\n",
       "      <th>2</th>\n",
       "      <td>S000000</td>\n",
       "      <td>James</td>\n",
       "      <td>Smith</td>\n",
       "      <td>Moscow</td>\n",
       "      <td>1974-08-25</td>\n",
       "      <td>jamessmith@yandex.com</td>\n",
       "      <td>0</td>\n",
       "      <td>C0001</td>\n",
       "      <td>True</td>\n",
       "      <td>2023-12-22</td>\n",
       "      <td>...</td>\n",
       "      <td>2023-12-30</td>\n",
       "      <td>2023-12-30</td>\n",
       "      <td>C0001T00003</td>\n",
       "      <td>75</td>\n",
       "      <td>PASS</td>\n",
       "      <td>86.0</td>\n",
       "      <td>PASS</td>\n",
       "      <td>INACTIVE</td>\n",
       "      <td>BRONZE</td>\n",
       "      <td>50</td>\n",
       "    </tr>\n",
       "  </tbody>\n",
       "</table>\n",
       "<p>3 rows × 24 columns</p>\n",
       "</div>"
      ],
      "text/plain": [
       "  STUDENT_ID FIRST_NAME LAST_NAME    CITY BIRTH_DATE                 E-MAIL  \\\n",
       "0    S000000      James     Smith  Moscow 1974-08-25  jamessmith@yandex.com   \n",
       "1    S000000      James     Smith  Moscow 1974-08-25  jamessmith@yandex.com   \n",
       "2    S000000      James     Smith  Moscow 1974-08-25  jamessmith@yandex.com   \n",
       "\n",
       "   ID COURSE_ID  CANCELLED ENROLMENT_DATE  ... CLASS_START_DATE  \\\n",
       "0   0     C0001       True     2023-12-22  ...       2023-12-30   \n",
       "1   0     C0001       True     2023-12-22  ...       2023-12-29   \n",
       "2   0     C0001       True     2023-12-22  ...       2023-12-30   \n",
       "\n",
       "  CLASS_END_DATE  TEST_NUMBER TEST_SCORE TEST_STATUS COURSE_SCORE  \\\n",
       "0     2023-12-31  C0001T00001        100        PASS         86.0   \n",
       "1     2023-12-29  C0001T00002         75        PASS         86.0   \n",
       "2     2023-12-30  C0001T00003         75        PASS         86.0   \n",
       "\n",
       "  COURSE_STATUS  STUDENT_STATUS ACHIEVEMENT  POINTS  \n",
       "0          PASS        INACTIVE        GOLD     100  \n",
       "1          PASS        INACTIVE      BRONZE      50  \n",
       "2          PASS        INACTIVE      BRONZE      50  \n",
       "\n",
       "[3 rows x 24 columns]"
      ]
     },
     "execution_count": 156,
     "metadata": {},
     "output_type": "execute_result"
    }
   ],
   "source": [
    "student_data.head(3)"
   ]
  },
  {
   "cell_type": "code",
   "execution_count": 165,
   "metadata": {},
   "outputs": [],
   "source": [
    "#create a file name\n",
    "xlx_name = 'merged_tables.xlsx'\n",
    "\n",
    "#export to excel\n",
    "student_data.to_excel('./experimental/database_tables/' + xlx_name,\n",
    "                       sheet_name='merged_tables')"
   ]
  },
  {
   "cell_type": "markdown",
   "metadata": {},
   "source": [
    "TEST_SCORES"
   ]
  },
  {
   "cell_type": "code",
   "execution_count": 159,
   "metadata": {},
   "outputs": [
    {
     "data": {
      "text/html": [
       "<div>\n",
       "<style scoped>\n",
       "    .dataframe tbody tr th:only-of-type {\n",
       "        vertical-align: middle;\n",
       "    }\n",
       "\n",
       "    .dataframe tbody tr th {\n",
       "        vertical-align: top;\n",
       "    }\n",
       "\n",
       "    .dataframe thead th {\n",
       "        text-align: right;\n",
       "    }\n",
       "</style>\n",
       "<table border=\"1\" class=\"dataframe\">\n",
       "  <thead>\n",
       "    <tr style=\"text-align: right;\">\n",
       "      <th></th>\n",
       "      <th>STUDENT_ID</th>\n",
       "      <th>COURSE_ID</th>\n",
       "      <th>CLASS_ID</th>\n",
       "      <th>TEST_NUMBER</th>\n",
       "      <th>TEST_SCORE</th>\n",
       "      <th>TEST_STATUS</th>\n",
       "      <th>STUDENT_STATUS</th>\n",
       "      <th>ACHIEVEMENT</th>\n",
       "      <th>POINTS</th>\n",
       "    </tr>\n",
       "  </thead>\n",
       "  <tbody>\n",
       "    <tr>\n",
       "      <th>0</th>\n",
       "      <td>S000000</td>\n",
       "      <td>C0001</td>\n",
       "      <td>CERPC101</td>\n",
       "      <td>C0001T00001</td>\n",
       "      <td>100</td>\n",
       "      <td>PASS</td>\n",
       "      <td>INACTIVE</td>\n",
       "      <td>GOLD</td>\n",
       "      <td>100</td>\n",
       "    </tr>\n",
       "    <tr>\n",
       "      <th>1</th>\n",
       "      <td>S000000</td>\n",
       "      <td>C0001</td>\n",
       "      <td>CERPC102</td>\n",
       "      <td>C0001T00002</td>\n",
       "      <td>75</td>\n",
       "      <td>PASS</td>\n",
       "      <td>INACTIVE</td>\n",
       "      <td>BRONZE</td>\n",
       "      <td>50</td>\n",
       "    </tr>\n",
       "  </tbody>\n",
       "</table>\n",
       "</div>"
      ],
      "text/plain": [
       "  STUDENT_ID COURSE_ID  CLASS_ID  TEST_NUMBER  TEST_SCORE TEST_STATUS  \\\n",
       "0    S000000     C0001  CERPC101  C0001T00001         100        PASS   \n",
       "1    S000000     C0001  CERPC102  C0001T00002          75        PASS   \n",
       "\n",
       "  STUDENT_STATUS ACHIEVEMENT  POINTS  \n",
       "0       INACTIVE        GOLD     100  \n",
       "1       INACTIVE      BRONZE      50  "
      ]
     },
     "execution_count": 159,
     "metadata": {},
     "output_type": "execute_result"
    }
   ],
   "source": [
    "#slice the merged table\n",
    "test_scores = student_data[['STUDENT_ID', \n",
    "                            'COURSE_ID', 'CLASS_ID',\n",
    "                            'TEST_NUMBER', 'TEST_SCORE', 'TEST_STATUS',\n",
    "                            'STUDENT_STATUS',\n",
    "                            'ACHIEVEMENT', 'POINTS']]\n",
    "\n",
    "test_scores.head(2)"
   ]
  },
  {
   "cell_type": "code",
   "execution_count": 166,
   "metadata": {},
   "outputs": [],
   "source": [
    "#create a file name\n",
    "xlx_name = 'test_scores.xlsx'\n",
    "\n",
    "#export to excel\n",
    "test_scores.to_excel('./experimental/created_tables/' + xlx_name,\n",
    "                       sheet_name='test_scores')"
   ]
  },
  {
   "cell_type": "markdown",
   "metadata": {},
   "source": [
    "CURRENT COURSES"
   ]
  },
  {
   "cell_type": "code",
   "execution_count": 162,
   "metadata": {},
   "outputs": [
    {
     "data": {
      "text/html": [
       "<div>\n",
       "<style scoped>\n",
       "    .dataframe tbody tr th:only-of-type {\n",
       "        vertical-align: middle;\n",
       "    }\n",
       "\n",
       "    .dataframe tbody tr th {\n",
       "        vertical-align: top;\n",
       "    }\n",
       "\n",
       "    .dataframe thead th {\n",
       "        text-align: right;\n",
       "    }\n",
       "</style>\n",
       "<table border=\"1\" class=\"dataframe\">\n",
       "  <thead>\n",
       "    <tr style=\"text-align: right;\">\n",
       "      <th></th>\n",
       "      <th>STUDENT_ID</th>\n",
       "      <th>COURSE_ID</th>\n",
       "      <th>COURSE_START_DATE</th>\n",
       "      <th>COURSE_END_DATE</th>\n",
       "      <th>COURSE_SCORE</th>\n",
       "      <th>COURSE_STATUS</th>\n",
       "      <th>STUDENT_STATUS</th>\n",
       "    </tr>\n",
       "  </thead>\n",
       "  <tbody>\n",
       "    <tr>\n",
       "      <th>0</th>\n",
       "      <td>S000000</td>\n",
       "      <td>C0001</td>\n",
       "      <td>2023-12-28</td>\n",
       "      <td>2024-01-01</td>\n",
       "      <td>86.0</td>\n",
       "      <td>PASS</td>\n",
       "      <td>INACTIVE</td>\n",
       "    </tr>\n",
       "    <tr>\n",
       "      <th>1</th>\n",
       "      <td>S000000</td>\n",
       "      <td>C0001</td>\n",
       "      <td>2023-12-28</td>\n",
       "      <td>2024-01-01</td>\n",
       "      <td>86.0</td>\n",
       "      <td>PASS</td>\n",
       "      <td>INACTIVE</td>\n",
       "    </tr>\n",
       "  </tbody>\n",
       "</table>\n",
       "</div>"
      ],
      "text/plain": [
       "  STUDENT_ID COURSE_ID COURSE_START_DATE COURSE_END_DATE  COURSE_SCORE  \\\n",
       "0    S000000     C0001        2023-12-28      2024-01-01          86.0   \n",
       "1    S000000     C0001        2023-12-28      2024-01-01          86.0   \n",
       "\n",
       "  COURSE_STATUS STUDENT_STATUS  \n",
       "0          PASS       INACTIVE  \n",
       "1          PASS       INACTIVE  "
      ]
     },
     "execution_count": 162,
     "metadata": {},
     "output_type": "execute_result"
    }
   ],
   "source": [
    "#slice the merged table\n",
    "courses = student_data[['STUDENT_ID',\n",
    "                        'COURSE_ID',\n",
    "                        'COURSE_START_DATE', 'COURSE_END_DATE', 'COURSE_SCORE', 'COURSE_STATUS',\n",
    "                        'STUDENT_STATUS']]\n",
    "\n",
    "courses.head(2)"
   ]
  },
  {
   "cell_type": "code",
   "execution_count": 167,
   "metadata": {},
   "outputs": [],
   "source": [
    "#create a file name\n",
    "xlx_name = 'courses.xlsx'\n",
    "\n",
    "#export to excel\n",
    "courses.to_excel('./experimental/created_tables/' + xlx_name,\n",
    "                 sheet_name='courses')"
   ]
  },
  {
   "cell_type": "markdown",
   "metadata": {},
   "source": [
    "CURRENT CLASSES"
   ]
  },
  {
   "cell_type": "code",
   "execution_count": 163,
   "metadata": {},
   "outputs": [
    {
     "data": {
      "text/html": [
       "<div>\n",
       "<style scoped>\n",
       "    .dataframe tbody tr th:only-of-type {\n",
       "        vertical-align: middle;\n",
       "    }\n",
       "\n",
       "    .dataframe tbody tr th {\n",
       "        vertical-align: top;\n",
       "    }\n",
       "\n",
       "    .dataframe thead th {\n",
       "        text-align: right;\n",
       "    }\n",
       "</style>\n",
       "<table border=\"1\" class=\"dataframe\">\n",
       "  <thead>\n",
       "    <tr style=\"text-align: right;\">\n",
       "      <th></th>\n",
       "      <th>STUDENT_ID</th>\n",
       "      <th>COURSE_ID</th>\n",
       "      <th>CLASS_ID</th>\n",
       "      <th>COURSE_START_DATE</th>\n",
       "      <th>COURSE_END_DATE</th>\n",
       "      <th>CLASS_START_DATE</th>\n",
       "      <th>CLASS_END_DATE</th>\n",
       "      <th>TEST_STATUS</th>\n",
       "      <th>STUDENT_STATUS</th>\n",
       "    </tr>\n",
       "  </thead>\n",
       "  <tbody>\n",
       "    <tr>\n",
       "      <th>0</th>\n",
       "      <td>S000000</td>\n",
       "      <td>C0001</td>\n",
       "      <td>CERPC101</td>\n",
       "      <td>2023-12-28</td>\n",
       "      <td>2024-01-01</td>\n",
       "      <td>2023-12-30</td>\n",
       "      <td>2023-12-31</td>\n",
       "      <td>PASS</td>\n",
       "      <td>INACTIVE</td>\n",
       "    </tr>\n",
       "    <tr>\n",
       "      <th>1</th>\n",
       "      <td>S000000</td>\n",
       "      <td>C0001</td>\n",
       "      <td>CERPC102</td>\n",
       "      <td>2023-12-28</td>\n",
       "      <td>2024-01-01</td>\n",
       "      <td>2023-12-29</td>\n",
       "      <td>2023-12-29</td>\n",
       "      <td>PASS</td>\n",
       "      <td>INACTIVE</td>\n",
       "    </tr>\n",
       "  </tbody>\n",
       "</table>\n",
       "</div>"
      ],
      "text/plain": [
       "  STUDENT_ID COURSE_ID  CLASS_ID COURSE_START_DATE COURSE_END_DATE  \\\n",
       "0    S000000     C0001  CERPC101        2023-12-28      2024-01-01   \n",
       "1    S000000     C0001  CERPC102        2023-12-28      2024-01-01   \n",
       "\n",
       "  CLASS_START_DATE CLASS_END_DATE TEST_STATUS STUDENT_STATUS  \n",
       "0       2023-12-30     2023-12-31        PASS       INACTIVE  \n",
       "1       2023-12-29     2023-12-29        PASS       INACTIVE  "
      ]
     },
     "execution_count": 163,
     "metadata": {},
     "output_type": "execute_result"
    }
   ],
   "source": [
    "#slice the merged table\n",
    "classes = student_data[['STUDENT_ID',\n",
    "                        'COURSE_ID', 'CLASS_ID',\n",
    "                        'COURSE_START_DATE', 'COURSE_END_DATE',\n",
    "                        'CLASS_START_DATE', 'CLASS_END_DATE', 'TEST_STATUS',\n",
    "                        'STUDENT_STATUS']]\n",
    "\n",
    "classes.head(2)"
   ]
  },
  {
   "cell_type": "code",
   "execution_count": 164,
   "metadata": {},
   "outputs": [],
   "source": [
    "#rename the feature(s)\n",
    "classes = classes.rename(columns={'TEST_STATUS': 'CLASS_STATUS',\n",
    "                                  })"
   ]
  },
  {
   "cell_type": "code",
   "execution_count": 168,
   "metadata": {},
   "outputs": [],
   "source": [
    "#create a file name\n",
    "xlx_name = 'classes.xlsx'\n",
    "\n",
    "#export to excel\n",
    "classes.to_excel('./experimental/created_tables/' + xlx_name,\n",
    "                 sheet_name='classes')"
   ]
  }
 ],
 "metadata": {
  "kernelspec": {
   "display_name": "Python 3",
   "language": "python",
   "name": "python3"
  },
  "language_info": {
   "codemirror_mode": {
    "name": "ipython",
    "version": 3
   },
   "file_extension": ".py",
   "mimetype": "text/x-python",
   "name": "python",
   "nbconvert_exporter": "python",
   "pygments_lexer": "ipython3",
   "version": "3.10.5"
  }
 },
 "nbformat": 4,
 "nbformat_minor": 2
}
