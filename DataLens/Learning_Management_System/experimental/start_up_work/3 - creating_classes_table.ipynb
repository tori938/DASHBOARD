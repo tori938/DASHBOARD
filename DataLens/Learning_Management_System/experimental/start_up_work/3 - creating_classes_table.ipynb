{
 "cells": [
  {
   "cell_type": "code",
   "execution_count": 16,
   "metadata": {},
   "outputs": [],
   "source": [
    "#standard libraries\n",
    "import pandas as pd, numpy as np"
   ]
  },
  {
   "cell_type": "code",
   "execution_count": 17,
   "metadata": {},
   "outputs": [
    {
     "data": {
      "text/html": [
       "<div>\n",
       "<style scoped>\n",
       "    .dataframe tbody tr th:only-of-type {\n",
       "        vertical-align: middle;\n",
       "    }\n",
       "\n",
       "    .dataframe tbody tr th {\n",
       "        vertical-align: top;\n",
       "    }\n",
       "\n",
       "    .dataframe thead th {\n",
       "        text-align: right;\n",
       "    }\n",
       "</style>\n",
       "<table border=\"1\" class=\"dataframe\">\n",
       "  <thead>\n",
       "    <tr style=\"text-align: right;\">\n",
       "      <th></th>\n",
       "      <th>COURSE_ID</th>\n",
       "      <th>CYCLE_ID</th>\n",
       "      <th>CLASS_ID</th>\n",
       "      <th>CLASS_TITLE</th>\n",
       "      <th>TEACHER_ID</th>\n",
       "      <th>CLASS_DATE</th>\n",
       "      <th>CLASS_START_DATE</th>\n",
       "      <th>CLASS_END_DATE</th>\n",
       "      <th>Unnamed: 8</th>\n",
       "      <th>Unnamed: 9</th>\n",
       "      <th>Unnamed: 10</th>\n",
       "      <th>ADDENDUM</th>\n",
       "      <th>NEED</th>\n",
       "    </tr>\n",
       "  </thead>\n",
       "  <tbody>\n",
       "    <tr>\n",
       "      <th>0</th>\n",
       "      <td>C0001</td>\n",
       "      <td>CYC00000001</td>\n",
       "      <td>CERPC101</td>\n",
       "      <td>001 - CIRCULAR ECONOMY, RESPONSIBLE PRODUCTION...</td>\n",
       "      <td>TE001</td>\n",
       "      <td>NaN</td>\n",
       "      <td>2024-01-01</td>\n",
       "      <td>2024-01-07</td>\n",
       "      <td>NaN</td>\n",
       "      <td>NaN</td>\n",
       "      <td>NaN</td>\n",
       "      <td>COURSE_ID</td>\n",
       "      <td>X</td>\n",
       "    </tr>\n",
       "    <tr>\n",
       "      <th>1</th>\n",
       "      <td>C0001</td>\n",
       "      <td>CYC00000001</td>\n",
       "      <td>CERPC102</td>\n",
       "      <td>002 - CIRCULAR ECONOMY, RESPONSIBLE PRODUCTION...</td>\n",
       "      <td>TE001</td>\n",
       "      <td>NaN</td>\n",
       "      <td>2024-01-08</td>\n",
       "      <td>2024-01-14</td>\n",
       "      <td>NaN</td>\n",
       "      <td>NaN</td>\n",
       "      <td>NaN</td>\n",
       "      <td>CYCLE_ID</td>\n",
       "      <td>X</td>\n",
       "    </tr>\n",
       "    <tr>\n",
       "      <th>2</th>\n",
       "      <td>C0001</td>\n",
       "      <td>CYC00000001</td>\n",
       "      <td>CERPC103</td>\n",
       "      <td>003 - CIRCULAR ECONOMY, RESPONSIBLE PRODUCTION...</td>\n",
       "      <td>TE001</td>\n",
       "      <td>NaN</td>\n",
       "      <td>2024-01-15</td>\n",
       "      <td>2024-01-21</td>\n",
       "      <td>NaN</td>\n",
       "      <td>NaN</td>\n",
       "      <td>NaN</td>\n",
       "      <td>CLASS_ID</td>\n",
       "      <td>X</td>\n",
       "    </tr>\n",
       "  </tbody>\n",
       "</table>\n",
       "</div>"
      ],
      "text/plain": [
       "  COURSE_ID     CYCLE_ID  CLASS_ID  \\\n",
       "0     C0001  CYC00000001  CERPC101   \n",
       "1     C0001  CYC00000001  CERPC102   \n",
       "2     C0001  CYC00000001  CERPC103   \n",
       "\n",
       "                                         CLASS_TITLE TEACHER_ID  CLASS_DATE  \\\n",
       "0  001 - CIRCULAR ECONOMY, RESPONSIBLE PRODUCTION...      TE001         NaN   \n",
       "1  002 - CIRCULAR ECONOMY, RESPONSIBLE PRODUCTION...      TE001         NaN   \n",
       "2  003 - CIRCULAR ECONOMY, RESPONSIBLE PRODUCTION...      TE001         NaN   \n",
       "\n",
       "  CLASS_START_DATE CLASS_END_DATE  Unnamed: 8  Unnamed: 9  Unnamed: 10  \\\n",
       "0       2024-01-01     2024-01-07         NaN         NaN          NaN   \n",
       "1       2024-01-08     2024-01-14         NaN         NaN          NaN   \n",
       "2       2024-01-15     2024-01-21         NaN         NaN          NaN   \n",
       "\n",
       "    ADDENDUM NEED  \n",
       "0  COURSE_ID    X  \n",
       "1   CYCLE_ID    X  \n",
       "2   CLASS_ID    X  "
      ]
     },
     "execution_count": 17,
     "metadata": {},
     "output_type": "execute_result"
    }
   ],
   "source": [
    "#export the file\n",
    "classes = pd.read_excel('./experimental/tables_to_use/dashboard_sketches.xlsx',\n",
    "                        sheet_name='classes')\n",
    "\n",
    "classes.head(3)"
   ]
  },
  {
   "cell_type": "code",
   "execution_count": 18,
   "metadata": {},
   "outputs": [],
   "source": [
    "#remove uninformative features\n",
    "classes = classes.drop(['CYCLE_ID', 'TEACHER_ID', 'CLASS_DATE', 'CLASS_START_DATE', 'CLASS_END_DATE',\n",
    "                        'Unnamed: 8', 'Unnamed: 9', 'Unnamed: 10', 'ADDENDUM', 'NEED'],\n",
    "                       axis=1,\n",
    "                       errors='ignore')"
   ]
  },
  {
   "cell_type": "code",
   "execution_count": 19,
   "metadata": {},
   "outputs": [
    {
     "data": {
      "text/html": [
       "<div>\n",
       "<style scoped>\n",
       "    .dataframe tbody tr th:only-of-type {\n",
       "        vertical-align: middle;\n",
       "    }\n",
       "\n",
       "    .dataframe tbody tr th {\n",
       "        vertical-align: top;\n",
       "    }\n",
       "\n",
       "    .dataframe thead th {\n",
       "        text-align: right;\n",
       "    }\n",
       "</style>\n",
       "<table border=\"1\" class=\"dataframe\">\n",
       "  <thead>\n",
       "    <tr style=\"text-align: right;\">\n",
       "      <th></th>\n",
       "      <th>COURSE_ID</th>\n",
       "      <th>CLASS_ID</th>\n",
       "      <th>CLASS_TITLE</th>\n",
       "    </tr>\n",
       "  </thead>\n",
       "  <tbody>\n",
       "    <tr>\n",
       "      <th>0</th>\n",
       "      <td>C0001</td>\n",
       "      <td>CERPC101</td>\n",
       "      <td>001 - CIRCULAR ECONOMY, RESPONSIBLE PRODUCTION...</td>\n",
       "    </tr>\n",
       "    <tr>\n",
       "      <th>1</th>\n",
       "      <td>C0001</td>\n",
       "      <td>CERPC102</td>\n",
       "      <td>002 - CIRCULAR ECONOMY, RESPONSIBLE PRODUCTION...</td>\n",
       "    </tr>\n",
       "    <tr>\n",
       "      <th>2</th>\n",
       "      <td>C0001</td>\n",
       "      <td>CERPC103</td>\n",
       "      <td>003 - CIRCULAR ECONOMY, RESPONSIBLE PRODUCTION...</td>\n",
       "    </tr>\n",
       "  </tbody>\n",
       "</table>\n",
       "</div>"
      ],
      "text/plain": [
       "  COURSE_ID  CLASS_ID                                        CLASS_TITLE\n",
       "0     C0001  CERPC101  001 - CIRCULAR ECONOMY, RESPONSIBLE PRODUCTION...\n",
       "1     C0001  CERPC102  002 - CIRCULAR ECONOMY, RESPONSIBLE PRODUCTION...\n",
       "2     C0001  CERPC103  003 - CIRCULAR ECONOMY, RESPONSIBLE PRODUCTION..."
      ]
     },
     "execution_count": 19,
     "metadata": {},
     "output_type": "execute_result"
    }
   ],
   "source": [
    "classes.head(3)"
   ]
  },
  {
   "cell_type": "markdown",
   "metadata": {},
   "source": [
    "CHECK FOR DUPLICATES"
   ]
  },
  {
   "cell_type": "code",
   "execution_count": 20,
   "metadata": {},
   "outputs": [
    {
     "name": "stdout",
     "output_type": "stream",
     "text": [
      "Number of Duplicates: 209\n"
     ]
    }
   ],
   "source": [
    "#check for duplicate values\n",
    "dupl_columns = list(classes.columns)\n",
    "\n",
    "mask = classes.duplicated(subset=dupl_columns)\n",
    "classes_duplicates = classes[mask]\n",
    "print(f'Number of Duplicates: {classes_duplicates.shape[0]}')"
   ]
  },
  {
   "cell_type": "code",
   "execution_count": 21,
   "metadata": {},
   "outputs": [
    {
     "name": "stdout",
     "output_type": "stream",
     "text": [
      "New Dimensions: 37\n"
     ]
    }
   ],
   "source": [
    "#remove duplicates\n",
    "classes = classes.drop_duplicates(subset=dupl_columns)\n",
    "print(f'New Dimensions: {classes.shape[0]}')"
   ]
  },
  {
   "cell_type": "code",
   "execution_count": 22,
   "metadata": {},
   "outputs": [
    {
     "data": {
      "text/html": [
       "<div>\n",
       "<style scoped>\n",
       "    .dataframe tbody tr th:only-of-type {\n",
       "        vertical-align: middle;\n",
       "    }\n",
       "\n",
       "    .dataframe tbody tr th {\n",
       "        vertical-align: top;\n",
       "    }\n",
       "\n",
       "    .dataframe thead th {\n",
       "        text-align: right;\n",
       "    }\n",
       "</style>\n",
       "<table border=\"1\" class=\"dataframe\">\n",
       "  <thead>\n",
       "    <tr style=\"text-align: right;\">\n",
       "      <th></th>\n",
       "      <th>COURSE_ID</th>\n",
       "      <th>CLASS_ID</th>\n",
       "      <th>CLASS_TITLE</th>\n",
       "    </tr>\n",
       "  </thead>\n",
       "  <tbody>\n",
       "    <tr>\n",
       "      <th>0</th>\n",
       "      <td>C0001</td>\n",
       "      <td>CERPC101</td>\n",
       "      <td>001 - CIRCULAR ECONOMY, RESPONSIBLE PRODUCTION...</td>\n",
       "    </tr>\n",
       "    <tr>\n",
       "      <th>1</th>\n",
       "      <td>C0001</td>\n",
       "      <td>CERPC102</td>\n",
       "      <td>002 - CIRCULAR ECONOMY, RESPONSIBLE PRODUCTION...</td>\n",
       "    </tr>\n",
       "    <tr>\n",
       "      <th>2</th>\n",
       "      <td>C0001</td>\n",
       "      <td>CERPC103</td>\n",
       "      <td>003 - CIRCULAR ECONOMY, RESPONSIBLE PRODUCTION...</td>\n",
       "    </tr>\n",
       "    <tr>\n",
       "      <th>3</th>\n",
       "      <td>C0001</td>\n",
       "      <td>CERPC104</td>\n",
       "      <td>004 - CIRCULAR ECONOMY, RESPONSIBLE PRODUCTION...</td>\n",
       "    </tr>\n",
       "    <tr>\n",
       "      <th>4</th>\n",
       "      <td>C0001</td>\n",
       "      <td>CERPC105</td>\n",
       "      <td>005 - CIRCULAR ECONOMY, RESPONSIBLE PRODUCTION...</td>\n",
       "    </tr>\n",
       "  </tbody>\n",
       "</table>\n",
       "</div>"
      ],
      "text/plain": [
       "  COURSE_ID  CLASS_ID                                        CLASS_TITLE\n",
       "0     C0001  CERPC101  001 - CIRCULAR ECONOMY, RESPONSIBLE PRODUCTION...\n",
       "1     C0001  CERPC102  002 - CIRCULAR ECONOMY, RESPONSIBLE PRODUCTION...\n",
       "2     C0001  CERPC103  003 - CIRCULAR ECONOMY, RESPONSIBLE PRODUCTION...\n",
       "3     C0001  CERPC104  004 - CIRCULAR ECONOMY, RESPONSIBLE PRODUCTION...\n",
       "4     C0001  CERPC105  005 - CIRCULAR ECONOMY, RESPONSIBLE PRODUCTION..."
      ]
     },
     "execution_count": 22,
     "metadata": {},
     "output_type": "execute_result"
    }
   ],
   "source": [
    "classes.head()"
   ]
  },
  {
   "cell_type": "markdown",
   "metadata": {},
   "source": [
    "EXPORT THE TABLE"
   ]
  },
  {
   "cell_type": "code",
   "execution_count": 23,
   "metadata": {},
   "outputs": [],
   "source": [
    "#create a file name\n",
    "xlx_name = 'class_details.xlsx'\n",
    "\n",
    "#export to excel\n",
    "classes.to_excel('./experimental/created_tables/' + xlx_name,\n",
    "                  sheet_name='class_details')"
   ]
  }
 ],
 "metadata": {
  "kernelspec": {
   "display_name": "Python 3",
   "language": "python",
   "name": "python3"
  },
  "language_info": {
   "codemirror_mode": {
    "name": "ipython",
    "version": 3
   },
   "file_extension": ".py",
   "mimetype": "text/x-python",
   "name": "python",
   "nbconvert_exporter": "python",
   "pygments_lexer": "ipython3",
   "version": "3.10.5"
  }
 },
 "nbformat": 4,
 "nbformat_minor": 2
}
