{
 "cells": [
  {
   "cell_type": "code",
   "execution_count": 1,
   "metadata": {},
   "outputs": [],
   "source": [
    "#standard libraries\n",
    "import pandas as pd, numpy as np\n",
    "\n",
    "#randomization\n",
    "import random"
   ]
  },
  {
   "cell_type": "code",
   "execution_count": 2,
   "metadata": {},
   "outputs": [
    {
     "data": {
      "text/html": [
       "<div>\n",
       "<style scoped>\n",
       "    .dataframe tbody tr th:only-of-type {\n",
       "        vertical-align: middle;\n",
       "    }\n",
       "\n",
       "    .dataframe tbody tr th {\n",
       "        vertical-align: top;\n",
       "    }\n",
       "\n",
       "    .dataframe thead th {\n",
       "        text-align: right;\n",
       "    }\n",
       "</style>\n",
       "<table border=\"1\" class=\"dataframe\">\n",
       "  <thead>\n",
       "    <tr style=\"text-align: right;\">\n",
       "      <th></th>\n",
       "      <th>COURSE_ID</th>\n",
       "      <th>CYCLE_ID</th>\n",
       "      <th>STUDENT_ID</th>\n",
       "      <th>ENROLLMENT_DATE</th>\n",
       "      <th>COMPLETION_DATE</th>\n",
       "      <th>CANCELLED</th>\n",
       "      <th>CANCELLATION_REASON</th>\n",
       "      <th>Unnamed: 7</th>\n",
       "      <th>Unnamed: 8</th>\n",
       "      <th>Unnamed: 9</th>\n",
       "      <th>ADDENDUM</th>\n",
       "      <th>NEED</th>\n",
       "    </tr>\n",
       "  </thead>\n",
       "  <tbody>\n",
       "    <tr>\n",
       "      <th>0</th>\n",
       "      <td>NaN</td>\n",
       "      <td>NaN</td>\n",
       "      <td>S000000</td>\n",
       "      <td>NaN</td>\n",
       "      <td>NaN</td>\n",
       "      <td>NaN</td>\n",
       "      <td>NaN</td>\n",
       "      <td>NaN</td>\n",
       "      <td>NaN</td>\n",
       "      <td>NaN</td>\n",
       "      <td>COURSE_ID</td>\n",
       "      <td>X</td>\n",
       "    </tr>\n",
       "    <tr>\n",
       "      <th>1</th>\n",
       "      <td>NaN</td>\n",
       "      <td>NaN</td>\n",
       "      <td>S000001</td>\n",
       "      <td>NaN</td>\n",
       "      <td>NaN</td>\n",
       "      <td>NaN</td>\n",
       "      <td>NaN</td>\n",
       "      <td>NaN</td>\n",
       "      <td>NaN</td>\n",
       "      <td>NaN</td>\n",
       "      <td>CYCLE_ID</td>\n",
       "      <td>X</td>\n",
       "    </tr>\n",
       "    <tr>\n",
       "      <th>2</th>\n",
       "      <td>NaN</td>\n",
       "      <td>NaN</td>\n",
       "      <td>S000002</td>\n",
       "      <td>NaN</td>\n",
       "      <td>NaN</td>\n",
       "      <td>NaN</td>\n",
       "      <td>NaN</td>\n",
       "      <td>NaN</td>\n",
       "      <td>NaN</td>\n",
       "      <td>NaN</td>\n",
       "      <td>STUDENT_ID</td>\n",
       "      <td>X</td>\n",
       "    </tr>\n",
       "  </tbody>\n",
       "</table>\n",
       "</div>"
      ],
      "text/plain": [
       "   COURSE_ID  CYCLE_ID STUDENT_ID  ENROLLMENT_DATE  COMPLETION_DATE  \\\n",
       "0        NaN       NaN    S000000              NaN              NaN   \n",
       "1        NaN       NaN    S000001              NaN              NaN   \n",
       "2        NaN       NaN    S000002              NaN              NaN   \n",
       "\n",
       "   CANCELLED  CANCELLATION_REASON  Unnamed: 7  Unnamed: 8  Unnamed: 9  \\\n",
       "0        NaN                  NaN         NaN         NaN         NaN   \n",
       "1        NaN                  NaN         NaN         NaN         NaN   \n",
       "2        NaN                  NaN         NaN         NaN         NaN   \n",
       "\n",
       "     ADDENDUM NEED  \n",
       "0   COURSE_ID    X  \n",
       "1    CYCLE_ID    X  \n",
       "2  STUDENT_ID    X  "
      ]
     },
     "execution_count": 2,
     "metadata": {},
     "output_type": "execute_result"
    }
   ],
   "source": [
    "#export the file\n",
    "enrolment = pd.read_excel('./experimental/tables_to_use/dashboard_sketches.xlsx',\n",
    "                          sheet_name='enrolment')\n",
    "\n",
    "enrolment.head(3)"
   ]
  },
  {
   "cell_type": "code",
   "execution_count": 3,
   "metadata": {},
   "outputs": [],
   "source": [
    "#remove uninformative features\n",
    "enrolment = enrolment.drop(['CYCLE_ID',\n",
    "                            'Unnamed: 7', 'Unnamed: 8', 'Unnamed: 9',\n",
    "                            'CANCELLATION_REASON', 'ADDENDUM', 'NEED'],\n",
    "                           axis=1,\n",
    "                           errors='ignore')\n",
    "\n",
    "#drop features to be created at a later stage\n",
    "enrolment = enrolment.drop(['ENROLLMENT_DATE', 'COMPLETION_DATE'],\n",
    "                           axis=1,\n",
    "                           errors='ignore')"
   ]
  },
  {
   "cell_type": "code",
   "execution_count": 4,
   "metadata": {},
   "outputs": [
    {
     "data": {
      "text/html": [
       "<div>\n",
       "<style scoped>\n",
       "    .dataframe tbody tr th:only-of-type {\n",
       "        vertical-align: middle;\n",
       "    }\n",
       "\n",
       "    .dataframe tbody tr th {\n",
       "        vertical-align: top;\n",
       "    }\n",
       "\n",
       "    .dataframe thead th {\n",
       "        text-align: right;\n",
       "    }\n",
       "</style>\n",
       "<table border=\"1\" class=\"dataframe\">\n",
       "  <thead>\n",
       "    <tr style=\"text-align: right;\">\n",
       "      <th></th>\n",
       "      <th>COURSE_ID</th>\n",
       "      <th>STUDENT_ID</th>\n",
       "      <th>CANCELLED</th>\n",
       "    </tr>\n",
       "  </thead>\n",
       "  <tbody>\n",
       "    <tr>\n",
       "      <th>0</th>\n",
       "      <td>NaN</td>\n",
       "      <td>S000000</td>\n",
       "      <td>NaN</td>\n",
       "    </tr>\n",
       "    <tr>\n",
       "      <th>1</th>\n",
       "      <td>NaN</td>\n",
       "      <td>S000001</td>\n",
       "      <td>NaN</td>\n",
       "    </tr>\n",
       "    <tr>\n",
       "      <th>2</th>\n",
       "      <td>NaN</td>\n",
       "      <td>S000002</td>\n",
       "      <td>NaN</td>\n",
       "    </tr>\n",
       "  </tbody>\n",
       "</table>\n",
       "</div>"
      ],
      "text/plain": [
       "   COURSE_ID STUDENT_ID  CANCELLED\n",
       "0        NaN    S000000        NaN\n",
       "1        NaN    S000001        NaN\n",
       "2        NaN    S000002        NaN"
      ]
     },
     "execution_count": 4,
     "metadata": {},
     "output_type": "execute_result"
    }
   ],
   "source": [
    "enrolment.head(3)"
   ]
  },
  {
   "cell_type": "markdown",
   "metadata": {},
   "source": [
    "#### CREATE CANCELLED BY RANDOMIZATION"
   ]
  },
  {
   "cell_type": "markdown",
   "metadata": {},
   "source": [
    "let's say a student cancels if their student_id is divisable by 7 without a remainder"
   ]
  },
  {
   "cell_type": "code",
   "execution_count": 5,
   "metadata": {},
   "outputs": [],
   "source": [
    "#set the index\n",
    "enrolment = enrolment.reset_index()"
   ]
  },
  {
   "cell_type": "code",
   "execution_count": 6,
   "metadata": {},
   "outputs": [],
   "source": [
    "#rename the feature(s)\n",
    "enrolment = enrolment.rename(columns={'index': 'ID',\n",
    "                              })"
   ]
  },
  {
   "cell_type": "code",
   "execution_count": 7,
   "metadata": {},
   "outputs": [],
   "source": [
    "#write a function to set a random number of students to cancelled if their id is divisable by 7 without a remainder\n",
    "def cancelled_students(data):\n",
    "    #if the ID is divisable by 7 without a remainder\n",
    "    if data['ID'] % 7 == 0:\n",
    "        return True\n",
    "    else:\n",
    "        return False"
   ]
  },
  {
   "cell_type": "code",
   "execution_count": 8,
   "metadata": {},
   "outputs": [],
   "source": [
    "#apply the function\n",
    "enrolment['CANCELLED'] = enrolment.apply(cancelled_students,\n",
    "                            axis=1)"
   ]
  },
  {
   "cell_type": "code",
   "execution_count": 9,
   "metadata": {},
   "outputs": [
    {
     "data": {
      "text/plain": [
       "CANCELLED\n",
       "False    171\n",
       "True      29\n",
       "Name: count, dtype: int64"
      ]
     },
     "execution_count": 9,
     "metadata": {},
     "output_type": "execute_result"
    }
   ],
   "source": [
    "#check that the change was applied\n",
    "enrolment['CANCELLED'].value_counts()"
   ]
  },
  {
   "cell_type": "markdown",
   "metadata": {},
   "source": [
    "that's 14.5% that have completed the studies for any reason"
   ]
  },
  {
   "cell_type": "markdown",
   "metadata": {},
   "source": [
    "#### CREATE ENROLMENT_DATE BY RANDOMIZATION"
   ]
  },
  {
   "cell_type": "code",
   "execution_count": 10,
   "metadata": {},
   "outputs": [],
   "source": [
    "#randomize year between 2023-24\n",
    "enr_year = [random.randrange(2023, 2025, 1) for i in range(200)]"
   ]
  },
  {
   "cell_type": "code",
   "execution_count": 11,
   "metadata": {},
   "outputs": [],
   "source": [
    "#randomize month between 1-12\n",
    "enr_month = [random.randrange(1, 13, 1) for i in range(200)]"
   ]
  },
  {
   "cell_type": "code",
   "execution_count": 12,
   "metadata": {},
   "outputs": [],
   "source": [
    "#randomize day between 1-30\n",
    "enr_day = [random.randrange(1, 31, 1) for i in range(200)]"
   ]
  },
  {
   "cell_type": "markdown",
   "metadata": {},
   "source": [
    "CHECK TO BE MADE FOR FEBRUARY (28 OR 29)"
   ]
  },
  {
   "cell_type": "code",
   "execution_count": 13,
   "metadata": {},
   "outputs": [],
   "source": [
    "#insert new features\n",
    "enrolment['ENROLMENT_DAY'] = None\n",
    "enrolment['ENROLMENT_MONTH'] = None\n",
    "enrolment['ENROLMENT_YEAR'] = None\n",
    "\n",
    "enrolment = enrolment.assign(ENROLMENT_DAY=enr_day)\n",
    "enrolment = enrolment.assign(ENROLMENT_MONTH=enr_month)\n",
    "enrolment = enrolment.assign(ENROLMENT_YEAR=enr_year)"
   ]
  },
  {
   "cell_type": "markdown",
   "metadata": {},
   "source": [
    "CHECK FOR FEBRUARY"
   ]
  },
  {
   "cell_type": "code",
   "execution_count": 14,
   "metadata": {},
   "outputs": [
    {
     "data": {
      "text/html": [
       "<div>\n",
       "<style scoped>\n",
       "    .dataframe tbody tr th:only-of-type {\n",
       "        vertical-align: middle;\n",
       "    }\n",
       "\n",
       "    .dataframe tbody tr th {\n",
       "        vertical-align: top;\n",
       "    }\n",
       "\n",
       "    .dataframe thead th {\n",
       "        text-align: right;\n",
       "    }\n",
       "</style>\n",
       "<table border=\"1\" class=\"dataframe\">\n",
       "  <thead>\n",
       "    <tr style=\"text-align: right;\">\n",
       "      <th></th>\n",
       "      <th>ENROLMENT_DAY</th>\n",
       "      <th>ENROLMENT_MONTH</th>\n",
       "      <th>ENROLMENT_YEAR</th>\n",
       "    </tr>\n",
       "  </thead>\n",
       "  <tbody>\n",
       "    <tr>\n",
       "      <th>11</th>\n",
       "      <td>8</td>\n",
       "      <td>2</td>\n",
       "      <td>2023</td>\n",
       "    </tr>\n",
       "    <tr>\n",
       "      <th>12</th>\n",
       "      <td>12</td>\n",
       "      <td>2</td>\n",
       "      <td>2024</td>\n",
       "    </tr>\n",
       "    <tr>\n",
       "      <th>14</th>\n",
       "      <td>10</td>\n",
       "      <td>2</td>\n",
       "      <td>2023</td>\n",
       "    </tr>\n",
       "    <tr>\n",
       "      <th>18</th>\n",
       "      <td>4</td>\n",
       "      <td>2</td>\n",
       "      <td>2023</td>\n",
       "    </tr>\n",
       "    <tr>\n",
       "      <th>21</th>\n",
       "      <td>14</td>\n",
       "      <td>2</td>\n",
       "      <td>2024</td>\n",
       "    </tr>\n",
       "    <tr>\n",
       "      <th>39</th>\n",
       "      <td>12</td>\n",
       "      <td>2</td>\n",
       "      <td>2023</td>\n",
       "    </tr>\n",
       "    <tr>\n",
       "      <th>42</th>\n",
       "      <td>8</td>\n",
       "      <td>2</td>\n",
       "      <td>2024</td>\n",
       "    </tr>\n",
       "    <tr>\n",
       "      <th>44</th>\n",
       "      <td>13</td>\n",
       "      <td>2</td>\n",
       "      <td>2024</td>\n",
       "    </tr>\n",
       "    <tr>\n",
       "      <th>49</th>\n",
       "      <td>28</td>\n",
       "      <td>2</td>\n",
       "      <td>2023</td>\n",
       "    </tr>\n",
       "    <tr>\n",
       "      <th>55</th>\n",
       "      <td>2</td>\n",
       "      <td>2</td>\n",
       "      <td>2023</td>\n",
       "    </tr>\n",
       "    <tr>\n",
       "      <th>63</th>\n",
       "      <td>15</td>\n",
       "      <td>2</td>\n",
       "      <td>2023</td>\n",
       "    </tr>\n",
       "    <tr>\n",
       "      <th>65</th>\n",
       "      <td>11</td>\n",
       "      <td>2</td>\n",
       "      <td>2024</td>\n",
       "    </tr>\n",
       "    <tr>\n",
       "      <th>94</th>\n",
       "      <td>10</td>\n",
       "      <td>2</td>\n",
       "      <td>2023</td>\n",
       "    </tr>\n",
       "    <tr>\n",
       "      <th>106</th>\n",
       "      <td>17</td>\n",
       "      <td>2</td>\n",
       "      <td>2024</td>\n",
       "    </tr>\n",
       "    <tr>\n",
       "      <th>125</th>\n",
       "      <td>17</td>\n",
       "      <td>2</td>\n",
       "      <td>2024</td>\n",
       "    </tr>\n",
       "    <tr>\n",
       "      <th>178</th>\n",
       "      <td>2</td>\n",
       "      <td>2</td>\n",
       "      <td>2024</td>\n",
       "    </tr>\n",
       "    <tr>\n",
       "      <th>194</th>\n",
       "      <td>17</td>\n",
       "      <td>2</td>\n",
       "      <td>2024</td>\n",
       "    </tr>\n",
       "  </tbody>\n",
       "</table>\n",
       "</div>"
      ],
      "text/plain": [
       "     ENROLMENT_DAY  ENROLMENT_MONTH  ENROLMENT_YEAR\n",
       "11               8                2            2023\n",
       "12              12                2            2024\n",
       "14              10                2            2023\n",
       "18               4                2            2023\n",
       "21              14                2            2024\n",
       "39              12                2            2023\n",
       "42               8                2            2024\n",
       "44              13                2            2024\n",
       "49              28                2            2023\n",
       "55               2                2            2023\n",
       "63              15                2            2023\n",
       "65              11                2            2024\n",
       "94              10                2            2023\n",
       "106             17                2            2024\n",
       "125             17                2            2024\n",
       "178              2                2            2024\n",
       "194             17                2            2024"
      ]
     },
     "execution_count": 14,
     "metadata": {},
     "output_type": "execute_result"
    }
   ],
   "source": [
    "#check February\n",
    "enrolment.iloc[:, [4, 5, 6]][enrolment['ENROLMENT_MONTH'] == 2]"
   ]
  },
  {
   "cell_type": "code",
   "execution_count": 15,
   "metadata": {},
   "outputs": [],
   "source": [
    "# #make a change\n",
    "# enrolment.iloc[117, 4] = 29"
   ]
  },
  {
   "cell_type": "markdown",
   "metadata": {},
   "source": [
    "CREATE ENROLMENT DATE"
   ]
  },
  {
   "cell_type": "code",
   "execution_count": 16,
   "metadata": {},
   "outputs": [],
   "source": [
    "#create a new feature\n",
    "enrolment['ENROLMENT_DATE'] = pd.to_datetime((enrolment.ENROLMENT_YEAR*10000 + enrolment.ENROLMENT_MONTH*100\n",
    "                                              + enrolment.ENROLMENT_DAY).apply(str),format=\"%Y%m%d\")"
   ]
  },
  {
   "cell_type": "markdown",
   "metadata": {},
   "source": [
    "#### CREATE COMPLETION_DATE BY RANDOMIZATION"
   ]
  },
  {
   "cell_type": "code",
   "execution_count": 17,
   "metadata": {},
   "outputs": [],
   "source": [
    "#randomize day between 1-28\n",
    "cmpl_day = [random.randrange(1, 29, 1) for i in range(200)]"
   ]
  },
  {
   "cell_type": "code",
   "execution_count": 18,
   "metadata": {},
   "outputs": [],
   "source": [
    "#randomize month between 1-12\n",
    "cmpl_month = [random.randrange(1, 13, 1) for i in range(200)]"
   ]
  },
  {
   "cell_type": "code",
   "execution_count": 19,
   "metadata": {},
   "outputs": [],
   "source": [
    "#randomize year between 2023-24\n",
    "cmpl_year = [random.randrange(2023, 2025, 1) for i in range(200)]"
   ]
  },
  {
   "cell_type": "code",
   "execution_count": 20,
   "metadata": {},
   "outputs": [],
   "source": [
    "#insert new features\n",
    "enrolment['COMPLETION_DAY'] = None\n",
    "enrolment['COMPLETION_MONTH'] = None\n",
    "enrolment['COMPLETION_YEAR'] = None\n",
    "\n",
    "enrolment = enrolment.assign(COMPLETION_DAY=cmpl_day)\n",
    "enrolment = enrolment.assign(COMPLETION_MONTH=cmpl_month)\n",
    "enrolment = enrolment.assign(COMPLETION_YEAR=cmpl_year)"
   ]
  },
  {
   "cell_type": "markdown",
   "metadata": {},
   "source": [
    "CREATE COMPLETION DATE"
   ]
  },
  {
   "cell_type": "code",
   "execution_count": 21,
   "metadata": {},
   "outputs": [],
   "source": [
    "#create a new feature\n",
    "enrolment['NEW_DATE'] = pd.to_datetime((enrolment.COMPLETION_YEAR*10000 + enrolment.COMPLETION_MONTH*100\n",
    "                                        + enrolment.COMPLETION_DAY).apply(str),format=\"%Y%m%d\")"
   ]
  },
  {
   "cell_type": "code",
   "execution_count": 22,
   "metadata": {},
   "outputs": [],
   "source": [
    "#write a function for a simple condition\n",
    "def create_condition(x):\n",
    "    if x['ENROLMENT_DATE'] > x['NEW_DATE']:\n",
    "        return True\n",
    "    else:\n",
    "        return False\n",
    "\n",
    "enrolment['BOOL'] = enrolment.apply(create_condition,\n",
    "                                    axis=1)"
   ]
  },
  {
   "cell_type": "code",
   "execution_count": 23,
   "metadata": {},
   "outputs": [],
   "source": [
    "from datetime import datetime, date, timedelta\n",
    "\n",
    "#write a function to create the completion date by comparing two dates\n",
    "def create_date(x):\n",
    "    if x['BOOL']:\n",
    "        #add 25 additional days\n",
    "        change = x['ENROLMENT_DATE'] + timedelta(days=25)\n",
    "        return change\n",
    "    else:\n",
    "        return x['NEW_DATE']\n",
    "\n",
    "enrolment['COMPLETION_DATE'] = enrolment.apply(create_date,\n",
    "                                               axis=1)"
   ]
  },
  {
   "cell_type": "markdown",
   "metadata": {},
   "source": [
    "LOGIC CHECK"
   ]
  },
  {
   "cell_type": "markdown",
   "metadata": {},
   "source": [
    "enrolment date cannot be after completion date"
   ]
  },
  {
   "cell_type": "code",
   "execution_count": 24,
   "metadata": {},
   "outputs": [
    {
     "data": {
      "text/html": [
       "<div>\n",
       "<style scoped>\n",
       "    .dataframe tbody tr th:only-of-type {\n",
       "        vertical-align: middle;\n",
       "    }\n",
       "\n",
       "    .dataframe tbody tr th {\n",
       "        vertical-align: top;\n",
       "    }\n",
       "\n",
       "    .dataframe thead th {\n",
       "        text-align: right;\n",
       "    }\n",
       "</style>\n",
       "<table border=\"1\" class=\"dataframe\">\n",
       "  <thead>\n",
       "    <tr style=\"text-align: right;\">\n",
       "      <th></th>\n",
       "      <th>ID</th>\n",
       "      <th>COURSE_ID</th>\n",
       "      <th>STUDENT_ID</th>\n",
       "      <th>CANCELLED</th>\n",
       "      <th>ENROLMENT_DAY</th>\n",
       "      <th>ENROLMENT_MONTH</th>\n",
       "      <th>ENROLMENT_YEAR</th>\n",
       "      <th>ENROLMENT_DATE</th>\n",
       "      <th>COMPLETION_DAY</th>\n",
       "      <th>COMPLETION_MONTH</th>\n",
       "      <th>COMPLETION_YEAR</th>\n",
       "      <th>NEW_DATE</th>\n",
       "      <th>BOOL</th>\n",
       "      <th>COMPLETION_DATE</th>\n",
       "    </tr>\n",
       "  </thead>\n",
       "  <tbody>\n",
       "  </tbody>\n",
       "</table>\n",
       "</div>"
      ],
      "text/plain": [
       "Empty DataFrame\n",
       "Columns: [ID, COURSE_ID, STUDENT_ID, CANCELLED, ENROLMENT_DAY, ENROLMENT_MONTH, ENROLMENT_YEAR, ENROLMENT_DATE, COMPLETION_DAY, COMPLETION_MONTH, COMPLETION_YEAR, NEW_DATE, BOOL, COMPLETION_DATE]\n",
       "Index: []"
      ]
     },
     "execution_count": 24,
     "metadata": {},
     "output_type": "execute_result"
    }
   ],
   "source": [
    "enrolment[enrolment['ENROLMENT_DATE'] > enrolment['COMPLETION_DATE']]"
   ]
  },
  {
   "cell_type": "code",
   "execution_count": 25,
   "metadata": {},
   "outputs": [],
   "source": [
    "#drop uninformative features\n",
    "enrolment = enrolment.drop(['ENROLMENT_DAY', 'ENROLMENT_MONTH', 'ENROLMENT_YEAR',\n",
    "                            'COMPLETION_DAY','COMPLETION_MONTH', 'COMPLETION_YEAR',\n",
    "                            'NEW_DATE', 'BOOL'],\n",
    "                           axis=1,\n",
    "                           errors='ignore')"
   ]
  },
  {
   "cell_type": "code",
   "execution_count": 26,
   "metadata": {},
   "outputs": [
    {
     "data": {
      "text/html": [
       "<div>\n",
       "<style scoped>\n",
       "    .dataframe tbody tr th:only-of-type {\n",
       "        vertical-align: middle;\n",
       "    }\n",
       "\n",
       "    .dataframe tbody tr th {\n",
       "        vertical-align: top;\n",
       "    }\n",
       "\n",
       "    .dataframe thead th {\n",
       "        text-align: right;\n",
       "    }\n",
       "</style>\n",
       "<table border=\"1\" class=\"dataframe\">\n",
       "  <thead>\n",
       "    <tr style=\"text-align: right;\">\n",
       "      <th></th>\n",
       "      <th>ID</th>\n",
       "      <th>COURSE_ID</th>\n",
       "      <th>STUDENT_ID</th>\n",
       "      <th>CANCELLED</th>\n",
       "      <th>ENROLMENT_DATE</th>\n",
       "      <th>COMPLETION_DATE</th>\n",
       "    </tr>\n",
       "  </thead>\n",
       "  <tbody>\n",
       "    <tr>\n",
       "      <th>0</th>\n",
       "      <td>0</td>\n",
       "      <td>NaN</td>\n",
       "      <td>S000000</td>\n",
       "      <td>True</td>\n",
       "      <td>2023-12-22</td>\n",
       "      <td>2024-01-16</td>\n",
       "    </tr>\n",
       "    <tr>\n",
       "      <th>1</th>\n",
       "      <td>1</td>\n",
       "      <td>NaN</td>\n",
       "      <td>S000001</td>\n",
       "      <td>False</td>\n",
       "      <td>2023-08-27</td>\n",
       "      <td>2024-04-15</td>\n",
       "    </tr>\n",
       "  </tbody>\n",
       "</table>\n",
       "</div>"
      ],
      "text/plain": [
       "   ID  COURSE_ID STUDENT_ID  CANCELLED ENROLMENT_DATE COMPLETION_DATE\n",
       "0   0        NaN    S000000       True     2023-12-22      2024-01-16\n",
       "1   1        NaN    S000001      False     2023-08-27      2024-04-15"
      ]
     },
     "execution_count": 26,
     "metadata": {},
     "output_type": "execute_result"
    }
   ],
   "source": [
    "enrolment.head(2)"
   ]
  },
  {
   "cell_type": "markdown",
   "metadata": {},
   "source": [
    "EXPORT THE TABLE"
   ]
  },
  {
   "cell_type": "code",
   "execution_count": 27,
   "metadata": {},
   "outputs": [],
   "source": [
    "#create a file name\n",
    "xlx_name = 'enrolment.xlsx'\n",
    "\n",
    "#export to excel\n",
    "enrolment.to_excel('./experimental/created_tables/' + xlx_name,\n",
    "                   sheet_name='enrolment_details')"
   ]
  }
 ],
 "metadata": {
  "kernelspec": {
   "display_name": "Python 3",
   "language": "python",
   "name": "python3"
  },
  "language_info": {
   "codemirror_mode": {
    "name": "ipython",
    "version": 3
   },
   "file_extension": ".py",
   "mimetype": "text/x-python",
   "name": "python",
   "nbconvert_exporter": "python",
   "pygments_lexer": "ipython3",
   "version": "3.10.5"
  }
 },
 "nbformat": 4,
 "nbformat_minor": 2
}
