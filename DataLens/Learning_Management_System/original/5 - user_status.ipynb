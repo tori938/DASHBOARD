{
 "cells": [
  {
   "cell_type": "code",
   "execution_count": 1,
   "metadata": {},
   "outputs": [],
   "source": [
    "#standard libraries\n",
    "import pandas as pd, numpy as np\n",
    "\n",
    "#visualization libraries\n",
    "import seaborn as sns\n",
    "import matplotlib as plt\n",
    "from matplotlib import pyplot as plt"
   ]
  },
  {
   "cell_type": "code",
   "execution_count": 2,
   "metadata": {},
   "outputs": [
    {
     "data": {
      "text/html": [
       "<div>\n",
       "<style scoped>\n",
       "    .dataframe tbody tr th:only-of-type {\n",
       "        vertical-align: middle;\n",
       "    }\n",
       "\n",
       "    .dataframe tbody tr th {\n",
       "        vertical-align: top;\n",
       "    }\n",
       "\n",
       "    .dataframe thead th {\n",
       "        text-align: right;\n",
       "    }\n",
       "</style>\n",
       "<table border=\"1\" class=\"dataframe\">\n",
       "  <thead>\n",
       "    <tr style=\"text-align: right;\">\n",
       "      <th></th>\n",
       "      <th>USERNAME</th>\n",
       "      <th>EMAIL ADDRESS</th>\n",
       "      <th>FIRST NAME</th>\n",
       "      <th>LAST NAME</th>\n",
       "      <th>STAFF STATUS</th>\n",
       "    </tr>\n",
       "  </thead>\n",
       "  <tbody>\n",
       "    <tr>\n",
       "      <th>0</th>\n",
       "      <td>040198asya@mail.ru</td>\n",
       "      <td>040198asya@mail.ru</td>\n",
       "      <td>Анастасия</td>\n",
       "      <td>Осминина</td>\n",
       "      <td>False</td>\n",
       "    </tr>\n",
       "  </tbody>\n",
       "</table>\n",
       "</div>"
      ],
      "text/plain": [
       "             USERNAME       EMAIL ADDRESS FIRST NAME LAST NAME  STAFF STATUS\n",
       "0  040198asya@mail.ru  040198asya@mail.ru  Анастасия  Осминина         False"
      ]
     },
     "execution_count": 2,
     "metadata": {},
     "output_type": "execute_result"
    }
   ],
   "source": [
    "#import the data set - with encoding\n",
    "user_status = pd.read_csv('original/user_status.csv', index_col=0)\n",
    "\n",
    "user_status.head(1)"
   ]
  },
  {
   "cell_type": "code",
   "execution_count": 3,
   "metadata": {},
   "outputs": [
    {
     "data": {
      "text/plain": [
       "(659, 5)"
      ]
     },
     "execution_count": 3,
     "metadata": {},
     "output_type": "execute_result"
    }
   ],
   "source": [
    "user_status.shape"
   ]
  },
  {
   "cell_type": "code",
   "execution_count": 4,
   "metadata": {},
   "outputs": [
    {
     "name": "stdout",
     "output_type": "stream",
     "text": [
      "<class 'pandas.core.frame.DataFrame'>\n",
      "Index: 659 entries, 0 to 658\n",
      "Data columns (total 5 columns):\n",
      " #   Column         Non-Null Count  Dtype \n",
      "---  ------         --------------  ----- \n",
      " 0   USERNAME       659 non-null    object\n",
      " 1   EMAIL ADDRESS  659 non-null    object\n",
      " 2   FIRST NAME     659 non-null    object\n",
      " 3   LAST NAME      659 non-null    object\n",
      " 4   STAFF STATUS   659 non-null    bool  \n",
      "dtypes: bool(1), object(4)\n",
      "memory usage: 26.4+ KB\n"
     ]
    }
   ],
   "source": [
    "#basic information\n",
    "user_status.info()"
   ]
  },
  {
   "cell_type": "markdown",
   "metadata": {},
   "source": [
    "##### check for duplicates"
   ]
  },
  {
   "cell_type": "code",
   "execution_count": 5,
   "metadata": {},
   "outputs": [
    {
     "name": "stdout",
     "output_type": "stream",
     "text": [
      "Number of Duplicates: 0\n"
     ]
    }
   ],
   "source": [
    "#check for duplicate values\n",
    "dupl_columns = list(user_status.columns)\n",
    "\n",
    "mask = user_status.duplicated(subset=dupl_columns)\n",
    "status_duplicates = user_status[mask]\n",
    "print(f'Number of Duplicates: {status_duplicates.shape[0]}')"
   ]
  },
  {
   "cell_type": "markdown",
   "metadata": {},
   "source": [
    "##### check for null values"
   ]
  },
  {
   "cell_type": "code",
   "execution_count": 6,
   "metadata": {},
   "outputs": [
    {
     "data": {
      "text/plain": [
       "Series([], dtype: int64)"
      ]
     },
     "execution_count": 6,
     "metadata": {},
     "output_type": "execute_result"
    }
   ],
   "source": [
    "#check for null values\n",
    "user_status.isnull().sum()[user_status.isnull().sum() > 0]"
   ]
  },
  {
   "cell_type": "markdown",
   "metadata": {},
   "source": [
    "##### unique values"
   ]
  },
  {
   "cell_type": "code",
   "execution_count": 7,
   "metadata": {},
   "outputs": [
    {
     "name": "stdout",
     "output_type": "stream",
     "text": [
      "Number of Unique Username: 659\n",
      "Number of Unique Status: 2\n"
     ]
    }
   ],
   "source": [
    "#find how unique each feature is\n",
    "print(f\"Number of Unique Username: {user_status['USERNAME'].nunique()}\")\n",
    "print(f\"Number of Unique Status: {user_status['STAFF STATUS'].nunique()}\")"
   ]
  },
  {
   "cell_type": "markdown",
   "metadata": {},
   "source": [
    "##### status"
   ]
  },
  {
   "cell_type": "code",
   "execution_count": 8,
   "metadata": {},
   "outputs": [
    {
     "name": "stdout",
     "output_type": "stream",
     "text": [
      "Unique Status: [False  True]\n"
     ]
    }
   ],
   "source": [
    "print(f\"Unique Status: {user_status['STAFF STATUS'].unique()}\")"
   ]
  },
  {
   "cell_type": "code",
   "execution_count": 9,
   "metadata": {},
   "outputs": [],
   "source": [
    "user_status['STAFF STATUS N'] = user_status['STAFF STATUS'].apply(lambda x: 1 if x == True else 0)"
   ]
  },
  {
   "cell_type": "markdown",
   "metadata": {},
   "source": [
    "##### data types"
   ]
  },
  {
   "cell_type": "code",
   "execution_count": 10,
   "metadata": {},
   "outputs": [],
   "source": [
    "#convert the data types\n",
    "user_status['USERNAME'] = user_status['USERNAME'].astype('string')\n",
    "user_status['EMAIL ADDRESS'] = user_status['EMAIL ADDRESS'].astype('string')\n",
    "user_status['FIRST NAME'] = user_status['FIRST NAME'].astype('string')\n",
    "user_status['LAST NAME'] = user_status['LAST NAME'].astype('string')\n",
    "user_status['STAFF STATUS N'] = user_status['STAFF STATUS N'].to_numpy('int8')"
   ]
  },
  {
   "cell_type": "markdown",
   "metadata": {},
   "source": [
    "#### **Export**"
   ]
  },
  {
   "cell_type": "code",
   "execution_count": 11,
   "metadata": {},
   "outputs": [],
   "source": [
    "#create a file name\n",
    "xlx_name = 'user_status_details.xlsx'\n",
    "\n",
    "#save to excel\n",
    "user_status.to_excel('./adjusted/' + xlx_name,\n",
    "                     sheet_name='user_status')"
   ]
  }
 ],
 "metadata": {
  "kernelspec": {
   "display_name": "Python 3",
   "language": "python",
   "name": "python3"
  },
  "language_info": {
   "codemirror_mode": {
    "name": "ipython",
    "version": 3
   },
   "file_extension": ".py",
   "mimetype": "text/x-python",
   "name": "python",
   "nbconvert_exporter": "python",
   "pygments_lexer": "ipython3",
   "version": "3.10.5"
  }
 },
 "nbformat": 4,
 "nbformat_minor": 2
}
